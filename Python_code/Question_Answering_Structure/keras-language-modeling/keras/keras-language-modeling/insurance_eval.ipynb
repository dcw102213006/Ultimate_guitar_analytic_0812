{
 "cells": [
  {
   "cell_type": "markdown",
   "metadata": {},
   "source": [
    "# 模型:QA架構\n",
    "訓練模型以區分Good Answer(guitar tab of max rating)與bad Answer(random select) for each songs <br>\n",
    "\n",
    "Q:Song chord sequence <br>\n",
    "Good A:Guitar tab chord sequences of max rating  <br>\n",
    "Bad A:Random select chord sequences from all guitar tab "
   ]
  },
  {
   "cell_type": "markdown",
   "metadata": {},
   "source": [
    "# Define function"
   ]
  },
  {
   "cell_type": "code",
   "execution_count": 1,
   "metadata": {
    "collapsed": true
   },
   "outputs": [],
   "source": [
    "#pad成158個row(2d matrix,149X3)\n",
    "def pad_QA(QA):\n",
    "    data=QA[:]\n",
    "\n",
    "    for i in range(len(data)):\n",
    "\n",
    "\n",
    "        a=data[i]\n",
    "        padding_length=158-len(a)\n",
    "\n",
    "        data[i]=np.pad(a, [(0, padding_length)], mode='constant')\n",
    "\n",
    "\n",
    "    return data"
   ]
  },
  {
   "cell_type": "code",
   "execution_count": 38,
   "metadata": {
    "collapsed": true
   },
   "outputs": [],
   "source": [
    "from __future__ import print_function\n",
    "\n",
    "import os\n",
    "\n",
    "import sys\n",
    "import random\n",
    "from time import strftime, gmtime, time\n",
    "\n",
    "import pickle\n",
    "import json\n",
    "\n",
    "import _thread\n",
    "from scipy.stats import rankdata\n",
    "from scipy import stats\n",
    "random.seed(42)\n",
    "\n",
    "\n",
    "def log(x):\n",
    "    print(x)\n",
    "\n",
    "\n",
    "class Evaluator:\n",
    "    def __init__(self, conf, model, optimizer=None):\n",
    "       \n",
    "        if isinstance(conf, str):\n",
    "            conf = json.load(open(conf, 'rb'))\n",
    "        self.model = model(conf)\n",
    "        #self.path = data_path\n",
    "        self.conf = conf\n",
    "        self.params = conf['training']\n",
    "        optimizer = self.params['optimizer'] if optimizer is None else optimizer\n",
    "        self.model.compile(optimizer)\n",
    "       \n",
    "        self._vocab = None\n",
    "        self._reverse_vocab = None\n",
    "        self._eval_sets = None\n",
    "\n",
    "   \n",
    "\n",
    "    ##### Loading / saving #####\n",
    "\n",
    "    def save_epoch(self, epoch,d):\n",
    "        path='models/'+d\n",
    "        if not os.path.exists(path):\n",
    "            os.makedirs(path)\n",
    "        self.model.save_weights(path+'/weights_epoch_%d.h5' % epoch, overwrite=True)\n",
    "\n",
    "    def load_epoch(self, epoch,d):\n",
    "        path='models/'+d\n",
    "        assert os.path.exists(path+'/weights_epoch_%d.h5' % epoch), 'Weights at epoch %d not found' % epoch\n",
    "        self.model.load_weights(path+'/weights_epoch_%d.h5' % epoch)\n",
    "\n",
    "   \n",
    "   \n",
    "    ##### Training #####\n",
    "\n",
    "    def get_time(self):\n",
    "        return strftime('%Y-%m-%d %H:%M:%S', gmtime())\n",
    "\n",
    "    def train(self,train_date):\n",
    "        batch_size = self.params['batch_size']\n",
    "        nb_epoch = self.params['nb_epoch']\n",
    "        validation_split = self.params['validation_split']\n",
    "\n",
    "        #training_set = self.load('train')\n",
    "        # top_50 = self.load('top_50')\n",
    "\n",
    "        \n",
    "        \n",
    "        \n",
    "        log('Began training at %s on %d samples' % (self.get_time(), len(questions)))\n",
    "\n",
    "        \n",
    "        val_loss = {'loss': 1., 'epoch': 0}\n",
    "\n",
    "        # def get_bad_samples(indices, top_50):\n",
    "        #     return [self.answers[random.choice(top_50[i])] for i in indices]\n",
    "\n",
    "        for i in range(1, nb_epoch+1):\n",
    "            # sample from all answers to get bad answers\n",
    "            # if i % 2 == 0:\n",
    "            #     bad_answers = self.pada(random.sample(self.answers.values(), len(good_answers)))\n",
    "            # else:\n",
    "            #     bad_answers = self.pada(get_bad_samples(indices, top_50))\n",
    "            \n",
    "            #random.sample第一個參數吃list\n",
    "            #self.answers.values():dist\n",
    "            bad_answers = random.sample(list(all_answers), len(good_answers))\n",
    "            \n",
    "            bad_answers=np.array(bad_answers)\n",
    "            print('Fitting epoch %d' % i, file=sys.stderr)\n",
    "            hist = self.model.fit([questions, good_answers, bad_answers], epochs=1, batch_size=batch_size,\n",
    "                                  validation_split=validation_split, verbose=1)\n",
    "\n",
    "            if hist.history['val_loss'][0] < val_loss['loss']:\n",
    "                val_loss = {'loss': hist.history['val_loss'][0], 'epoch': i}\n",
    "            print('%s -- Epoch %d ' % (self.get_time(), i) +'Loss = %.4f, Validation Loss = %.4f ' % (hist.history['loss'][0], hist.history['val_loss'][0]) +'(Best: Loss = %.4f, Epoch = %d)' % (val_loss['loss'], val_loss['epoch']))\n",
    "\n",
    "            self.save_epoch(i,train_date)\n",
    "\n",
    "        return val_loss\n",
    "\n",
    "    ##### Evaluation #####\n",
    "\n",
    "    def prog_bar(self, so_far, total, n_bars=20):\n",
    "        n_complete = int(so_far * n_bars / total)\n",
    "        if n_complete >= n_bars - 1:\n",
    "            print('\\r[' + '=' * n_bars + ']', end='', file=sys.stderr)\n",
    "        else:\n",
    "            s = '\\r[' + '=' * (n_complete - 1) + '>' + '.' * (n_bars - n_complete) + ']'\n",
    "            print(s, end='', file=sys.stderr)\n",
    "\n",
    "    \n",
    "\n",
    "    def get_score(self, verbose=False):\n",
    "        top1_ls = []\n",
    "        mrr_ls = []\n",
    "        c_1, c_2 = 0, 0\n",
    "        tau_k=[]\n",
    "        #for each test song\n",
    "        for i,song_name in enumerate(test_song):\n",
    "            \n",
    "            self.prog_bar(i, len(has_2ver[:1000]))\n",
    "            \n",
    "            df_tmp=df_test[df_test.song_name==song_name]\n",
    "            df_tmp=df_tmp.sort_values(by=['rating'], ascending=False)\n",
    "            rating=df_tmp.rating\n",
    "            #0612:Q的欄位改成songchord_alignment_by_dtw，原song_chord\n",
    "            q_chord_sequence=df_tmp.iloc[0].song_chord\n",
    "\n",
    "            questions_row=np.array([])\n",
    "            for chord in q_chord_sequence:\n",
    "\n",
    "                index=chord_index.get(chord)\n",
    "                if index is None:index=np.zeros(1)\n",
    "                if index is not None:index=np.array(index)\n",
    "                questions_row=np.hstack([questions_row, index]) if questions_row.size else index\n",
    "\n",
    "\n",
    "            question=pad_QA([questions_row]*len(df_tmp))\n",
    "\n",
    "\n",
    "            answers=[]\n",
    "            for index, row in df_tmp.iterrows():\n",
    "                answers_row=np.array([])\n",
    "                for chord in row['chord']:\n",
    "                    \n",
    "                    index=chord_index.get(chord)\n",
    "                    if index is None:index=np.zeros(1)\n",
    "                    if index is not None:index=np.array(index)\n",
    "                    answers_row=np.hstack([answers_row, index]) if answers_row.size else index\n",
    "                answers.append(answers_row)\n",
    "            answers=pad_QA(answers)\n",
    "\n",
    "\n",
    "            sims = self.model.predict([question, answers])\n",
    "\n",
    "            n_good = 1\n",
    "            max_r = np.argmax(sims)\n",
    "            max_n = np.argmax(sims[:n_good])\n",
    "\n",
    "            r = rankdata(sims, method='max')\n",
    "            rating_r=rankdata(rating,method='max')\n",
    "          \n",
    "            \n",
    "            tau,p_value=stats.kendalltau(r, rating_r)\n",
    "            \n",
    "            if tau is not np.nan:\n",
    "                \n",
    "                tau_k.append(tau)\n",
    "            \n",
    "           \n",
    "            c_1 += 1 if max_r == max_n else 0\n",
    "            c_2 += 1 / float(r[max_r] - r[max_n] + 1)\n",
    "\n",
    "        top1 = c_1 / float(1000)\n",
    "        mrr = c_2 / float(1000)\n",
    "\n",
    "        \n",
    "        print('Top-1 Precision: %f' % top1)\n",
    "        print('MRR: %f' % mrr)\n",
    "        print('kendall-tau:',sum(tau_k)/len(tau_k))\n",
    "        \n",
    "        top1_ls.append(top1)\n",
    "        mrr_ls.append(mrr)\n",
    "        \n",
    "        return top1_ls, mrr_ls\n",
    "\n",
    "\n"
   ]
  },
  {
   "cell_type": "markdown",
   "metadata": {},
   "source": [
    "# Load training data\n",
    "The following three lists: <br>\n",
    "1.questions  <br>\n",
    "2.good answers  <br>\n",
    "3.all_answers "
   ]
  },
  {
   "cell_type": "code",
   "execution_count": 3,
   "metadata": {},
   "outputs": [
    {
     "name": "stdout",
     "output_type": "stream",
     "text": [
      "ok\n"
     ]
    }
   ],
   "source": [
    "import numpy as np\n",
    "\n",
    "conf = {\n",
    "    'n_words': 23,\n",
    "    'question_len': 158,\n",
    "    'answer_len': 158,\n",
    "    'margin': 0.02,\n",
    "    'initial_embed_weights': '../../../Chord_embedding_data/0517/Chord_embedding_sum_lookup_100dim',\n",
    "\n",
    "    'training': {\n",
    "        'batch_size': 100,\n",
    "        'nb_epoch': 100,\n",
    "        'validation_split': 0.1,\n",
    "    },\n",
    "\n",
    "    'similarity': {\n",
    "        'mode': 'cosine',#cosine,polynomial,sigmoid,euclidean,exponential,gesd,aesd\n",
    "        'gamma': 0.1,\n",
    "        'c': 1,\n",
    "        'd': 2,\n",
    "        'dropout': 0.5,\n",
    "    }\n",
    "}\n",
    "\n",
    "import pickle\n",
    "\n",
    "with open('../../../QA_data/061202/questions', 'rb') as pickle_load:\n",
    "    questions = pickle.load(pickle_load)\n",
    "    questions=np.array(questions)\n",
    "with open('../../../QA_data/061202/good_answers', 'rb') as pickle_load:\n",
    "    good_answers = pickle.load(pickle_load)\n",
    "    good_answers=np.array(good_answers)\n",
    "with open('../../../QA_data/061202/all_answers', 'rb') as pickle_load:\n",
    "    all_answers = pickle.load(pickle_load)\n",
    "    all_answers=np.array(all_answers)\n",
    "print('ok')\n",
    "\n"
   ]
  },
  {
   "cell_type": "code",
   "execution_count": 4,
   "metadata": {},
   "outputs": [
    {
     "name": "stderr",
     "output_type": "stream",
     "text": [
      "C:\\ProgramData\\Anaconda3\\lib\\site-packages\\h5py\\__init__.py:34: FutureWarning: Conversion of the second argument of issubdtype from `float` to `np.floating` is deprecated. In future, it will be treated as `np.float64 == np.dtype(float).type`.\n",
      "  from ._conv import register_converters as _register_converters\n",
      "Using TensorFlow backend.\n"
     ]
    }
   ],
   "source": [
    "from keras_models import EmbeddingModel, ConvolutionModel, ConvolutionalLSTM,ConvolutionModel_2\n",
    "evaluator = Evaluator(conf, model=ConvolutionModel, optimizer='adam')"
   ]
  },
  {
   "cell_type": "markdown",
   "metadata": {},
   "source": [
    "# Model Training:"
   ]
  },
  {
   "cell_type": "code",
   "execution_count": 4,
   "metadata": {},
   "outputs": [
    {
     "name": "stdout",
     "output_type": "stream",
     "text": [
      "ok\n",
      "Began training at 2019-05-11 11:52:08 on 9023 samples\n"
     ]
    },
    {
     "name": "stderr",
     "output_type": "stream",
     "text": [
      "Fitting epoch 1\n"
     ]
    },
    {
     "name": "stdout",
     "output_type": "stream",
     "text": [
      "Train on 8120 samples, validate on 903 samples\n",
      "Epoch 1/1\n",
      "8120/8120 [==============================] - 1021s 126ms/step - loss: 0.0046 - val_loss: 0.0036\n",
      "2019-05-11 12:09:10 -- Epoch 1 Loss = 0.0046, Validation Loss = 0.0036 (Best: Loss = 0.0036, Epoch = 1)\n",
      "Train on 8120 samples, validate on 903 samples\n",
      "Epoch 1/1\n"
     ]
    },
    {
     "name": "stderr",
     "output_type": "stream",
     "text": [
      "Fitting epoch 2\n"
     ]
    },
    {
     "name": "stdout",
     "output_type": "stream",
     "text": [
      "8120/8120 [==============================] - 952s 117ms/step - loss: 0.0033 - val_loss: 0.0024\n",
      "2019-05-11 12:25:02 -- Epoch 2 Loss = 0.0033, Validation Loss = 0.0024 (Best: Loss = 0.0024, Epoch = 2)\n",
      "Train on 8120 samples, validate on 903 samples\n",
      "Epoch 1/1\n"
     ]
    },
    {
     "name": "stderr",
     "output_type": "stream",
     "text": [
      "Fitting epoch 3\n"
     ]
    },
    {
     "name": "stdout",
     "output_type": "stream",
     "text": [
      "8120/8120 [==============================] - 957s 118ms/step - loss: 0.0032 - val_loss: 0.0025\n",
      "2019-05-11 12:40:58 -- Epoch 3 Loss = 0.0032, Validation Loss = 0.0025 (Best: Loss = 0.0024, Epoch = 2)\n",
      "Train on 8120 samples, validate on 903 samples\n",
      "Epoch 1/1\n"
     ]
    },
    {
     "name": "stderr",
     "output_type": "stream",
     "text": [
      "Fitting epoch 4\n"
     ]
    },
    {
     "name": "stdout",
     "output_type": "stream",
     "text": [
      "8120/8120 [==============================] - 947s 117ms/step - loss: 0.0030 - val_loss: 0.0022\n",
      "2019-05-11 12:56:45 -- Epoch 4 Loss = 0.0030, Validation Loss = 0.0022 (Best: Loss = 0.0022, Epoch = 4)\n",
      "Train on 8120 samples, validate on 903 samples\n",
      "Epoch 1/1\n"
     ]
    },
    {
     "name": "stderr",
     "output_type": "stream",
     "text": [
      "Fitting epoch 5\n"
     ]
    },
    {
     "name": "stdout",
     "output_type": "stream",
     "text": [
      "8120/8120 [==============================] - 953s 117ms/step - loss: 0.0032 - val_loss: 0.0022\n",
      "2019-05-11 13:12:39 -- Epoch 5 Loss = 0.0032, Validation Loss = 0.0022 (Best: Loss = 0.0022, Epoch = 5)\n",
      "Train on 8120 samples, validate on 903 samples\n",
      "Epoch 1/1\n"
     ]
    },
    {
     "name": "stderr",
     "output_type": "stream",
     "text": [
      "Fitting epoch 6\n"
     ]
    },
    {
     "name": "stdout",
     "output_type": "stream",
     "text": [
      "8120/8120 [==============================] - 951s 117ms/step - loss: 0.0031 - val_loss: 0.0026\n",
      "2019-05-11 13:28:29 -- Epoch 6 Loss = 0.0031, Validation Loss = 0.0026 (Best: Loss = 0.0022, Epoch = 5)\n",
      "Train on 8120 samples, validate on 903 samples\n",
      "Epoch 1/1\n"
     ]
    },
    {
     "name": "stderr",
     "output_type": "stream",
     "text": [
      "Fitting epoch 7\n"
     ]
    },
    {
     "name": "stdout",
     "output_type": "stream",
     "text": [
      "8120/8120 [==============================] - 944s 116ms/step - loss: 0.0030 - val_loss: 0.0023\n",
      "2019-05-11 13:44:14 -- Epoch 7 Loss = 0.0030, Validation Loss = 0.0023 (Best: Loss = 0.0022, Epoch = 5)\n",
      "Train on 8120 samples, validate on 903 samples\n",
      "Epoch 1/1\n"
     ]
    },
    {
     "name": "stderr",
     "output_type": "stream",
     "text": [
      "Fitting epoch 8\n"
     ]
    },
    {
     "name": "stdout",
     "output_type": "stream",
     "text": [
      "8120/8120 [==============================] - 937s 115ms/step - loss: 0.0030 - val_loss: 0.0020\n",
      "2019-05-11 13:59:50 -- Epoch 8 Loss = 0.0030, Validation Loss = 0.0020 (Best: Loss = 0.0020, Epoch = 8)\n",
      "Train on 8120 samples, validate on 903 samples\n",
      "Epoch 1/1\n"
     ]
    },
    {
     "name": "stderr",
     "output_type": "stream",
     "text": [
      "Fitting epoch 9\n"
     ]
    },
    {
     "name": "stdout",
     "output_type": "stream",
     "text": [
      "8120/8120 [==============================] - 926s 114ms/step - loss: 0.0029 - val_loss: 0.0022\n",
      "2019-05-11 14:15:16 -- Epoch 9 Loss = 0.0029, Validation Loss = 0.0022 (Best: Loss = 0.0020, Epoch = 8)\n",
      "Train on 8120 samples, validate on 903 samples\n",
      "Epoch 1/1\n"
     ]
    },
    {
     "name": "stderr",
     "output_type": "stream",
     "text": [
      "Fitting epoch 10\n"
     ]
    },
    {
     "name": "stdout",
     "output_type": "stream",
     "text": [
      "8120/8120 [==============================] - 926s 114ms/step - loss: 0.0031 - val_loss: 0.0019\n",
      "2019-05-11 14:30:42 -- Epoch 10 Loss = 0.0031, Validation Loss = 0.0019 (Best: Loss = 0.0019, Epoch = 10)\n",
      "Train on 8120 samples, validate on 903 samples\n",
      "Epoch 1/1\n"
     ]
    },
    {
     "name": "stderr",
     "output_type": "stream",
     "text": [
      "Fitting epoch 11\n"
     ]
    },
    {
     "name": "stdout",
     "output_type": "stream",
     "text": [
      "8120/8120 [==============================] - 927s 114ms/step - loss: 0.0028 - val_loss: 0.0020\n",
      "2019-05-11 14:46:08 -- Epoch 11 Loss = 0.0028, Validation Loss = 0.0020 (Best: Loss = 0.0019, Epoch = 10)\n",
      "Train on 8120 samples, validate on 903 samples\n",
      "Epoch 1/1\n"
     ]
    },
    {
     "name": "stderr",
     "output_type": "stream",
     "text": [
      "Fitting epoch 12\n"
     ]
    },
    {
     "name": "stdout",
     "output_type": "stream",
     "text": [
      "8120/8120 [==============================] - 928s 114ms/step - loss: 0.0029 - val_loss: 0.0022\n",
      "2019-05-11 15:01:36 -- Epoch 12 Loss = 0.0029, Validation Loss = 0.0022 (Best: Loss = 0.0019, Epoch = 10)\n",
      "Train on 8120 samples, validate on 903 samples\n",
      "Epoch 1/1\n"
     ]
    },
    {
     "name": "stderr",
     "output_type": "stream",
     "text": [
      "Fitting epoch 13\n"
     ]
    },
    {
     "name": "stdout",
     "output_type": "stream",
     "text": [
      "8120/8120 [==============================] - 930s 114ms/step - loss: 0.0027 - val_loss: 0.0022\n",
      "2019-05-11 15:17:06 -- Epoch 13 Loss = 0.0027, Validation Loss = 0.0022 (Best: Loss = 0.0019, Epoch = 10)\n",
      "Train on 8120 samples, validate on 903 samples\n",
      "Epoch 1/1\n"
     ]
    },
    {
     "name": "stderr",
     "output_type": "stream",
     "text": [
      "Fitting epoch 14\n"
     ]
    },
    {
     "name": "stdout",
     "output_type": "stream",
     "text": [
      "8120/8120 [==============================] - 929s 114ms/step - loss: 0.0028 - val_loss: 0.0020\n",
      "2019-05-11 15:32:35 -- Epoch 14 Loss = 0.0028, Validation Loss = 0.0020 (Best: Loss = 0.0019, Epoch = 10)\n",
      "Train on 8120 samples, validate on 903 samples\n",
      "Epoch 1/1\n"
     ]
    },
    {
     "name": "stderr",
     "output_type": "stream",
     "text": [
      "Fitting epoch 15\n"
     ]
    },
    {
     "name": "stdout",
     "output_type": "stream",
     "text": [
      "8120/8120 [==============================] - 929s 114ms/step - loss: 0.0028 - val_loss: 0.0020\n",
      "2019-05-11 15:48:05 -- Epoch 15 Loss = 0.0028, Validation Loss = 0.0020 (Best: Loss = 0.0019, Epoch = 10)\n",
      "Train on 8120 samples, validate on 903 samples\n",
      "Epoch 1/1\n"
     ]
    },
    {
     "name": "stderr",
     "output_type": "stream",
     "text": [
      "Fitting epoch 16\n"
     ]
    },
    {
     "name": "stdout",
     "output_type": "stream",
     "text": [
      "8120/8120 [==============================] - 930s 115ms/step - loss: 0.0028 - val_loss: 0.0021\n",
      "2019-05-11 16:03:34 -- Epoch 16 Loss = 0.0028, Validation Loss = 0.0021 (Best: Loss = 0.0019, Epoch = 10)\n",
      "Train on 8120 samples, validate on 903 samples\n",
      "Epoch 1/1\n"
     ]
    },
    {
     "name": "stderr",
     "output_type": "stream",
     "text": [
      "Fitting epoch 17\n"
     ]
    },
    {
     "name": "stdout",
     "output_type": "stream",
     "text": [
      "8120/8120 [==============================] - 928s 114ms/step - loss: 0.0029 - val_loss: 0.0020\n",
      "2019-05-11 16:19:03 -- Epoch 17 Loss = 0.0029, Validation Loss = 0.0020 (Best: Loss = 0.0019, Epoch = 10)\n",
      "Train on 8120 samples, validate on 903 samples\n",
      "Epoch 1/1\n"
     ]
    },
    {
     "name": "stderr",
     "output_type": "stream",
     "text": [
      "Fitting epoch 18\n"
     ]
    },
    {
     "name": "stdout",
     "output_type": "stream",
     "text": [
      "8120/8120 [==============================] - 930s 115ms/step - loss: 0.0028 - val_loss: 0.0022\n",
      "2019-05-11 16:34:33 -- Epoch 18 Loss = 0.0028, Validation Loss = 0.0022 (Best: Loss = 0.0019, Epoch = 10)\n",
      "Train on 8120 samples, validate on 903 samples\n",
      "Epoch 1/1\n"
     ]
    },
    {
     "name": "stderr",
     "output_type": "stream",
     "text": [
      "Fitting epoch 19\n"
     ]
    },
    {
     "name": "stdout",
     "output_type": "stream",
     "text": [
      "8120/8120 [==============================] - 930s 115ms/step - loss: 0.0027 - val_loss: 0.0018\n",
      "2019-05-11 16:50:03 -- Epoch 19 Loss = 0.0027, Validation Loss = 0.0018 (Best: Loss = 0.0018, Epoch = 19)\n",
      "Train on 8120 samples, validate on 903 samples\n",
      "Epoch 1/1\n"
     ]
    },
    {
     "name": "stderr",
     "output_type": "stream",
     "text": [
      "Fitting epoch 20\n"
     ]
    },
    {
     "name": "stdout",
     "output_type": "stream",
     "text": [
      "8120/8120 [==============================] - 929s 114ms/step - loss: 0.0029 - val_loss: 0.0019\n",
      "2019-05-11 17:05:32 -- Epoch 20 Loss = 0.0029, Validation Loss = 0.0019 (Best: Loss = 0.0018, Epoch = 19)\n",
      "Train on 8120 samples, validate on 903 samples\n",
      "Epoch 1/1\n"
     ]
    },
    {
     "name": "stderr",
     "output_type": "stream",
     "text": [
      "Fitting epoch 21\n"
     ]
    },
    {
     "name": "stdout",
     "output_type": "stream",
     "text": [
      "8120/8120 [==============================] - 932s 115ms/step - loss: 0.0027 - val_loss: 0.0020\n",
      "2019-05-11 17:21:04 -- Epoch 21 Loss = 0.0027, Validation Loss = 0.0020 (Best: Loss = 0.0018, Epoch = 19)\n",
      "Train on 8120 samples, validate on 903 samples\n",
      "Epoch 1/1\n"
     ]
    },
    {
     "name": "stderr",
     "output_type": "stream",
     "text": [
      "Fitting epoch 22\n"
     ]
    },
    {
     "name": "stdout",
     "output_type": "stream",
     "text": [
      "8120/8120 [==============================] - 933s 115ms/step - loss: 0.0029 - val_loss: 0.0024\n",
      "2019-05-11 17:36:37 -- Epoch 22 Loss = 0.0029, Validation Loss = 0.0024 (Best: Loss = 0.0018, Epoch = 19)\n",
      "Train on 8120 samples, validate on 903 samples\n",
      "Epoch 1/1\n"
     ]
    },
    {
     "name": "stderr",
     "output_type": "stream",
     "text": [
      "Fitting epoch 23\n"
     ]
    },
    {
     "name": "stdout",
     "output_type": "stream",
     "text": [
      "8120/8120 [==============================] - 932s 115ms/step - loss: 0.0028 - val_loss: 0.0019\n",
      "2019-05-11 17:52:09 -- Epoch 23 Loss = 0.0028, Validation Loss = 0.0019 (Best: Loss = 0.0018, Epoch = 19)\n",
      "Train on 8120 samples, validate on 903 samples\n",
      "Epoch 1/1\n"
     ]
    },
    {
     "name": "stderr",
     "output_type": "stream",
     "text": [
      "Fitting epoch 24\n"
     ]
    },
    {
     "name": "stdout",
     "output_type": "stream",
     "text": [
      "8120/8120 [==============================] - 931s 115ms/step - loss: 0.0029 - val_loss: 0.0019\n",
      "2019-05-11 18:07:40 -- Epoch 24 Loss = 0.0029, Validation Loss = 0.0019 (Best: Loss = 0.0018, Epoch = 19)\n",
      "Train on 8120 samples, validate on 903 samples\n",
      "Epoch 1/1\n"
     ]
    },
    {
     "name": "stderr",
     "output_type": "stream",
     "text": [
      "Fitting epoch 25\n"
     ]
    },
    {
     "name": "stdout",
     "output_type": "stream",
     "text": [
      "8120/8120 [==============================] - 934s 115ms/step - loss: 0.0029 - val_loss: 0.0019\n",
      "2019-05-11 18:23:15 -- Epoch 25 Loss = 0.0029, Validation Loss = 0.0019 (Best: Loss = 0.0018, Epoch = 19)\n",
      "Train on 8120 samples, validate on 903 samples\n",
      "Epoch 1/1\n"
     ]
    },
    {
     "name": "stderr",
     "output_type": "stream",
     "text": [
      "Fitting epoch 26\n"
     ]
    },
    {
     "name": "stdout",
     "output_type": "stream",
     "text": [
      "8120/8120 [==============================] - 936s 115ms/step - loss: 0.0029 - val_loss: 0.0016\n",
      "2019-05-11 18:38:51 -- Epoch 26 Loss = 0.0029, Validation Loss = 0.0016 (Best: Loss = 0.0016, Epoch = 26)\n",
      "Train on 8120 samples, validate on 903 samples\n",
      "Epoch 1/1\n"
     ]
    },
    {
     "name": "stderr",
     "output_type": "stream",
     "text": [
      "Fitting epoch 27\n"
     ]
    },
    {
     "name": "stdout",
     "output_type": "stream",
     "text": [
      "8120/8120 [==============================] - 935s 115ms/step - loss: 0.0029 - val_loss: 0.0021\n",
      "2019-05-11 18:54:26 -- Epoch 27 Loss = 0.0029, Validation Loss = 0.0021 (Best: Loss = 0.0016, Epoch = 26)\n",
      "Train on 8120 samples, validate on 903 samples\n",
      "Epoch 1/1\n"
     ]
    },
    {
     "name": "stderr",
     "output_type": "stream",
     "text": [
      "Fitting epoch 28\n"
     ]
    },
    {
     "name": "stdout",
     "output_type": "stream",
     "text": [
      "8120/8120 [==============================] - 934s 115ms/step - loss: 0.0028 - val_loss: 0.0018\n",
      "2019-05-11 19:10:00 -- Epoch 28 Loss = 0.0028, Validation Loss = 0.0018 (Best: Loss = 0.0016, Epoch = 26)\n",
      "Train on 8120 samples, validate on 903 samples\n",
      "Epoch 1/1\n"
     ]
    },
    {
     "name": "stderr",
     "output_type": "stream",
     "text": [
      "Fitting epoch 29\n"
     ]
    },
    {
     "name": "stdout",
     "output_type": "stream",
     "text": [
      "8120/8120 [==============================] - 935s 115ms/step - loss: 0.0027 - val_loss: 0.0018\n",
      "2019-05-11 19:25:35 -- Epoch 29 Loss = 0.0027, Validation Loss = 0.0018 (Best: Loss = 0.0016, Epoch = 26)\n",
      "Train on 8120 samples, validate on 903 samples\n",
      "Epoch 1/1\n"
     ]
    },
    {
     "name": "stderr",
     "output_type": "stream",
     "text": [
      "Fitting epoch 30\n"
     ]
    },
    {
     "name": "stdout",
     "output_type": "stream",
     "text": [
      "8120/8120 [==============================] - 936s 115ms/step - loss: 0.0027 - val_loss: 0.0017\n",
      "2019-05-11 19:41:11 -- Epoch 30 Loss = 0.0027, Validation Loss = 0.0017 (Best: Loss = 0.0016, Epoch = 26)\n",
      "Train on 8120 samples, validate on 903 samples\n",
      "Epoch 1/1\n"
     ]
    },
    {
     "name": "stderr",
     "output_type": "stream",
     "text": [
      "Fitting epoch 31\n"
     ]
    },
    {
     "name": "stdout",
     "output_type": "stream",
     "text": [
      "8120/8120 [==============================] - 939s 116ms/step - loss: 0.0027 - val_loss: 0.0021\n",
      "2019-05-11 19:56:50 -- Epoch 31 Loss = 0.0027, Validation Loss = 0.0021 (Best: Loss = 0.0016, Epoch = 26)\n",
      "Train on 8120 samples, validate on 903 samples\n",
      "Epoch 1/1\n"
     ]
    },
    {
     "name": "stderr",
     "output_type": "stream",
     "text": [
      "Fitting epoch 32\n"
     ]
    },
    {
     "name": "stdout",
     "output_type": "stream",
     "text": [
      "8120/8120 [==============================] - 936s 115ms/step - loss: 0.0028 - val_loss: 0.0015\n",
      "2019-05-11 20:12:27 -- Epoch 32 Loss = 0.0028, Validation Loss = 0.0015 (Best: Loss = 0.0015, Epoch = 32)\n",
      "Train on 8120 samples, validate on 903 samples\n",
      "Epoch 1/1\n"
     ]
    },
    {
     "name": "stderr",
     "output_type": "stream",
     "text": [
      "Fitting epoch 33\n"
     ]
    },
    {
     "name": "stdout",
     "output_type": "stream",
     "text": [
      "8120/8120 [==============================] - 940s 116ms/step - loss: 0.0029 - val_loss: 0.0018\n",
      "2019-05-11 20:28:07 -- Epoch 33 Loss = 0.0029, Validation Loss = 0.0018 (Best: Loss = 0.0015, Epoch = 32)\n",
      "Train on 8120 samples, validate on 903 samples\n",
      "Epoch 1/1\n"
     ]
    },
    {
     "name": "stderr",
     "output_type": "stream",
     "text": [
      "Fitting epoch 34\n"
     ]
    },
    {
     "name": "stdout",
     "output_type": "stream",
     "text": [
      "8120/8120 [==============================] - 934s 115ms/step - loss: 0.0027 - val_loss: 0.0020\n",
      "2019-05-11 20:43:41 -- Epoch 34 Loss = 0.0027, Validation Loss = 0.0020 (Best: Loss = 0.0015, Epoch = 32)\n",
      "Train on 8120 samples, validate on 903 samples\n",
      "Epoch 1/1\n"
     ]
    },
    {
     "name": "stderr",
     "output_type": "stream",
     "text": [
      "Fitting epoch 35\n"
     ]
    },
    {
     "name": "stdout",
     "output_type": "stream",
     "text": [
      "8120/8120 [==============================] - 940s 116ms/step - loss: 0.0029 - val_loss: 0.0017\n",
      "2019-05-11 20:59:20 -- Epoch 35 Loss = 0.0029, Validation Loss = 0.0017 (Best: Loss = 0.0015, Epoch = 32)\n",
      "Train on 8120 samples, validate on 903 samples\n",
      "Epoch 1/1\n"
     ]
    },
    {
     "name": "stderr",
     "output_type": "stream",
     "text": [
      "Fitting epoch 36\n"
     ]
    },
    {
     "name": "stdout",
     "output_type": "stream",
     "text": [
      "8120/8120 [==============================] - 938s 115ms/step - loss: 0.0029 - val_loss: 0.0018\n",
      "2019-05-11 21:14:58 -- Epoch 36 Loss = 0.0029, Validation Loss = 0.0018 (Best: Loss = 0.0015, Epoch = 32)\n",
      "Train on 8120 samples, validate on 903 samples\n",
      "Epoch 1/1\n"
     ]
    },
    {
     "name": "stderr",
     "output_type": "stream",
     "text": [
      "Fitting epoch 37\n"
     ]
    },
    {
     "name": "stdout",
     "output_type": "stream",
     "text": [
      "8120/8120 [==============================] - 937s 115ms/step - loss: 0.0029 - val_loss: 0.0017\n",
      "2019-05-11 21:30:35 -- Epoch 37 Loss = 0.0029, Validation Loss = 0.0017 (Best: Loss = 0.0015, Epoch = 32)\n",
      "Train on 8120 samples, validate on 903 samples\n",
      "Epoch 1/1\n"
     ]
    },
    {
     "name": "stderr",
     "output_type": "stream",
     "text": [
      "Fitting epoch 38\n"
     ]
    },
    {
     "name": "stdout",
     "output_type": "stream",
     "text": [
      "8120/8120 [==============================] - 936s 115ms/step - loss: 0.0026 - val_loss: 0.0019\n",
      "2019-05-11 21:46:11 -- Epoch 38 Loss = 0.0026, Validation Loss = 0.0019 (Best: Loss = 0.0015, Epoch = 32)\n",
      "Train on 8120 samples, validate on 903 samples\n",
      "Epoch 1/1\n"
     ]
    },
    {
     "name": "stderr",
     "output_type": "stream",
     "text": [
      "Fitting epoch 39\n"
     ]
    },
    {
     "name": "stdout",
     "output_type": "stream",
     "text": [
      "8120/8120 [==============================] - 935s 115ms/step - loss: 0.0027 - val_loss: 0.0017\n",
      "2019-05-11 22:01:47 -- Epoch 39 Loss = 0.0027, Validation Loss = 0.0017 (Best: Loss = 0.0015, Epoch = 32)\n",
      "Train on 8120 samples, validate on 903 samples\n",
      "Epoch 1/1\n"
     ]
    },
    {
     "name": "stderr",
     "output_type": "stream",
     "text": [
      "Fitting epoch 40\n"
     ]
    },
    {
     "name": "stdout",
     "output_type": "stream",
     "text": [
      "8120/8120 [==============================] - 937s 115ms/step - loss: 0.0027 - val_loss: 0.0021\n",
      "2019-05-11 22:17:23 -- Epoch 40 Loss = 0.0027, Validation Loss = 0.0021 (Best: Loss = 0.0015, Epoch = 32)\n",
      "Train on 8120 samples, validate on 903 samples\n",
      "Epoch 1/1\n"
     ]
    },
    {
     "name": "stderr",
     "output_type": "stream",
     "text": [
      "Fitting epoch 41\n"
     ]
    },
    {
     "name": "stdout",
     "output_type": "stream",
     "text": [
      "8120/8120 [==============================] - 939s 116ms/step - loss: 0.0028 - val_loss: 0.0019\n",
      "2019-05-11 22:33:02 -- Epoch 41 Loss = 0.0028, Validation Loss = 0.0019 (Best: Loss = 0.0015, Epoch = 32)\n",
      "Train on 8120 samples, validate on 903 samples\n",
      "Epoch 1/1\n"
     ]
    },
    {
     "name": "stderr",
     "output_type": "stream",
     "text": [
      "Fitting epoch 42\n"
     ]
    },
    {
     "name": "stdout",
     "output_type": "stream",
     "text": [
      "8120/8120 [==============================] - 937s 115ms/step - loss: 0.0028 - val_loss: 0.0017\n",
      "2019-05-11 22:48:40 -- Epoch 42 Loss = 0.0028, Validation Loss = 0.0017 (Best: Loss = 0.0015, Epoch = 32)\n",
      "Train on 8120 samples, validate on 903 samples\n",
      "Epoch 1/1\n"
     ]
    },
    {
     "name": "stderr",
     "output_type": "stream",
     "text": [
      "Fitting epoch 43\n"
     ]
    },
    {
     "name": "stdout",
     "output_type": "stream",
     "text": [
      "8120/8120 [==============================] - 935s 115ms/step - loss: 0.0027 - val_loss: 0.0017\n",
      "2019-05-11 23:04:15 -- Epoch 43 Loss = 0.0027, Validation Loss = 0.0017 (Best: Loss = 0.0015, Epoch = 32)\n",
      "Train on 8120 samples, validate on 903 samples\n",
      "Epoch 1/1\n"
     ]
    },
    {
     "name": "stderr",
     "output_type": "stream",
     "text": [
      "Fitting epoch 44\n"
     ]
    },
    {
     "name": "stdout",
     "output_type": "stream",
     "text": [
      "8120/8120 [==============================] - 936s 115ms/step - loss: 0.0027 - val_loss: 0.0018\n",
      "2019-05-11 23:19:52 -- Epoch 44 Loss = 0.0027, Validation Loss = 0.0018 (Best: Loss = 0.0015, Epoch = 32)\n",
      "Train on 8120 samples, validate on 903 samples\n",
      "Epoch 1/1\n"
     ]
    },
    {
     "name": "stderr",
     "output_type": "stream",
     "text": [
      "Fitting epoch 45\n"
     ]
    },
    {
     "name": "stdout",
     "output_type": "stream",
     "text": [
      "8120/8120 [==============================] - 937s 115ms/step - loss: 0.0028 - val_loss: 0.0020\n",
      "2019-05-11 23:35:29 -- Epoch 45 Loss = 0.0028, Validation Loss = 0.0020 (Best: Loss = 0.0015, Epoch = 32)\n",
      "Train on 8120 samples, validate on 903 samples\n",
      "Epoch 1/1\n"
     ]
    },
    {
     "name": "stderr",
     "output_type": "stream",
     "text": [
      "Fitting epoch 46\n"
     ]
    },
    {
     "name": "stdout",
     "output_type": "stream",
     "text": [
      "8120/8120 [==============================] - 938s 116ms/step - loss: 0.0026 - val_loss: 0.0020\n",
      "2019-05-11 23:51:07 -- Epoch 46 Loss = 0.0026, Validation Loss = 0.0020 (Best: Loss = 0.0015, Epoch = 32)\n",
      "Train on 8120 samples, validate on 903 samples\n",
      "Epoch 1/1\n"
     ]
    },
    {
     "name": "stderr",
     "output_type": "stream",
     "text": [
      "Fitting epoch 47\n"
     ]
    },
    {
     "name": "stdout",
     "output_type": "stream",
     "text": [
      "8120/8120 [==============================] - 937s 115ms/step - loss: 0.0027 - val_loss: 0.0016\n",
      "2019-05-12 00:06:43 -- Epoch 47 Loss = 0.0027, Validation Loss = 0.0016 (Best: Loss = 0.0015, Epoch = 32)\n",
      "Train on 8120 samples, validate on 903 samples\n",
      "Epoch 1/1\n"
     ]
    },
    {
     "name": "stderr",
     "output_type": "stream",
     "text": [
      "Fitting epoch 48\n"
     ]
    },
    {
     "name": "stdout",
     "output_type": "stream",
     "text": [
      "8120/8120 [==============================] - 940s 116ms/step - loss: 0.0026 - val_loss: 0.0015\n",
      "2019-05-12 00:22:24 -- Epoch 48 Loss = 0.0026, Validation Loss = 0.0015 (Best: Loss = 0.0015, Epoch = 48)\n",
      "Train on 8120 samples, validate on 903 samples\n",
      "Epoch 1/1\n"
     ]
    },
    {
     "name": "stderr",
     "output_type": "stream",
     "text": [
      "Fitting epoch 49\n"
     ]
    },
    {
     "name": "stdout",
     "output_type": "stream",
     "text": [
      "8120/8120 [==============================] - 934s 115ms/step - loss: 0.0027 - val_loss: 0.0018\n",
      "2019-05-12 00:37:58 -- Epoch 49 Loss = 0.0027, Validation Loss = 0.0018 (Best: Loss = 0.0015, Epoch = 48)\n",
      "Train on 8120 samples, validate on 903 samples\n",
      "Epoch 1/1\n"
     ]
    },
    {
     "name": "stderr",
     "output_type": "stream",
     "text": [
      "Fitting epoch 50\n"
     ]
    },
    {
     "name": "stdout",
     "output_type": "stream",
     "text": [
      "8120/8120 [==============================] - 938s 115ms/step - loss: 0.0027 - val_loss: 0.0019\n",
      "2019-05-12 00:53:36 -- Epoch 50 Loss = 0.0027, Validation Loss = 0.0019 (Best: Loss = 0.0015, Epoch = 48)\n",
      "Train on 8120 samples, validate on 903 samples\n",
      "Epoch 1/1\n"
     ]
    },
    {
     "name": "stderr",
     "output_type": "stream",
     "text": [
      "Fitting epoch 51\n"
     ]
    },
    {
     "name": "stdout",
     "output_type": "stream",
     "text": [
      "8120/8120 [==============================] - 937s 115ms/step - loss: 0.0028 - val_loss: 0.0014\n",
      "2019-05-12 01:09:13 -- Epoch 51 Loss = 0.0028, Validation Loss = 0.0014 (Best: Loss = 0.0014, Epoch = 51)\n",
      "Train on 8120 samples, validate on 903 samples\n",
      "Epoch 1/1\n"
     ]
    },
    {
     "name": "stderr",
     "output_type": "stream",
     "text": [
      "Fitting epoch 52\n"
     ]
    },
    {
     "name": "stdout",
     "output_type": "stream",
     "text": [
      "8120/8120 [==============================] - 939s 116ms/step - loss: 0.0029 - val_loss: 0.0018\n",
      "2019-05-12 01:24:52 -- Epoch 52 Loss = 0.0029, Validation Loss = 0.0018 (Best: Loss = 0.0014, Epoch = 51)\n",
      "Train on 8120 samples, validate on 903 samples\n",
      "Epoch 1/1\n"
     ]
    },
    {
     "name": "stderr",
     "output_type": "stream",
     "text": [
      "Fitting epoch 53\n"
     ]
    },
    {
     "name": "stdout",
     "output_type": "stream",
     "text": [
      "8120/8120 [==============================] - 938s 116ms/step - loss: 0.0029 - val_loss: 0.0018\n",
      "2019-05-12 01:40:30 -- Epoch 53 Loss = 0.0029, Validation Loss = 0.0018 (Best: Loss = 0.0014, Epoch = 51)\n",
      "Train on 8120 samples, validate on 903 samples\n",
      "Epoch 1/1\n"
     ]
    },
    {
     "name": "stderr",
     "output_type": "stream",
     "text": [
      "Fitting epoch 54\n"
     ]
    },
    {
     "name": "stdout",
     "output_type": "stream",
     "text": [
      "8120/8120 [==============================] - 939s 116ms/step - loss: 0.0027 - val_loss: 0.0017\n",
      "2019-05-12 01:56:09 -- Epoch 54 Loss = 0.0027, Validation Loss = 0.0017 (Best: Loss = 0.0014, Epoch = 51)\n",
      "Train on 8120 samples, validate on 903 samples\n",
      "Epoch 1/1\n"
     ]
    },
    {
     "name": "stderr",
     "output_type": "stream",
     "text": [
      "Fitting epoch 55\n"
     ]
    },
    {
     "name": "stdout",
     "output_type": "stream",
     "text": [
      "8120/8120 [==============================] - 936s 115ms/step - loss: 0.0028 - val_loss: 0.0017\n",
      "2019-05-12 02:11:45 -- Epoch 55 Loss = 0.0028, Validation Loss = 0.0017 (Best: Loss = 0.0014, Epoch = 51)\n",
      "Train on 8120 samples, validate on 903 samples\n",
      "Epoch 1/1\n"
     ]
    },
    {
     "name": "stderr",
     "output_type": "stream",
     "text": [
      "Fitting epoch 56\n"
     ]
    },
    {
     "name": "stdout",
     "output_type": "stream",
     "text": [
      "8120/8120 [==============================] - 939s 116ms/step - loss: 0.0029 - val_loss: 0.0021\n",
      "2019-05-12 02:27:25 -- Epoch 56 Loss = 0.0029, Validation Loss = 0.0021 (Best: Loss = 0.0014, Epoch = 51)\n",
      "Train on 8120 samples, validate on 903 samples\n",
      "Epoch 1/1\n"
     ]
    },
    {
     "name": "stderr",
     "output_type": "stream",
     "text": [
      "Fitting epoch 57\n"
     ]
    },
    {
     "name": "stdout",
     "output_type": "stream",
     "text": [
      "8120/8120 [==============================] - 940s 116ms/step - loss: 0.0027 - val_loss: 0.0018\n",
      "2019-05-12 02:43:05 -- Epoch 57 Loss = 0.0027, Validation Loss = 0.0018 (Best: Loss = 0.0014, Epoch = 51)\n",
      "Train on 8120 samples, validate on 903 samples\n",
      "Epoch 1/1\n"
     ]
    },
    {
     "name": "stderr",
     "output_type": "stream",
     "text": [
      "Fitting epoch 58\n"
     ]
    },
    {
     "name": "stdout",
     "output_type": "stream",
     "text": [
      "8120/8120 [==============================] - 940s 116ms/step - loss: 0.0027 - val_loss: 0.0018\n",
      "2019-05-12 02:58:46 -- Epoch 58 Loss = 0.0027, Validation Loss = 0.0018 (Best: Loss = 0.0014, Epoch = 51)\n",
      "Train on 8120 samples, validate on 903 samples\n",
      "Epoch 1/1\n"
     ]
    },
    {
     "name": "stderr",
     "output_type": "stream",
     "text": [
      "Fitting epoch 59\n"
     ]
    },
    {
     "name": "stdout",
     "output_type": "stream",
     "text": [
      "8120/8120 [==============================] - 942s 116ms/step - loss: 0.0026 - val_loss: 0.0023\n",
      "2019-05-12 03:14:28 -- Epoch 59 Loss = 0.0026, Validation Loss = 0.0023 (Best: Loss = 0.0014, Epoch = 51)\n",
      "Train on 8120 samples, validate on 903 samples\n",
      "Epoch 1/1\n"
     ]
    },
    {
     "name": "stderr",
     "output_type": "stream",
     "text": [
      "Fitting epoch 60\n"
     ]
    },
    {
     "name": "stdout",
     "output_type": "stream",
     "text": [
      "8120/8120 [==============================] - 941s 116ms/step - loss: 0.0028 - val_loss: 0.0018\n",
      "2019-05-12 03:30:09 -- Epoch 60 Loss = 0.0028, Validation Loss = 0.0018 (Best: Loss = 0.0014, Epoch = 51)\n",
      "Train on 8120 samples, validate on 903 samples\n",
      "Epoch 1/1\n"
     ]
    },
    {
     "name": "stderr",
     "output_type": "stream",
     "text": [
      "Fitting epoch 61\n"
     ]
    },
    {
     "name": "stdout",
     "output_type": "stream",
     "text": [
      "8120/8120 [==============================] - 940s 116ms/step - loss: 0.0028 - val_loss: 0.0017\n",
      "2019-05-12 03:45:48 -- Epoch 61 Loss = 0.0028, Validation Loss = 0.0017 (Best: Loss = 0.0014, Epoch = 51)\n",
      "Train on 8120 samples, validate on 903 samples\n",
      "Epoch 1/1\n"
     ]
    },
    {
     "name": "stderr",
     "output_type": "stream",
     "text": [
      "Fitting epoch 62\n"
     ]
    },
    {
     "name": "stdout",
     "output_type": "stream",
     "text": [
      "8120/8120 [==============================] - 941s 116ms/step - loss: 0.0027 - val_loss: 0.0017\n",
      "2019-05-12 04:01:29 -- Epoch 62 Loss = 0.0027, Validation Loss = 0.0017 (Best: Loss = 0.0014, Epoch = 51)\n",
      "Train on 8120 samples, validate on 903 samples\n",
      "Epoch 1/1\n"
     ]
    },
    {
     "name": "stderr",
     "output_type": "stream",
     "text": [
      "Fitting epoch 63\n"
     ]
    },
    {
     "name": "stdout",
     "output_type": "stream",
     "text": [
      "8120/8120 [==============================] - 942s 116ms/step - loss: 0.0027 - val_loss: 0.0019\n",
      "2019-05-12 04:17:11 -- Epoch 63 Loss = 0.0027, Validation Loss = 0.0019 (Best: Loss = 0.0014, Epoch = 51)\n",
      "Train on 8120 samples, validate on 903 samples\n",
      "Epoch 1/1\n"
     ]
    },
    {
     "name": "stderr",
     "output_type": "stream",
     "text": [
      "Fitting epoch 64\n"
     ]
    },
    {
     "name": "stdout",
     "output_type": "stream",
     "text": [
      "8120/8120 [==============================] - 926s 114ms/step - loss: 0.0028 - val_loss: 0.0016\n",
      "2019-05-12 04:32:37 -- Epoch 64 Loss = 0.0028, Validation Loss = 0.0016 (Best: Loss = 0.0014, Epoch = 51)\n",
      "Train on 8120 samples, validate on 903 samples\n",
      "Epoch 1/1\n"
     ]
    },
    {
     "name": "stderr",
     "output_type": "stream",
     "text": [
      "Fitting epoch 65\n"
     ]
    },
    {
     "name": "stdout",
     "output_type": "stream",
     "text": [
      "8120/8120 [==============================] - 917s 113ms/step - loss: 0.0028 - val_loss: 0.0018\n",
      "2019-05-12 04:47:54 -- Epoch 65 Loss = 0.0028, Validation Loss = 0.0018 (Best: Loss = 0.0014, Epoch = 51)\n",
      "Train on 8120 samples, validate on 903 samples\n",
      "Epoch 1/1\n"
     ]
    },
    {
     "name": "stderr",
     "output_type": "stream",
     "text": [
      "Fitting epoch 66\n"
     ]
    },
    {
     "name": "stdout",
     "output_type": "stream",
     "text": [
      "8120/8120 [==============================] - 916s 113ms/step - loss: 0.0027 - val_loss: 0.0016\n",
      "2019-05-12 05:03:10 -- Epoch 66 Loss = 0.0027, Validation Loss = 0.0016 (Best: Loss = 0.0014, Epoch = 51)\n",
      "Train on 8120 samples, validate on 903 samples\n",
      "Epoch 1/1\n"
     ]
    },
    {
     "name": "stderr",
     "output_type": "stream",
     "text": [
      "Fitting epoch 67\n"
     ]
    },
    {
     "name": "stdout",
     "output_type": "stream",
     "text": [
      "8120/8120 [==============================] - 917s 113ms/step - loss: 0.0028 - val_loss: 0.0019\n",
      "2019-05-12 05:18:27 -- Epoch 67 Loss = 0.0028, Validation Loss = 0.0019 (Best: Loss = 0.0014, Epoch = 51)\n",
      "Train on 8120 samples, validate on 903 samples\n",
      "Epoch 1/1\n"
     ]
    },
    {
     "name": "stderr",
     "output_type": "stream",
     "text": [
      "Fitting epoch 68\n"
     ]
    },
    {
     "name": "stdout",
     "output_type": "stream",
     "text": [
      "8120/8120 [==============================] - 914s 113ms/step - loss: 0.0028 - val_loss: 0.0021\n",
      "2019-05-12 05:33:41 -- Epoch 68 Loss = 0.0028, Validation Loss = 0.0021 (Best: Loss = 0.0014, Epoch = 51)\n",
      "Train on 8120 samples, validate on 903 samples\n",
      "Epoch 1/1\n"
     ]
    },
    {
     "name": "stderr",
     "output_type": "stream",
     "text": [
      "Fitting epoch 69\n"
     ]
    },
    {
     "name": "stdout",
     "output_type": "stream",
     "text": [
      "8120/8120 [==============================] - 918s 113ms/step - loss: 0.0028 - val_loss: 0.0021\n",
      "2019-05-12 05:48:59 -- Epoch 69 Loss = 0.0028, Validation Loss = 0.0021 (Best: Loss = 0.0014, Epoch = 51)\n",
      "Train on 8120 samples, validate on 903 samples\n",
      "Epoch 1/1\n"
     ]
    },
    {
     "name": "stderr",
     "output_type": "stream",
     "text": [
      "Fitting epoch 70\n"
     ]
    },
    {
     "name": "stdout",
     "output_type": "stream",
     "text": [
      "8120/8120 [==============================] - 919s 113ms/step - loss: 0.0028 - val_loss: 0.0018\n",
      "2019-05-12 06:04:18 -- Epoch 70 Loss = 0.0028, Validation Loss = 0.0018 (Best: Loss = 0.0014, Epoch = 51)\n",
      "Train on 8120 samples, validate on 903 samples\n",
      "Epoch 1/1\n"
     ]
    },
    {
     "name": "stderr",
     "output_type": "stream",
     "text": [
      "Fitting epoch 71\n"
     ]
    },
    {
     "name": "stdout",
     "output_type": "stream",
     "text": [
      "8120/8120 [==============================] - 922s 114ms/step - loss: 0.0027 - val_loss: 0.0018\n",
      "2019-05-12 06:19:40 -- Epoch 71 Loss = 0.0027, Validation Loss = 0.0018 (Best: Loss = 0.0014, Epoch = 51)\n",
      "Train on 8120 samples, validate on 903 samples\n",
      "Epoch 1/1\n"
     ]
    },
    {
     "name": "stderr",
     "output_type": "stream",
     "text": [
      "Fitting epoch 72\n"
     ]
    },
    {
     "name": "stdout",
     "output_type": "stream",
     "text": [
      "8120/8120 [==============================] - 923s 114ms/step - loss: 0.0029 - val_loss: 0.0019\n",
      "2019-05-12 06:35:04 -- Epoch 72 Loss = 0.0029, Validation Loss = 0.0019 (Best: Loss = 0.0014, Epoch = 51)\n",
      "Train on 8120 samples, validate on 903 samples\n",
      "Epoch 1/1\n"
     ]
    },
    {
     "name": "stderr",
     "output_type": "stream",
     "text": [
      "Fitting epoch 73\n"
     ]
    },
    {
     "name": "stdout",
     "output_type": "stream",
     "text": [
      "8120/8120 [==============================] - 925s 114ms/step - loss: 0.0026 - val_loss: 0.0017\n",
      "2019-05-12 06:50:28 -- Epoch 73 Loss = 0.0026, Validation Loss = 0.0017 (Best: Loss = 0.0014, Epoch = 51)\n",
      "Train on 8120 samples, validate on 903 samples\n",
      "Epoch 1/1\n"
     ]
    },
    {
     "name": "stderr",
     "output_type": "stream",
     "text": [
      "Fitting epoch 74\n"
     ]
    },
    {
     "name": "stdout",
     "output_type": "stream",
     "text": [
      "8120/8120 [==============================] - 924s 114ms/step - loss: 0.0028 - val_loss: 0.0021\n",
      "2019-05-12 07:05:52 -- Epoch 74 Loss = 0.0028, Validation Loss = 0.0021 (Best: Loss = 0.0014, Epoch = 51)\n",
      "Train on 8120 samples, validate on 903 samples\n",
      "Epoch 1/1\n"
     ]
    },
    {
     "name": "stderr",
     "output_type": "stream",
     "text": [
      "Fitting epoch 75\n"
     ]
    },
    {
     "name": "stdout",
     "output_type": "stream",
     "text": [
      "8120/8120 [==============================] - 926s 114ms/step - loss: 0.0027 - val_loss: 0.0021\n",
      "2019-05-12 07:21:17 -- Epoch 75 Loss = 0.0027, Validation Loss = 0.0021 (Best: Loss = 0.0014, Epoch = 51)\n",
      "Train on 8120 samples, validate on 903 samples\n",
      "Epoch 1/1\n"
     ]
    },
    {
     "name": "stderr",
     "output_type": "stream",
     "text": [
      "Fitting epoch 76\n"
     ]
    },
    {
     "name": "stdout",
     "output_type": "stream",
     "text": [
      "8120/8120 [==============================] - 924s 114ms/step - loss: 0.0026 - val_loss: 0.0018\n",
      "2019-05-12 07:36:41 -- Epoch 76 Loss = 0.0026, Validation Loss = 0.0018 (Best: Loss = 0.0014, Epoch = 51)\n",
      "Train on 8120 samples, validate on 903 samples\n",
      "Epoch 1/1\n"
     ]
    },
    {
     "name": "stderr",
     "output_type": "stream",
     "text": [
      "Fitting epoch 77\n"
     ]
    },
    {
     "name": "stdout",
     "output_type": "stream",
     "text": [
      "8120/8120 [==============================] - 927s 114ms/step - loss: 0.0026 - val_loss: 0.0015\n",
      "2019-05-12 07:52:08 -- Epoch 77 Loss = 0.0026, Validation Loss = 0.0015 (Best: Loss = 0.0014, Epoch = 51)\n",
      "Train on 8120 samples, validate on 903 samples\n",
      "Epoch 1/1\n"
     ]
    },
    {
     "name": "stderr",
     "output_type": "stream",
     "text": [
      "Fitting epoch 78\n"
     ]
    },
    {
     "name": "stdout",
     "output_type": "stream",
     "text": [
      "8120/8120 [==============================] - 933s 115ms/step - loss: 0.0027 - val_loss: 0.0021\n",
      "2019-05-12 08:07:42 -- Epoch 78 Loss = 0.0027, Validation Loss = 0.0021 (Best: Loss = 0.0014, Epoch = 51)\n",
      "Train on 8120 samples, validate on 903 samples\n",
      "Epoch 1/1\n"
     ]
    },
    {
     "name": "stderr",
     "output_type": "stream",
     "text": [
      "Fitting epoch 79\n"
     ]
    },
    {
     "name": "stdout",
     "output_type": "stream",
     "text": [
      "8120/8120 [==============================] - 947s 117ms/step - loss: 0.0028 - val_loss: 0.0017\n",
      "2019-05-12 08:23:28 -- Epoch 79 Loss = 0.0028, Validation Loss = 0.0017 (Best: Loss = 0.0014, Epoch = 51)\n",
      "Train on 8120 samples, validate on 903 samples\n",
      "Epoch 1/1\n"
     ]
    },
    {
     "name": "stderr",
     "output_type": "stream",
     "text": [
      "Fitting epoch 80\n"
     ]
    },
    {
     "name": "stdout",
     "output_type": "stream",
     "text": [
      "8120/8120 [==============================] - 1006s 124ms/step - loss: 0.0027 - val_loss: 0.0021\n",
      "2019-05-12 08:40:14 -- Epoch 80 Loss = 0.0027, Validation Loss = 0.0021 (Best: Loss = 0.0014, Epoch = 51)\n",
      "Train on 8120 samples, validate on 903 samples\n",
      "Epoch 1/1\n"
     ]
    },
    {
     "name": "stderr",
     "output_type": "stream",
     "text": [
      "Fitting epoch 81\n"
     ]
    },
    {
     "name": "stdout",
     "output_type": "stream",
     "text": [
      "8120/8120 [==============================] - 1078s 133ms/step - loss: 0.0027 - val_loss: 0.0021\n",
      "2019-05-12 08:58:13 -- Epoch 81 Loss = 0.0027, Validation Loss = 0.0021 (Best: Loss = 0.0014, Epoch = 51)\n",
      "Train on 8120 samples, validate on 903 samples\n",
      "Epoch 1/1\n"
     ]
    },
    {
     "name": "stderr",
     "output_type": "stream",
     "text": [
      "Fitting epoch 82\n"
     ]
    },
    {
     "name": "stdout",
     "output_type": "stream",
     "text": [
      "8120/8120 [==============================] - 1009s 124ms/step - loss: 0.0027 - val_loss: 0.0017\n",
      "2019-05-12 09:15:01 -- Epoch 82 Loss = 0.0027, Validation Loss = 0.0017 (Best: Loss = 0.0014, Epoch = 51)\n",
      "Train on 8120 samples, validate on 903 samples\n",
      "Epoch 1/1\n"
     ]
    },
    {
     "name": "stderr",
     "output_type": "stream",
     "text": [
      "Fitting epoch 83\n"
     ]
    },
    {
     "name": "stdout",
     "output_type": "stream",
     "text": [
      "8120/8120 [==============================] - 1051s 129ms/step - loss: 0.0027 - val_loss: 0.0017\n",
      "2019-05-12 09:32:33 -- Epoch 83 Loss = 0.0027, Validation Loss = 0.0017 (Best: Loss = 0.0014, Epoch = 51)\n",
      "Train on 8120 samples, validate on 903 samples\n",
      "Epoch 1/1\n"
     ]
    },
    {
     "name": "stderr",
     "output_type": "stream",
     "text": [
      "Fitting epoch 84\n"
     ]
    },
    {
     "name": "stdout",
     "output_type": "stream",
     "text": [
      "8120/8120 [==============================] - 1167s 144ms/step - loss: 0.0028 - val_loss: 0.0018\n",
      "2019-05-12 09:52:00 -- Epoch 84 Loss = 0.0028, Validation Loss = 0.0018 (Best: Loss = 0.0014, Epoch = 51)\n",
      "Train on 8120 samples, validate on 903 samples\n",
      "Epoch 1/1\n"
     ]
    },
    {
     "name": "stderr",
     "output_type": "stream",
     "text": [
      "Fitting epoch 85\n"
     ]
    },
    {
     "name": "stdout",
     "output_type": "stream",
     "text": [
      "8120/8120 [==============================] - 946s 117ms/step - loss: 0.0028 - val_loss: 0.0021\n",
      "2019-05-12 10:07:46 -- Epoch 85 Loss = 0.0028, Validation Loss = 0.0021 (Best: Loss = 0.0014, Epoch = 51)\n",
      "Train on 8120 samples, validate on 903 samples\n",
      "Epoch 1/1\n"
     ]
    },
    {
     "name": "stderr",
     "output_type": "stream",
     "text": [
      "Fitting epoch 86\n"
     ]
    },
    {
     "name": "stdout",
     "output_type": "stream",
     "text": [
      "8120/8120 [==============================] - 992s 122ms/step - loss: 0.0027 - val_loss: 0.0022\n",
      "2019-05-12 10:24:18 -- Epoch 86 Loss = 0.0027, Validation Loss = 0.0022 (Best: Loss = 0.0014, Epoch = 51)\n",
      "Train on 8120 samples, validate on 903 samples\n",
      "Epoch 1/1\n"
     ]
    },
    {
     "name": "stderr",
     "output_type": "stream",
     "text": [
      "Fitting epoch 87\n"
     ]
    },
    {
     "name": "stdout",
     "output_type": "stream",
     "text": [
      "8120/8120 [==============================] - 973s 120ms/step - loss: 0.0026 - val_loss: 0.0019\n",
      "2019-05-12 10:40:32 -- Epoch 87 Loss = 0.0026, Validation Loss = 0.0019 (Best: Loss = 0.0014, Epoch = 51)\n",
      "Train on 8120 samples, validate on 903 samples\n",
      "Epoch 1/1\n"
     ]
    },
    {
     "name": "stderr",
     "output_type": "stream",
     "text": [
      "Fitting epoch 88\n"
     ]
    },
    {
     "name": "stdout",
     "output_type": "stream",
     "text": [
      "8120/8120 [==============================] - 945s 116ms/step - loss: 0.0027 - val_loss: 0.0014\n",
      "2019-05-12 10:56:17 -- Epoch 88 Loss = 0.0027, Validation Loss = 0.0014 (Best: Loss = 0.0014, Epoch = 88)\n",
      "Train on 8120 samples, validate on 903 samples\n",
      "Epoch 1/1\n"
     ]
    },
    {
     "name": "stderr",
     "output_type": "stream",
     "text": [
      "Fitting epoch 89\n"
     ]
    },
    {
     "name": "stdout",
     "output_type": "stream",
     "text": [
      "8120/8120 [==============================] - 947s 117ms/step - loss: 0.0027 - val_loss: 0.0017\n",
      "2019-05-12 11:12:04 -- Epoch 89 Loss = 0.0027, Validation Loss = 0.0017 (Best: Loss = 0.0014, Epoch = 88)\n",
      "Train on 8120 samples, validate on 903 samples\n",
      "Epoch 1/1\n"
     ]
    },
    {
     "name": "stderr",
     "output_type": "stream",
     "text": [
      "Fitting epoch 90\n"
     ]
    },
    {
     "name": "stdout",
     "output_type": "stream",
     "text": [
      "8120/8120 [==============================] - 930s 115ms/step - loss: 0.0027 - val_loss: 0.0018\n",
      "2019-05-12 11:27:34 -- Epoch 90 Loss = 0.0027, Validation Loss = 0.0018 (Best: Loss = 0.0014, Epoch = 88)\n",
      "Train on 8120 samples, validate on 903 samples\n",
      "Epoch 1/1\n"
     ]
    },
    {
     "name": "stderr",
     "output_type": "stream",
     "text": [
      "Fitting epoch 91\n"
     ]
    },
    {
     "name": "stdout",
     "output_type": "stream",
     "text": [
      "8120/8120 [==============================] - 931s 115ms/step - loss: 0.0027 - val_loss: 0.0018\n",
      "2019-05-12 11:43:05 -- Epoch 91 Loss = 0.0027, Validation Loss = 0.0018 (Best: Loss = 0.0014, Epoch = 88)\n",
      "Train on 8120 samples, validate on 903 samples\n",
      "Epoch 1/1\n"
     ]
    },
    {
     "name": "stderr",
     "output_type": "stream",
     "text": [
      "Fitting epoch 92\n"
     ]
    },
    {
     "name": "stdout",
     "output_type": "stream",
     "text": [
      "8120/8120 [==============================] - 934s 115ms/step - loss: 0.0028 - val_loss: 0.0018\n",
      "2019-05-12 11:58:39 -- Epoch 92 Loss = 0.0028, Validation Loss = 0.0018 (Best: Loss = 0.0014, Epoch = 88)\n",
      "Train on 8120 samples, validate on 903 samples\n",
      "Epoch 1/1\n"
     ]
    },
    {
     "name": "stderr",
     "output_type": "stream",
     "text": [
      "Fitting epoch 93\n"
     ]
    },
    {
     "name": "stdout",
     "output_type": "stream",
     "text": [
      "8120/8120 [==============================] - 931s 115ms/step - loss: 0.0029 - val_loss: 0.0018\n",
      "2019-05-12 12:14:09 -- Epoch 93 Loss = 0.0029, Validation Loss = 0.0018 (Best: Loss = 0.0014, Epoch = 88)\n",
      "Train on 8120 samples, validate on 903 samples\n",
      "Epoch 1/1\n"
     ]
    },
    {
     "name": "stderr",
     "output_type": "stream",
     "text": [
      "Fitting epoch 94\n"
     ]
    },
    {
     "name": "stdout",
     "output_type": "stream",
     "text": [
      "8120/8120 [==============================] - 935s 115ms/step - loss: 0.0027 - val_loss: 0.0019\n",
      "2019-05-12 12:29:45 -- Epoch 94 Loss = 0.0027, Validation Loss = 0.0019 (Best: Loss = 0.0014, Epoch = 88)\n",
      "Train on 8120 samples, validate on 903 samples\n",
      "Epoch 1/1\n"
     ]
    },
    {
     "name": "stderr",
     "output_type": "stream",
     "text": [
      "Fitting epoch 95\n"
     ]
    },
    {
     "name": "stdout",
     "output_type": "stream",
     "text": [
      "8120/8120 [==============================] - 935s 115ms/step - loss: 0.0027 - val_loss: 0.0016\n",
      "2019-05-12 12:45:20 -- Epoch 95 Loss = 0.0027, Validation Loss = 0.0016 (Best: Loss = 0.0014, Epoch = 88)\n",
      "Train on 8120 samples, validate on 903 samples\n",
      "Epoch 1/1\n"
     ]
    },
    {
     "name": "stderr",
     "output_type": "stream",
     "text": [
      "Fitting epoch 96\n"
     ]
    },
    {
     "name": "stdout",
     "output_type": "stream",
     "text": [
      "8120/8120 [==============================] - 938s 115ms/step - loss: 0.0026 - val_loss: 0.0019\n",
      "2019-05-12 13:00:58 -- Epoch 96 Loss = 0.0026, Validation Loss = 0.0019 (Best: Loss = 0.0014, Epoch = 88)\n",
      "Train on 8120 samples, validate on 903 samples\n",
      "Epoch 1/1\n"
     ]
    },
    {
     "name": "stderr",
     "output_type": "stream",
     "text": [
      "Fitting epoch 97\n"
     ]
    },
    {
     "name": "stdout",
     "output_type": "stream",
     "text": [
      "8120/8120 [==============================] - 928s 114ms/step - loss: 0.0027 - val_loss: 0.0021\n",
      "2019-05-12 13:16:26 -- Epoch 97 Loss = 0.0027, Validation Loss = 0.0021 (Best: Loss = 0.0014, Epoch = 88)\n",
      "Train on 8120 samples, validate on 903 samples\n",
      "Epoch 1/1\n"
     ]
    },
    {
     "name": "stderr",
     "output_type": "stream",
     "text": [
      "Fitting epoch 98\n"
     ]
    },
    {
     "name": "stdout",
     "output_type": "stream",
     "text": [
      "8120/8120 [==============================] - 920s 113ms/step - loss: 0.0027 - val_loss: 0.0018\n",
      "2019-05-12 13:31:46 -- Epoch 98 Loss = 0.0027, Validation Loss = 0.0018 (Best: Loss = 0.0014, Epoch = 88)\n",
      "Train on 8120 samples, validate on 903 samples\n",
      "Epoch 1/1\n"
     ]
    },
    {
     "name": "stderr",
     "output_type": "stream",
     "text": [
      "Fitting epoch 99\n"
     ]
    },
    {
     "name": "stdout",
     "output_type": "stream",
     "text": [
      "8120/8120 [==============================] - 928s 114ms/step - loss: 0.0027 - val_loss: 0.0018\n",
      "2019-05-12 13:47:14 -- Epoch 99 Loss = 0.0027, Validation Loss = 0.0018 (Best: Loss = 0.0014, Epoch = 88)\n",
      "Train on 8120 samples, validate on 903 samples\n",
      "Epoch 1/1\n"
     ]
    },
    {
     "name": "stderr",
     "output_type": "stream",
     "text": [
      "Fitting epoch 100\n"
     ]
    },
    {
     "name": "stdout",
     "output_type": "stream",
     "text": [
      "8120/8120 [==============================] - 933s 115ms/step - loss: 0.0028 - val_loss: 0.0014\n",
      "2019-05-12 14:02:47 -- Epoch 100 Loss = 0.0028, Validation Loss = 0.0014 (Best: Loss = 0.0014, Epoch = 88)\n",
      "Finished Training !!\n"
     ]
    }
   ],
   "source": [
    "\n",
    "    \n",
    "\n",
    "\n",
    "\n",
    "\n",
    "# train the model\n",
    "\n",
    "#best_loss = evaluator.train()\n",
    "\n",
    "print('Finished Training !!')\n",
    "\n",
    "# evaluate mrr for a particular epoch\n",
    "# evaluator.load_epoch(best_loss['epoch'])\n",
    "# top1, mrr = evaluator.get_score(verbose=False)\n",
    "# print(' - Top-1 Precision:')\n",
    "# print('   - %.3f on test 1' % top1[0])\n",
    "# print('   - %.3f on test 2' % top1[1])\n",
    "# print('   - %.3f on dev' % top1[2])\n",
    "# print(' - MRR:')\n",
    "# print('   - %.3f on test 1' % mrr[0])\n",
    "# print('   - %.3f on test 2' % mrr[1])\n",
    "# print('   - %.3f on dev' % mrr[2])\n"
   ]
  },
  {
   "cell_type": "code",
   "execution_count": 5,
   "metadata": {},
   "outputs": [
    {
     "data": {
      "text/plain": [
       "{'epoch': 88, 'loss': 0.0013945342991954894}"
      ]
     },
     "execution_count": 5,
     "metadata": {},
     "output_type": "execute_result"
    }
   ],
   "source": [
    "best_loss"
   ]
  },
  {
   "cell_type": "markdown",
   "metadata": {},
   "source": [
    "# 0516以後的 Training"
   ]
  },
  {
   "cell_type": "code",
   "execution_count": 5,
   "metadata": {},
   "outputs": [
    {
     "name": "stdout",
     "output_type": "stream",
     "text": [
      "Began training at 2019-06-18 04:58:48 on 2510 samples\n"
     ]
    },
    {
     "name": "stderr",
     "output_type": "stream",
     "text": [
      "Fitting epoch 1\n"
     ]
    },
    {
     "name": "stdout",
     "output_type": "stream",
     "text": [
      "Train on 2259 samples, validate on 251 samples\n",
      "Epoch 1/1\n",
      " 500/2259 [=====>........................] - ETA: 4:35 - loss: 0.0107"
     ]
    },
    {
     "ename": "KeyboardInterrupt",
     "evalue": "",
     "output_type": "error",
     "traceback": [
      "\u001b[1;31m---------------------------------------------------------------------------\u001b[0m",
      "\u001b[1;31mKeyboardInterrupt\u001b[0m                         Traceback (most recent call last)",
      "\u001b[1;32m<ipython-input-5-57dba05a7611>\u001b[0m in \u001b[0;36m<module>\u001b[1;34m()\u001b[0m\n\u001b[0;32m      1\u001b[0m \u001b[0mtrain_date\u001b[0m\u001b[1;33m=\u001b[0m\u001b[1;34m'0614/05'\u001b[0m\u001b[1;33m\u001b[0m\u001b[0m\n\u001b[1;32m----> 2\u001b[1;33m \u001b[0mbest_loss\u001b[0m \u001b[1;33m=\u001b[0m \u001b[0mevaluator\u001b[0m\u001b[1;33m.\u001b[0m\u001b[0mtrain\u001b[0m\u001b[1;33m(\u001b[0m\u001b[0mtrain_date\u001b[0m\u001b[1;33m)\u001b[0m\u001b[1;33m\u001b[0m\u001b[0m\n\u001b[0m\u001b[0;32m      3\u001b[0m \u001b[1;33m\u001b[0m\u001b[0m\n\u001b[0;32m      4\u001b[0m \u001b[0mprint\u001b[0m\u001b[1;33m(\u001b[0m\u001b[1;34m'Finished Training !!'\u001b[0m\u001b[1;33m)\u001b[0m\u001b[1;33m\u001b[0m\u001b[0m\n",
      "\u001b[1;32m<ipython-input-2-9a85847d11be>\u001b[0m in \u001b[0;36mtrain\u001b[1;34m(self, train_date)\u001b[0m\n\u001b[0;32m     91\u001b[0m             \u001b[0mprint\u001b[0m\u001b[1;33m(\u001b[0m\u001b[1;34m'Fitting epoch %d'\u001b[0m \u001b[1;33m%\u001b[0m \u001b[0mi\u001b[0m\u001b[1;33m,\u001b[0m \u001b[0mfile\u001b[0m\u001b[1;33m=\u001b[0m\u001b[0msys\u001b[0m\u001b[1;33m.\u001b[0m\u001b[0mstderr\u001b[0m\u001b[1;33m)\u001b[0m\u001b[1;33m\u001b[0m\u001b[0m\n\u001b[0;32m     92\u001b[0m             hist = self.model.fit([questions, good_answers, bad_answers], epochs=1, batch_size=batch_size,\n\u001b[1;32m---> 93\u001b[1;33m                                   validation_split=validation_split, verbose=1)\n\u001b[0m\u001b[0;32m     94\u001b[0m \u001b[1;33m\u001b[0m\u001b[0m\n\u001b[0;32m     95\u001b[0m             \u001b[1;32mif\u001b[0m \u001b[0mhist\u001b[0m\u001b[1;33m.\u001b[0m\u001b[0mhistory\u001b[0m\u001b[1;33m[\u001b[0m\u001b[1;34m'val_loss'\u001b[0m\u001b[1;33m]\u001b[0m\u001b[1;33m[\u001b[0m\u001b[1;36m0\u001b[0m\u001b[1;33m]\u001b[0m \u001b[1;33m<\u001b[0m \u001b[0mval_loss\u001b[0m\u001b[1;33m[\u001b[0m\u001b[1;34m'loss'\u001b[0m\u001b[1;33m]\u001b[0m\u001b[1;33m:\u001b[0m\u001b[1;33m\u001b[0m\u001b[0m\n",
      "\u001b[1;32m~\\Python jupyter code\\ultimate-guitar-analytic-0517\\Python_code\\Question_Answering_Structure\\keras-language-modeling\\keras\\keras-language-modeling\\keras_models.py\u001b[0m in \u001b[0;36mfit\u001b[1;34m(self, x, **kwargs)\u001b[0m\n\u001b[0;32m    132\u001b[0m         \u001b[1;32massert\u001b[0m \u001b[0mself\u001b[0m\u001b[1;33m.\u001b[0m\u001b[0mtraining_model\u001b[0m \u001b[1;32mis\u001b[0m \u001b[1;32mnot\u001b[0m \u001b[1;32mNone\u001b[0m\u001b[1;33m,\u001b[0m \u001b[1;34m'Must compile the model before fitting data'\u001b[0m\u001b[1;33m\u001b[0m\u001b[0m\n\u001b[0;32m    133\u001b[0m         \u001b[0my\u001b[0m \u001b[1;33m=\u001b[0m \u001b[0mnp\u001b[0m\u001b[1;33m.\u001b[0m\u001b[0mzeros\u001b[0m\u001b[1;33m(\u001b[0m\u001b[0mshape\u001b[0m\u001b[1;33m=\u001b[0m\u001b[1;33m(\u001b[0m\u001b[0mx\u001b[0m\u001b[1;33m[\u001b[0m\u001b[1;36m0\u001b[0m\u001b[1;33m]\u001b[0m\u001b[1;33m.\u001b[0m\u001b[0mshape\u001b[0m\u001b[1;33m[\u001b[0m\u001b[1;36m0\u001b[0m\u001b[1;33m]\u001b[0m\u001b[1;33m,\u001b[0m\u001b[1;33m)\u001b[0m\u001b[1;33m)\u001b[0m \u001b[1;31m# doesn't get used\u001b[0m\u001b[1;33m\u001b[0m\u001b[0m\n\u001b[1;32m--> 134\u001b[1;33m         \u001b[1;32mreturn\u001b[0m \u001b[0mself\u001b[0m\u001b[1;33m.\u001b[0m\u001b[0mtraining_model\u001b[0m\u001b[1;33m.\u001b[0m\u001b[0mfit\u001b[0m\u001b[1;33m(\u001b[0m\u001b[0mx\u001b[0m\u001b[1;33m,\u001b[0m \u001b[0my\u001b[0m\u001b[1;33m,\u001b[0m \u001b[1;33m**\u001b[0m\u001b[0mkwargs\u001b[0m\u001b[1;33m)\u001b[0m\u001b[1;33m\u001b[0m\u001b[0m\n\u001b[0m\u001b[0;32m    135\u001b[0m \u001b[1;33m\u001b[0m\u001b[0m\n\u001b[0;32m    136\u001b[0m     \u001b[1;32mdef\u001b[0m \u001b[0mpredict\u001b[0m\u001b[1;33m(\u001b[0m\u001b[0mself\u001b[0m\u001b[1;33m,\u001b[0m \u001b[0mx\u001b[0m\u001b[1;33m)\u001b[0m\u001b[1;33m:\u001b[0m\u001b[1;33m\u001b[0m\u001b[0m\n",
      "\u001b[1;32mC:\\ProgramData\\Anaconda3\\lib\\site-packages\\keras\\engine\\training.py\u001b[0m in \u001b[0;36mfit\u001b[1;34m(self, x, y, batch_size, epochs, verbose, callbacks, validation_split, validation_data, shuffle, class_weight, sample_weight, initial_epoch, steps_per_epoch, validation_steps, **kwargs)\u001b[0m\n\u001b[0;32m   1037\u001b[0m                                         \u001b[0minitial_epoch\u001b[0m\u001b[1;33m=\u001b[0m\u001b[0minitial_epoch\u001b[0m\u001b[1;33m,\u001b[0m\u001b[1;33m\u001b[0m\u001b[0m\n\u001b[0;32m   1038\u001b[0m                                         \u001b[0msteps_per_epoch\u001b[0m\u001b[1;33m=\u001b[0m\u001b[0msteps_per_epoch\u001b[0m\u001b[1;33m,\u001b[0m\u001b[1;33m\u001b[0m\u001b[0m\n\u001b[1;32m-> 1039\u001b[1;33m                                         validation_steps=validation_steps)\n\u001b[0m\u001b[0;32m   1040\u001b[0m \u001b[1;33m\u001b[0m\u001b[0m\n\u001b[0;32m   1041\u001b[0m     def evaluate(self, x=None, y=None,\n",
      "\u001b[1;32mC:\\ProgramData\\Anaconda3\\lib\\site-packages\\keras\\engine\\training_arrays.py\u001b[0m in \u001b[0;36mfit_loop\u001b[1;34m(model, f, ins, out_labels, batch_size, epochs, verbose, callbacks, val_f, val_ins, shuffle, callback_metrics, initial_epoch, steps_per_epoch, validation_steps)\u001b[0m\n\u001b[0;32m    197\u001b[0m                     \u001b[0mins_batch\u001b[0m\u001b[1;33m[\u001b[0m\u001b[0mi\u001b[0m\u001b[1;33m]\u001b[0m \u001b[1;33m=\u001b[0m \u001b[0mins_batch\u001b[0m\u001b[1;33m[\u001b[0m\u001b[0mi\u001b[0m\u001b[1;33m]\u001b[0m\u001b[1;33m.\u001b[0m\u001b[0mtoarray\u001b[0m\u001b[1;33m(\u001b[0m\u001b[1;33m)\u001b[0m\u001b[1;33m\u001b[0m\u001b[0m\n\u001b[0;32m    198\u001b[0m \u001b[1;33m\u001b[0m\u001b[0m\n\u001b[1;32m--> 199\u001b[1;33m                 \u001b[0mouts\u001b[0m \u001b[1;33m=\u001b[0m \u001b[0mf\u001b[0m\u001b[1;33m(\u001b[0m\u001b[0mins_batch\u001b[0m\u001b[1;33m)\u001b[0m\u001b[1;33m\u001b[0m\u001b[0m\n\u001b[0m\u001b[0;32m    200\u001b[0m                 \u001b[0mouts\u001b[0m \u001b[1;33m=\u001b[0m \u001b[0mto_list\u001b[0m\u001b[1;33m(\u001b[0m\u001b[0mouts\u001b[0m\u001b[1;33m)\u001b[0m\u001b[1;33m\u001b[0m\u001b[0m\n\u001b[0;32m    201\u001b[0m                 \u001b[1;32mfor\u001b[0m \u001b[0ml\u001b[0m\u001b[1;33m,\u001b[0m \u001b[0mo\u001b[0m \u001b[1;32min\u001b[0m \u001b[0mzip\u001b[0m\u001b[1;33m(\u001b[0m\u001b[0mout_labels\u001b[0m\u001b[1;33m,\u001b[0m \u001b[0mouts\u001b[0m\u001b[1;33m)\u001b[0m\u001b[1;33m:\u001b[0m\u001b[1;33m\u001b[0m\u001b[0m\n",
      "\u001b[1;32mC:\\ProgramData\\Anaconda3\\lib\\site-packages\\keras\\backend\\tensorflow_backend.py\u001b[0m in \u001b[0;36m__call__\u001b[1;34m(self, inputs)\u001b[0m\n\u001b[0;32m   2713\u001b[0m                 \u001b[1;32mreturn\u001b[0m \u001b[0mself\u001b[0m\u001b[1;33m.\u001b[0m\u001b[0m_legacy_call\u001b[0m\u001b[1;33m(\u001b[0m\u001b[0minputs\u001b[0m\u001b[1;33m)\u001b[0m\u001b[1;33m\u001b[0m\u001b[0m\n\u001b[0;32m   2714\u001b[0m \u001b[1;33m\u001b[0m\u001b[0m\n\u001b[1;32m-> 2715\u001b[1;33m             \u001b[1;32mreturn\u001b[0m \u001b[0mself\u001b[0m\u001b[1;33m.\u001b[0m\u001b[0m_call\u001b[0m\u001b[1;33m(\u001b[0m\u001b[0minputs\u001b[0m\u001b[1;33m)\u001b[0m\u001b[1;33m\u001b[0m\u001b[0m\n\u001b[0m\u001b[0;32m   2716\u001b[0m         \u001b[1;32melse\u001b[0m\u001b[1;33m:\u001b[0m\u001b[1;33m\u001b[0m\u001b[0m\n\u001b[0;32m   2717\u001b[0m             \u001b[1;32mif\u001b[0m \u001b[0mpy_any\u001b[0m\u001b[1;33m(\u001b[0m\u001b[0mis_tensor\u001b[0m\u001b[1;33m(\u001b[0m\u001b[0mx\u001b[0m\u001b[1;33m)\u001b[0m \u001b[1;32mfor\u001b[0m \u001b[0mx\u001b[0m \u001b[1;32min\u001b[0m \u001b[0minputs\u001b[0m\u001b[1;33m)\u001b[0m\u001b[1;33m:\u001b[0m\u001b[1;33m\u001b[0m\u001b[0m\n",
      "\u001b[1;32mC:\\ProgramData\\Anaconda3\\lib\\site-packages\\keras\\backend\\tensorflow_backend.py\u001b[0m in \u001b[0;36m_call\u001b[1;34m(self, inputs)\u001b[0m\n\u001b[0;32m   2673\u001b[0m             \u001b[0mfetched\u001b[0m \u001b[1;33m=\u001b[0m \u001b[0mself\u001b[0m\u001b[1;33m.\u001b[0m\u001b[0m_callable_fn\u001b[0m\u001b[1;33m(\u001b[0m\u001b[1;33m*\u001b[0m\u001b[0marray_vals\u001b[0m\u001b[1;33m,\u001b[0m \u001b[0mrun_metadata\u001b[0m\u001b[1;33m=\u001b[0m\u001b[0mself\u001b[0m\u001b[1;33m.\u001b[0m\u001b[0mrun_metadata\u001b[0m\u001b[1;33m)\u001b[0m\u001b[1;33m\u001b[0m\u001b[0m\n\u001b[0;32m   2674\u001b[0m         \u001b[1;32melse\u001b[0m\u001b[1;33m:\u001b[0m\u001b[1;33m\u001b[0m\u001b[0m\n\u001b[1;32m-> 2675\u001b[1;33m             \u001b[0mfetched\u001b[0m \u001b[1;33m=\u001b[0m \u001b[0mself\u001b[0m\u001b[1;33m.\u001b[0m\u001b[0m_callable_fn\u001b[0m\u001b[1;33m(\u001b[0m\u001b[1;33m*\u001b[0m\u001b[0marray_vals\u001b[0m\u001b[1;33m)\u001b[0m\u001b[1;33m\u001b[0m\u001b[0m\n\u001b[0m\u001b[0;32m   2676\u001b[0m         \u001b[1;32mreturn\u001b[0m \u001b[0mfetched\u001b[0m\u001b[1;33m[\u001b[0m\u001b[1;33m:\u001b[0m\u001b[0mlen\u001b[0m\u001b[1;33m(\u001b[0m\u001b[0mself\u001b[0m\u001b[1;33m.\u001b[0m\u001b[0moutputs\u001b[0m\u001b[1;33m)\u001b[0m\u001b[1;33m]\u001b[0m\u001b[1;33m\u001b[0m\u001b[0m\n\u001b[0;32m   2677\u001b[0m \u001b[1;33m\u001b[0m\u001b[0m\n",
      "\u001b[1;32mC:\\ProgramData\\Anaconda3\\lib\\site-packages\\tensorflow\\python\\client\\session.py\u001b[0m in \u001b[0;36m__call__\u001b[1;34m(self, *args, **kwargs)\u001b[0m\n\u001b[0;32m   1437\u001b[0m           ret = tf_session.TF_SessionRunCallable(\n\u001b[0;32m   1438\u001b[0m               \u001b[0mself\u001b[0m\u001b[1;33m.\u001b[0m\u001b[0m_session\u001b[0m\u001b[1;33m.\u001b[0m\u001b[0m_session\u001b[0m\u001b[1;33m,\u001b[0m \u001b[0mself\u001b[0m\u001b[1;33m.\u001b[0m\u001b[0m_handle\u001b[0m\u001b[1;33m,\u001b[0m \u001b[0margs\u001b[0m\u001b[1;33m,\u001b[0m \u001b[0mstatus\u001b[0m\u001b[1;33m,\u001b[0m\u001b[1;33m\u001b[0m\u001b[0m\n\u001b[1;32m-> 1439\u001b[1;33m               run_metadata_ptr)\n\u001b[0m\u001b[0;32m   1440\u001b[0m         \u001b[1;32mif\u001b[0m \u001b[0mrun_metadata\u001b[0m\u001b[1;33m:\u001b[0m\u001b[1;33m\u001b[0m\u001b[0m\n\u001b[0;32m   1441\u001b[0m           \u001b[0mproto_data\u001b[0m \u001b[1;33m=\u001b[0m \u001b[0mtf_session\u001b[0m\u001b[1;33m.\u001b[0m\u001b[0mTF_GetBuffer\u001b[0m\u001b[1;33m(\u001b[0m\u001b[0mrun_metadata_ptr\u001b[0m\u001b[1;33m)\u001b[0m\u001b[1;33m\u001b[0m\u001b[0m\n",
      "\u001b[1;31mKeyboardInterrupt\u001b[0m: "
     ]
    }
   ],
   "source": [
    "train_date='0614/05'\n",
    "best_loss = evaluator.train(train_date)\n",
    "\n",
    "print('Finished Training !!')"
   ]
  },
  {
   "cell_type": "markdown",
   "metadata": {},
   "source": [
    "# Fit Testing data with best training epoch"
   ]
  },
  {
   "cell_type": "markdown",
   "metadata": {},
   "source": [
    "讀入cleaning過的df"
   ]
  },
  {
   "cell_type": "code",
   "execution_count": 6,
   "metadata": {
    "collapsed": true
   },
   "outputs": [],
   "source": [
    "import pandas as pd\n",
    "#df = pd.read_pickle('../../../../../data/model_df_cleaned0609')\n",
    "df = pd.read_pickle('../../../../../data/model_dfdtw_cleaned0612')"
   ]
  },
  {
   "cell_type": "code",
   "execution_count": 7,
   "metadata": {
    "collapsed": true
   },
   "outputs": [],
   "source": [
    "chord_vector = {\n",
    "               \n",
    "        'C:maj':  [0,4,7],\n",
    "        'Db:maj': [1,5,8],\n",
    "        'Db:min': [1,4,8],\n",
    "        'D:maj':  [2,7,9],\n",
    "        'Eb:maj': [3,7,10],\n",
    "        'Eb:min': [3,6,10],\n",
    "        'E:maj':  [4,8,11],\n",
    "        'E:min':  [4,7,11],\n",
    "        'F:maj':  [0,5,9],\n",
    "        'F:min':  [0,4,9],\n",
    "        'Gb:maj': [1,6,10],\n",
    "        'Gb:min': [1,6,9],\n",
    "        'G:maj':  [2,7,11],\n",
    "        'G:min':  [2,7,10],\n",
    "        'Ab:maj': [0,3,8],\n",
    "        'Ab:min': [3,8,11],\n",
    "        'A:maj':  [1,4,9],\n",
    "        'A:min':  [0,4,9],\n",
    "        'Bb:maj': [2,5,10],\n",
    "        'Bb:min': [1,5,10],\n",
    "        'B:maj':  [2,6,11],\n",
    "        'B:min':  [1,6,11]    \n",
    "   \n",
    "    }\n",
    "chord_index={\n",
    "    'C:maj':  1,\n",
    "    'Db:maj': 2,\n",
    "    'Db:min': 3,\n",
    "    'D:maj':  4,\n",
    "    'Eb:maj': 5,\n",
    "    'Eb:min': 6,\n",
    "    'E:maj':  7,\n",
    "    'E:min':  8,\n",
    "    'F:maj':  9,\n",
    "    'F:min':  10,\n",
    "    'Gb:maj': 11,\n",
    "    'Gb:min': 12,\n",
    "    'G:maj':  13,\n",
    "    'G:min':  14,\n",
    "    'Ab:maj': 15,\n",
    "    'Ab:min': 16,\n",
    "    'A:maj':  17,\n",
    "    'A:min':  18,\n",
    "    'Bb:maj': 19,\n",
    "    'Bb:min': 20,\n",
    "    'B:maj':  21,\n",
    "    'B:min':  22    \n",
    "\n",
    "}"
   ]
  },
  {
   "cell_type": "code",
   "execution_count": 8,
   "metadata": {
    "collapsed": true
   },
   "outputs": [],
   "source": [
    "#擁有兩張譜以上的歌\n",
    "#3517筆\n",
    "has_2ver=df.groupby('song_name').size().loc[lambda x: x>1].keys()\n"
   ]
  },
  {
   "cell_type": "code",
   "execution_count": 9,
   "metadata": {},
   "outputs": [
    {
     "data": {
      "text/html": [
       "<div>\n",
       "<style>\n",
       "    .dataframe thead tr:only-child th {\n",
       "        text-align: right;\n",
       "    }\n",
       "\n",
       "    .dataframe thead th {\n",
       "        text-align: left;\n",
       "    }\n",
       "\n",
       "    .dataframe tbody tr th {\n",
       "        vertical-align: top;\n",
       "    }\n",
       "</style>\n",
       "<table border=\"1\" class=\"dataframe\">\n",
       "  <thead>\n",
       "    <tr style=\"text-align: right;\">\n",
       "      <th></th>\n",
       "      <th>Unnamed: 0</th>\n",
       "      <th>Unnamed: 0.1</th>\n",
       "      <th>Unnamed: 0.1.1</th>\n",
       "      <th>_id</th>\n",
       "      <th>artist</th>\n",
       "      <th>chord</th>\n",
       "      <th>error</th>\n",
       "      <th>rating</th>\n",
       "      <th>tab_href</th>\n",
       "      <th>tab_title</th>\n",
       "      <th>...</th>\n",
       "      <th>song_name</th>\n",
       "      <th>song_detector_chord</th>\n",
       "      <th>song_chord</th>\n",
       "      <th>chord_before_tf</th>\n",
       "      <th>song_chord_toCkey</th>\n",
       "      <th>star</th>\n",
       "      <th>visitors_0530</th>\n",
       "      <th>tab_dtw_cost</th>\n",
       "      <th>chord_alignment_by_dtw</th>\n",
       "      <th>songchord_alignment_by_dtw</th>\n",
       "    </tr>\n",
       "  </thead>\n",
       "  <tbody>\n",
       "    <tr>\n",
       "      <th>7</th>\n",
       "      <td>76</td>\n",
       "      <td>76</td>\n",
       "      <td>110</td>\n",
       "      <td>5cada0129fc5af34a460af31</td>\n",
       "      <td>ABBA</td>\n",
       "      <td>[Gb:maj, E:maj, Gb:maj, E:maj, Gb:maj, B:maj, ...</td>\n",
       "      <td>0</td>\n",
       "      <td>29</td>\n",
       "      <td>https://tabs.ultimate-guitar.com/tab/abba/ange...</td>\n",
       "      <td>Angeleyes</td>\n",
       "      <td>...</td>\n",
       "      <td>Angeleyes ABBA</td>\n",
       "      <td>[{'st': 0, 'et': 7.546, 'ochord': 'N'}, {'st':...</td>\n",
       "      <td>[N, B:maj, Db:maj, B:maj, Gb:maj, B:maj, Ab:ma...</td>\n",
       "      <td>[B:maj, A:maj, B:maj, A:maj, B:maj, E:maj, E:m...</td>\n",
       "      <td>[N, C:maj, D:maj, C:maj, G:maj, C:maj, A:maj, ...</td>\n",
       "      <td>4.5</td>\n",
       "      <td>32</td>\n",
       "      <td>40.8</td>\n",
       "      <td>[Gb:maj, E:maj, Gb:maj, E:maj, Gb:maj, B:maj, ...</td>\n",
       "      <td>[N, B:maj, Db:maj, B:maj, Gb:maj, B:maj, Ab:ma...</td>\n",
       "    </tr>\n",
       "    <tr>\n",
       "      <th>8</th>\n",
       "      <td>77</td>\n",
       "      <td>77</td>\n",
       "      <td>111</td>\n",
       "      <td>5cada0129fc5af34a460af33</td>\n",
       "      <td>ABBA</td>\n",
       "      <td>[Db:min, B:maj, Gb:maj, B:maj, Ab:min, E:maj, ...</td>\n",
       "      <td>0</td>\n",
       "      <td>11</td>\n",
       "      <td>https://tabs.ultimate-guitar.com/tab/abba/ange...</td>\n",
       "      <td>Angeleyes</td>\n",
       "      <td>...</td>\n",
       "      <td>Angeleyes ABBA</td>\n",
       "      <td>[{'st': 0, 'et': 7.546, 'ochord': 'N'}, {'st':...</td>\n",
       "      <td>[N, B:maj, Db:maj, B:maj, Gb:maj, B:maj, Ab:ma...</td>\n",
       "      <td>[Db:min, B:maj, Gb:maj, B:maj, Ab:min, E:maj, ...</td>\n",
       "      <td>[N, C:maj, D:maj, C:maj, G:maj, C:maj, A:maj, ...</td>\n",
       "      <td>5.0</td>\n",
       "      <td>12</td>\n",
       "      <td>21.6</td>\n",
       "      <td>[Db:min, B:maj, N, N, Gb:maj, B:maj, Ab:min, E...</td>\n",
       "      <td>[N, B:maj, Db:maj, B:maj, Gb:maj, B:maj, Ab:ma...</td>\n",
       "    </tr>\n",
       "    <tr>\n",
       "      <th>16</th>\n",
       "      <td>93</td>\n",
       "      <td>93</td>\n",
       "      <td>127</td>\n",
       "      <td>5cada0159fc5af34a460af63</td>\n",
       "      <td>ABBA</td>\n",
       "      <td>[G:maj, E:min, G:maj, C:maj, B:maj, A:min, G:m...</td>\n",
       "      <td>0</td>\n",
       "      <td>89</td>\n",
       "      <td>https://tabs.ultimate-guitar.com/tab/abba/does...</td>\n",
       "      <td>Does Your Mother Know</td>\n",
       "      <td>...</td>\n",
       "      <td>Does Your Mother Know ABBA</td>\n",
       "      <td>[{'st': 0, 'et': 24.776, 'ochord': 'G'}, {'st'...</td>\n",
       "      <td>[G:maj, E:maj, G:maj, C:maj, B:maj, A:min, G:m...</td>\n",
       "      <td>[G:maj, E:min, G:maj, C:maj, B:maj, A:min, G:m...</td>\n",
       "      <td>[C:maj, A:maj, C:maj, F:maj, E:maj, D:min, C:m...</td>\n",
       "      <td>4.5</td>\n",
       "      <td>95</td>\n",
       "      <td>13.1</td>\n",
       "      <td>[G:maj, E:min, G:maj, C:maj, B:maj, A:min, G:m...</td>\n",
       "      <td>[G:maj, E:maj, G:maj, C:maj, B:maj, A:min, G:m...</td>\n",
       "    </tr>\n",
       "    <tr>\n",
       "      <th>17</th>\n",
       "      <td>94</td>\n",
       "      <td>94</td>\n",
       "      <td>128</td>\n",
       "      <td>5cada0159fc5af34a460af65</td>\n",
       "      <td>ABBA</td>\n",
       "      <td>[G:maj, G:maj, G:maj, E:min, G:maj, C:maj, G:m...</td>\n",
       "      <td>0</td>\n",
       "      <td>20</td>\n",
       "      <td>https://tabs.ultimate-guitar.com/tab/abba/does...</td>\n",
       "      <td>Does Your Mother Know</td>\n",
       "      <td>...</td>\n",
       "      <td>Does Your Mother Know ABBA</td>\n",
       "      <td>[{'st': 0, 'et': 24.776, 'ochord': 'G'}, {'st'...</td>\n",
       "      <td>[G:maj, E:maj, G:maj, C:maj, B:maj, A:min, G:m...</td>\n",
       "      <td>[G:maj, G:maj, G:maj, E:min, G:maj, C:maj, G:m...</td>\n",
       "      <td>[C:maj, A:maj, C:maj, F:maj, E:maj, D:min, C:m...</td>\n",
       "      <td>4.5</td>\n",
       "      <td>21</td>\n",
       "      <td>18.3</td>\n",
       "      <td>[G:maj, G:maj, G:maj, E:min, G:maj, C:maj, G:m...</td>\n",
       "      <td>[G:maj, N, N, E:maj, G:maj, C:maj, B:maj, A:mi...</td>\n",
       "    </tr>\n",
       "    <tr>\n",
       "      <th>19</th>\n",
       "      <td>97</td>\n",
       "      <td>97</td>\n",
       "      <td>131</td>\n",
       "      <td>5cada0159fc5af34a460af6b</td>\n",
       "      <td>ABBA</td>\n",
       "      <td>[B:maj, E:min, B:maj, A:maj, B:maj, Gb:maj, B:...</td>\n",
       "      <td>0</td>\n",
       "      <td>8</td>\n",
       "      <td>https://tabs.ultimate-guitar.com/tab/abba/eagl...</td>\n",
       "      <td>Eagle</td>\n",
       "      <td>...</td>\n",
       "      <td>Eagle ABBA</td>\n",
       "      <td>[{'st': 0, 'et': 0.534, 'ochord': 'G#'}, {'st'...</td>\n",
       "      <td>[Ab:maj, E:min, G:maj, A:maj, E:maj, C:maj, E:...</td>\n",
       "      <td>[E:min, A:min, E:min, D:maj, E:min, B:maj, E:m...</td>\n",
       "      <td>[N, D:min, F:maj, G:maj, D:maj, N, D:min, G:ma...</td>\n",
       "      <td>4.0</td>\n",
       "      <td>8</td>\n",
       "      <td>43.9</td>\n",
       "      <td>[B:maj, E:min, N, N, N, N, N, N, N, N, N, N, N...</td>\n",
       "      <td>[Ab:maj, E:min, G:maj, A:maj, E:maj, C:maj, E:...</td>\n",
       "    </tr>\n",
       "    <tr>\n",
       "      <th>20</th>\n",
       "      <td>98</td>\n",
       "      <td>98</td>\n",
       "      <td>132</td>\n",
       "      <td>5cada0169fc5af34a460af6d</td>\n",
       "      <td>ABBA</td>\n",
       "      <td>[E:min, E:min, B:maj, E:min, A:maj, E:min, A:m...</td>\n",
       "      <td>0</td>\n",
       "      <td>19</td>\n",
       "      <td>https://tabs.ultimate-guitar.com/tab/abba/eagl...</td>\n",
       "      <td>Eagle</td>\n",
       "      <td>...</td>\n",
       "      <td>Eagle ABBA</td>\n",
       "      <td>[{'st': 0, 'et': 0.534, 'ochord': 'G#'}, {'st'...</td>\n",
       "      <td>[Ab:maj, E:min, G:maj, A:maj, E:maj, C:maj, E:...</td>\n",
       "      <td>[E:min, E:min, B:maj, E:min, A:maj, E:min, A:m...</td>\n",
       "      <td>[N, D:min, F:maj, G:maj, D:maj, N, D:min, G:ma...</td>\n",
       "      <td>5.0</td>\n",
       "      <td>21</td>\n",
       "      <td>32.3</td>\n",
       "      <td>[E:min, E:min, B:maj, E:min, A:maj, E:min, N, ...</td>\n",
       "      <td>[Ab:maj, E:min, N, G:maj, A:maj, E:maj, C:maj,...</td>\n",
       "    </tr>\n",
       "    <tr>\n",
       "      <th>22</th>\n",
       "      <td>101</td>\n",
       "      <td>101</td>\n",
       "      <td>135</td>\n",
       "      <td>5cada0169fc5af34a460af79</td>\n",
       "      <td>ABBA</td>\n",
       "      <td>[E:maj, A:maj, A:maj, B:maj, A:maj, A:maj, B:m...</td>\n",
       "      <td>0</td>\n",
       "      <td>22</td>\n",
       "      <td>https://tabs.ultimate-guitar.com/tab/abba/fern...</td>\n",
       "      <td>Fernando</td>\n",
       "      <td>...</td>\n",
       "      <td>Fernando ABBA</td>\n",
       "      <td>[{'st': 0, 'et': 1.231, 'ochord': 'N'}, {'st':...</td>\n",
       "      <td>[N, A:maj, D:maj, C:maj, A:maj, E:maj, Gb:maj,...</td>\n",
       "      <td>[A:maj, D:maj, D:maj, E:maj, D:maj, D:maj, E:m...</td>\n",
       "      <td>[N, F:maj, N, N, F:maj, C:maj, D:maj, F:maj, G...</td>\n",
       "      <td>5.0</td>\n",
       "      <td>23</td>\n",
       "      <td>33.1</td>\n",
       "      <td>[E:maj, A:maj, A:maj, B:maj, A:maj, A:maj, B:m...</td>\n",
       "      <td>[N, A:maj, N, D:maj, C:maj, A:maj, E:maj, N, N...</td>\n",
       "    </tr>\n",
       "    <tr>\n",
       "      <th>23</th>\n",
       "      <td>102</td>\n",
       "      <td>102</td>\n",
       "      <td>136</td>\n",
       "      <td>5cada0169fc5af34a460af7b</td>\n",
       "      <td>ABBA</td>\n",
       "      <td>[A:maj, Gb:min, B:maj, E:maj, A:maj, A:maj, Gb...</td>\n",
       "      <td>0</td>\n",
       "      <td>233</td>\n",
       "      <td>https://tabs.ultimate-guitar.com/tab/abba/fern...</td>\n",
       "      <td>Fernando</td>\n",
       "      <td>...</td>\n",
       "      <td>Fernando ABBA</td>\n",
       "      <td>[{'st': 0, 'et': 1.231, 'ochord': 'N'}, {'st':...</td>\n",
       "      <td>[N, A:maj, D:maj, C:maj, A:maj, E:maj, Gb:maj,...</td>\n",
       "      <td>[A:maj, Gb:min, B:maj, E:maj, A:maj, A:maj, Gb...</td>\n",
       "      <td>[N, F:maj, N, N, F:maj, C:maj, D:maj, F:maj, G...</td>\n",
       "      <td>5.0</td>\n",
       "      <td>246</td>\n",
       "      <td>21.5</td>\n",
       "      <td>[A:maj, N, N, N, N, N, Gb:min, N, B:maj, E:maj...</td>\n",
       "      <td>[N, A:maj, D:maj, C:maj, A:maj, E:maj, Gb:maj,...</td>\n",
       "    </tr>\n",
       "    <tr>\n",
       "      <th>24</th>\n",
       "      <td>103</td>\n",
       "      <td>103</td>\n",
       "      <td>137</td>\n",
       "      <td>5cada0169fc5af34a460af7d</td>\n",
       "      <td>ABBA</td>\n",
       "      <td>[A:maj, Gb:min, B:maj, E:maj, A:maj, E:maj, A:...</td>\n",
       "      <td>0</td>\n",
       "      <td>36</td>\n",
       "      <td>https://tabs.ultimate-guitar.com/tab/abba/fern...</td>\n",
       "      <td>Fernando</td>\n",
       "      <td>...</td>\n",
       "      <td>Fernando ABBA</td>\n",
       "      <td>[{'st': 0, 'et': 1.231, 'ochord': 'N'}, {'st':...</td>\n",
       "      <td>[N, A:maj, D:maj, C:maj, A:maj, E:maj, Gb:maj,...</td>\n",
       "      <td>[A:maj, Gb:min, B:maj, E:maj, A:maj, E:maj, A:...</td>\n",
       "      <td>[N, F:maj, N, N, F:maj, C:maj, D:maj, F:maj, G...</td>\n",
       "      <td>5.0</td>\n",
       "      <td>38</td>\n",
       "      <td>20.5</td>\n",
       "      <td>[A:maj, Gb:min, B:maj, E:maj, A:maj, E:maj, A:...</td>\n",
       "      <td>[N, A:maj, D:maj, C:maj, A:maj, E:maj, Gb:maj,...</td>\n",
       "    </tr>\n",
       "    <tr>\n",
       "      <th>25</th>\n",
       "      <td>104</td>\n",
       "      <td>104</td>\n",
       "      <td>138</td>\n",
       "      <td>5cada0169fc5af34a460af81</td>\n",
       "      <td>ABBA</td>\n",
       "      <td>[D:maj, C:maj, D:maj, D:maj, C:maj, D:maj, D:m...</td>\n",
       "      <td>0</td>\n",
       "      <td>25</td>\n",
       "      <td>https://tabs.ultimate-guitar.com/tab/abba/gimm...</td>\n",
       "      <td>Gimme Gimme Gimme</td>\n",
       "      <td>...</td>\n",
       "      <td>Gimme Gimme Gimme ABBA</td>\n",
       "      <td>[{'st': 0, 'et': 2.02, 'ochord': 'N'}, {'st': ...</td>\n",
       "      <td>[N, D:maj, G:maj, D:maj, G:maj, D:maj, D:maj, ...</td>\n",
       "      <td>[D:maj, C:maj, D:maj, D:maj, C:maj, D:maj, D:m...</td>\n",
       "      <td>[N, G:maj, C:maj, G:maj, C:maj, G:maj, G:maj, ...</td>\n",
       "      <td>4.5</td>\n",
       "      <td>29</td>\n",
       "      <td>26.2</td>\n",
       "      <td>[D:maj, N, C:maj, D:maj, D:maj, C:maj, D:maj, ...</td>\n",
       "      <td>[N, D:maj, G:maj, D:maj, N, G:maj, D:maj, D:ma...</td>\n",
       "    </tr>\n",
       "    <tr>\n",
       "      <th>26</th>\n",
       "      <td>105</td>\n",
       "      <td>105</td>\n",
       "      <td>139</td>\n",
       "      <td>5cada0169fc5af34a460af83</td>\n",
       "      <td>ABBA</td>\n",
       "      <td>[A:maj, A:maj, A:maj, C:maj, E:min, A:maj, A:m...</td>\n",
       "      <td>0</td>\n",
       "      <td>10</td>\n",
       "      <td>https://tabs.ultimate-guitar.com/tab/abba/gimm...</td>\n",
       "      <td>Gimme Gimme Gimme</td>\n",
       "      <td>...</td>\n",
       "      <td>Gimme Gimme Gimme ABBA</td>\n",
       "      <td>[{'st': 0, 'et': 2.02, 'ochord': 'N'}, {'st': ...</td>\n",
       "      <td>[N, D:maj, G:maj, D:maj, G:maj, D:maj, D:maj, ...</td>\n",
       "      <td>[D:maj, D:maj, D:maj, F:maj, A:min, D:maj, D:m...</td>\n",
       "      <td>[N, G:maj, C:maj, G:maj, C:maj, G:maj, G:maj, ...</td>\n",
       "      <td>4.0</td>\n",
       "      <td>11</td>\n",
       "      <td>46.7</td>\n",
       "      <td>[A:maj, A:maj, A:maj, C:maj, E:min, A:maj, A:m...</td>\n",
       "      <td>[N, D:maj, G:maj, D:maj, G:maj, D:maj, D:maj, ...</td>\n",
       "    </tr>\n",
       "    <tr>\n",
       "      <th>27</th>\n",
       "      <td>106</td>\n",
       "      <td>106</td>\n",
       "      <td>140</td>\n",
       "      <td>5cada0169fc5af34a460af85</td>\n",
       "      <td>ABBA</td>\n",
       "      <td>[D:maj, G:maj, C:maj, C:maj, G:maj, G:maj, C:m...</td>\n",
       "      <td>0</td>\n",
       "      <td>26</td>\n",
       "      <td>https://tabs.ultimate-guitar.com/tab/abba/gimm...</td>\n",
       "      <td>Gimme Gimme Gimme</td>\n",
       "      <td>...</td>\n",
       "      <td>Gimme Gimme Gimme ABBA</td>\n",
       "      <td>[{'st': 0, 'et': 2.02, 'ochord': 'N'}, {'st': ...</td>\n",
       "      <td>[N, D:maj, G:maj, D:maj, G:maj, D:maj, D:maj, ...</td>\n",
       "      <td>[D:maj, G:maj, C:maj, C:maj, G:maj, G:maj, C:m...</td>\n",
       "      <td>[N, G:maj, C:maj, G:maj, C:maj, G:maj, G:maj, ...</td>\n",
       "      <td>4.5</td>\n",
       "      <td>26</td>\n",
       "      <td>35.7</td>\n",
       "      <td>[D:maj, N, G:maj, C:maj, C:maj, G:maj, G:maj, ...</td>\n",
       "      <td>[N, D:maj, G:maj, N, D:maj, G:maj, N, N, N, N,...</td>\n",
       "    </tr>\n",
       "    <tr>\n",
       "      <th>28</th>\n",
       "      <td>107</td>\n",
       "      <td>107</td>\n",
       "      <td>141</td>\n",
       "      <td>5cada0169fc5af34a460af87</td>\n",
       "      <td>ABBA</td>\n",
       "      <td>[D:maj, Bb:maj, C:maj, D:maj, Bb:maj, D:maj, C...</td>\n",
       "      <td>0</td>\n",
       "      <td>62</td>\n",
       "      <td>https://tabs.ultimate-guitar.com/tab/abba/gimm...</td>\n",
       "      <td>Gimme Gimme Gimme</td>\n",
       "      <td>...</td>\n",
       "      <td>Gimme Gimme Gimme ABBA</td>\n",
       "      <td>[{'st': 0, 'et': 2.02, 'ochord': 'N'}, {'st': ...</td>\n",
       "      <td>[N, D:maj, G:maj, D:maj, G:maj, D:maj, D:maj, ...</td>\n",
       "      <td>[D:maj, Bb:maj, C:maj, D:maj, Bb:maj, D:maj, C...</td>\n",
       "      <td>[N, G:maj, C:maj, G:maj, C:maj, G:maj, G:maj, ...</td>\n",
       "      <td>5.0</td>\n",
       "      <td>68</td>\n",
       "      <td>31.1</td>\n",
       "      <td>[D:maj, Bb:maj, C:maj, D:maj, Bb:maj, D:maj, N...</td>\n",
       "      <td>[N, D:maj, G:maj, D:maj, G:maj, D:maj, D:maj, ...</td>\n",
       "    </tr>\n",
       "    <tr>\n",
       "      <th>101</th>\n",
       "      <td>203</td>\n",
       "      <td>203</td>\n",
       "      <td>238</td>\n",
       "      <td>5cada0249fc5af34a460b089</td>\n",
       "      <td>Ace of Base</td>\n",
       "      <td>[Bb:min, Ab:maj, Eb:min, Bb:maj, Ab:maj, Eb:ma...</td>\n",
       "      <td>0</td>\n",
       "      <td>48</td>\n",
       "      <td>https://tabs.ultimate-guitar.com/tab/ace_of_ba...</td>\n",
       "      <td>All That She Wants</td>\n",
       "      <td>...</td>\n",
       "      <td>All That She Wants Ace of Base</td>\n",
       "      <td>[{'st': 0, 'et': 0.557, 'ochord': 'N'}, {'st':...</td>\n",
       "      <td>[N, Db:maj, N, B:maj, Db:maj, Gb:maj, E:maj, C...</td>\n",
       "      <td>[Db:min, B:maj, Gb:min, Db:maj, B:maj, Gb:maj,...</td>\n",
       "      <td>[N, C:maj, N, N, C:maj, F:maj, N, B:maj, B:maj...</td>\n",
       "      <td>4.5</td>\n",
       "      <td>50</td>\n",
       "      <td>95.3</td>\n",
       "      <td>[Bb:min, N, N, N, N, N, N, N, N, N, N, N, N, N...</td>\n",
       "      <td>[N, Db:maj, N, B:maj, Db:maj, Gb:maj, E:maj, C...</td>\n",
       "    </tr>\n",
       "    <tr>\n",
       "      <th>102</th>\n",
       "      <td>204</td>\n",
       "      <td>204</td>\n",
       "      <td>239</td>\n",
       "      <td>5cada0249fc5af34a460b08d</td>\n",
       "      <td>Ace of Base</td>\n",
       "      <td>[Ab:maj, Eb:min, Db:maj, Ab:maj, Eb:min, Db:ma...</td>\n",
       "      <td>0</td>\n",
       "      <td>9</td>\n",
       "      <td>https://tabs.ultimate-guitar.com/tab/ace_of_ba...</td>\n",
       "      <td>All That She Wants</td>\n",
       "      <td>...</td>\n",
       "      <td>All That She Wants Ace of Base</td>\n",
       "      <td>[{'st': 0, 'et': 0.557, 'ochord': 'N'}, {'st':...</td>\n",
       "      <td>[N, Db:maj, N, B:maj, Db:maj, Gb:maj, E:maj, C...</td>\n",
       "      <td>[D:maj, A:min, G:maj, D:maj, A:min, G:maj, D:m...</td>\n",
       "      <td>[N, C:maj, N, N, C:maj, F:maj, N, B:maj, B:maj...</td>\n",
       "      <td>4.5</td>\n",
       "      <td>9</td>\n",
       "      <td>83.2</td>\n",
       "      <td>[Ab:maj, N, N, Eb:min, Db:maj, N, N, N, N, N, ...</td>\n",
       "      <td>[N, Db:maj, N, B:maj, Db:maj, Gb:maj, E:maj, C...</td>\n",
       "    </tr>\n",
       "    <tr>\n",
       "      <th>104</th>\n",
       "      <td>206</td>\n",
       "      <td>206</td>\n",
       "      <td>241</td>\n",
       "      <td>5cada0249fc5af34a460b091</td>\n",
       "      <td>Ace of Base</td>\n",
       "      <td>[Eb:min, Db:maj, Ab:maj, Eb:min, Bb:min, Ab:ma...</td>\n",
       "      <td>0</td>\n",
       "      <td>25</td>\n",
       "      <td>https://tabs.ultimate-guitar.com/tab/ace_of_ba...</td>\n",
       "      <td>All That She Wants</td>\n",
       "      <td>...</td>\n",
       "      <td>All That She Wants Ace of Base</td>\n",
       "      <td>[{'st': 0, 'et': 0.557, 'ochord': 'N'}, {'st':...</td>\n",
       "      <td>[N, Db:maj, N, B:maj, Db:maj, Gb:maj, E:maj, C...</td>\n",
       "      <td>[A:min, G:maj, D:maj, A:min, E:min, D:maj, A:m...</td>\n",
       "      <td>[N, C:maj, N, N, C:maj, F:maj, N, B:maj, B:maj...</td>\n",
       "      <td>4.5</td>\n",
       "      <td>26</td>\n",
       "      <td>88.3</td>\n",
       "      <td>[Eb:min, Db:maj, N, N, N, N, N, N, N, N, N, N,...</td>\n",
       "      <td>[N, Db:maj, N, B:maj, Db:maj, Gb:maj, E:maj, C...</td>\n",
       "    </tr>\n",
       "    <tr>\n",
       "      <th>114</th>\n",
       "      <td>219</td>\n",
       "      <td>219</td>\n",
       "      <td>255</td>\n",
       "      <td>5cada0279fc5af34a460b0cb</td>\n",
       "      <td>Adam Lambert</td>\n",
       "      <td>[G:maj, Bb:maj, F:maj, Eb:maj, F:maj, G:maj, B...</td>\n",
       "      <td>0</td>\n",
       "      <td>3</td>\n",
       "      <td>https://tabs.ultimate-guitar.com/tab/adam_lamb...</td>\n",
       "      <td>Better Than I Know Myself</td>\n",
       "      <td>...</td>\n",
       "      <td>Better Than I Know Myself Adam Lambert</td>\n",
       "      <td>[{'st': 0, 'et': 0.743, 'ochord': 'N'}, {'st':...</td>\n",
       "      <td>[N, Eb:maj, G:maj, Bb:maj, G:maj, F:maj, Eb:ma...</td>\n",
       "      <td>[G:maj, Bb:maj, F:maj, Eb:maj, F:maj, G:maj, B...</td>\n",
       "      <td>[N, F:maj, A:maj, C:maj, A:maj, G:maj, F:maj, ...</td>\n",
       "      <td>3.5</td>\n",
       "      <td>3</td>\n",
       "      <td>20.8</td>\n",
       "      <td>[G:maj, N, N, Bb:maj, N, F:maj, Eb:maj, N, F:m...</td>\n",
       "      <td>[N, Eb:maj, G:maj, Bb:maj, G:maj, F:maj, Eb:ma...</td>\n",
       "    </tr>\n",
       "    <tr>\n",
       "      <th>115</th>\n",
       "      <td>220</td>\n",
       "      <td>220</td>\n",
       "      <td>256</td>\n",
       "      <td>5cada0279fc5af34a460b0cd</td>\n",
       "      <td>Adam Lambert</td>\n",
       "      <td>[Eb:maj, G:maj, Bb:maj, F:maj, Eb:maj, G:maj, ...</td>\n",
       "      <td>0</td>\n",
       "      <td>54</td>\n",
       "      <td>https://tabs.ultimate-guitar.com/tab/adam_lamb...</td>\n",
       "      <td>Better Than I Know Myself</td>\n",
       "      <td>...</td>\n",
       "      <td>Better Than I Know Myself Adam Lambert</td>\n",
       "      <td>[{'st': 0, 'et': 0.743, 'ochord': 'N'}, {'st':...</td>\n",
       "      <td>[N, Eb:maj, G:maj, Bb:maj, G:maj, F:maj, Eb:ma...</td>\n",
       "      <td>[C:maj, E:min, G:maj, D:maj, C:maj, E:min, G:m...</td>\n",
       "      <td>[N, F:maj, A:maj, C:maj, A:maj, G:maj, F:maj, ...</td>\n",
       "      <td>5.0</td>\n",
       "      <td>55</td>\n",
       "      <td>19.8</td>\n",
       "      <td>[Eb:maj, N, G:maj, Bb:maj, F:maj, Eb:maj, G:ma...</td>\n",
       "      <td>[N, Eb:maj, G:maj, Bb:maj, N, N, N, N, N, G:ma...</td>\n",
       "    </tr>\n",
       "    <tr>\n",
       "      <th>121</th>\n",
       "      <td>227</td>\n",
       "      <td>227</td>\n",
       "      <td>263</td>\n",
       "      <td>5cada0289fc5af34a460b0e5</td>\n",
       "      <td>Adam Lambert</td>\n",
       "      <td>[Gb:maj, Gb:maj, Gb:maj, Gb:maj, E:maj, B:maj,...</td>\n",
       "      <td>0</td>\n",
       "      <td>3</td>\n",
       "      <td>https://tabs.ultimate-guitar.com/tab/adam_lamb...</td>\n",
       "      <td>Fever</td>\n",
       "      <td>...</td>\n",
       "      <td>Fever Adam Lambert</td>\n",
       "      <td>[{'st': 0, 'et': 0.302, 'ochord': 'C'}, {'st':...</td>\n",
       "      <td>[C:maj, N, N, E:maj, N, N, E:maj, Gb:maj, E:ma...</td>\n",
       "      <td>[G:maj, G:maj, G:maj, G:maj, F:maj, C:maj, G:m...</td>\n",
       "      <td>[N, N, N, F:maj, N, N, F:maj, G:maj, F:maj, C:...</td>\n",
       "      <td>3.5</td>\n",
       "      <td>3</td>\n",
       "      <td>21.9</td>\n",
       "      <td>[Gb:maj, N, Gb:maj, Gb:maj, Gb:maj, E:maj, B:m...</td>\n",
       "      <td>[C:maj, N, N, E:maj, N, N, E:maj, Gb:maj, N, N...</td>\n",
       "    </tr>\n",
       "    <tr>\n",
       "      <th>122</th>\n",
       "      <td>228</td>\n",
       "      <td>228</td>\n",
       "      <td>264</td>\n",
       "      <td>5cada0289fc5af34a460b0e9</td>\n",
       "      <td>Adam Lambert</td>\n",
       "      <td>[Gb:maj, Gb:maj, Gb:maj, Gb:maj, Gb:maj, E:maj...</td>\n",
       "      <td>0</td>\n",
       "      <td>5</td>\n",
       "      <td>https://tabs.ultimate-guitar.com/tab/adam_lamb...</td>\n",
       "      <td>Fever</td>\n",
       "      <td>...</td>\n",
       "      <td>Fever Adam Lambert</td>\n",
       "      <td>[{'st': 0, 'et': 0.302, 'ochord': 'C'}, {'st':...</td>\n",
       "      <td>[C:maj, N, N, E:maj, N, N, E:maj, Gb:maj, E:ma...</td>\n",
       "      <td>[G:maj, G:maj, G:maj, G:maj, G:maj, F:maj, C:m...</td>\n",
       "      <td>[N, N, N, F:maj, N, N, F:maj, G:maj, F:maj, C:...</td>\n",
       "      <td>4.5</td>\n",
       "      <td>5</td>\n",
       "      <td>21.9</td>\n",
       "      <td>[Gb:maj, Gb:maj, Gb:maj, Gb:maj, Gb:maj, E:maj...</td>\n",
       "      <td>[C:maj, N, N, E:maj, N, N, E:maj, Gb:maj, N, N...</td>\n",
       "    </tr>\n",
       "    <tr>\n",
       "      <th>123</th>\n",
       "      <td>229</td>\n",
       "      <td>229</td>\n",
       "      <td>265</td>\n",
       "      <td>5cada0289fc5af34a460b0ed</td>\n",
       "      <td>Adam Lambert</td>\n",
       "      <td>[F:min, Ab:maj, F:min, F:min, Ab:maj, F:min, F...</td>\n",
       "      <td>0</td>\n",
       "      <td>13</td>\n",
       "      <td>https://tabs.ultimate-guitar.com/tab/adam_lamb...</td>\n",
       "      <td>For Your Entertainment</td>\n",
       "      <td>...</td>\n",
       "      <td>For Your Entertainment Adam Lambert</td>\n",
       "      <td>[{'st': 0, 'et': 3.738, 'ochord': 'N'}, {'st':...</td>\n",
       "      <td>[N, Db:maj, N, D:maj, Eb:maj, Gb:maj, Eb:maj, ...</td>\n",
       "      <td>[Eb:min, Gb:maj, Eb:min, Eb:min, Gb:maj, Eb:mi...</td>\n",
       "      <td>[N, F:maj, N, N, G:maj, N, G:maj, C:maj, G:maj...</td>\n",
       "      <td>4.5</td>\n",
       "      <td>13</td>\n",
       "      <td>44.7</td>\n",
       "      <td>[F:min, Ab:maj, F:min, F:min, Ab:maj, F:min, F...</td>\n",
       "      <td>[N, Db:maj, N, N, N, N, N, N, D:maj, Eb:maj, G...</td>\n",
       "    </tr>\n",
       "    <tr>\n",
       "      <th>124</th>\n",
       "      <td>230</td>\n",
       "      <td>230</td>\n",
       "      <td>266</td>\n",
       "      <td>5cada0299fc5af34a460b0ef</td>\n",
       "      <td>Adam Lambert</td>\n",
       "      <td>[Bb:min, Db:maj, Bb:min, Bb:min, Db:maj, Bb:mi...</td>\n",
       "      <td>0</td>\n",
       "      <td>8</td>\n",
       "      <td>https://tabs.ultimate-guitar.com/tab/adam_lamb...</td>\n",
       "      <td>For Your Entertainment</td>\n",
       "      <td>...</td>\n",
       "      <td>For Your Entertainment Adam Lambert</td>\n",
       "      <td>[{'st': 0, 'et': 3.738, 'ochord': 'N'}, {'st':...</td>\n",
       "      <td>[N, Db:maj, N, D:maj, Eb:maj, Gb:maj, Eb:maj, ...</td>\n",
       "      <td>[A:min, C:maj, A:min, A:min, C:maj, A:min, A:m...</td>\n",
       "      <td>[N, F:maj, N, N, G:maj, N, G:maj, C:maj, G:maj...</td>\n",
       "      <td>4.5</td>\n",
       "      <td>8</td>\n",
       "      <td>41.5</td>\n",
       "      <td>[Bb:min, Db:maj, Bb:min, Bb:min, Db:maj, Bb:mi...</td>\n",
       "      <td>[N, Db:maj, N, N, N, N, N, N, N, N, N, N, N, N...</td>\n",
       "    </tr>\n",
       "    <tr>\n",
       "      <th>125</th>\n",
       "      <td>231</td>\n",
       "      <td>231</td>\n",
       "      <td>267</td>\n",
       "      <td>5cada0299fc5af34a460b0f1</td>\n",
       "      <td>Adam Lambert</td>\n",
       "      <td>[A:min, C:maj, D:maj, E:min, G:maj, C:maj, D:m...</td>\n",
       "      <td>0</td>\n",
       "      <td>256</td>\n",
       "      <td>https://tabs.ultimate-guitar.com/tab/adam_lamb...</td>\n",
       "      <td>Ghost Town</td>\n",
       "      <td>...</td>\n",
       "      <td>Ghost Town Adam Lambert</td>\n",
       "      <td>[{'st': 0, 'et': 0.813, 'ochord': 'C#'}, {'st'...</td>\n",
       "      <td>[Db:maj, Ab:maj, N, N, D:maj, E:min, D:maj, G:...</td>\n",
       "      <td>[A:min, C:maj, D:maj, E:min, G:maj, C:maj, D:m...</td>\n",
       "      <td>[N, N, N, N, G:maj, A:min, G:maj, C:maj, D:min...</td>\n",
       "      <td>5.0</td>\n",
       "      <td>258</td>\n",
       "      <td>45.5</td>\n",
       "      <td>[A:min, N, N, C:maj, D:maj, E:min, G:maj, C:ma...</td>\n",
       "      <td>[Db:maj, Ab:maj, N, N, D:maj, E:min, N, N, D:m...</td>\n",
       "    </tr>\n",
       "    <tr>\n",
       "      <th>126</th>\n",
       "      <td>232</td>\n",
       "      <td>232</td>\n",
       "      <td>268</td>\n",
       "      <td>5cada0299fc5af34a460b0f3</td>\n",
       "      <td>Adam Lambert</td>\n",
       "      <td>[C:maj, E:min, G:maj, A:min, C:maj, E:min, G:m...</td>\n",
       "      <td>0</td>\n",
       "      <td>10</td>\n",
       "      <td>https://tabs.ultimate-guitar.com/tab/adam_lamb...</td>\n",
       "      <td>Ghost Town</td>\n",
       "      <td>...</td>\n",
       "      <td>Ghost Town Adam Lambert</td>\n",
       "      <td>[{'st': 0, 'et': 0.813, 'ochord': 'C#'}, {'st'...</td>\n",
       "      <td>[Db:maj, Ab:maj, N, N, D:maj, E:min, D:maj, G:...</td>\n",
       "      <td>[C:maj, E:min, G:maj, A:min, C:maj, E:min, G:m...</td>\n",
       "      <td>[N, N, N, N, G:maj, A:min, G:maj, C:maj, D:min...</td>\n",
       "      <td>4.5</td>\n",
       "      <td>10</td>\n",
       "      <td>37.0</td>\n",
       "      <td>[C:maj, N, N, N, N, E:min, G:maj, N, A:min, C:...</td>\n",
       "      <td>[Db:maj, Ab:maj, N, N, D:maj, E:min, D:maj, G:...</td>\n",
       "    </tr>\n",
       "    <tr>\n",
       "      <th>127</th>\n",
       "      <td>233</td>\n",
       "      <td>233</td>\n",
       "      <td>269</td>\n",
       "      <td>5cada0299fc5af34a460b0f5</td>\n",
       "      <td>Adam Lambert</td>\n",
       "      <td>[C:maj, D:maj, E:min, D:maj, G:maj, A:min, C:m...</td>\n",
       "      <td>0</td>\n",
       "      <td>3</td>\n",
       "      <td>https://tabs.ultimate-guitar.com/tab/adam_lamb...</td>\n",
       "      <td>Ghost Town</td>\n",
       "      <td>...</td>\n",
       "      <td>Ghost Town Adam Lambert</td>\n",
       "      <td>[{'st': 0, 'et': 0.813, 'ochord': 'C#'}, {'st'...</td>\n",
       "      <td>[Db:maj, Ab:maj, N, N, D:maj, E:min, D:maj, G:...</td>\n",
       "      <td>[C:maj, D:maj, E:min, D:maj, G:maj, A:min, C:m...</td>\n",
       "      <td>[N, N, N, N, G:maj, A:min, G:maj, C:maj, D:min...</td>\n",
       "      <td>4.5</td>\n",
       "      <td>3</td>\n",
       "      <td>22.2</td>\n",
       "      <td>[C:maj, N, N, N, D:maj, E:min, D:maj, G:maj, A...</td>\n",
       "      <td>[Db:maj, Ab:maj, N, N, D:maj, E:min, D:maj, G:...</td>\n",
       "    </tr>\n",
       "    <tr>\n",
       "      <th>128</th>\n",
       "      <td>234</td>\n",
       "      <td>234</td>\n",
       "      <td>270</td>\n",
       "      <td>5cada0299fc5af34a460b0f7</td>\n",
       "      <td>Adam Lambert</td>\n",
       "      <td>[C:maj, D:maj, E:min, D:maj, G:maj, A:min, C:m...</td>\n",
       "      <td>0</td>\n",
       "      <td>16</td>\n",
       "      <td>https://tabs.ultimate-guitar.com/tab/adam_lamb...</td>\n",
       "      <td>Ghost Town</td>\n",
       "      <td>...</td>\n",
       "      <td>Ghost Town Adam Lambert</td>\n",
       "      <td>[{'st': 0, 'et': 0.813, 'ochord': 'C#'}, {'st'...</td>\n",
       "      <td>[Db:maj, Ab:maj, N, N, D:maj, E:min, D:maj, G:...</td>\n",
       "      <td>[C:maj, D:maj, E:min, D:maj, G:maj, A:min, C:m...</td>\n",
       "      <td>[N, N, N, N, G:maj, A:min, G:maj, C:maj, D:min...</td>\n",
       "      <td>5.0</td>\n",
       "      <td>16</td>\n",
       "      <td>28.4</td>\n",
       "      <td>[C:maj, N, N, N, D:maj, E:min, D:maj, G:maj, A...</td>\n",
       "      <td>[Db:maj, Ab:maj, N, N, D:maj, E:min, D:maj, G:...</td>\n",
       "    </tr>\n",
       "    <tr>\n",
       "      <th>191</th>\n",
       "      <td>301</td>\n",
       "      <td>301</td>\n",
       "      <td>343</td>\n",
       "      <td>5cada0349fc5af34a460b1d9</td>\n",
       "      <td>Adele</td>\n",
       "      <td>[B:maj, Eb:min, E:maj, Gb:maj, B:maj, Eb:min, ...</td>\n",
       "      <td>0</td>\n",
       "      <td>797</td>\n",
       "      <td>https://tabs.ultimate-guitar.com/tab/adele/all...</td>\n",
       "      <td>All I Ask</td>\n",
       "      <td>...</td>\n",
       "      <td>All I Ask Adele</td>\n",
       "      <td>[{'st': 0, 'et': 0.65, 'ochord': 'A'}, {'st': ...</td>\n",
       "      <td>[A:maj, B:maj, E:maj, B:maj, B:maj, E:maj, C:m...</td>\n",
       "      <td>[C:maj, E:min, F:maj, G:maj, C:maj, E:min, F:m...</td>\n",
       "      <td>[N, C:maj, F:maj, C:maj, C:maj, F:maj, N, G:ma...</td>\n",
       "      <td>5.0</td>\n",
       "      <td>840</td>\n",
       "      <td>70.4</td>\n",
       "      <td>[B:maj, N, N, N, Eb:min, E:maj, N, Gb:maj, N, ...</td>\n",
       "      <td>[A:maj, B:maj, E:maj, B:maj, B:maj, E:maj, C:m...</td>\n",
       "    </tr>\n",
       "    <tr>\n",
       "      <th>192</th>\n",
       "      <td>302</td>\n",
       "      <td>302</td>\n",
       "      <td>344</td>\n",
       "      <td>5cada0349fc5af34a460b1db</td>\n",
       "      <td>Adele</td>\n",
       "      <td>[B:maj, Eb:min, E:maj, Gb:maj, B:maj, Eb:min, ...</td>\n",
       "      <td>0</td>\n",
       "      <td>302</td>\n",
       "      <td>https://tabs.ultimate-guitar.com/tab/adele/all...</td>\n",
       "      <td>All I Ask</td>\n",
       "      <td>...</td>\n",
       "      <td>All I Ask Adele</td>\n",
       "      <td>[{'st': 0, 'et': 0.65, 'ochord': 'A'}, {'st': ...</td>\n",
       "      <td>[A:maj, B:maj, E:maj, B:maj, B:maj, E:maj, C:m...</td>\n",
       "      <td>[E:maj, Ab:min, A:maj, B:maj, E:maj, Ab:min, A...</td>\n",
       "      <td>[N, C:maj, F:maj, C:maj, C:maj, F:maj, N, G:ma...</td>\n",
       "      <td>5.0</td>\n",
       "      <td>311</td>\n",
       "      <td>76.0</td>\n",
       "      <td>[B:maj, Eb:min, E:maj, Gb:maj, B:maj, Eb:min, ...</td>\n",
       "      <td>[A:maj, B:maj, E:maj, B:maj, N, B:maj, E:maj, ...</td>\n",
       "    </tr>\n",
       "    <tr>\n",
       "      <th>193</th>\n",
       "      <td>303</td>\n",
       "      <td>303</td>\n",
       "      <td>345</td>\n",
       "      <td>5cada0349fc5af34a460b1dd</td>\n",
       "      <td>Adele</td>\n",
       "      <td>[B:maj, Eb:min, E:maj, Gb:maj, B:maj, Eb:min, ...</td>\n",
       "      <td>0</td>\n",
       "      <td>21</td>\n",
       "      <td>https://tabs.ultimate-guitar.com/tab/adele/all...</td>\n",
       "      <td>All I Ask</td>\n",
       "      <td>...</td>\n",
       "      <td>All I Ask Adele</td>\n",
       "      <td>[{'st': 0, 'et': 0.65, 'ochord': 'A'}, {'st': ...</td>\n",
       "      <td>[A:maj, B:maj, E:maj, B:maj, B:maj, E:maj, C:m...</td>\n",
       "      <td>[E:maj, Ab:min, A:maj, B:maj, E:maj, Ab:min, A...</td>\n",
       "      <td>[N, C:maj, F:maj, C:maj, C:maj, F:maj, N, G:ma...</td>\n",
       "      <td>4.5</td>\n",
       "      <td>21</td>\n",
       "      <td>72.8</td>\n",
       "      <td>[B:maj, N, N, N, Eb:min, E:maj, N, Gb:maj, N, ...</td>\n",
       "      <td>[A:maj, B:maj, E:maj, B:maj, B:maj, E:maj, C:m...</td>\n",
       "    </tr>\n",
       "    <tr>\n",
       "      <th>194</th>\n",
       "      <td>304</td>\n",
       "      <td>304</td>\n",
       "      <td>346</td>\n",
       "      <td>5cada0349fc5af34a460b1df</td>\n",
       "      <td>Adele</td>\n",
       "      <td>[B:maj, Eb:min, E:maj, Gb:maj, B:maj, Eb:min, ...</td>\n",
       "      <td>0</td>\n",
       "      <td>33</td>\n",
       "      <td>https://tabs.ultimate-guitar.com/tab/adele/all...</td>\n",
       "      <td>All I Ask</td>\n",
       "      <td>...</td>\n",
       "      <td>All I Ask Adele</td>\n",
       "      <td>[{'st': 0, 'et': 0.65, 'ochord': 'A'}, {'st': ...</td>\n",
       "      <td>[A:maj, B:maj, E:maj, B:maj, B:maj, E:maj, C:m...</td>\n",
       "      <td>[E:maj, Ab:min, A:maj, B:maj, E:maj, Ab:min, A...</td>\n",
       "      <td>[N, C:maj, F:maj, C:maj, C:maj, F:maj, N, G:ma...</td>\n",
       "      <td>5.0</td>\n",
       "      <td>38</td>\n",
       "      <td>68.5</td>\n",
       "      <td>[B:maj, Eb:min, E:maj, Gb:maj, B:maj, Eb:min, ...</td>\n",
       "      <td>[A:maj, B:maj, E:maj, B:maj, N, B:maj, E:maj, ...</td>\n",
       "    </tr>\n",
       "    <tr>\n",
       "      <th>...</th>\n",
       "      <td>...</td>\n",
       "      <td>...</td>\n",
       "      <td>...</td>\n",
       "      <td>...</td>\n",
       "      <td>...</td>\n",
       "      <td>...</td>\n",
       "      <td>...</td>\n",
       "      <td>...</td>\n",
       "      <td>...</td>\n",
       "      <td>...</td>\n",
       "      <td>...</td>\n",
       "      <td>...</td>\n",
       "      <td>...</td>\n",
       "      <td>...</td>\n",
       "      <td>...</td>\n",
       "      <td>...</td>\n",
       "      <td>...</td>\n",
       "      <td>...</td>\n",
       "      <td>...</td>\n",
       "      <td>...</td>\n",
       "      <td>...</td>\n",
       "    </tr>\n",
       "    <tr>\n",
       "      <th>16818</th>\n",
       "      <td>19627</td>\n",
       "      <td>19627</td>\n",
       "      <td>21318</td>\n",
       "      <td>5cadaf289fc5af34a461a273</td>\n",
       "      <td>Tori Kelly</td>\n",
       "      <td>[D:maj, C:maj, N, N, F:maj, G:maj, G:maj, F:ma...</td>\n",
       "      <td>0</td>\n",
       "      <td>10</td>\n",
       "      <td>https://tabs.ultimate-guitar.com/tab/tori_kell...</td>\n",
       "      <td>Falling Slow</td>\n",
       "      <td>...</td>\n",
       "      <td>Falling Slow Tori Kelly</td>\n",
       "      <td>[{'st': 0, 'et': 0.418, 'ochord': 'C'}, {'st':...</td>\n",
       "      <td>[C:maj, D:maj, A:min, Bb:maj, F:maj, G:maj, C:...</td>\n",
       "      <td>[A:min, G:maj, F:maj, F:maj, C:maj, D:maj, D:m...</td>\n",
       "      <td>[C:maj, D:maj, A:min, N, F:maj, G:maj, C:maj, ...</td>\n",
       "      <td>4.5</td>\n",
       "      <td>10</td>\n",
       "      <td>59.7</td>\n",
       "      <td>[D:maj, N, C:maj, N, N, F:maj, G:maj, G:maj, F...</td>\n",
       "      <td>[C:maj, D:maj, A:min, N, Bb:maj, F:maj, G:maj,...</td>\n",
       "    </tr>\n",
       "    <tr>\n",
       "      <th>16819</th>\n",
       "      <td>19628</td>\n",
       "      <td>19628</td>\n",
       "      <td>21319</td>\n",
       "      <td>5cadaf289fc5af34a461a275</td>\n",
       "      <td>Tori Kelly</td>\n",
       "      <td>[B:maj, E:maj, B:maj, E:maj, B:maj, E:maj, B:m...</td>\n",
       "      <td>0</td>\n",
       "      <td>13</td>\n",
       "      <td>https://tabs.ultimate-guitar.com/tab/tori_kell...</td>\n",
       "      <td>Fill A Heart</td>\n",
       "      <td>...</td>\n",
       "      <td>Fill A Heart Tori Kelly</td>\n",
       "      <td>[{'st': 0, 'et': 3.204, 'ochord': 'F#'}, {'st'...</td>\n",
       "      <td>[Gb:maj, B:maj, Gb:maj, B:maj, Gb:maj, B:maj, ...</td>\n",
       "      <td>[D:maj, G:maj, D:maj, G:maj, D:maj, G:maj, D:m...</td>\n",
       "      <td>[G:maj, C:maj, G:maj, C:maj, G:maj, C:maj, G:m...</td>\n",
       "      <td>5.0</td>\n",
       "      <td>13</td>\n",
       "      <td>60.0</td>\n",
       "      <td>[B:maj, N, E:maj, B:maj, E:maj, B:maj, E:maj, ...</td>\n",
       "      <td>[Gb:maj, B:maj, Gb:maj, B:maj, Gb:maj, B:maj, ...</td>\n",
       "    </tr>\n",
       "    <tr>\n",
       "      <th>16820</th>\n",
       "      <td>19629</td>\n",
       "      <td>19629</td>\n",
       "      <td>21320</td>\n",
       "      <td>5cadaf289fc5af34a461a277</td>\n",
       "      <td>Tori Kelly</td>\n",
       "      <td>[B:maj, E:maj, B:maj, E:maj, B:maj, E:maj, B:m...</td>\n",
       "      <td>0</td>\n",
       "      <td>3</td>\n",
       "      <td>https://tabs.ultimate-guitar.com/tab/tori_kell...</td>\n",
       "      <td>Fill A Heart</td>\n",
       "      <td>...</td>\n",
       "      <td>Fill A Heart Tori Kelly</td>\n",
       "      <td>[{'st': 0, 'et': 3.204, 'ochord': 'F#'}, {'st'...</td>\n",
       "      <td>[Gb:maj, B:maj, Gb:maj, B:maj, Gb:maj, B:maj, ...</td>\n",
       "      <td>[F:maj, Bb:maj, F:maj, Bb:maj, F:maj, Bb:maj, ...</td>\n",
       "      <td>[G:maj, C:maj, G:maj, C:maj, G:maj, C:maj, G:m...</td>\n",
       "      <td>4.5</td>\n",
       "      <td>3</td>\n",
       "      <td>57.6</td>\n",
       "      <td>[B:maj, N, E:maj, B:maj, E:maj, B:maj, N, N, N...</td>\n",
       "      <td>[Gb:maj, B:maj, Gb:maj, B:maj, Gb:maj, B:maj, ...</td>\n",
       "    </tr>\n",
       "    <tr>\n",
       "      <th>16930</th>\n",
       "      <td>19756</td>\n",
       "      <td>19756</td>\n",
       "      <td>21486</td>\n",
       "      <td>5cadaf519fc5af34a461a455</td>\n",
       "      <td>Westlife</td>\n",
       "      <td>[Ab:min, Gb:maj, Ab:min, Ab:min, Gb:maj, E:maj...</td>\n",
       "      <td>0</td>\n",
       "      <td>8</td>\n",
       "      <td>https://tabs.ultimate-guitar.com/tab/westlife/...</td>\n",
       "      <td>Amazing</td>\n",
       "      <td>...</td>\n",
       "      <td>Amazing Westlife</td>\n",
       "      <td>[{'st': 0, 'et': 5.294, 'ochord': 'N'}, {'st':...</td>\n",
       "      <td>[N, Gb:maj, B:maj, D:maj, Gb:maj, C:maj, B:maj...</td>\n",
       "      <td>[A:min, G:maj, A:min, A:min, G:maj, F:maj, C:m...</td>\n",
       "      <td>[N, G:maj, C:maj, N, G:maj, N, C:maj, N, F:maj...</td>\n",
       "      <td>4.5</td>\n",
       "      <td>8</td>\n",
       "      <td>70.5</td>\n",
       "      <td>[Ab:min, Gb:maj, Ab:min, Ab:min, Gb:maj, E:maj...</td>\n",
       "      <td>[N, Gb:maj, B:maj, D:maj, Gb:maj, C:maj, B:maj...</td>\n",
       "    </tr>\n",
       "    <tr>\n",
       "      <th>16931</th>\n",
       "      <td>19757</td>\n",
       "      <td>19757</td>\n",
       "      <td>21487</td>\n",
       "      <td>5cadaf519fc5af34a461a457</td>\n",
       "      <td>Westlife</td>\n",
       "      <td>[Ab:min, Gb:maj, Ab:min, Ab:min, Gb:maj, E:maj...</td>\n",
       "      <td>0</td>\n",
       "      <td>3</td>\n",
       "      <td>https://tabs.ultimate-guitar.com/tab/westlife/...</td>\n",
       "      <td>Amazing</td>\n",
       "      <td>...</td>\n",
       "      <td>Amazing Westlife</td>\n",
       "      <td>[{'st': 0, 'et': 5.294, 'ochord': 'N'}, {'st':...</td>\n",
       "      <td>[N, Gb:maj, B:maj, D:maj, Gb:maj, C:maj, B:maj...</td>\n",
       "      <td>[Gb:min, E:maj, Gb:min, Gb:min, E:maj, D:maj, ...</td>\n",
       "      <td>[N, G:maj, C:maj, N, G:maj, N, C:maj, N, F:maj...</td>\n",
       "      <td>4.0</td>\n",
       "      <td>3</td>\n",
       "      <td>69.9</td>\n",
       "      <td>[Ab:min, Gb:maj, Ab:min, Ab:min, Gb:maj, E:maj...</td>\n",
       "      <td>[N, Gb:maj, B:maj, D:maj, Gb:maj, C:maj, B:maj...</td>\n",
       "    </tr>\n",
       "    <tr>\n",
       "      <th>16933</th>\n",
       "      <td>19759</td>\n",
       "      <td>19759</td>\n",
       "      <td>21489</td>\n",
       "      <td>5cadaf529fc5af34a461a465</td>\n",
       "      <td>Westlife</td>\n",
       "      <td>[C:maj, G:maj, A:min, G:maj, F:maj, C:maj, F:m...</td>\n",
       "      <td>0</td>\n",
       "      <td>119</td>\n",
       "      <td>https://tabs.ultimate-guitar.com/tab/westlife/...</td>\n",
       "      <td>Beautiful In White</td>\n",
       "      <td>...</td>\n",
       "      <td>Beautiful In White Westlife</td>\n",
       "      <td>[{'st': 0, 'et': 1.556, 'ochord': 'A#'}, {'st'...</td>\n",
       "      <td>[Bb:maj, C:maj, G:maj, A:min, E:min, F:maj, C:...</td>\n",
       "      <td>[C:maj, G:maj, A:min, G:maj, F:maj, C:maj, F:m...</td>\n",
       "      <td>[N, C:maj, G:maj, A:min, E:min, F:maj, C:maj, ...</td>\n",
       "      <td>4.5</td>\n",
       "      <td>128</td>\n",
       "      <td>28.6</td>\n",
       "      <td>[C:maj, N, G:maj, A:min, N, N, N, G:maj, N, N,...</td>\n",
       "      <td>[Bb:maj, C:maj, G:maj, A:min, E:min, F:maj, C:...</td>\n",
       "    </tr>\n",
       "    <tr>\n",
       "      <th>16934</th>\n",
       "      <td>19760</td>\n",
       "      <td>19760</td>\n",
       "      <td>21490</td>\n",
       "      <td>5cadaf529fc5af34a461a467</td>\n",
       "      <td>Westlife</td>\n",
       "      <td>[C:maj, G:maj, A:min, E:min, F:maj, C:maj, G:m...</td>\n",
       "      <td>0</td>\n",
       "      <td>15</td>\n",
       "      <td>https://tabs.ultimate-guitar.com/tab/westlife/...</td>\n",
       "      <td>Beautiful In White</td>\n",
       "      <td>...</td>\n",
       "      <td>Beautiful In White Westlife</td>\n",
       "      <td>[{'st': 0, 'et': 1.556, 'ochord': 'A#'}, {'st'...</td>\n",
       "      <td>[Bb:maj, C:maj, G:maj, A:min, E:min, F:maj, C:...</td>\n",
       "      <td>[C:maj, G:maj, A:min, E:min, F:maj, C:maj, G:m...</td>\n",
       "      <td>[N, C:maj, G:maj, A:min, E:min, F:maj, C:maj, ...</td>\n",
       "      <td>5.0</td>\n",
       "      <td>16</td>\n",
       "      <td>13.1</td>\n",
       "      <td>[C:maj, N, G:maj, A:min, E:min, F:maj, C:maj, ...</td>\n",
       "      <td>[Bb:maj, C:maj, G:maj, A:min, E:min, F:maj, C:...</td>\n",
       "    </tr>\n",
       "    <tr>\n",
       "      <th>16945</th>\n",
       "      <td>19772</td>\n",
       "      <td>19772</td>\n",
       "      <td>21502</td>\n",
       "      <td>5cadaf579fc5af34a461a49b</td>\n",
       "      <td>Westlife</td>\n",
       "      <td>[Ab:maj, F:min, Db:maj, Eb:maj, Ab:maj, F:min,...</td>\n",
       "      <td>0</td>\n",
       "      <td>132</td>\n",
       "      <td>https://tabs.ultimate-guitar.com/tab/westlife/...</td>\n",
       "      <td>Flying Without Wings</td>\n",
       "      <td>...</td>\n",
       "      <td>Flying Without Wings Westlife</td>\n",
       "      <td>[{'st': 0, 'et': 2.902, 'ochord': 'N'}, {'st':...</td>\n",
       "      <td>[N, G:maj, E:maj, C:maj, B:maj, Ab:maj, Bb:maj...</td>\n",
       "      <td>[G:maj, E:min, C:maj, D:maj, G:maj, E:min, C:m...</td>\n",
       "      <td>[N, B:maj, N, E:maj, N, C:maj, D:maj, A:min, C...</td>\n",
       "      <td>5.0</td>\n",
       "      <td>137</td>\n",
       "      <td>18.8</td>\n",
       "      <td>[Ab:maj, N, N, N, N, N, F:min, N, N, Db:maj, E...</td>\n",
       "      <td>[N, G:maj, E:maj, C:maj, B:maj, Ab:maj, Bb:maj...</td>\n",
       "    </tr>\n",
       "    <tr>\n",
       "      <th>16946</th>\n",
       "      <td>19773</td>\n",
       "      <td>19773</td>\n",
       "      <td>21503</td>\n",
       "      <td>5cadaf589fc5af34a461a49d</td>\n",
       "      <td>Westlife</td>\n",
       "      <td>[Ab:maj, Ab:maj, Ab:maj, F:min, F:maj, F:min, ...</td>\n",
       "      <td>0</td>\n",
       "      <td>6</td>\n",
       "      <td>https://tabs.ultimate-guitar.com/tab/westlife/...</td>\n",
       "      <td>Flying Without Wings</td>\n",
       "      <td>...</td>\n",
       "      <td>Flying Without Wings Westlife</td>\n",
       "      <td>[{'st': 0, 'et': 2.902, 'ochord': 'N'}, {'st':...</td>\n",
       "      <td>[N, G:maj, E:maj, C:maj, B:maj, Ab:maj, Bb:maj...</td>\n",
       "      <td>[A:maj, A:maj, A:maj, Gb:min, Gb:maj, Gb:min, ...</td>\n",
       "      <td>[N, B:maj, N, E:maj, N, C:maj, D:maj, A:min, C...</td>\n",
       "      <td>4.5</td>\n",
       "      <td>6</td>\n",
       "      <td>20.8</td>\n",
       "      <td>[Ab:maj, N, N, N, Ab:maj, Ab:maj, F:min, F:maj...</td>\n",
       "      <td>[N, G:maj, E:maj, C:maj, B:maj, Ab:maj, Bb:maj...</td>\n",
       "    </tr>\n",
       "    <tr>\n",
       "      <th>16947</th>\n",
       "      <td>19774</td>\n",
       "      <td>19774</td>\n",
       "      <td>21504</td>\n",
       "      <td>5cadaf589fc5af34a461a49f</td>\n",
       "      <td>Westlife</td>\n",
       "      <td>[B:maj, Gb:maj, E:maj, Gb:maj, B:maj, B:maj, G...</td>\n",
       "      <td>0</td>\n",
       "      <td>20</td>\n",
       "      <td>https://tabs.ultimate-guitar.com/tab/westlife/...</td>\n",
       "      <td>Fool Again</td>\n",
       "      <td>...</td>\n",
       "      <td>Fool Again Westlife</td>\n",
       "      <td>[{'st': 0, 'et': 2.879, 'ochord': 'A#:min'}, {...</td>\n",
       "      <td>[Bb:maj, N, N, Bb:maj, D:maj, F:maj, E:maj, B:...</td>\n",
       "      <td>[C:maj, G:maj, F:maj, G:maj, C:maj, C:maj, G:m...</td>\n",
       "      <td>[B:maj, N, N, B:maj, N, N, F:maj, C:maj, D:maj...</td>\n",
       "      <td>4.0</td>\n",
       "      <td>20</td>\n",
       "      <td>53.1</td>\n",
       "      <td>[B:maj, N, N, Gb:maj, N, N, E:maj, N, N, Gb:ma...</td>\n",
       "      <td>[Bb:maj, N, N, Bb:maj, D:maj, F:maj, E:maj, B:...</td>\n",
       "    </tr>\n",
       "    <tr>\n",
       "      <th>16949</th>\n",
       "      <td>19776</td>\n",
       "      <td>19776</td>\n",
       "      <td>21506</td>\n",
       "      <td>5cadaf589fc5af34a461a4a3</td>\n",
       "      <td>Westlife</td>\n",
       "      <td>[B:maj, Db:min, E:maj, Gb:maj, Ab:min, B:maj, ...</td>\n",
       "      <td>0</td>\n",
       "      <td>43</td>\n",
       "      <td>https://tabs.ultimate-guitar.com/tab/westlife/...</td>\n",
       "      <td>Fool Again</td>\n",
       "      <td>...</td>\n",
       "      <td>Fool Again Westlife</td>\n",
       "      <td>[{'st': 0, 'et': 2.879, 'ochord': 'A#:min'}, {...</td>\n",
       "      <td>[Bb:maj, N, N, Bb:maj, D:maj, F:maj, E:maj, B:...</td>\n",
       "      <td>[E:maj, Gb:min, A:maj, B:maj, Db:min, E:maj, B...</td>\n",
       "      <td>[B:maj, N, N, B:maj, N, N, F:maj, C:maj, D:maj...</td>\n",
       "      <td>5.0</td>\n",
       "      <td>44</td>\n",
       "      <td>59.3</td>\n",
       "      <td>[B:maj, Db:min, E:maj, Gb:maj, Ab:min, B:maj, ...</td>\n",
       "      <td>[Bb:maj, N, N, Bb:maj, N, D:maj, F:maj, E:maj,...</td>\n",
       "    </tr>\n",
       "    <tr>\n",
       "      <th>17046</th>\n",
       "      <td>19874</td>\n",
       "      <td>19874</td>\n",
       "      <td>21606</td>\n",
       "      <td>5cadaf729fc5af34a461a5cd</td>\n",
       "      <td>Wet Wet Wet</td>\n",
       "      <td>[Db:maj, B:maj, E:maj, Eb:maj, A:maj, A:maj, N...</td>\n",
       "      <td>0</td>\n",
       "      <td>18</td>\n",
       "      <td>https://tabs.ultimate-guitar.com/tab/wet_wet_w...</td>\n",
       "      <td>Goodnight Girl</td>\n",
       "      <td>...</td>\n",
       "      <td>Goodnight Girl Wet Wet Wet</td>\n",
       "      <td>[{'st': 0, 'et': 1.672, 'ochord': 'F:min'}, {'...</td>\n",
       "      <td>[F:min, Eb:maj, E:maj, Bb:maj, F:min, B:maj, B...</td>\n",
       "      <td>[Db:maj, B:maj, E:maj, Eb:maj, A:maj, A:maj, D...</td>\n",
       "      <td>[N, N, C:maj, N, N, G:maj, G:maj, C:maj, F:maj...</td>\n",
       "      <td>5.0</td>\n",
       "      <td>20</td>\n",
       "      <td>64.7</td>\n",
       "      <td>[Db:maj, N, N, N, N, B:maj, N, E:maj, Eb:maj, ...</td>\n",
       "      <td>[F:min, Eb:maj, E:maj, Bb:maj, F:min, B:maj, B...</td>\n",
       "    </tr>\n",
       "    <tr>\n",
       "      <th>17047</th>\n",
       "      <td>19875</td>\n",
       "      <td>19875</td>\n",
       "      <td>21607</td>\n",
       "      <td>5cadaf729fc5af34a461a5cf</td>\n",
       "      <td>Wet Wet Wet</td>\n",
       "      <td>[A:maj, Db:maj, A:maj, E:maj, N, E:maj, A:maj,...</td>\n",
       "      <td>0</td>\n",
       "      <td>9</td>\n",
       "      <td>https://tabs.ultimate-guitar.com/tab/wet_wet_w...</td>\n",
       "      <td>Goodnight Girl</td>\n",
       "      <td>...</td>\n",
       "      <td>Goodnight Girl Wet Wet Wet</td>\n",
       "      <td>[{'st': 0, 'et': 1.672, 'ochord': 'F:min'}, {'...</td>\n",
       "      <td>[F:min, Eb:maj, E:maj, Bb:maj, F:min, B:maj, B...</td>\n",
       "      <td>[G:maj, B:maj, G:maj, D:maj, F:maj, D:maj, G:m...</td>\n",
       "      <td>[N, N, C:maj, N, N, G:maj, G:maj, C:maj, F:maj...</td>\n",
       "      <td>5.0</td>\n",
       "      <td>9</td>\n",
       "      <td>64.8</td>\n",
       "      <td>[A:maj, Db:maj, A:maj, E:maj, N, E:maj, N, N, ...</td>\n",
       "      <td>[F:min, N, Eb:maj, E:maj, Bb:maj, F:min, B:maj...</td>\n",
       "    </tr>\n",
       "    <tr>\n",
       "      <th>17057</th>\n",
       "      <td>19885</td>\n",
       "      <td>19885</td>\n",
       "      <td>21617</td>\n",
       "      <td>5cadaf759fc5af34a461a5f5</td>\n",
       "      <td>Wham!</td>\n",
       "      <td>[Eb:maj, Ab:maj, Db:maj, Bb:maj, Bb:maj, Eb:ma...</td>\n",
       "      <td>0</td>\n",
       "      <td>4</td>\n",
       "      <td>https://tabs.ultimate-guitar.com/tab/wham/club...</td>\n",
       "      <td>Club Tropicana</td>\n",
       "      <td>...</td>\n",
       "      <td>Club Tropicana Wham!</td>\n",
       "      <td>[{'st': 0, 'et': 11.819, 'ochord': 'G'}, {'st'...</td>\n",
       "      <td>[G:maj, G:maj, G:maj, N, N, Gb:maj, Bb:maj, B:...</td>\n",
       "      <td>[Eb:maj, Ab:maj, Db:maj, Gb:maj, Bb:maj, Eb:ma...</td>\n",
       "      <td>[N, N, N, N, N, G:maj, B:maj, C:maj, A:maj, C:...</td>\n",
       "      <td>3.5</td>\n",
       "      <td>4</td>\n",
       "      <td>51.5</td>\n",
       "      <td>[Eb:maj, N, N, N, N, N, N, N, Ab:maj, N, Db:ma...</td>\n",
       "      <td>[G:maj, G:maj, G:maj, N, N, Gb:maj, Bb:maj, B:...</td>\n",
       "    </tr>\n",
       "    <tr>\n",
       "      <th>17058</th>\n",
       "      <td>19886</td>\n",
       "      <td>19886</td>\n",
       "      <td>21618</td>\n",
       "      <td>5cadaf759fc5af34a461a5f9</td>\n",
       "      <td>Wham!</td>\n",
       "      <td>[B:maj, B:maj, B:maj, B:maj, B:maj, B:maj, B:m...</td>\n",
       "      <td>0</td>\n",
       "      <td>3</td>\n",
       "      <td>https://tabs.ultimate-guitar.com/tab/wham/club...</td>\n",
       "      <td>Club Tropicana</td>\n",
       "      <td>...</td>\n",
       "      <td>Club Tropicana Wham!</td>\n",
       "      <td>[{'st': 0, 'et': 11.819, 'ochord': 'G'}, {'st'...</td>\n",
       "      <td>[G:maj, G:maj, G:maj, N, N, Gb:maj, Bb:maj, B:...</td>\n",
       "      <td>[B:maj, B:maj, B:maj, B:maj, B:maj, B:maj, B:m...</td>\n",
       "      <td>[N, N, N, N, N, G:maj, B:maj, C:maj, A:maj, C:...</td>\n",
       "      <td>4.5</td>\n",
       "      <td>3</td>\n",
       "      <td>54.8</td>\n",
       "      <td>[B:maj, N, N, N, B:maj, B:maj, B:maj, B:maj, B...</td>\n",
       "      <td>[G:maj, G:maj, G:maj, N, N, Gb:maj, Bb:maj, B:...</td>\n",
       "    </tr>\n",
       "    <tr>\n",
       "      <th>17126</th>\n",
       "      <td>19969</td>\n",
       "      <td>19969</td>\n",
       "      <td>21711</td>\n",
       "      <td>5cadaf8f9fc5af34a461a722</td>\n",
       "      <td>Woodkid</td>\n",
       "      <td>[Bb:min, Bb:maj, F:min, F:min, Bb:min, Bb:maj,...</td>\n",
       "      <td>0</td>\n",
       "      <td>3</td>\n",
       "      <td>https://tabs.ultimate-guitar.com/tab/woodkid/g...</td>\n",
       "      <td>Ghost Lights</td>\n",
       "      <td>...</td>\n",
       "      <td>Ghost Lights Woodkid</td>\n",
       "      <td>[{'st': 0, 'et': 3.994, 'ochord': 'A#:min'}, {...</td>\n",
       "      <td>[Bb:maj, F:min, Bb:maj, Bb:maj, F:min, Gb:maj,...</td>\n",
       "      <td>[Bb:min, Bb:maj, F:min, F:min, Bb:min, Bb:maj,...</td>\n",
       "      <td>[D:maj, A:min, D:maj, D:maj, A:min, N, A:maj, ...</td>\n",
       "      <td>4.5</td>\n",
       "      <td>3</td>\n",
       "      <td>48.9</td>\n",
       "      <td>[Bb:min, Bb:maj, F:min, F:min, Bb:min, Bb:maj,...</td>\n",
       "      <td>[Bb:maj, N, F:min, N, Bb:maj, N, N, N, N, Bb:m...</td>\n",
       "    </tr>\n",
       "    <tr>\n",
       "      <th>17127</th>\n",
       "      <td>19970</td>\n",
       "      <td>19970</td>\n",
       "      <td>21712</td>\n",
       "      <td>5cadaf8f9fc5af34a461a724</td>\n",
       "      <td>Woodkid</td>\n",
       "      <td>[Bb:min, Eb:maj, Ab:maj, F:min, Bb:min, Eb:maj...</td>\n",
       "      <td>0</td>\n",
       "      <td>16</td>\n",
       "      <td>https://tabs.ultimate-guitar.com/tab/woodkid/g...</td>\n",
       "      <td>Ghost Lights</td>\n",
       "      <td>...</td>\n",
       "      <td>Ghost Lights Woodkid</td>\n",
       "      <td>[{'st': 0, 'et': 3.994, 'ochord': 'A#:min'}, {...</td>\n",
       "      <td>[Bb:maj, F:min, Bb:maj, Bb:maj, F:min, Gb:maj,...</td>\n",
       "      <td>[A:min, D:maj, G:maj, E:min, A:min, D:maj, G:m...</td>\n",
       "      <td>[D:maj, A:min, D:maj, D:maj, A:min, N, A:maj, ...</td>\n",
       "      <td>5.0</td>\n",
       "      <td>17</td>\n",
       "      <td>53.0</td>\n",
       "      <td>[Bb:min, Eb:maj, Ab:maj, F:min, Bb:min, Eb:maj...</td>\n",
       "      <td>[Bb:maj, N, F:min, N, N, N, N, N, N, N, N, N, ...</td>\n",
       "    </tr>\n",
       "    <tr>\n",
       "      <th>17153</th>\n",
       "      <td>20000</td>\n",
       "      <td>20000</td>\n",
       "      <td>21743</td>\n",
       "      <td>5cadaf969fc5af34a461a76f</td>\n",
       "      <td>Years &amp; Years</td>\n",
       "      <td>[F:maj, D:maj, N, F:maj, D:maj, F:maj, F:maj, ...</td>\n",
       "      <td>0</td>\n",
       "      <td>17</td>\n",
       "      <td>https://tabs.ultimate-guitar.com/tab/years_yea...</td>\n",
       "      <td>Eyes Shut</td>\n",
       "      <td>...</td>\n",
       "      <td>Eyes Shut Years &amp; Years</td>\n",
       "      <td>[{'st': 0, 'et': 6.943, 'ochord': 'N'}, {'st':...</td>\n",
       "      <td>[N, A:min, C:maj, F:maj, A:min, F:maj, C:maj, ...</td>\n",
       "      <td>[C:maj, A:min, F:maj, C:maj, A:min, C:maj, C:m...</td>\n",
       "      <td>[N, A:min, C:maj, F:maj, A:min, F:maj, C:maj, ...</td>\n",
       "      <td>4.0</td>\n",
       "      <td>17</td>\n",
       "      <td>54.8</td>\n",
       "      <td>[F:maj, D:maj, N, F:maj, D:maj, F:maj, F:maj, ...</td>\n",
       "      <td>[N, A:min, C:maj, F:maj, A:min, F:maj, C:maj, ...</td>\n",
       "    </tr>\n",
       "    <tr>\n",
       "      <th>17154</th>\n",
       "      <td>20001</td>\n",
       "      <td>20001</td>\n",
       "      <td>21744</td>\n",
       "      <td>5cadaf969fc5af34a461a771</td>\n",
       "      <td>Years &amp; Years</td>\n",
       "      <td>[A:min, F:maj, C:maj, F:maj, A:min, F:maj, C:m...</td>\n",
       "      <td>0</td>\n",
       "      <td>200</td>\n",
       "      <td>https://tabs.ultimate-guitar.com/tab/years_yea...</td>\n",
       "      <td>Eyes Shut</td>\n",
       "      <td>...</td>\n",
       "      <td>Eyes Shut Years &amp; Years</td>\n",
       "      <td>[{'st': 0, 'et': 6.943, 'ochord': 'N'}, {'st':...</td>\n",
       "      <td>[N, A:min, C:maj, F:maj, A:min, F:maj, C:maj, ...</td>\n",
       "      <td>[A:min, F:maj, C:maj, F:maj, A:min, F:maj, C:m...</td>\n",
       "      <td>[N, A:min, C:maj, F:maj, A:min, F:maj, C:maj, ...</td>\n",
       "      <td>5.0</td>\n",
       "      <td>203</td>\n",
       "      <td>29.9</td>\n",
       "      <td>[A:min, F:maj, C:maj, F:maj, A:min, F:maj, C:m...</td>\n",
       "      <td>[N, A:min, C:maj, F:maj, A:min, F:maj, C:maj, ...</td>\n",
       "    </tr>\n",
       "    <tr>\n",
       "      <th>17155</th>\n",
       "      <td>20002</td>\n",
       "      <td>20002</td>\n",
       "      <td>21745</td>\n",
       "      <td>5cadaf969fc5af34a461a773</td>\n",
       "      <td>Years &amp; Years</td>\n",
       "      <td>[C:maj, A:min, G:maj, C:maj, A:min, G:maj, D:m...</td>\n",
       "      <td>0</td>\n",
       "      <td>4</td>\n",
       "      <td>https://tabs.ultimate-guitar.com/tab/years_yea...</td>\n",
       "      <td>Eyes Shut</td>\n",
       "      <td>...</td>\n",
       "      <td>Eyes Shut Years &amp; Years</td>\n",
       "      <td>[{'st': 0, 'et': 6.943, 'ochord': 'N'}, {'st':...</td>\n",
       "      <td>[N, A:min, C:maj, F:maj, A:min, F:maj, C:maj, ...</td>\n",
       "      <td>[C:maj, A:min, G:maj, C:maj, A:min, G:maj, D:m...</td>\n",
       "      <td>[N, A:min, C:maj, F:maj, A:min, F:maj, C:maj, ...</td>\n",
       "      <td>4.0</td>\n",
       "      <td>4</td>\n",
       "      <td>38.6</td>\n",
       "      <td>[C:maj, N, N, A:min, N, N, N, N, N, N, N, N, N...</td>\n",
       "      <td>[N, A:min, C:maj, F:maj, A:min, F:maj, C:maj, ...</td>\n",
       "    </tr>\n",
       "    <tr>\n",
       "      <th>17156</th>\n",
       "      <td>20003</td>\n",
       "      <td>20003</td>\n",
       "      <td>21746</td>\n",
       "      <td>5cadaf969fc5af34a461a777</td>\n",
       "      <td>Years &amp; Years</td>\n",
       "      <td>[Bb:min, Ab:maj, F:min, Gb:maj, Bb:min, Ab:maj...</td>\n",
       "      <td>0</td>\n",
       "      <td>5</td>\n",
       "      <td>https://tabs.ultimate-guitar.com/tab/years_yea...</td>\n",
       "      <td>Gold</td>\n",
       "      <td>...</td>\n",
       "      <td>Gold Years &amp; Years</td>\n",
       "      <td>[{'st': 0, 'et': 2.531, 'ochord': 'A#:min'}, {...</td>\n",
       "      <td>[Bb:maj, Bb:maj, Gb:maj, Bb:maj, F:min, Gb:maj...</td>\n",
       "      <td>[Bb:min, Ab:maj, F:min, Gb:maj, Bb:min, Ab:maj...</td>\n",
       "      <td>[A:maj, A:maj, F:maj, A:maj, E:min, F:maj, A:m...</td>\n",
       "      <td>4.5</td>\n",
       "      <td>5</td>\n",
       "      <td>58.8</td>\n",
       "      <td>[Bb:min, Ab:maj, F:min, Gb:maj, Bb:min, Ab:maj...</td>\n",
       "      <td>[Bb:maj, N, Bb:maj, Gb:maj, Bb:maj, F:min, N, ...</td>\n",
       "    </tr>\n",
       "    <tr>\n",
       "      <th>17157</th>\n",
       "      <td>20004</td>\n",
       "      <td>20004</td>\n",
       "      <td>21747</td>\n",
       "      <td>5cadaf969fc5af34a461a779</td>\n",
       "      <td>Years &amp; Years</td>\n",
       "      <td>[Bb:min, Ab:maj, F:min, Gb:maj, Bb:min, Ab:maj...</td>\n",
       "      <td>0</td>\n",
       "      <td>13</td>\n",
       "      <td>https://tabs.ultimate-guitar.com/tab/years_yea...</td>\n",
       "      <td>Gold</td>\n",
       "      <td>...</td>\n",
       "      <td>Gold Years &amp; Years</td>\n",
       "      <td>[{'st': 0, 'et': 2.531, 'ochord': 'A#:min'}, {...</td>\n",
       "      <td>[Bb:maj, Bb:maj, Gb:maj, Bb:maj, F:min, Gb:maj...</td>\n",
       "      <td>[A:min, G:maj, E:min, F:maj, A:min, G:maj, E:m...</td>\n",
       "      <td>[A:maj, A:maj, F:maj, A:maj, E:min, F:maj, A:m...</td>\n",
       "      <td>4.5</td>\n",
       "      <td>13</td>\n",
       "      <td>48.9</td>\n",
       "      <td>[Bb:min, Ab:maj, F:min, Gb:maj, Bb:min, Ab:maj...</td>\n",
       "      <td>[Bb:maj, N, Bb:maj, Gb:maj, Bb:maj, F:min, N, ...</td>\n",
       "    </tr>\n",
       "    <tr>\n",
       "      <th>17180</th>\n",
       "      <td>20033</td>\n",
       "      <td>20033</td>\n",
       "      <td>21778</td>\n",
       "      <td>5cadaf9e9fc5af34a461a7d5</td>\n",
       "      <td>YUI</td>\n",
       "      <td>[F:maj, Bb:maj, F:maj, F:maj, C:maj, C:maj, G:...</td>\n",
       "      <td>0</td>\n",
       "      <td>6</td>\n",
       "      <td>https://tabs.ultimate-guitar.com/tab/yui/cherr...</td>\n",
       "      <td>Cherry</td>\n",
       "      <td>...</td>\n",
       "      <td>Cherry YUI</td>\n",
       "      <td>[{'st': 0, 'et': 6.873, 'ochord': 'F'}, {'st':...</td>\n",
       "      <td>[F:maj, Bb:maj, F:maj, Bb:maj, F:maj, C:maj, F...</td>\n",
       "      <td>[F:maj, Bb:maj, F:maj, F:maj, C:maj, C:maj, G:...</td>\n",
       "      <td>[C:maj, F:maj, C:maj, F:maj, C:maj, G:maj, C:m...</td>\n",
       "      <td>4.5</td>\n",
       "      <td>6</td>\n",
       "      <td>39.8</td>\n",
       "      <td>[F:maj, Bb:maj, F:maj, N, F:maj, C:maj, N, C:m...</td>\n",
       "      <td>[F:maj, Bb:maj, F:maj, Bb:maj, F:maj, C:maj, F...</td>\n",
       "    </tr>\n",
       "    <tr>\n",
       "      <th>17181</th>\n",
       "      <td>20034</td>\n",
       "      <td>20034</td>\n",
       "      <td>21779</td>\n",
       "      <td>5cadaf9e9fc5af34a461a7d7</td>\n",
       "      <td>YUI</td>\n",
       "      <td>[F:maj, Bb:maj, F:maj, C:maj, F:maj, C:maj, G:...</td>\n",
       "      <td>0</td>\n",
       "      <td>8</td>\n",
       "      <td>https://tabs.ultimate-guitar.com/tab/yui/cherr...</td>\n",
       "      <td>Cherry</td>\n",
       "      <td>...</td>\n",
       "      <td>Cherry YUI</td>\n",
       "      <td>[{'st': 0, 'et': 6.873, 'ochord': 'F'}, {'st':...</td>\n",
       "      <td>[F:maj, Bb:maj, F:maj, Bb:maj, F:maj, C:maj, F...</td>\n",
       "      <td>[F:maj, Bb:maj, F:maj, C:maj, F:maj, C:maj, G:...</td>\n",
       "      <td>[C:maj, F:maj, C:maj, F:maj, C:maj, G:maj, C:m...</td>\n",
       "      <td>5.0</td>\n",
       "      <td>8</td>\n",
       "      <td>15.2</td>\n",
       "      <td>[F:maj, N, N, Bb:maj, F:maj, C:maj, F:maj, C:m...</td>\n",
       "      <td>[F:maj, Bb:maj, F:maj, Bb:maj, F:maj, C:maj, F...</td>\n",
       "    </tr>\n",
       "    <tr>\n",
       "      <th>17182</th>\n",
       "      <td>20036</td>\n",
       "      <td>20036</td>\n",
       "      <td>21781</td>\n",
       "      <td>5cadafa09fc5af34a461a7e7</td>\n",
       "      <td>YUI</td>\n",
       "      <td>[Bb:maj, D:maj, D:maj, Bb:maj, D:maj, Bb:maj, ...</td>\n",
       "      <td>0</td>\n",
       "      <td>15</td>\n",
       "      <td>https://tabs.ultimate-guitar.com/tab/yui/feel_...</td>\n",
       "      <td>Feel My Soul</td>\n",
       "      <td>...</td>\n",
       "      <td>Feel My Soul YUI</td>\n",
       "      <td>[{'st': 0, 'et': 3.831, 'ochord': 'N'}, {'st':...</td>\n",
       "      <td>[N, F:maj, Bb:maj, F:maj, D:maj, Bb:maj, G:maj...</td>\n",
       "      <td>[Bb:maj, D:maj, D:maj, Bb:maj, D:maj, Bb:maj, ...</td>\n",
       "      <td>[N, C:maj, F:maj, C:maj, A:maj, F:maj, D:maj, ...</td>\n",
       "      <td>5.0</td>\n",
       "      <td>15</td>\n",
       "      <td>26.0</td>\n",
       "      <td>[Bb:maj, D:maj, D:maj, Bb:maj, D:maj, Bb:maj, ...</td>\n",
       "      <td>[N, F:maj, N, Bb:maj, N, N, N, N, F:maj, D:maj...</td>\n",
       "    </tr>\n",
       "    <tr>\n",
       "      <th>17183</th>\n",
       "      <td>20037</td>\n",
       "      <td>20037</td>\n",
       "      <td>21782</td>\n",
       "      <td>5cadafa09fc5af34a461a7e9</td>\n",
       "      <td>YUI</td>\n",
       "      <td>[G:maj, Bb:maj, Bb:maj, C:maj, F:maj, F:maj, G...</td>\n",
       "      <td>0</td>\n",
       "      <td>7</td>\n",
       "      <td>https://tabs.ultimate-guitar.com/tab/yui/feel_...</td>\n",
       "      <td>Feel My Soul</td>\n",
       "      <td>...</td>\n",
       "      <td>Feel My Soul YUI</td>\n",
       "      <td>[{'st': 0, 'et': 3.831, 'ochord': 'N'}, {'st':...</td>\n",
       "      <td>[N, F:maj, Bb:maj, F:maj, D:maj, Bb:maj, G:maj...</td>\n",
       "      <td>[D:maj, F:maj, F:maj, G:maj, C:maj, C:maj, D:m...</td>\n",
       "      <td>[N, C:maj, F:maj, C:maj, A:maj, F:maj, D:maj, ...</td>\n",
       "      <td>4.5</td>\n",
       "      <td>7</td>\n",
       "      <td>51.4</td>\n",
       "      <td>[G:maj, Bb:maj, Bb:maj, C:maj, F:maj, F:maj, G...</td>\n",
       "      <td>[N, F:maj, Bb:maj, F:maj, N, N, D:maj, N, N, N...</td>\n",
       "    </tr>\n",
       "    <tr>\n",
       "      <th>17187</th>\n",
       "      <td>20041</td>\n",
       "      <td>20041</td>\n",
       "      <td>21786</td>\n",
       "      <td>5cadafa19fc5af34a461a7f5</td>\n",
       "      <td>YUI</td>\n",
       "      <td>[A:maj, B:maj, Db:min, D:maj, D:maj, D:maj, E:...</td>\n",
       "      <td>0</td>\n",
       "      <td>7</td>\n",
       "      <td>https://tabs.ultimate-guitar.com/tab/yui/goodb...</td>\n",
       "      <td>Goodbye Days</td>\n",
       "      <td>...</td>\n",
       "      <td>Goodbye Days YUI</td>\n",
       "      <td>[{'st': 0, 'et': 1.834, 'ochord': 'N'}, {'st':...</td>\n",
       "      <td>[N, A:maj, A:maj, D:maj, A:maj, D:maj, A:maj, ...</td>\n",
       "      <td>[A:maj, B:maj, Db:min, D:maj, D:maj, D:maj, E:...</td>\n",
       "      <td>[N, C:maj, C:maj, F:maj, C:maj, F:maj, C:maj, ...</td>\n",
       "      <td>4.5</td>\n",
       "      <td>7</td>\n",
       "      <td>53.6</td>\n",
       "      <td>[A:maj, N, N, N, N, N, N, N, N, N, N, N, N, N,...</td>\n",
       "      <td>[N, A:maj, A:maj, D:maj, A:maj, D:maj, A:maj, ...</td>\n",
       "    </tr>\n",
       "    <tr>\n",
       "      <th>17188</th>\n",
       "      <td>20043</td>\n",
       "      <td>20043</td>\n",
       "      <td>21788</td>\n",
       "      <td>5cadafa19fc5af34a461a7f9</td>\n",
       "      <td>YUI</td>\n",
       "      <td>[A:maj, E:maj, Gb:min, D:maj, A:maj, E:maj, Gb...</td>\n",
       "      <td>0</td>\n",
       "      <td>7</td>\n",
       "      <td>https://tabs.ultimate-guitar.com/tab/yui/goodb...</td>\n",
       "      <td>Goodbye Days</td>\n",
       "      <td>...</td>\n",
       "      <td>Goodbye Days YUI</td>\n",
       "      <td>[{'st': 0, 'et': 1.834, 'ochord': 'N'}, {'st':...</td>\n",
       "      <td>[N, A:maj, A:maj, D:maj, A:maj, D:maj, A:maj, ...</td>\n",
       "      <td>[C:maj, G:maj, A:min, F:maj, C:maj, G:maj, A:m...</td>\n",
       "      <td>[N, C:maj, C:maj, F:maj, C:maj, F:maj, C:maj, ...</td>\n",
       "      <td>5.0</td>\n",
       "      <td>8</td>\n",
       "      <td>46.5</td>\n",
       "      <td>[A:maj, N, N, N, N, N, N, E:maj, Gb:min, N, D:...</td>\n",
       "      <td>[N, A:maj, A:maj, D:maj, A:maj, D:maj, A:maj, ...</td>\n",
       "    </tr>\n",
       "    <tr>\n",
       "      <th>17225</th>\n",
       "      <td>20083</td>\n",
       "      <td>20083</td>\n",
       "      <td>21829</td>\n",
       "      <td>5cadafb09fc5af34a461a89d</td>\n",
       "      <td>Zaz</td>\n",
       "      <td>[G:maj, C:maj, D:maj, E:min, C:maj, A:maj, D:m...</td>\n",
       "      <td>0</td>\n",
       "      <td>10</td>\n",
       "      <td>https://tabs.ultimate-guitar.com/tab/zaz/eblou...</td>\n",
       "      <td>Eblouie Par La Nuit</td>\n",
       "      <td>...</td>\n",
       "      <td>Eblouie Par La Nuit Zaz</td>\n",
       "      <td>[{'st': 0, 'et': 11.424, 'ochord': 'G'}, {'st'...</td>\n",
       "      <td>[G:maj, E:maj, A:min, D:maj, G:maj, E:min, C:m...</td>\n",
       "      <td>[A:maj, D:maj, E:maj, Gb:min, D:maj, B:maj, E:...</td>\n",
       "      <td>[C:maj, A:maj, D:min, G:maj, C:maj, A:min, F:m...</td>\n",
       "      <td>4.0</td>\n",
       "      <td>11</td>\n",
       "      <td>31.7</td>\n",
       "      <td>[G:maj, N, C:maj, D:maj, E:min, N, C:maj, N, N...</td>\n",
       "      <td>[G:maj, E:maj, A:min, D:maj, G:maj, E:min, C:m...</td>\n",
       "    </tr>\n",
       "    <tr>\n",
       "      <th>17226</th>\n",
       "      <td>20084</td>\n",
       "      <td>20084</td>\n",
       "      <td>21830</td>\n",
       "      <td>5cadafb09fc5af34a461a89f</td>\n",
       "      <td>Zaz</td>\n",
       "      <td>[G:maj, E:min, C:maj, D:maj, G:maj, E:min, C:m...</td>\n",
       "      <td>0</td>\n",
       "      <td>55</td>\n",
       "      <td>https://tabs.ultimate-guitar.com/tab/zaz/eblou...</td>\n",
       "      <td>Eblouie Par La Nuit</td>\n",
       "      <td>...</td>\n",
       "      <td>Eblouie Par La Nuit Zaz</td>\n",
       "      <td>[{'st': 0, 'et': 11.424, 'ochord': 'G'}, {'st'...</td>\n",
       "      <td>[G:maj, E:maj, A:min, D:maj, G:maj, E:min, C:m...</td>\n",
       "      <td>[A:maj, Gb:min, D:maj, E:maj, A:maj, Gb:min, D...</td>\n",
       "      <td>[C:maj, A:maj, D:min, G:maj, C:maj, A:min, F:m...</td>\n",
       "      <td>4.5</td>\n",
       "      <td>58</td>\n",
       "      <td>16.3</td>\n",
       "      <td>[G:maj, E:min, C:maj, D:maj, G:maj, E:min, C:m...</td>\n",
       "      <td>[G:maj, E:maj, A:min, D:maj, G:maj, E:min, C:m...</td>\n",
       "    </tr>\n",
       "  </tbody>\n",
       "</table>\n",
       "<p>3027 rows × 21 columns</p>\n",
       "</div>"
      ],
      "text/plain": [
       "       Unnamed: 0  Unnamed: 0.1  Unnamed: 0.1.1                       _id  \\\n",
       "7              76            76             110  5cada0129fc5af34a460af31   \n",
       "8              77            77             111  5cada0129fc5af34a460af33   \n",
       "16             93            93             127  5cada0159fc5af34a460af63   \n",
       "17             94            94             128  5cada0159fc5af34a460af65   \n",
       "19             97            97             131  5cada0159fc5af34a460af6b   \n",
       "20             98            98             132  5cada0169fc5af34a460af6d   \n",
       "22            101           101             135  5cada0169fc5af34a460af79   \n",
       "23            102           102             136  5cada0169fc5af34a460af7b   \n",
       "24            103           103             137  5cada0169fc5af34a460af7d   \n",
       "25            104           104             138  5cada0169fc5af34a460af81   \n",
       "26            105           105             139  5cada0169fc5af34a460af83   \n",
       "27            106           106             140  5cada0169fc5af34a460af85   \n",
       "28            107           107             141  5cada0169fc5af34a460af87   \n",
       "101           203           203             238  5cada0249fc5af34a460b089   \n",
       "102           204           204             239  5cada0249fc5af34a460b08d   \n",
       "104           206           206             241  5cada0249fc5af34a460b091   \n",
       "114           219           219             255  5cada0279fc5af34a460b0cb   \n",
       "115           220           220             256  5cada0279fc5af34a460b0cd   \n",
       "121           227           227             263  5cada0289fc5af34a460b0e5   \n",
       "122           228           228             264  5cada0289fc5af34a460b0e9   \n",
       "123           229           229             265  5cada0289fc5af34a460b0ed   \n",
       "124           230           230             266  5cada0299fc5af34a460b0ef   \n",
       "125           231           231             267  5cada0299fc5af34a460b0f1   \n",
       "126           232           232             268  5cada0299fc5af34a460b0f3   \n",
       "127           233           233             269  5cada0299fc5af34a460b0f5   \n",
       "128           234           234             270  5cada0299fc5af34a460b0f7   \n",
       "191           301           301             343  5cada0349fc5af34a460b1d9   \n",
       "192           302           302             344  5cada0349fc5af34a460b1db   \n",
       "193           303           303             345  5cada0349fc5af34a460b1dd   \n",
       "194           304           304             346  5cada0349fc5af34a460b1df   \n",
       "...           ...           ...             ...                       ...   \n",
       "16818       19627         19627           21318  5cadaf289fc5af34a461a273   \n",
       "16819       19628         19628           21319  5cadaf289fc5af34a461a275   \n",
       "16820       19629         19629           21320  5cadaf289fc5af34a461a277   \n",
       "16930       19756         19756           21486  5cadaf519fc5af34a461a455   \n",
       "16931       19757         19757           21487  5cadaf519fc5af34a461a457   \n",
       "16933       19759         19759           21489  5cadaf529fc5af34a461a465   \n",
       "16934       19760         19760           21490  5cadaf529fc5af34a461a467   \n",
       "16945       19772         19772           21502  5cadaf579fc5af34a461a49b   \n",
       "16946       19773         19773           21503  5cadaf589fc5af34a461a49d   \n",
       "16947       19774         19774           21504  5cadaf589fc5af34a461a49f   \n",
       "16949       19776         19776           21506  5cadaf589fc5af34a461a4a3   \n",
       "17046       19874         19874           21606  5cadaf729fc5af34a461a5cd   \n",
       "17047       19875         19875           21607  5cadaf729fc5af34a461a5cf   \n",
       "17057       19885         19885           21617  5cadaf759fc5af34a461a5f5   \n",
       "17058       19886         19886           21618  5cadaf759fc5af34a461a5f9   \n",
       "17126       19969         19969           21711  5cadaf8f9fc5af34a461a722   \n",
       "17127       19970         19970           21712  5cadaf8f9fc5af34a461a724   \n",
       "17153       20000         20000           21743  5cadaf969fc5af34a461a76f   \n",
       "17154       20001         20001           21744  5cadaf969fc5af34a461a771   \n",
       "17155       20002         20002           21745  5cadaf969fc5af34a461a773   \n",
       "17156       20003         20003           21746  5cadaf969fc5af34a461a777   \n",
       "17157       20004         20004           21747  5cadaf969fc5af34a461a779   \n",
       "17180       20033         20033           21778  5cadaf9e9fc5af34a461a7d5   \n",
       "17181       20034         20034           21779  5cadaf9e9fc5af34a461a7d7   \n",
       "17182       20036         20036           21781  5cadafa09fc5af34a461a7e7   \n",
       "17183       20037         20037           21782  5cadafa09fc5af34a461a7e9   \n",
       "17187       20041         20041           21786  5cadafa19fc5af34a461a7f5   \n",
       "17188       20043         20043           21788  5cadafa19fc5af34a461a7f9   \n",
       "17225       20083         20083           21829  5cadafb09fc5af34a461a89d   \n",
       "17226       20084         20084           21830  5cadafb09fc5af34a461a89f   \n",
       "\n",
       "              artist                                              chord  \\\n",
       "7               ABBA  [Gb:maj, E:maj, Gb:maj, E:maj, Gb:maj, B:maj, ...   \n",
       "8               ABBA  [Db:min, B:maj, Gb:maj, B:maj, Ab:min, E:maj, ...   \n",
       "16              ABBA  [G:maj, E:min, G:maj, C:maj, B:maj, A:min, G:m...   \n",
       "17              ABBA  [G:maj, G:maj, G:maj, E:min, G:maj, C:maj, G:m...   \n",
       "19              ABBA  [B:maj, E:min, B:maj, A:maj, B:maj, Gb:maj, B:...   \n",
       "20              ABBA  [E:min, E:min, B:maj, E:min, A:maj, E:min, A:m...   \n",
       "22              ABBA  [E:maj, A:maj, A:maj, B:maj, A:maj, A:maj, B:m...   \n",
       "23              ABBA  [A:maj, Gb:min, B:maj, E:maj, A:maj, A:maj, Gb...   \n",
       "24              ABBA  [A:maj, Gb:min, B:maj, E:maj, A:maj, E:maj, A:...   \n",
       "25              ABBA  [D:maj, C:maj, D:maj, D:maj, C:maj, D:maj, D:m...   \n",
       "26              ABBA  [A:maj, A:maj, A:maj, C:maj, E:min, A:maj, A:m...   \n",
       "27              ABBA  [D:maj, G:maj, C:maj, C:maj, G:maj, G:maj, C:m...   \n",
       "28              ABBA  [D:maj, Bb:maj, C:maj, D:maj, Bb:maj, D:maj, C...   \n",
       "101      Ace of Base  [Bb:min, Ab:maj, Eb:min, Bb:maj, Ab:maj, Eb:ma...   \n",
       "102      Ace of Base  [Ab:maj, Eb:min, Db:maj, Ab:maj, Eb:min, Db:ma...   \n",
       "104      Ace of Base  [Eb:min, Db:maj, Ab:maj, Eb:min, Bb:min, Ab:ma...   \n",
       "114     Adam Lambert  [G:maj, Bb:maj, F:maj, Eb:maj, F:maj, G:maj, B...   \n",
       "115     Adam Lambert  [Eb:maj, G:maj, Bb:maj, F:maj, Eb:maj, G:maj, ...   \n",
       "121     Adam Lambert  [Gb:maj, Gb:maj, Gb:maj, Gb:maj, E:maj, B:maj,...   \n",
       "122     Adam Lambert  [Gb:maj, Gb:maj, Gb:maj, Gb:maj, Gb:maj, E:maj...   \n",
       "123     Adam Lambert  [F:min, Ab:maj, F:min, F:min, Ab:maj, F:min, F...   \n",
       "124     Adam Lambert  [Bb:min, Db:maj, Bb:min, Bb:min, Db:maj, Bb:mi...   \n",
       "125     Adam Lambert  [A:min, C:maj, D:maj, E:min, G:maj, C:maj, D:m...   \n",
       "126     Adam Lambert  [C:maj, E:min, G:maj, A:min, C:maj, E:min, G:m...   \n",
       "127     Adam Lambert  [C:maj, D:maj, E:min, D:maj, G:maj, A:min, C:m...   \n",
       "128     Adam Lambert  [C:maj, D:maj, E:min, D:maj, G:maj, A:min, C:m...   \n",
       "191            Adele  [B:maj, Eb:min, E:maj, Gb:maj, B:maj, Eb:min, ...   \n",
       "192            Adele  [B:maj, Eb:min, E:maj, Gb:maj, B:maj, Eb:min, ...   \n",
       "193            Adele  [B:maj, Eb:min, E:maj, Gb:maj, B:maj, Eb:min, ...   \n",
       "194            Adele  [B:maj, Eb:min, E:maj, Gb:maj, B:maj, Eb:min, ...   \n",
       "...              ...                                                ...   \n",
       "16818     Tori Kelly  [D:maj, C:maj, N, N, F:maj, G:maj, G:maj, F:ma...   \n",
       "16819     Tori Kelly  [B:maj, E:maj, B:maj, E:maj, B:maj, E:maj, B:m...   \n",
       "16820     Tori Kelly  [B:maj, E:maj, B:maj, E:maj, B:maj, E:maj, B:m...   \n",
       "16930       Westlife  [Ab:min, Gb:maj, Ab:min, Ab:min, Gb:maj, E:maj...   \n",
       "16931       Westlife  [Ab:min, Gb:maj, Ab:min, Ab:min, Gb:maj, E:maj...   \n",
       "16933       Westlife  [C:maj, G:maj, A:min, G:maj, F:maj, C:maj, F:m...   \n",
       "16934       Westlife  [C:maj, G:maj, A:min, E:min, F:maj, C:maj, G:m...   \n",
       "16945       Westlife  [Ab:maj, F:min, Db:maj, Eb:maj, Ab:maj, F:min,...   \n",
       "16946       Westlife  [Ab:maj, Ab:maj, Ab:maj, F:min, F:maj, F:min, ...   \n",
       "16947       Westlife  [B:maj, Gb:maj, E:maj, Gb:maj, B:maj, B:maj, G...   \n",
       "16949       Westlife  [B:maj, Db:min, E:maj, Gb:maj, Ab:min, B:maj, ...   \n",
       "17046    Wet Wet Wet  [Db:maj, B:maj, E:maj, Eb:maj, A:maj, A:maj, N...   \n",
       "17047    Wet Wet Wet  [A:maj, Db:maj, A:maj, E:maj, N, E:maj, A:maj,...   \n",
       "17057          Wham!  [Eb:maj, Ab:maj, Db:maj, Bb:maj, Bb:maj, Eb:ma...   \n",
       "17058          Wham!  [B:maj, B:maj, B:maj, B:maj, B:maj, B:maj, B:m...   \n",
       "17126        Woodkid  [Bb:min, Bb:maj, F:min, F:min, Bb:min, Bb:maj,...   \n",
       "17127        Woodkid  [Bb:min, Eb:maj, Ab:maj, F:min, Bb:min, Eb:maj...   \n",
       "17153  Years & Years  [F:maj, D:maj, N, F:maj, D:maj, F:maj, F:maj, ...   \n",
       "17154  Years & Years  [A:min, F:maj, C:maj, F:maj, A:min, F:maj, C:m...   \n",
       "17155  Years & Years  [C:maj, A:min, G:maj, C:maj, A:min, G:maj, D:m...   \n",
       "17156  Years & Years  [Bb:min, Ab:maj, F:min, Gb:maj, Bb:min, Ab:maj...   \n",
       "17157  Years & Years  [Bb:min, Ab:maj, F:min, Gb:maj, Bb:min, Ab:maj...   \n",
       "17180            YUI  [F:maj, Bb:maj, F:maj, F:maj, C:maj, C:maj, G:...   \n",
       "17181            YUI  [F:maj, Bb:maj, F:maj, C:maj, F:maj, C:maj, G:...   \n",
       "17182            YUI  [Bb:maj, D:maj, D:maj, Bb:maj, D:maj, Bb:maj, ...   \n",
       "17183            YUI  [G:maj, Bb:maj, Bb:maj, C:maj, F:maj, F:maj, G...   \n",
       "17187            YUI  [A:maj, B:maj, Db:min, D:maj, D:maj, D:maj, E:...   \n",
       "17188            YUI  [A:maj, E:maj, Gb:min, D:maj, A:maj, E:maj, Gb...   \n",
       "17225            Zaz  [G:maj, C:maj, D:maj, E:min, C:maj, A:maj, D:m...   \n",
       "17226            Zaz  [G:maj, E:min, C:maj, D:maj, G:maj, E:min, C:m...   \n",
       "\n",
       "       error  rating                                           tab_href  \\\n",
       "7          0      29  https://tabs.ultimate-guitar.com/tab/abba/ange...   \n",
       "8          0      11  https://tabs.ultimate-guitar.com/tab/abba/ange...   \n",
       "16         0      89  https://tabs.ultimate-guitar.com/tab/abba/does...   \n",
       "17         0      20  https://tabs.ultimate-guitar.com/tab/abba/does...   \n",
       "19         0       8  https://tabs.ultimate-guitar.com/tab/abba/eagl...   \n",
       "20         0      19  https://tabs.ultimate-guitar.com/tab/abba/eagl...   \n",
       "22         0      22  https://tabs.ultimate-guitar.com/tab/abba/fern...   \n",
       "23         0     233  https://tabs.ultimate-guitar.com/tab/abba/fern...   \n",
       "24         0      36  https://tabs.ultimate-guitar.com/tab/abba/fern...   \n",
       "25         0      25  https://tabs.ultimate-guitar.com/tab/abba/gimm...   \n",
       "26         0      10  https://tabs.ultimate-guitar.com/tab/abba/gimm...   \n",
       "27         0      26  https://tabs.ultimate-guitar.com/tab/abba/gimm...   \n",
       "28         0      62  https://tabs.ultimate-guitar.com/tab/abba/gimm...   \n",
       "101        0      48  https://tabs.ultimate-guitar.com/tab/ace_of_ba...   \n",
       "102        0       9  https://tabs.ultimate-guitar.com/tab/ace_of_ba...   \n",
       "104        0      25  https://tabs.ultimate-guitar.com/tab/ace_of_ba...   \n",
       "114        0       3  https://tabs.ultimate-guitar.com/tab/adam_lamb...   \n",
       "115        0      54  https://tabs.ultimate-guitar.com/tab/adam_lamb...   \n",
       "121        0       3  https://tabs.ultimate-guitar.com/tab/adam_lamb...   \n",
       "122        0       5  https://tabs.ultimate-guitar.com/tab/adam_lamb...   \n",
       "123        0      13  https://tabs.ultimate-guitar.com/tab/adam_lamb...   \n",
       "124        0       8  https://tabs.ultimate-guitar.com/tab/adam_lamb...   \n",
       "125        0     256  https://tabs.ultimate-guitar.com/tab/adam_lamb...   \n",
       "126        0      10  https://tabs.ultimate-guitar.com/tab/adam_lamb...   \n",
       "127        0       3  https://tabs.ultimate-guitar.com/tab/adam_lamb...   \n",
       "128        0      16  https://tabs.ultimate-guitar.com/tab/adam_lamb...   \n",
       "191        0     797  https://tabs.ultimate-guitar.com/tab/adele/all...   \n",
       "192        0     302  https://tabs.ultimate-guitar.com/tab/adele/all...   \n",
       "193        0      21  https://tabs.ultimate-guitar.com/tab/adele/all...   \n",
       "194        0      33  https://tabs.ultimate-guitar.com/tab/adele/all...   \n",
       "...      ...     ...                                                ...   \n",
       "16818      0      10  https://tabs.ultimate-guitar.com/tab/tori_kell...   \n",
       "16819      0      13  https://tabs.ultimate-guitar.com/tab/tori_kell...   \n",
       "16820      0       3  https://tabs.ultimate-guitar.com/tab/tori_kell...   \n",
       "16930      0       8  https://tabs.ultimate-guitar.com/tab/westlife/...   \n",
       "16931      0       3  https://tabs.ultimate-guitar.com/tab/westlife/...   \n",
       "16933      0     119  https://tabs.ultimate-guitar.com/tab/westlife/...   \n",
       "16934      0      15  https://tabs.ultimate-guitar.com/tab/westlife/...   \n",
       "16945      0     132  https://tabs.ultimate-guitar.com/tab/westlife/...   \n",
       "16946      0       6  https://tabs.ultimate-guitar.com/tab/westlife/...   \n",
       "16947      0      20  https://tabs.ultimate-guitar.com/tab/westlife/...   \n",
       "16949      0      43  https://tabs.ultimate-guitar.com/tab/westlife/...   \n",
       "17046      0      18  https://tabs.ultimate-guitar.com/tab/wet_wet_w...   \n",
       "17047      0       9  https://tabs.ultimate-guitar.com/tab/wet_wet_w...   \n",
       "17057      0       4  https://tabs.ultimate-guitar.com/tab/wham/club...   \n",
       "17058      0       3  https://tabs.ultimate-guitar.com/tab/wham/club...   \n",
       "17126      0       3  https://tabs.ultimate-guitar.com/tab/woodkid/g...   \n",
       "17127      0      16  https://tabs.ultimate-guitar.com/tab/woodkid/g...   \n",
       "17153      0      17  https://tabs.ultimate-guitar.com/tab/years_yea...   \n",
       "17154      0     200  https://tabs.ultimate-guitar.com/tab/years_yea...   \n",
       "17155      0       4  https://tabs.ultimate-guitar.com/tab/years_yea...   \n",
       "17156      0       5  https://tabs.ultimate-guitar.com/tab/years_yea...   \n",
       "17157      0      13  https://tabs.ultimate-guitar.com/tab/years_yea...   \n",
       "17180      0       6  https://tabs.ultimate-guitar.com/tab/yui/cherr...   \n",
       "17181      0       8  https://tabs.ultimate-guitar.com/tab/yui/cherr...   \n",
       "17182      0      15  https://tabs.ultimate-guitar.com/tab/yui/feel_...   \n",
       "17183      0       7  https://tabs.ultimate-guitar.com/tab/yui/feel_...   \n",
       "17187      0       7  https://tabs.ultimate-guitar.com/tab/yui/goodb...   \n",
       "17188      0       7  https://tabs.ultimate-guitar.com/tab/yui/goodb...   \n",
       "17225      0      10  https://tabs.ultimate-guitar.com/tab/zaz/eblou...   \n",
       "17226      0      55  https://tabs.ultimate-guitar.com/tab/zaz/eblou...   \n",
       "\n",
       "                       tab_title  \\\n",
       "7                      Angeleyes   \n",
       "8                      Angeleyes   \n",
       "16         Does Your Mother Know   \n",
       "17         Does Your Mother Know   \n",
       "19                         Eagle   \n",
       "20                         Eagle   \n",
       "22                      Fernando   \n",
       "23                      Fernando   \n",
       "24                      Fernando   \n",
       "25             Gimme Gimme Gimme   \n",
       "26             Gimme Gimme Gimme   \n",
       "27             Gimme Gimme Gimme   \n",
       "28             Gimme Gimme Gimme   \n",
       "101           All That She Wants   \n",
       "102           All That She Wants   \n",
       "104           All That She Wants   \n",
       "114    Better Than I Know Myself   \n",
       "115    Better Than I Know Myself   \n",
       "121                        Fever   \n",
       "122                        Fever   \n",
       "123       For Your Entertainment   \n",
       "124       For Your Entertainment   \n",
       "125                   Ghost Town   \n",
       "126                   Ghost Town   \n",
       "127                   Ghost Town   \n",
       "128                   Ghost Town   \n",
       "191                    All I Ask   \n",
       "192                    All I Ask   \n",
       "193                    All I Ask   \n",
       "194                    All I Ask   \n",
       "...                          ...   \n",
       "16818               Falling Slow   \n",
       "16819               Fill A Heart   \n",
       "16820               Fill A Heart   \n",
       "16930                    Amazing   \n",
       "16931                    Amazing   \n",
       "16933         Beautiful In White   \n",
       "16934         Beautiful In White   \n",
       "16945       Flying Without Wings   \n",
       "16946       Flying Without Wings   \n",
       "16947                 Fool Again   \n",
       "16949                 Fool Again   \n",
       "17046             Goodnight Girl   \n",
       "17047             Goodnight Girl   \n",
       "17057             Club Tropicana   \n",
       "17058             Club Tropicana   \n",
       "17126               Ghost Lights   \n",
       "17127               Ghost Lights   \n",
       "17153                  Eyes Shut   \n",
       "17154                  Eyes Shut   \n",
       "17155                  Eyes Shut   \n",
       "17156                       Gold   \n",
       "17157                       Gold   \n",
       "17180                     Cherry   \n",
       "17181                     Cherry   \n",
       "17182               Feel My Soul   \n",
       "17183               Feel My Soul   \n",
       "17187               Goodbye Days   \n",
       "17188               Goodbye Days   \n",
       "17225        Eblouie Par La Nuit   \n",
       "17226        Eblouie Par La Nuit   \n",
       "\n",
       "                             ...                          \\\n",
       "7                            ...                           \n",
       "8                            ...                           \n",
       "16                           ...                           \n",
       "17                           ...                           \n",
       "19                           ...                           \n",
       "20                           ...                           \n",
       "22                           ...                           \n",
       "23                           ...                           \n",
       "24                           ...                           \n",
       "25                           ...                           \n",
       "26                           ...                           \n",
       "27                           ...                           \n",
       "28                           ...                           \n",
       "101                          ...                           \n",
       "102                          ...                           \n",
       "104                          ...                           \n",
       "114                          ...                           \n",
       "115                          ...                           \n",
       "121                          ...                           \n",
       "122                          ...                           \n",
       "123                          ...                           \n",
       "124                          ...                           \n",
       "125                          ...                           \n",
       "126                          ...                           \n",
       "127                          ...                           \n",
       "128                          ...                           \n",
       "191                          ...                           \n",
       "192                          ...                           \n",
       "193                          ...                           \n",
       "194                          ...                           \n",
       "...                          ...                           \n",
       "16818                        ...                           \n",
       "16819                        ...                           \n",
       "16820                        ...                           \n",
       "16930                        ...                           \n",
       "16931                        ...                           \n",
       "16933                        ...                           \n",
       "16934                        ...                           \n",
       "16945                        ...                           \n",
       "16946                        ...                           \n",
       "16947                        ...                           \n",
       "16949                        ...                           \n",
       "17046                        ...                           \n",
       "17047                        ...                           \n",
       "17057                        ...                           \n",
       "17058                        ...                           \n",
       "17126                        ...                           \n",
       "17127                        ...                           \n",
       "17153                        ...                           \n",
       "17154                        ...                           \n",
       "17155                        ...                           \n",
       "17156                        ...                           \n",
       "17157                        ...                           \n",
       "17180                        ...                           \n",
       "17181                        ...                           \n",
       "17182                        ...                           \n",
       "17183                        ...                           \n",
       "17187                        ...                           \n",
       "17188                        ...                           \n",
       "17225                        ...                           \n",
       "17226                        ...                           \n",
       "\n",
       "                                    song_name  \\\n",
       "7                              Angeleyes ABBA   \n",
       "8                              Angeleyes ABBA   \n",
       "16                 Does Your Mother Know ABBA   \n",
       "17                 Does Your Mother Know ABBA   \n",
       "19                                 Eagle ABBA   \n",
       "20                                 Eagle ABBA   \n",
       "22                              Fernando ABBA   \n",
       "23                              Fernando ABBA   \n",
       "24                              Fernando ABBA   \n",
       "25                     Gimme Gimme Gimme ABBA   \n",
       "26                     Gimme Gimme Gimme ABBA   \n",
       "27                     Gimme Gimme Gimme ABBA   \n",
       "28                     Gimme Gimme Gimme ABBA   \n",
       "101            All That She Wants Ace of Base   \n",
       "102            All That She Wants Ace of Base   \n",
       "104            All That She Wants Ace of Base   \n",
       "114    Better Than I Know Myself Adam Lambert   \n",
       "115    Better Than I Know Myself Adam Lambert   \n",
       "121                        Fever Adam Lambert   \n",
       "122                        Fever Adam Lambert   \n",
       "123       For Your Entertainment Adam Lambert   \n",
       "124       For Your Entertainment Adam Lambert   \n",
       "125                   Ghost Town Adam Lambert   \n",
       "126                   Ghost Town Adam Lambert   \n",
       "127                   Ghost Town Adam Lambert   \n",
       "128                   Ghost Town Adam Lambert   \n",
       "191                           All I Ask Adele   \n",
       "192                           All I Ask Adele   \n",
       "193                           All I Ask Adele   \n",
       "194                           All I Ask Adele   \n",
       "...                                       ...   \n",
       "16818                 Falling Slow Tori Kelly   \n",
       "16819                 Fill A Heart Tori Kelly   \n",
       "16820                 Fill A Heart Tori Kelly   \n",
       "16930                        Amazing Westlife   \n",
       "16931                        Amazing Westlife   \n",
       "16933             Beautiful In White Westlife   \n",
       "16934             Beautiful In White Westlife   \n",
       "16945           Flying Without Wings Westlife   \n",
       "16946           Flying Without Wings Westlife   \n",
       "16947                     Fool Again Westlife   \n",
       "16949                     Fool Again Westlife   \n",
       "17046              Goodnight Girl Wet Wet Wet   \n",
       "17047              Goodnight Girl Wet Wet Wet   \n",
       "17057                    Club Tropicana Wham!   \n",
       "17058                    Club Tropicana Wham!   \n",
       "17126                    Ghost Lights Woodkid   \n",
       "17127                    Ghost Lights Woodkid   \n",
       "17153                 Eyes Shut Years & Years   \n",
       "17154                 Eyes Shut Years & Years   \n",
       "17155                 Eyes Shut Years & Years   \n",
       "17156                      Gold Years & Years   \n",
       "17157                      Gold Years & Years   \n",
       "17180                              Cherry YUI   \n",
       "17181                              Cherry YUI   \n",
       "17182                        Feel My Soul YUI   \n",
       "17183                        Feel My Soul YUI   \n",
       "17187                        Goodbye Days YUI   \n",
       "17188                        Goodbye Days YUI   \n",
       "17225                 Eblouie Par La Nuit Zaz   \n",
       "17226                 Eblouie Par La Nuit Zaz   \n",
       "\n",
       "                                     song_detector_chord  \\\n",
       "7      [{'st': 0, 'et': 7.546, 'ochord': 'N'}, {'st':...   \n",
       "8      [{'st': 0, 'et': 7.546, 'ochord': 'N'}, {'st':...   \n",
       "16     [{'st': 0, 'et': 24.776, 'ochord': 'G'}, {'st'...   \n",
       "17     [{'st': 0, 'et': 24.776, 'ochord': 'G'}, {'st'...   \n",
       "19     [{'st': 0, 'et': 0.534, 'ochord': 'G#'}, {'st'...   \n",
       "20     [{'st': 0, 'et': 0.534, 'ochord': 'G#'}, {'st'...   \n",
       "22     [{'st': 0, 'et': 1.231, 'ochord': 'N'}, {'st':...   \n",
       "23     [{'st': 0, 'et': 1.231, 'ochord': 'N'}, {'st':...   \n",
       "24     [{'st': 0, 'et': 1.231, 'ochord': 'N'}, {'st':...   \n",
       "25     [{'st': 0, 'et': 2.02, 'ochord': 'N'}, {'st': ...   \n",
       "26     [{'st': 0, 'et': 2.02, 'ochord': 'N'}, {'st': ...   \n",
       "27     [{'st': 0, 'et': 2.02, 'ochord': 'N'}, {'st': ...   \n",
       "28     [{'st': 0, 'et': 2.02, 'ochord': 'N'}, {'st': ...   \n",
       "101    [{'st': 0, 'et': 0.557, 'ochord': 'N'}, {'st':...   \n",
       "102    [{'st': 0, 'et': 0.557, 'ochord': 'N'}, {'st':...   \n",
       "104    [{'st': 0, 'et': 0.557, 'ochord': 'N'}, {'st':...   \n",
       "114    [{'st': 0, 'et': 0.743, 'ochord': 'N'}, {'st':...   \n",
       "115    [{'st': 0, 'et': 0.743, 'ochord': 'N'}, {'st':...   \n",
       "121    [{'st': 0, 'et': 0.302, 'ochord': 'C'}, {'st':...   \n",
       "122    [{'st': 0, 'et': 0.302, 'ochord': 'C'}, {'st':...   \n",
       "123    [{'st': 0, 'et': 3.738, 'ochord': 'N'}, {'st':...   \n",
       "124    [{'st': 0, 'et': 3.738, 'ochord': 'N'}, {'st':...   \n",
       "125    [{'st': 0, 'et': 0.813, 'ochord': 'C#'}, {'st'...   \n",
       "126    [{'st': 0, 'et': 0.813, 'ochord': 'C#'}, {'st'...   \n",
       "127    [{'st': 0, 'et': 0.813, 'ochord': 'C#'}, {'st'...   \n",
       "128    [{'st': 0, 'et': 0.813, 'ochord': 'C#'}, {'st'...   \n",
       "191    [{'st': 0, 'et': 0.65, 'ochord': 'A'}, {'st': ...   \n",
       "192    [{'st': 0, 'et': 0.65, 'ochord': 'A'}, {'st': ...   \n",
       "193    [{'st': 0, 'et': 0.65, 'ochord': 'A'}, {'st': ...   \n",
       "194    [{'st': 0, 'et': 0.65, 'ochord': 'A'}, {'st': ...   \n",
       "...                                                  ...   \n",
       "16818  [{'st': 0, 'et': 0.418, 'ochord': 'C'}, {'st':...   \n",
       "16819  [{'st': 0, 'et': 3.204, 'ochord': 'F#'}, {'st'...   \n",
       "16820  [{'st': 0, 'et': 3.204, 'ochord': 'F#'}, {'st'...   \n",
       "16930  [{'st': 0, 'et': 5.294, 'ochord': 'N'}, {'st':...   \n",
       "16931  [{'st': 0, 'et': 5.294, 'ochord': 'N'}, {'st':...   \n",
       "16933  [{'st': 0, 'et': 1.556, 'ochord': 'A#'}, {'st'...   \n",
       "16934  [{'st': 0, 'et': 1.556, 'ochord': 'A#'}, {'st'...   \n",
       "16945  [{'st': 0, 'et': 2.902, 'ochord': 'N'}, {'st':...   \n",
       "16946  [{'st': 0, 'et': 2.902, 'ochord': 'N'}, {'st':...   \n",
       "16947  [{'st': 0, 'et': 2.879, 'ochord': 'A#:min'}, {...   \n",
       "16949  [{'st': 0, 'et': 2.879, 'ochord': 'A#:min'}, {...   \n",
       "17046  [{'st': 0, 'et': 1.672, 'ochord': 'F:min'}, {'...   \n",
       "17047  [{'st': 0, 'et': 1.672, 'ochord': 'F:min'}, {'...   \n",
       "17057  [{'st': 0, 'et': 11.819, 'ochord': 'G'}, {'st'...   \n",
       "17058  [{'st': 0, 'et': 11.819, 'ochord': 'G'}, {'st'...   \n",
       "17126  [{'st': 0, 'et': 3.994, 'ochord': 'A#:min'}, {...   \n",
       "17127  [{'st': 0, 'et': 3.994, 'ochord': 'A#:min'}, {...   \n",
       "17153  [{'st': 0, 'et': 6.943, 'ochord': 'N'}, {'st':...   \n",
       "17154  [{'st': 0, 'et': 6.943, 'ochord': 'N'}, {'st':...   \n",
       "17155  [{'st': 0, 'et': 6.943, 'ochord': 'N'}, {'st':...   \n",
       "17156  [{'st': 0, 'et': 2.531, 'ochord': 'A#:min'}, {...   \n",
       "17157  [{'st': 0, 'et': 2.531, 'ochord': 'A#:min'}, {...   \n",
       "17180  [{'st': 0, 'et': 6.873, 'ochord': 'F'}, {'st':...   \n",
       "17181  [{'st': 0, 'et': 6.873, 'ochord': 'F'}, {'st':...   \n",
       "17182  [{'st': 0, 'et': 3.831, 'ochord': 'N'}, {'st':...   \n",
       "17183  [{'st': 0, 'et': 3.831, 'ochord': 'N'}, {'st':...   \n",
       "17187  [{'st': 0, 'et': 1.834, 'ochord': 'N'}, {'st':...   \n",
       "17188  [{'st': 0, 'et': 1.834, 'ochord': 'N'}, {'st':...   \n",
       "17225  [{'st': 0, 'et': 11.424, 'ochord': 'G'}, {'st'...   \n",
       "17226  [{'st': 0, 'et': 11.424, 'ochord': 'G'}, {'st'...   \n",
       "\n",
       "                                              song_chord  \\\n",
       "7      [N, B:maj, Db:maj, B:maj, Gb:maj, B:maj, Ab:ma...   \n",
       "8      [N, B:maj, Db:maj, B:maj, Gb:maj, B:maj, Ab:ma...   \n",
       "16     [G:maj, E:maj, G:maj, C:maj, B:maj, A:min, G:m...   \n",
       "17     [G:maj, E:maj, G:maj, C:maj, B:maj, A:min, G:m...   \n",
       "19     [Ab:maj, E:min, G:maj, A:maj, E:maj, C:maj, E:...   \n",
       "20     [Ab:maj, E:min, G:maj, A:maj, E:maj, C:maj, E:...   \n",
       "22     [N, A:maj, D:maj, C:maj, A:maj, E:maj, Gb:maj,...   \n",
       "23     [N, A:maj, D:maj, C:maj, A:maj, E:maj, Gb:maj,...   \n",
       "24     [N, A:maj, D:maj, C:maj, A:maj, E:maj, Gb:maj,...   \n",
       "25     [N, D:maj, G:maj, D:maj, G:maj, D:maj, D:maj, ...   \n",
       "26     [N, D:maj, G:maj, D:maj, G:maj, D:maj, D:maj, ...   \n",
       "27     [N, D:maj, G:maj, D:maj, G:maj, D:maj, D:maj, ...   \n",
       "28     [N, D:maj, G:maj, D:maj, G:maj, D:maj, D:maj, ...   \n",
       "101    [N, Db:maj, N, B:maj, Db:maj, Gb:maj, E:maj, C...   \n",
       "102    [N, Db:maj, N, B:maj, Db:maj, Gb:maj, E:maj, C...   \n",
       "104    [N, Db:maj, N, B:maj, Db:maj, Gb:maj, E:maj, C...   \n",
       "114    [N, Eb:maj, G:maj, Bb:maj, G:maj, F:maj, Eb:ma...   \n",
       "115    [N, Eb:maj, G:maj, Bb:maj, G:maj, F:maj, Eb:ma...   \n",
       "121    [C:maj, N, N, E:maj, N, N, E:maj, Gb:maj, E:ma...   \n",
       "122    [C:maj, N, N, E:maj, N, N, E:maj, Gb:maj, E:ma...   \n",
       "123    [N, Db:maj, N, D:maj, Eb:maj, Gb:maj, Eb:maj, ...   \n",
       "124    [N, Db:maj, N, D:maj, Eb:maj, Gb:maj, Eb:maj, ...   \n",
       "125    [Db:maj, Ab:maj, N, N, D:maj, E:min, D:maj, G:...   \n",
       "126    [Db:maj, Ab:maj, N, N, D:maj, E:min, D:maj, G:...   \n",
       "127    [Db:maj, Ab:maj, N, N, D:maj, E:min, D:maj, G:...   \n",
       "128    [Db:maj, Ab:maj, N, N, D:maj, E:min, D:maj, G:...   \n",
       "191    [A:maj, B:maj, E:maj, B:maj, B:maj, E:maj, C:m...   \n",
       "192    [A:maj, B:maj, E:maj, B:maj, B:maj, E:maj, C:m...   \n",
       "193    [A:maj, B:maj, E:maj, B:maj, B:maj, E:maj, C:m...   \n",
       "194    [A:maj, B:maj, E:maj, B:maj, B:maj, E:maj, C:m...   \n",
       "...                                                  ...   \n",
       "16818  [C:maj, D:maj, A:min, Bb:maj, F:maj, G:maj, C:...   \n",
       "16819  [Gb:maj, B:maj, Gb:maj, B:maj, Gb:maj, B:maj, ...   \n",
       "16820  [Gb:maj, B:maj, Gb:maj, B:maj, Gb:maj, B:maj, ...   \n",
       "16930  [N, Gb:maj, B:maj, D:maj, Gb:maj, C:maj, B:maj...   \n",
       "16931  [N, Gb:maj, B:maj, D:maj, Gb:maj, C:maj, B:maj...   \n",
       "16933  [Bb:maj, C:maj, G:maj, A:min, E:min, F:maj, C:...   \n",
       "16934  [Bb:maj, C:maj, G:maj, A:min, E:min, F:maj, C:...   \n",
       "16945  [N, G:maj, E:maj, C:maj, B:maj, Ab:maj, Bb:maj...   \n",
       "16946  [N, G:maj, E:maj, C:maj, B:maj, Ab:maj, Bb:maj...   \n",
       "16947  [Bb:maj, N, N, Bb:maj, D:maj, F:maj, E:maj, B:...   \n",
       "16949  [Bb:maj, N, N, Bb:maj, D:maj, F:maj, E:maj, B:...   \n",
       "17046  [F:min, Eb:maj, E:maj, Bb:maj, F:min, B:maj, B...   \n",
       "17047  [F:min, Eb:maj, E:maj, Bb:maj, F:min, B:maj, B...   \n",
       "17057  [G:maj, G:maj, G:maj, N, N, Gb:maj, Bb:maj, B:...   \n",
       "17058  [G:maj, G:maj, G:maj, N, N, Gb:maj, Bb:maj, B:...   \n",
       "17126  [Bb:maj, F:min, Bb:maj, Bb:maj, F:min, Gb:maj,...   \n",
       "17127  [Bb:maj, F:min, Bb:maj, Bb:maj, F:min, Gb:maj,...   \n",
       "17153  [N, A:min, C:maj, F:maj, A:min, F:maj, C:maj, ...   \n",
       "17154  [N, A:min, C:maj, F:maj, A:min, F:maj, C:maj, ...   \n",
       "17155  [N, A:min, C:maj, F:maj, A:min, F:maj, C:maj, ...   \n",
       "17156  [Bb:maj, Bb:maj, Gb:maj, Bb:maj, F:min, Gb:maj...   \n",
       "17157  [Bb:maj, Bb:maj, Gb:maj, Bb:maj, F:min, Gb:maj...   \n",
       "17180  [F:maj, Bb:maj, F:maj, Bb:maj, F:maj, C:maj, F...   \n",
       "17181  [F:maj, Bb:maj, F:maj, Bb:maj, F:maj, C:maj, F...   \n",
       "17182  [N, F:maj, Bb:maj, F:maj, D:maj, Bb:maj, G:maj...   \n",
       "17183  [N, F:maj, Bb:maj, F:maj, D:maj, Bb:maj, G:maj...   \n",
       "17187  [N, A:maj, A:maj, D:maj, A:maj, D:maj, A:maj, ...   \n",
       "17188  [N, A:maj, A:maj, D:maj, A:maj, D:maj, A:maj, ...   \n",
       "17225  [G:maj, E:maj, A:min, D:maj, G:maj, E:min, C:m...   \n",
       "17226  [G:maj, E:maj, A:min, D:maj, G:maj, E:min, C:m...   \n",
       "\n",
       "                                         chord_before_tf  \\\n",
       "7      [B:maj, A:maj, B:maj, A:maj, B:maj, E:maj, E:m...   \n",
       "8      [Db:min, B:maj, Gb:maj, B:maj, Ab:min, E:maj, ...   \n",
       "16     [G:maj, E:min, G:maj, C:maj, B:maj, A:min, G:m...   \n",
       "17     [G:maj, G:maj, G:maj, E:min, G:maj, C:maj, G:m...   \n",
       "19     [E:min, A:min, E:min, D:maj, E:min, B:maj, E:m...   \n",
       "20     [E:min, E:min, B:maj, E:min, A:maj, E:min, A:m...   \n",
       "22     [A:maj, D:maj, D:maj, E:maj, D:maj, D:maj, E:m...   \n",
       "23     [A:maj, Gb:min, B:maj, E:maj, A:maj, A:maj, Gb...   \n",
       "24     [A:maj, Gb:min, B:maj, E:maj, A:maj, E:maj, A:...   \n",
       "25     [D:maj, C:maj, D:maj, D:maj, C:maj, D:maj, D:m...   \n",
       "26     [D:maj, D:maj, D:maj, F:maj, A:min, D:maj, D:m...   \n",
       "27     [D:maj, G:maj, C:maj, C:maj, G:maj, G:maj, C:m...   \n",
       "28     [D:maj, Bb:maj, C:maj, D:maj, Bb:maj, D:maj, C...   \n",
       "101    [Db:min, B:maj, Gb:min, Db:maj, B:maj, Gb:maj,...   \n",
       "102    [D:maj, A:min, G:maj, D:maj, A:min, G:maj, D:m...   \n",
       "104    [A:min, G:maj, D:maj, A:min, E:min, D:maj, A:m...   \n",
       "114    [G:maj, Bb:maj, F:maj, Eb:maj, F:maj, G:maj, B...   \n",
       "115    [C:maj, E:min, G:maj, D:maj, C:maj, E:min, G:m...   \n",
       "121    [G:maj, G:maj, G:maj, G:maj, F:maj, C:maj, G:m...   \n",
       "122    [G:maj, G:maj, G:maj, G:maj, G:maj, F:maj, C:m...   \n",
       "123    [Eb:min, Gb:maj, Eb:min, Eb:min, Gb:maj, Eb:mi...   \n",
       "124    [A:min, C:maj, A:min, A:min, C:maj, A:min, A:m...   \n",
       "125    [A:min, C:maj, D:maj, E:min, G:maj, C:maj, D:m...   \n",
       "126    [C:maj, E:min, G:maj, A:min, C:maj, E:min, G:m...   \n",
       "127    [C:maj, D:maj, E:min, D:maj, G:maj, A:min, C:m...   \n",
       "128    [C:maj, D:maj, E:min, D:maj, G:maj, A:min, C:m...   \n",
       "191    [C:maj, E:min, F:maj, G:maj, C:maj, E:min, F:m...   \n",
       "192    [E:maj, Ab:min, A:maj, B:maj, E:maj, Ab:min, A...   \n",
       "193    [E:maj, Ab:min, A:maj, B:maj, E:maj, Ab:min, A...   \n",
       "194    [E:maj, Ab:min, A:maj, B:maj, E:maj, Ab:min, A...   \n",
       "...                                                  ...   \n",
       "16818  [A:min, G:maj, F:maj, F:maj, C:maj, D:maj, D:m...   \n",
       "16819  [D:maj, G:maj, D:maj, G:maj, D:maj, G:maj, D:m...   \n",
       "16820  [F:maj, Bb:maj, F:maj, Bb:maj, F:maj, Bb:maj, ...   \n",
       "16930  [A:min, G:maj, A:min, A:min, G:maj, F:maj, C:m...   \n",
       "16931  [Gb:min, E:maj, Gb:min, Gb:min, E:maj, D:maj, ...   \n",
       "16933  [C:maj, G:maj, A:min, G:maj, F:maj, C:maj, F:m...   \n",
       "16934  [C:maj, G:maj, A:min, E:min, F:maj, C:maj, G:m...   \n",
       "16945  [G:maj, E:min, C:maj, D:maj, G:maj, E:min, C:m...   \n",
       "16946  [A:maj, A:maj, A:maj, Gb:min, Gb:maj, Gb:min, ...   \n",
       "16947  [C:maj, G:maj, F:maj, G:maj, C:maj, C:maj, G:m...   \n",
       "16949  [E:maj, Gb:min, A:maj, B:maj, Db:min, E:maj, B...   \n",
       "17046  [Db:maj, B:maj, E:maj, Eb:maj, A:maj, A:maj, D...   \n",
       "17047  [G:maj, B:maj, G:maj, D:maj, F:maj, D:maj, G:m...   \n",
       "17057  [Eb:maj, Ab:maj, Db:maj, Gb:maj, Bb:maj, Eb:ma...   \n",
       "17058  [B:maj, B:maj, B:maj, B:maj, B:maj, B:maj, B:m...   \n",
       "17126  [Bb:min, Bb:maj, F:min, F:min, Bb:min, Bb:maj,...   \n",
       "17127  [A:min, D:maj, G:maj, E:min, A:min, D:maj, G:m...   \n",
       "17153  [C:maj, A:min, F:maj, C:maj, A:min, C:maj, C:m...   \n",
       "17154  [A:min, F:maj, C:maj, F:maj, A:min, F:maj, C:m...   \n",
       "17155  [C:maj, A:min, G:maj, C:maj, A:min, G:maj, D:m...   \n",
       "17156  [Bb:min, Ab:maj, F:min, Gb:maj, Bb:min, Ab:maj...   \n",
       "17157  [A:min, G:maj, E:min, F:maj, A:min, G:maj, E:m...   \n",
       "17180  [F:maj, Bb:maj, F:maj, F:maj, C:maj, C:maj, G:...   \n",
       "17181  [F:maj, Bb:maj, F:maj, C:maj, F:maj, C:maj, G:...   \n",
       "17182  [Bb:maj, D:maj, D:maj, Bb:maj, D:maj, Bb:maj, ...   \n",
       "17183  [D:maj, F:maj, F:maj, G:maj, C:maj, C:maj, D:m...   \n",
       "17187  [A:maj, B:maj, Db:min, D:maj, D:maj, D:maj, E:...   \n",
       "17188  [C:maj, G:maj, A:min, F:maj, C:maj, G:maj, A:m...   \n",
       "17225  [A:maj, D:maj, E:maj, Gb:min, D:maj, B:maj, E:...   \n",
       "17226  [A:maj, Gb:min, D:maj, E:maj, A:maj, Gb:min, D...   \n",
       "\n",
       "                                       song_chord_toCkey star  visitors_0530  \\\n",
       "7      [N, C:maj, D:maj, C:maj, G:maj, C:maj, A:maj, ...  4.5             32   \n",
       "8      [N, C:maj, D:maj, C:maj, G:maj, C:maj, A:maj, ...  5.0             12   \n",
       "16     [C:maj, A:maj, C:maj, F:maj, E:maj, D:min, C:m...  4.5             95   \n",
       "17     [C:maj, A:maj, C:maj, F:maj, E:maj, D:min, C:m...  4.5             21   \n",
       "19     [N, D:min, F:maj, G:maj, D:maj, N, D:min, G:ma...  4.0              8   \n",
       "20     [N, D:min, F:maj, G:maj, D:maj, N, D:min, G:ma...  5.0             21   \n",
       "22     [N, F:maj, N, N, F:maj, C:maj, D:maj, F:maj, G...  5.0             23   \n",
       "23     [N, F:maj, N, N, F:maj, C:maj, D:maj, F:maj, G...  5.0            246   \n",
       "24     [N, F:maj, N, N, F:maj, C:maj, D:maj, F:maj, G...  5.0             38   \n",
       "25     [N, G:maj, C:maj, G:maj, C:maj, G:maj, G:maj, ...  4.5             29   \n",
       "26     [N, G:maj, C:maj, G:maj, C:maj, G:maj, G:maj, ...  4.0             11   \n",
       "27     [N, G:maj, C:maj, G:maj, C:maj, G:maj, G:maj, ...  4.5             26   \n",
       "28     [N, G:maj, C:maj, G:maj, C:maj, G:maj, G:maj, ...  5.0             68   \n",
       "101    [N, C:maj, N, N, C:maj, F:maj, N, B:maj, B:maj...  4.5             50   \n",
       "102    [N, C:maj, N, N, C:maj, F:maj, N, B:maj, B:maj...  4.5              9   \n",
       "104    [N, C:maj, N, N, C:maj, F:maj, N, B:maj, B:maj...  4.5             26   \n",
       "114    [N, F:maj, A:maj, C:maj, A:maj, G:maj, F:maj, ...  3.5              3   \n",
       "115    [N, F:maj, A:maj, C:maj, A:maj, G:maj, F:maj, ...  5.0             55   \n",
       "121    [N, N, N, F:maj, N, N, F:maj, G:maj, F:maj, C:...  3.5              3   \n",
       "122    [N, N, N, F:maj, N, N, F:maj, G:maj, F:maj, C:...  4.5              5   \n",
       "123    [N, F:maj, N, N, G:maj, N, G:maj, C:maj, G:maj...  4.5             13   \n",
       "124    [N, F:maj, N, N, G:maj, N, G:maj, C:maj, G:maj...  4.5              8   \n",
       "125    [N, N, N, N, G:maj, A:min, G:maj, C:maj, D:min...  5.0            258   \n",
       "126    [N, N, N, N, G:maj, A:min, G:maj, C:maj, D:min...  4.5             10   \n",
       "127    [N, N, N, N, G:maj, A:min, G:maj, C:maj, D:min...  4.5              3   \n",
       "128    [N, N, N, N, G:maj, A:min, G:maj, C:maj, D:min...  5.0             16   \n",
       "191    [N, C:maj, F:maj, C:maj, C:maj, F:maj, N, G:ma...  5.0            840   \n",
       "192    [N, C:maj, F:maj, C:maj, C:maj, F:maj, N, G:ma...  5.0            311   \n",
       "193    [N, C:maj, F:maj, C:maj, C:maj, F:maj, N, G:ma...  4.5             21   \n",
       "194    [N, C:maj, F:maj, C:maj, C:maj, F:maj, N, G:ma...  5.0             38   \n",
       "...                                                  ...  ...            ...   \n",
       "16818  [C:maj, D:maj, A:min, N, F:maj, G:maj, C:maj, ...  4.5             10   \n",
       "16819  [G:maj, C:maj, G:maj, C:maj, G:maj, C:maj, G:m...  5.0             13   \n",
       "16820  [G:maj, C:maj, G:maj, C:maj, G:maj, C:maj, G:m...  4.5              3   \n",
       "16930  [N, G:maj, C:maj, N, G:maj, N, C:maj, N, F:maj...  4.5              8   \n",
       "16931  [N, G:maj, C:maj, N, G:maj, N, C:maj, N, F:maj...  4.0              3   \n",
       "16933  [N, C:maj, G:maj, A:min, E:min, F:maj, C:maj, ...  4.5            128   \n",
       "16934  [N, C:maj, G:maj, A:min, E:min, F:maj, C:maj, ...  5.0             16   \n",
       "16945  [N, B:maj, N, E:maj, N, C:maj, D:maj, A:min, C...  5.0            137   \n",
       "16946  [N, B:maj, N, E:maj, N, C:maj, D:maj, A:min, C...  4.5              6   \n",
       "16947  [B:maj, N, N, B:maj, N, N, F:maj, C:maj, D:maj...  4.0             20   \n",
       "16949  [B:maj, N, N, B:maj, N, N, F:maj, C:maj, D:maj...  5.0             44   \n",
       "17046  [N, N, C:maj, N, N, G:maj, G:maj, C:maj, F:maj...  5.0             20   \n",
       "17047  [N, N, C:maj, N, N, G:maj, G:maj, C:maj, F:maj...  5.0              9   \n",
       "17057  [N, N, N, N, N, G:maj, B:maj, C:maj, A:maj, C:...  3.5              4   \n",
       "17058  [N, N, N, N, N, G:maj, B:maj, C:maj, A:maj, C:...  4.5              3   \n",
       "17126  [D:maj, A:min, D:maj, D:maj, A:min, N, A:maj, ...  4.5              3   \n",
       "17127  [D:maj, A:min, D:maj, D:maj, A:min, N, A:maj, ...  5.0             17   \n",
       "17153  [N, A:min, C:maj, F:maj, A:min, F:maj, C:maj, ...  4.0             17   \n",
       "17154  [N, A:min, C:maj, F:maj, A:min, F:maj, C:maj, ...  5.0            203   \n",
       "17155  [N, A:min, C:maj, F:maj, A:min, F:maj, C:maj, ...  4.0              4   \n",
       "17156  [A:maj, A:maj, F:maj, A:maj, E:min, F:maj, A:m...  4.5              5   \n",
       "17157  [A:maj, A:maj, F:maj, A:maj, E:min, F:maj, A:m...  4.5             13   \n",
       "17180  [C:maj, F:maj, C:maj, F:maj, C:maj, G:maj, C:m...  4.5              6   \n",
       "17181  [C:maj, F:maj, C:maj, F:maj, C:maj, G:maj, C:m...  5.0              8   \n",
       "17182  [N, C:maj, F:maj, C:maj, A:maj, F:maj, D:maj, ...  5.0             15   \n",
       "17183  [N, C:maj, F:maj, C:maj, A:maj, F:maj, D:maj, ...  4.5              7   \n",
       "17187  [N, C:maj, C:maj, F:maj, C:maj, F:maj, C:maj, ...  4.5              7   \n",
       "17188  [N, C:maj, C:maj, F:maj, C:maj, F:maj, C:maj, ...  5.0              8   \n",
       "17225  [C:maj, A:maj, D:min, G:maj, C:maj, A:min, F:m...  4.0             11   \n",
       "17226  [C:maj, A:maj, D:min, G:maj, C:maj, A:min, F:m...  4.5             58   \n",
       "\n",
       "       tab_dtw_cost                             chord_alignment_by_dtw  \\\n",
       "7              40.8  [Gb:maj, E:maj, Gb:maj, E:maj, Gb:maj, B:maj, ...   \n",
       "8              21.6  [Db:min, B:maj, N, N, Gb:maj, B:maj, Ab:min, E...   \n",
       "16             13.1  [G:maj, E:min, G:maj, C:maj, B:maj, A:min, G:m...   \n",
       "17             18.3  [G:maj, G:maj, G:maj, E:min, G:maj, C:maj, G:m...   \n",
       "19             43.9  [B:maj, E:min, N, N, N, N, N, N, N, N, N, N, N...   \n",
       "20             32.3  [E:min, E:min, B:maj, E:min, A:maj, E:min, N, ...   \n",
       "22             33.1  [E:maj, A:maj, A:maj, B:maj, A:maj, A:maj, B:m...   \n",
       "23             21.5  [A:maj, N, N, N, N, N, Gb:min, N, B:maj, E:maj...   \n",
       "24             20.5  [A:maj, Gb:min, B:maj, E:maj, A:maj, E:maj, A:...   \n",
       "25             26.2  [D:maj, N, C:maj, D:maj, D:maj, C:maj, D:maj, ...   \n",
       "26             46.7  [A:maj, A:maj, A:maj, C:maj, E:min, A:maj, A:m...   \n",
       "27             35.7  [D:maj, N, G:maj, C:maj, C:maj, G:maj, G:maj, ...   \n",
       "28             31.1  [D:maj, Bb:maj, C:maj, D:maj, Bb:maj, D:maj, N...   \n",
       "101            95.3  [Bb:min, N, N, N, N, N, N, N, N, N, N, N, N, N...   \n",
       "102            83.2  [Ab:maj, N, N, Eb:min, Db:maj, N, N, N, N, N, ...   \n",
       "104            88.3  [Eb:min, Db:maj, N, N, N, N, N, N, N, N, N, N,...   \n",
       "114            20.8  [G:maj, N, N, Bb:maj, N, F:maj, Eb:maj, N, F:m...   \n",
       "115            19.8  [Eb:maj, N, G:maj, Bb:maj, F:maj, Eb:maj, G:ma...   \n",
       "121            21.9  [Gb:maj, N, Gb:maj, Gb:maj, Gb:maj, E:maj, B:m...   \n",
       "122            21.9  [Gb:maj, Gb:maj, Gb:maj, Gb:maj, Gb:maj, E:maj...   \n",
       "123            44.7  [F:min, Ab:maj, F:min, F:min, Ab:maj, F:min, F...   \n",
       "124            41.5  [Bb:min, Db:maj, Bb:min, Bb:min, Db:maj, Bb:mi...   \n",
       "125            45.5  [A:min, N, N, C:maj, D:maj, E:min, G:maj, C:ma...   \n",
       "126            37.0  [C:maj, N, N, N, N, E:min, G:maj, N, A:min, C:...   \n",
       "127            22.2  [C:maj, N, N, N, D:maj, E:min, D:maj, G:maj, A...   \n",
       "128            28.4  [C:maj, N, N, N, D:maj, E:min, D:maj, G:maj, A...   \n",
       "191            70.4  [B:maj, N, N, N, Eb:min, E:maj, N, Gb:maj, N, ...   \n",
       "192            76.0  [B:maj, Eb:min, E:maj, Gb:maj, B:maj, Eb:min, ...   \n",
       "193            72.8  [B:maj, N, N, N, Eb:min, E:maj, N, Gb:maj, N, ...   \n",
       "194            68.5  [B:maj, Eb:min, E:maj, Gb:maj, B:maj, Eb:min, ...   \n",
       "...             ...                                                ...   \n",
       "16818          59.7  [D:maj, N, C:maj, N, N, F:maj, G:maj, G:maj, F...   \n",
       "16819          60.0  [B:maj, N, E:maj, B:maj, E:maj, B:maj, E:maj, ...   \n",
       "16820          57.6  [B:maj, N, E:maj, B:maj, E:maj, B:maj, N, N, N...   \n",
       "16930          70.5  [Ab:min, Gb:maj, Ab:min, Ab:min, Gb:maj, E:maj...   \n",
       "16931          69.9  [Ab:min, Gb:maj, Ab:min, Ab:min, Gb:maj, E:maj...   \n",
       "16933          28.6  [C:maj, N, G:maj, A:min, N, N, N, G:maj, N, N,...   \n",
       "16934          13.1  [C:maj, N, G:maj, A:min, E:min, F:maj, C:maj, ...   \n",
       "16945          18.8  [Ab:maj, N, N, N, N, N, F:min, N, N, Db:maj, E...   \n",
       "16946          20.8  [Ab:maj, N, N, N, Ab:maj, Ab:maj, F:min, F:maj...   \n",
       "16947          53.1  [B:maj, N, N, Gb:maj, N, N, E:maj, N, N, Gb:ma...   \n",
       "16949          59.3  [B:maj, Db:min, E:maj, Gb:maj, Ab:min, B:maj, ...   \n",
       "17046          64.7  [Db:maj, N, N, N, N, B:maj, N, E:maj, Eb:maj, ...   \n",
       "17047          64.8  [A:maj, Db:maj, A:maj, E:maj, N, E:maj, N, N, ...   \n",
       "17057          51.5  [Eb:maj, N, N, N, N, N, N, N, Ab:maj, N, Db:ma...   \n",
       "17058          54.8  [B:maj, N, N, N, B:maj, B:maj, B:maj, B:maj, B...   \n",
       "17126          48.9  [Bb:min, Bb:maj, F:min, F:min, Bb:min, Bb:maj,...   \n",
       "17127          53.0  [Bb:min, Eb:maj, Ab:maj, F:min, Bb:min, Eb:maj...   \n",
       "17153          54.8  [F:maj, D:maj, N, F:maj, D:maj, F:maj, F:maj, ...   \n",
       "17154          29.9  [A:min, F:maj, C:maj, F:maj, A:min, F:maj, C:m...   \n",
       "17155          38.6  [C:maj, N, N, A:min, N, N, N, N, N, N, N, N, N...   \n",
       "17156          58.8  [Bb:min, Ab:maj, F:min, Gb:maj, Bb:min, Ab:maj...   \n",
       "17157          48.9  [Bb:min, Ab:maj, F:min, Gb:maj, Bb:min, Ab:maj...   \n",
       "17180          39.8  [F:maj, Bb:maj, F:maj, N, F:maj, C:maj, N, C:m...   \n",
       "17181          15.2  [F:maj, N, N, Bb:maj, F:maj, C:maj, F:maj, C:m...   \n",
       "17182          26.0  [Bb:maj, D:maj, D:maj, Bb:maj, D:maj, Bb:maj, ...   \n",
       "17183          51.4  [G:maj, Bb:maj, Bb:maj, C:maj, F:maj, F:maj, G...   \n",
       "17187          53.6  [A:maj, N, N, N, N, N, N, N, N, N, N, N, N, N,...   \n",
       "17188          46.5  [A:maj, N, N, N, N, N, N, E:maj, Gb:min, N, D:...   \n",
       "17225          31.7  [G:maj, N, C:maj, D:maj, E:min, N, C:maj, N, N...   \n",
       "17226          16.3  [G:maj, E:min, C:maj, D:maj, G:maj, E:min, C:m...   \n",
       "\n",
       "                              songchord_alignment_by_dtw  \n",
       "7      [N, B:maj, Db:maj, B:maj, Gb:maj, B:maj, Ab:ma...  \n",
       "8      [N, B:maj, Db:maj, B:maj, Gb:maj, B:maj, Ab:ma...  \n",
       "16     [G:maj, E:maj, G:maj, C:maj, B:maj, A:min, G:m...  \n",
       "17     [G:maj, N, N, E:maj, G:maj, C:maj, B:maj, A:mi...  \n",
       "19     [Ab:maj, E:min, G:maj, A:maj, E:maj, C:maj, E:...  \n",
       "20     [Ab:maj, E:min, N, G:maj, A:maj, E:maj, C:maj,...  \n",
       "22     [N, A:maj, N, D:maj, C:maj, A:maj, E:maj, N, N...  \n",
       "23     [N, A:maj, D:maj, C:maj, A:maj, E:maj, Gb:maj,...  \n",
       "24     [N, A:maj, D:maj, C:maj, A:maj, E:maj, Gb:maj,...  \n",
       "25     [N, D:maj, G:maj, D:maj, N, G:maj, D:maj, D:ma...  \n",
       "26     [N, D:maj, G:maj, D:maj, G:maj, D:maj, D:maj, ...  \n",
       "27     [N, D:maj, G:maj, N, D:maj, G:maj, N, N, N, N,...  \n",
       "28     [N, D:maj, G:maj, D:maj, G:maj, D:maj, D:maj, ...  \n",
       "101    [N, Db:maj, N, B:maj, Db:maj, Gb:maj, E:maj, C...  \n",
       "102    [N, Db:maj, N, B:maj, Db:maj, Gb:maj, E:maj, C...  \n",
       "104    [N, Db:maj, N, B:maj, Db:maj, Gb:maj, E:maj, C...  \n",
       "114    [N, Eb:maj, G:maj, Bb:maj, G:maj, F:maj, Eb:ma...  \n",
       "115    [N, Eb:maj, G:maj, Bb:maj, N, N, N, N, N, G:ma...  \n",
       "121    [C:maj, N, N, E:maj, N, N, E:maj, Gb:maj, N, N...  \n",
       "122    [C:maj, N, N, E:maj, N, N, E:maj, Gb:maj, N, N...  \n",
       "123    [N, Db:maj, N, N, N, N, N, N, D:maj, Eb:maj, G...  \n",
       "124    [N, Db:maj, N, N, N, N, N, N, N, N, N, N, N, N...  \n",
       "125    [Db:maj, Ab:maj, N, N, D:maj, E:min, N, N, D:m...  \n",
       "126    [Db:maj, Ab:maj, N, N, D:maj, E:min, D:maj, G:...  \n",
       "127    [Db:maj, Ab:maj, N, N, D:maj, E:min, D:maj, G:...  \n",
       "128    [Db:maj, Ab:maj, N, N, D:maj, E:min, D:maj, G:...  \n",
       "191    [A:maj, B:maj, E:maj, B:maj, B:maj, E:maj, C:m...  \n",
       "192    [A:maj, B:maj, E:maj, B:maj, N, B:maj, E:maj, ...  \n",
       "193    [A:maj, B:maj, E:maj, B:maj, B:maj, E:maj, C:m...  \n",
       "194    [A:maj, B:maj, E:maj, B:maj, N, B:maj, E:maj, ...  \n",
       "...                                                  ...  \n",
       "16818  [C:maj, D:maj, A:min, N, Bb:maj, F:maj, G:maj,...  \n",
       "16819  [Gb:maj, B:maj, Gb:maj, B:maj, Gb:maj, B:maj, ...  \n",
       "16820  [Gb:maj, B:maj, Gb:maj, B:maj, Gb:maj, B:maj, ...  \n",
       "16930  [N, Gb:maj, B:maj, D:maj, Gb:maj, C:maj, B:maj...  \n",
       "16931  [N, Gb:maj, B:maj, D:maj, Gb:maj, C:maj, B:maj...  \n",
       "16933  [Bb:maj, C:maj, G:maj, A:min, E:min, F:maj, C:...  \n",
       "16934  [Bb:maj, C:maj, G:maj, A:min, E:min, F:maj, C:...  \n",
       "16945  [N, G:maj, E:maj, C:maj, B:maj, Ab:maj, Bb:maj...  \n",
       "16946  [N, G:maj, E:maj, C:maj, B:maj, Ab:maj, Bb:maj...  \n",
       "16947  [Bb:maj, N, N, Bb:maj, D:maj, F:maj, E:maj, B:...  \n",
       "16949  [Bb:maj, N, N, Bb:maj, N, D:maj, F:maj, E:maj,...  \n",
       "17046  [F:min, Eb:maj, E:maj, Bb:maj, F:min, B:maj, B...  \n",
       "17047  [F:min, N, Eb:maj, E:maj, Bb:maj, F:min, B:maj...  \n",
       "17057  [G:maj, G:maj, G:maj, N, N, Gb:maj, Bb:maj, B:...  \n",
       "17058  [G:maj, G:maj, G:maj, N, N, Gb:maj, Bb:maj, B:...  \n",
       "17126  [Bb:maj, N, F:min, N, Bb:maj, N, N, N, N, Bb:m...  \n",
       "17127  [Bb:maj, N, F:min, N, N, N, N, N, N, N, N, N, ...  \n",
       "17153  [N, A:min, C:maj, F:maj, A:min, F:maj, C:maj, ...  \n",
       "17154  [N, A:min, C:maj, F:maj, A:min, F:maj, C:maj, ...  \n",
       "17155  [N, A:min, C:maj, F:maj, A:min, F:maj, C:maj, ...  \n",
       "17156  [Bb:maj, N, Bb:maj, Gb:maj, Bb:maj, F:min, N, ...  \n",
       "17157  [Bb:maj, N, Bb:maj, Gb:maj, Bb:maj, F:min, N, ...  \n",
       "17180  [F:maj, Bb:maj, F:maj, Bb:maj, F:maj, C:maj, F...  \n",
       "17181  [F:maj, Bb:maj, F:maj, Bb:maj, F:maj, C:maj, F...  \n",
       "17182  [N, F:maj, N, Bb:maj, N, N, N, N, F:maj, D:maj...  \n",
       "17183  [N, F:maj, Bb:maj, F:maj, N, N, D:maj, N, N, N...  \n",
       "17187  [N, A:maj, A:maj, D:maj, A:maj, D:maj, A:maj, ...  \n",
       "17188  [N, A:maj, A:maj, D:maj, A:maj, D:maj, A:maj, ...  \n",
       "17225  [G:maj, E:maj, A:min, D:maj, G:maj, E:min, C:m...  \n",
       "17226  [G:maj, E:maj, A:min, D:maj, G:maj, E:min, C:m...  \n",
       "\n",
       "[3027 rows x 21 columns]"
      ]
     },
     "execution_count": 9,
     "metadata": {},
     "output_type": "execute_result"
    }
   ],
   "source": [
    "#拿前1000首有兩張譜以上的歌出來當test songs\n",
    "test_song=has_2ver[:1000]\n",
    "df_test=df[df.song_name.isin(test_song)]\n",
    "\n",
    "df_test"
   ]
  },
  {
   "cell_type": "code",
   "execution_count": 31,
   "metadata": {
    "collapsed": true
   },
   "outputs": [],
   "source": [
    "#choose trained model and load weights:\n",
    "#evaluator = Evaluator(conf, model=ConvolutionModel, optimizer='adam')\n",
    "from keras_models import EmbeddingModel, ConvolutionModel, ConvolutionalLSTM,ConvolutionModel_2\n",
    "evaluator = Evaluator(conf, model=ConvolutionModel, optimizer='adam')\n"
   ]
  },
  {
   "cell_type": "code",
   "execution_count": 32,
   "metadata": {
    "collapsed": true
   },
   "outputs": [],
   "source": [
    "train_date='0614/02'\n",
    "#evaluator.load_epoch(best_loss['epoch'])\n",
    "\n",
    "evaluator.load_epoch(99,train_date)"
   ]
  },
  {
   "cell_type": "markdown",
   "metadata": {},
   "source": [
    "# Top1-Accuracy "
   ]
  },
  {
   "cell_type": "code",
   "execution_count": 33,
   "metadata": {},
   "outputs": [
    {
     "name": "stderr",
     "output_type": "stream",
     "text": [
      "\r",
      "[>....................]C:\\ProgramData\\Anaconda3\\lib\\site-packages\\scipy\\stats\\stats.py:3559: RuntimeWarning: invalid value encountered in double_scalars\n",
      "  size * (size - 1) * (size - 2))\n",
      "\r",
      "[>....................]\r",
      "[>....................]\r",
      "[>....................]"
     ]
    },
    {
     "name": "stdout",
     "output_type": "stream",
     "text": [
      "r: [1 2] rating_r: [2 1]\n",
      "tau: -1.0 p_value: nan\n",
      "r: [1 2] rating_r: [2 1]\n",
      "tau: -1.0 p_value: nan\n",
      "r: [1 2] rating_r: [2 1]\n",
      "tau: -1.0 p_value: nan\n",
      "r: [2 1] rating_r: [2 1]\n",
      "tau: 1.0 p_value: nan\n",
      "r: "
     ]
    },
    {
     "name": "stderr",
     "output_type": "stream",
     "text": [
      "\r",
      "[>....................]\r",
      "[>....................]\r",
      "[>....................]\r",
      "[>....................]"
     ]
    },
    {
     "name": "stdout",
     "output_type": "stream",
     "text": [
      "[2 4 5 1 3] rating_r: [5 4 3 2 1]\n",
      "tau: 0.0 p_value: 1.0\n",
      "r: [2 1 3] rating_r: [3 2 1]\n",
      "tau: -0.33333333333333337 p_value: 0.6015081344405899\n",
      "r: [1 2] rating_r: [2 1]\n",
      "tau: -1.0 p_value: nan\n",
      "r: [2 5 1 4 3] rating_r: [5 4 3 2 1]\n",
      "tau: 0.0 p_value: 1.0\n",
      "r: [2 1] rating_r: [2 1]\n",
      "tau: 1.0 p_value: nan\n",
      "r: [2 1] rating_r: [2 1]\n",
      "tau: 1.0 p_value: nan\n"
     ]
    },
    {
     "name": "stderr",
     "output_type": "stream",
     "text": [
      "\r",
      "[>....................]\r",
      "[>....................]\r",
      "[>....................]\r",
      "[>....................]\r",
      "[>....................]"
     ]
    },
    {
     "name": "stdout",
     "output_type": "stream",
     "text": [
      "r: [4 3 5 1 2] rating_r: [5 4 3 2 2]\n",
      "tau: 0.5270462766947298 p_value: 0.20650729548542512\n",
      "r: [2 1] rating_r: [2 1]\n",
      "tau: 1.0 p_value: nan\n",
      "r: [1 2 4 3] rating_r: [4 3 2 1]\n",
      "tau: -0.6666666666666669 p_value: 0.1742313882480252\n",
      "r: [2 1] rating_r: [2 1]\n",
      "tau: 1.0 p_value: nan\n",
      "r: [3 1 3] rating_r: [3 2 1]\n",
      "tau: 0.0 p_value: 1.0\n"
     ]
    },
    {
     "name": "stderr",
     "output_type": "stream",
     "text": [
      "\r",
      "[>....................]\r",
      "[>....................]\r",
      "[>....................]\r",
      "[>....................]\r",
      "[>....................]"
     ]
    },
    {
     "name": "stdout",
     "output_type": "stream",
     "text": [
      "r: [2 1] rating_r: [2 1]\n",
      "tau: 1.0 p_value: nan\n",
      "r: [1 2] rating_r: [2 1]\n",
      "tau: -1.0 p_value: nan\n",
      "r: [3 1 2] rating_r: [3 2 1]\n",
      "tau: 0.33333333333333337 p_value: 0.6015081344405899\n",
      "r: [1 2] rating_r: [2 1]\n",
      "tau: -1.0 p_value: nan\n"
     ]
    },
    {
     "name": "stderr",
     "output_type": "stream",
     "text": [
      "\r",
      "[>....................]\r",
      "[>....................]\r",
      "[>....................]\r",
      "[>....................]"
     ]
    },
    {
     "name": "stdout",
     "output_type": "stream",
     "text": [
      "r: [6 7 5 2 3 1 4] rating_r: [7 6 5 4 3 2 1]\n",
      "tau: 0.5238095238095238 p_value: 0.09852102062039901\n",
      "r: [1 2] rating_r: [2 1]\n",
      "tau: -1.0 p_value: nan\n",
      "r: [2 1] rating_r: [2 1]\n",
      "tau: 1.0 p_value: nan\n",
      "r: [2 2] rating_r: [2 1]\n",
      "tau: nan p_value: nan\n"
     ]
    },
    {
     "name": "stderr",
     "output_type": "stream",
     "text": [
      "\r",
      "[>....................]\r",
      "[>....................]\r",
      "[>....................]\r",
      "[>....................]\r",
      "[>....................]"
     ]
    },
    {
     "name": "stdout",
     "output_type": "stream",
     "text": [
      "r: [4 5 2 1 3] rating_r: [5 4 3 2 1]\n",
      "tau: 0.39999999999999997 p_value: 0.32718687779030586\n",
      "r: [2 1] rating_r: [2 1]\n",
      "tau: 1.0 p_value: nan\n",
      "r: [1 2] rating_r: [2 1]\n",
      "tau: -1.0 p_value: nan\n",
      "r: [1 3 5 4 2] rating_r: [5 4 3 2 1]\n",
      "tau: -0.19999999999999998 p_value: 0.624206114766406\n"
     ]
    },
    {
     "name": "stderr",
     "output_type": "stream",
     "text": [
      "\r",
      "[>....................]\r",
      "[>....................]"
     ]
    },
    {
     "name": "stdout",
     "output_type": "stream",
     "text": [
      "r: [1 2] rating_r: [2 1]\n",
      "tau: -1.0 p_value: nan\n",
      "r: [1 4 2 7 8 5 9 6 3] rating_r: [9 8 7 6 5 4 3 2 1]\n",
      "tau: -0.3333333333333333 p_value: 0.21090292605661043\n",
      "r: [5 1 7 2 3 4 6] rating_r: [7 6 5 4 3 2 2]\n",
      "tau: -0.19518001458970663 p_value: 0.5434238636256696\n",
      "r: [2 1 3] rating_r: [3 2 1]\n",
      "tau: -0.33333333333333337 p_value: 0.6015081344405899\n",
      "r: [1 2] rating_r: [2 1]\n",
      "tau: -1.0 p_value: nan\n",
      "r: [1 2] rating_r: [2 1]\n",
      "tau: -1.0 p_value: nan\n"
     ]
    },
    {
     "name": "stderr",
     "output_type": "stream",
     "text": [
      "\r",
      "[>....................]\r",
      "[>....................]\r",
      "[>....................]\r",
      "[>....................]\r",
      "[>....................]"
     ]
    },
    {
     "name": "stdout",
     "output_type": "stream",
     "text": [
      "r: [1 4 6 2 3 8 5 7] rating_r: [8 7 6 5 4 3 2 1]\n",
      "tau: -0.4999999999999999 p_value: 0.08326451666355045\n",
      "r: [1 2 3] rating_r: [3 2 1]\n",
      "tau: -1.0 p_value: 0.1171850871981381\n",
      "r: [2 1] rating_r: [2 1]\n",
      "tau: 1.0 p_value: nan\n",
      "r: [1 3 4 2] rating_r: [4 3 2 1]\n",
      "tau: -0.3333333333333334 p_value: 0.49690584756476797\n"
     ]
    },
    {
     "name": "stderr",
     "output_type": "stream",
     "text": [
      "\r",
      "[>....................]\r",
      "[>....................]\r",
      "[>....................]\r",
      "[>....................]"
     ]
    },
    {
     "name": "stdout",
     "output_type": "stream",
     "text": [
      "r: [3 4 2 1] rating_r: [4 3 2 1]\n",
      "tau: 0.6666666666666669 p_value: 0.1742313882480252\n",
      "r: [1 2] rating_r: [2 1]\n",
      "tau: -1.0 p_value: nan\n",
      "r: [1 3 2] rating_r: [3 2 1]\n",
      "tau: -0.33333333333333337 p_value: 0.6015081344405899\n",
      "r: [2 1 3 4] rating_r: [4 3 2 1]\n",
      "tau: -0.6666666666666669 p_value: 0.1742313882480252\n"
     ]
    },
    {
     "name": "stderr",
     "output_type": "stream",
     "text": [
      "\r",
      "[>....................]\r",
      "[>....................]\r",
      "[>....................]\r",
      "[>....................]"
     ]
    },
    {
     "name": "stdout",
     "output_type": "stream",
     "text": [
      "r: [2 1] rating_r: [2 1]\n",
      "tau: 1.0 p_value: nan\n",
      "r: [1 2] rating_r: [2 1]\n",
      "tau: -1.0 p_value: nan\n",
      "r: [2 1] rating_r: [2 1]\n",
      "tau: 1.0 p_value: nan\n",
      "r: [2 3 1] rating_r: [3 2 1]\n",
      "tau: 0.33333333333333337 p_value: 0.6015081344405899\n",
      "r: [1 2] rating_r: [2 1]\n",
      "tau: -1.0 p_value: nan\n"
     ]
    },
    {
     "name": "stderr",
     "output_type": "stream",
     "text": [
      "\r",
      "[>....................]\r",
      "[>....................]\r",
      "[>....................]\r",
      "[>....................]\r",
      "[>....................]\r",
      "[>....................]"
     ]
    },
    {
     "name": "stdout",
     "output_type": "stream",
     "text": [
      "r: [1 2] rating_r: [2 1]\n",
      "tau: -1.0 p_value: nan\n",
      "r: [8 7 5 3 4 9 2 1 6] rating_r: [9 8 7 6 5 4 3 2 1]\n",
      "tau: 0.3888888888888889 p_value: 0.14439979221307142\n",
      "r: [2 1] rating_r: [2 1]\n",
      "tau: 1.0 p_value: nan\n"
     ]
    },
    {
     "name": "stderr",
     "output_type": "stream",
     "text": [
      "\r",
      "[>....................]\r",
      "[>....................]\r",
      "[>...................]\r",
      "[>...................]\r",
      "[>...................]"
     ]
    },
    {
     "name": "stdout",
     "output_type": "stream",
     "text": [
      "r: [1 2] rating_r: [2 1]\n",
      "tau: -1.0 p_value: nan\n",
      "r: [2 1] rating_r: [2 1]\n",
      "tau: 1.0 p_value: nan\n",
      "r: [2 1] rating_r: [2 1]\n",
      "tau: 1.0 p_value: nan\n",
      "r: [3 6 4 2 5 1] rating_r: [6 5 4 3 3 1]\n",
      "tau: 0.41403933560541256 p_value: 0.2511180012744736\n"
     ]
    },
    {
     "name": "stderr",
     "output_type": "stream",
     "text": [
      "\r",
      "[>...................]\r",
      "[>...................]\r",
      "[>...................]\r",
      "[>...................]\r",
      "[>...................]"
     ]
    },
    {
     "name": "stdout",
     "output_type": "stream",
     "text": [
      "r: [5 1 4 3 2] rating_r: [5 4 3 2 1]\n",
      "tau: 0.39999999999999997 p_value: 0.32718687779030586\n",
      "r: [1 2] rating_r: [2 1]\n",
      "tau: -1.0 p_value: nan\n",
      "r: [2 1] rating_r: [2 1]\n",
      "tau: 1.0 p_value: nan\n",
      "r: [1 2] rating_r: [2 1]\n",
      "tau: -1.0 p_value: nan\n",
      "r: [4 1 3 2] rating_r: [4 3 2 1]\n",
      "tau: 0.3333333333333334 p_value: 0.49690584756476797\n"
     ]
    },
    {
     "name": "stderr",
     "output_type": "stream",
     "text": [
      "\r",
      "[>...................]\r",
      "[>...................]\r",
      "[>...................]\r",
      "[>...................]\r",
      "[>...................]"
     ]
    },
    {
     "name": "stdout",
     "output_type": "stream",
     "text": [
      "r: [2 1] rating_r: [2 1]\n",
      "tau: 1.0 p_value: nan\n",
      "r: [1 2] rating_r: [2 1]\n",
      "tau: -1.0 p_value: nan\n",
      "r: [1 2] rating_r: [2 1]\n",
      "tau: -1.0 p_value: nan\n",
      "r: [2 1] rating_r: [2 1]\n",
      "tau: 1.0 p_value: nan\n",
      "r: [1 4 3 2] rating_r: [4 3 3 1]\n",
      "tau: -0.18257418583505539 p_value: 0.7179816667337768\n"
     ]
    },
    {
     "name": "stderr",
     "output_type": "stream",
     "text": [
      "\r",
      "[>...................]\r",
      "[>...................]\r",
      "[>...................]"
     ]
    },
    {
     "name": "stdout",
     "output_type": "stream",
     "text": [
      "r: [3 1 4 5 6 2] rating_r: [6 5 4 3 2 1]\n",
      "tau: -0.3333333333333333 p_value: 0.34755803674116925\n",
      "r: [2 1 3 4] rating_r: [4 3 2 1]\n",
      "tau: -0.6666666666666669 p_value: 0.1742313882480252\n",
      "r: [1 2] rating_r: [2 1]\n",
      "tau: -1.0 p_value: nan\n",
      "r: [2 2] rating_r: [2 1]\n",
      "tau: nan p_value: nan\n",
      "r: [1 2] rating_r: [2 1]\n",
      "tau: -1.0 p_value: nan\n"
     ]
    },
    {
     "name": "stderr",
     "output_type": "stream",
     "text": [
      "\r",
      "[>...................]\r",
      "[>...................]\r",
      "[>...................]\r",
      "[>...................]\r",
      "[>...................]"
     ]
    },
    {
     "name": "stdout",
     "output_type": "stream",
     "text": [
      "r: [2 1] rating_r: [2 1]\n",
      "tau: 1.0 p_value: nan\n",
      "r: [4 1 6 3 2 5] rating_r: [6 5 4 3 2 1]\n",
      "tau: -0.06666666666666665 p_value: 0.8509806870320558\n",
      "r: [2 1] rating_r: [2 1]\n",
      "tau: 1.0 p_value: nan\n",
      "r: [3 2 4 5 1] rating_r: [5 4 3 2 1]\n",
      "tau: 0.0 p_value: 1.0\n",
      "r: [2 1] rating_r: [2 1]\n",
      "tau: 1.0 p_value: nan\n",
      "r: [1 2] rating_r: [2 1]\n",
      "tau: -1.0 p_value: nan\n",
      "r: [4 2 3 1] rating_r: [4 3 2 2]\n",
      "tau: 0.5477225575051662 p_value: 0.2785986718379626\n",
      "r: [3 2 1] rating_r: [3 2 2]\n",
      "tau: 0.816496580927726 p_value: 0.22067136191984682\n"
     ]
    },
    {
     "name": "stderr",
     "output_type": "stream",
     "text": [
      "\r",
      "[>...................]\r",
      "[>...................]\r",
      "[>...................]\r",
      "[>...................]\r",
      "[>...................]\r",
      "[>...................]"
     ]
    },
    {
     "name": "stdout",
     "output_type": "stream",
     "text": [
      "r: [1 3 2] rating_r: [3 2 1]\n",
      "tau: -0.33333333333333337 p_value: 0.6015081344405899\n",
      "r: [1 2] rating_r: [2 1]\n",
      "tau: -1.0 p_value: nan\n",
      "r: [1 2] rating_r: [2 1]\n",
      "tau: -1.0 p_value: nan\n",
      "r: [2 1] rating_r: [2 1]\n",
      "tau: 1.0 p_value: nan\n",
      "r: [3 2 1] rating_r: [3 2 1]\n",
      "tau: 1.0 p_value: 0.1171850871981381\n",
      "r: [1 2] rating_r: [2 1]\n",
      "tau: -1.0 p_value: nan\n"
     ]
    },
    {
     "name": "stderr",
     "output_type": "stream",
     "text": [
      "\r",
      "[>...................]\r",
      "[>...................]\r",
      "[>...................]\r",
      "[>...................]\r",
      "[>...................]\r",
      "[>...................]"
     ]
    },
    {
     "name": "stdout",
     "output_type": "stream",
     "text": [
      "r: [3 1 4 2] rating_r: [4 3 2 1]\n",
      "tau: 0.0 p_value: 1.0\n",
      "r: [2 3 1] rating_r: [3 2 1]\n",
      "tau: 0.33333333333333337 p_value: 0.6015081344405899\n",
      "r: [2 1] rating_r: [2 1]\n",
      "tau: 1.0 p_value: nan\n",
      "r: [2 1 3] rating_r: [3 2 1]\n",
      "tau: -0.33333333333333337 p_value: 0.6015081344405899\n"
     ]
    },
    {
     "name": "stderr",
     "output_type": "stream",
     "text": [
      "\r",
      "[>...................]\r",
      "[>...................]\r",
      "[>...................]\r",
      "[>...................]"
     ]
    },
    {
     "name": "stdout",
     "output_type": "stream",
     "text": [
      "r: [3 5 4 1 2] rating_r: [5 4 3 2 1]\n",
      "tau: 0.39999999999999997 p_value: 0.32718687779030586\n",
      "r: [1 2] rating_r: [2 1]\n",
      "tau: -1.0 p_value: nan\n",
      "r: [1 2] rating_r: [2 1]\n",
      "tau: -1.0 p_value: nan\n",
      "r: [1 2] rating_r: [2 1]\n",
      "tau: -1.0 p_value: nan\n",
      "r: [5 3 2 1 4] rating_r: [5 4 3 2 1]"
     ]
    },
    {
     "name": "stderr",
     "output_type": "stream",
     "text": [
      "\r",
      "[>...................]\r",
      "[>...................]\r",
      "[>...................]\r",
      "[>...................]\r",
      "[>...................]"
     ]
    },
    {
     "name": "stdout",
     "output_type": "stream",
     "text": [
      "\n",
      "tau: 0.39999999999999997 p_value: 0.32718687779030586\n",
      "r: [2 1] rating_r: [2 1]\n",
      "tau: 1.0 p_value: nan\n",
      "r: [3 2 1] rating_r: [3 2 1]\n",
      "tau: 1.0 p_value: 0.1171850871981381\n",
      "r: [1 2] rating_r: [2 1]\n",
      "tau: -1.0 p_value: nan\n"
     ]
    },
    {
     "name": "stderr",
     "output_type": "stream",
     "text": [
      "\r",
      "[>...................]\r",
      "[>...................]\r",
      "[>...................]"
     ]
    },
    {
     "name": "stdout",
     "output_type": "stream",
     "text": [
      "r: [2 6 8 3 7 1 5 4] rating_r: [8 7 6 5 4 3 2 1]\n",
      "tau: 0.07142857142857142 p_value: 0.8045709480174357\n",
      "r: [2 1] rating_r: [2 1]\n",
      "tau: 1.0 p_value: nan\n",
      "r: [1 2 3] rating_r: [3 2 1]\n",
      "tau: -1.0 p_value: 0.1171850871981381\n",
      "r: [3 1 2] rating_r: [3 2 1]\n",
      "tau: 0.33333333333333337 p_value: 0.6015081344405899\n",
      "r: [3 2 1] rating_r: [3 2 1]\n",
      "tau: 1.0 p_value: 0.1171850871981381\n"
     ]
    },
    {
     "name": "stderr",
     "output_type": "stream",
     "text": [
      "\r",
      "[>...................]\r",
      "[>...................]\r",
      "[>...................]\r",
      "[>...................]\r",
      "[>...................]"
     ]
    },
    {
     "name": "stdout",
     "output_type": "stream",
     "text": [
      "r: [2 1] rating_r: [2 1]\n",
      "tau: 1.0 p_value: nan\n",
      "r: [5 4 6 3 1 2] rating_r: [6 5 4 4 2 1]\n",
      "tau: 0.5520524474738833 p_value: 0.12597116307723114\n",
      "r: [2 3 1 4] rating_r: [4 3 2 1]\n",
      "tau: -0.3333333333333334 p_value: 0.49690584756476797\n"
     ]
    },
    {
     "name": "stderr",
     "output_type": "stream",
     "text": [
      "\r",
      "[=>..................]\r",
      "[=>..................]\r",
      "[=>..................]"
     ]
    },
    {
     "name": "stdout",
     "output_type": "stream",
     "text": [
      "r: [4 2 1 3] rating_r: [4 3 2 1]\n",
      "tau: 0.3333333333333334 p_value: 0.49690584756476797\n",
      "r: [1 2] rating_r: [2 1]\n",
      "tau: -1.0 p_value: nan\n",
      "r: [1 2] rating_r: [2 1]\n",
      "tau: -1.0 p_value: nan\n",
      "r: [1 2] rating_r: [2 2]\n",
      "tau: nan p_value: nan\n",
      "r: [1 2] rating_r: [2 1]\n",
      "tau: -1.0 p_value: nan\n",
      "r: [1 3 2] rating_r: [3 2 1]\n",
      "tau: -0.33333333333333337 p_value: 0.6015081344405899\n"
     ]
    },
    {
     "name": "stderr",
     "output_type": "stream",
     "text": [
      "\r",
      "[=>..................]\r",
      "[=>..................]\r",
      "[=>..................]\r",
      "[=>..................]\r",
      "[=>..................]\r",
      "[=>..................]"
     ]
    },
    {
     "name": "stdout",
     "output_type": "stream",
     "text": [
      "r: [2 1] rating_r: [2 1]\n",
      "tau: 1.0 p_value: nan\n",
      "r: [2 1] rating_r: [2 1]\n",
      "tau: 1.0 p_value: nan\n",
      "r: [1 2] rating_r: [2 1]\n",
      "tau: -1.0 p_value: nan\n",
      "r: [2 1] rating_r: [2 2]\n",
      "tau: nan p_value: nan\n",
      "r: [2 4 2 3] rating_r: [4 3 2 1]\n",
      "tau: -0.18257418583505539 p_value: 0.7179816667337768\n"
     ]
    },
    {
     "name": "stderr",
     "output_type": "stream",
     "text": [
      "\r",
      "[=>..................]\r",
      "[=>..................]\r",
      "[=>..................]\r",
      "[=>..................]\r",
      "[=>..................]"
     ]
    },
    {
     "name": "stdout",
     "output_type": "stream",
     "text": [
      "r: [1 2] rating_r: [2 1]\n",
      "tau: -1.0 p_value: nan\n",
      "r: [4 2 5 3 1] rating_r: [5 4 3 3 1]\n",
      "tau: 0.31622776601683794 p_value: 0.44848886103153185\n",
      "r: [6 4 2 5 3 1] rating_r: [6 5 4 3 2 1]\n",
      "tau: 0.6 p_value: 0.09087393998624908\n"
     ]
    },
    {
     "name": "stderr",
     "output_type": "stream",
     "text": [
      "\r",
      "[=>..................]\r",
      "[=>..................]\r",
      "[=>..................]"
     ]
    },
    {
     "name": "stdout",
     "output_type": "stream",
     "text": [
      "r: [2 1] rating_r: [2 1]\n",
      "tau: 1.0 p_value: nan\n",
      "r: [2 1] rating_r: [2 1]\n",
      "tau: 1.0 p_value: nan\n",
      "r: [1 2] rating_r: [2 1]\n",
      "tau: -1.0 p_value: nan\n",
      "r: [2 1] rating_r: [2 1]\n",
      "tau: 1.0 p_value: nan\n"
     ]
    },
    {
     "name": "stderr",
     "output_type": "stream",
     "text": [
      "\r",
      "[=>..................]\r",
      "[=>..................]\r",
      "[=>..................]\r",
      "[=>..................]"
     ]
    },
    {
     "name": "stdout",
     "output_type": "stream",
     "text": [
      "r: [7 6 2 4 5 3 8 1] rating_r: [8 7 6 5 4 3 2 1]\n",
      "tau: 0.2857142857142857 p_value: 0.32229959587191936\n",
      "r: [2 1] rating_r: [2 1]\n",
      "tau: 1.0 p_value: nan\n",
      "r: [2 1] rating_r: [2 1]\n",
      "tau: 1.0 p_value: nan\n",
      "r: [1 3 2] rating_r: [3 2 1]\n",
      "tau: -0.33333333333333337 p_value: 0.6015081344405899\n",
      "r: [2 1] rating_r: [2 1]\n",
      "tau: 1.0 p_value: nan\n"
     ]
    },
    {
     "name": "stderr",
     "output_type": "stream",
     "text": [
      "\r",
      "[=>..................]\r",
      "[=>..................]\r",
      "[=>..................]\r",
      "[=>..................]\r",
      "[=>..................]"
     ]
    },
    {
     "name": "stdout",
     "output_type": "stream",
     "text": [
      "r: [3 2 4 1 5] rating_r: [5 4 3 2 1]\n",
      "tau: -0.19999999999999998 p_value: 0.624206114766406\n",
      "r: [2 1] rating_r: [2 1]\n",
      "tau: 1.0 p_value: nan\n",
      "r: [2 3 1] rating_r: [3 2 1]\n",
      "tau: 0.33333333333333337 p_value: 0.6015081344405899\n",
      "r: [2 1] rating_r: [2 1]\n",
      "tau: 1.0 p_value: nan\n",
      "r: [3 1 2] rating_r: [3 2 1]\n",
      "tau: 0.33333333333333337 p_value: 0.6015081344405899\n"
     ]
    },
    {
     "name": "stderr",
     "output_type": "stream",
     "text": [
      "\r",
      "[=>..................]\r",
      "[=>..................]\r",
      "[=>..................]\r",
      "[=>..................]\r",
      "[=>..................]"
     ]
    },
    {
     "name": "stdout",
     "output_type": "stream",
     "text": [
      "r: [1 2] rating_r: [2 1]\n",
      "tau: -1.0 p_value: nan\n",
      "r: [2 1] rating_r: [2 1]\n",
      "tau: 1.0 p_value: nan\n",
      "r: [1 2] rating_r: [2 1]\n",
      "tau: -1.0 p_value: nan\n",
      "r: [2 1] rating_r: [2 1]\n",
      "tau: 1.0 p_value: nan\n",
      "r:"
     ]
    },
    {
     "name": "stderr",
     "output_type": "stream",
     "text": [
      "\r",
      "[=>..................]\r",
      "[=>..................]\r",
      "[=>..................]\r",
      "[=>..................]\r",
      "[=>..................]"
     ]
    },
    {
     "name": "stdout",
     "output_type": "stream",
     "text": [
      " [4 3 5 1 2] rating_r: [5 4 3 2 1]\n",
      "tau: 0.39999999999999997 p_value: 0.32718687779030586\n",
      "r: [4 3 1 3] rating_r: [4 3 2 1]\n",
      "tau: 0.5477225575051662 p_value: 0.2785986718379626\n",
      "r: [2 1] rating_r: [2 1]\n",
      "tau: 1.0 p_value: nan\n",
      "r: [1 2] rating_r: [2 1]\n",
      "tau: -1.0 p_value: nan\n",
      "r: [1 2] rating_r: [2 1]\n",
      "tau: -1.0 p_value: nan\n",
      "r: [2 1] rating_r: [2 1]\n",
      "tau: 1.0 p_value: nan\n"
     ]
    },
    {
     "name": "stderr",
     "output_type": "stream",
     "text": [
      "\r",
      "[=>..................]\r",
      "[=>..................]\r",
      "[=>..................]\r",
      "[=>..................]\r",
      "[=>..................]"
     ]
    },
    {
     "name": "stdout",
     "output_type": "stream",
     "text": [
      "r: [4 1 7 2 3 5 6] rating_r: [7 6 5 4 3 2 1]\n",
      "tau: -0.33333333333333337 p_value: 0.29311395567331044\n",
      "r: [1 2] rating_r: [2 1]\n",
      "tau: -1.0 p_value: nan\n",
      "r: [1 2] rating_r: [2 1]\n",
      "tau: -1.0 p_value: nan\n",
      "r: [2 1] rating_r: [2 1]\n",
      "tau: 1.0 p_value: nan\n",
      "r: [2 1] rating_r: [2 1]\n",
      "tau: 1.0 p_value: nan\n",
      "r: [2 3 1] "
     ]
    },
    {
     "name": "stderr",
     "output_type": "stream",
     "text": [
      "\r",
      "[=>..................]\r",
      "[=>..................]\r",
      "[=>..................]\r",
      "[=>..................]\r",
      "[=>..................]\r",
      "[=>..................]"
     ]
    },
    {
     "name": "stdout",
     "output_type": "stream",
     "text": [
      "rating_r: [3 2 1]\n",
      "tau: 0.33333333333333337 p_value: 0.6015081344405899\n",
      "r: [1 4 3 2] rating_r: [4 3 2 1]\n",
      "tau: 0.0 p_value: 1.0\n",
      "r: [1 2] rating_r: [2 1]\n",
      "tau: -1.0 p_value: nan\n",
      "r: [1 3 3 4] rating_r: [4 3 2 1]\n",
      "tau: -0.912870929175277 p_value: 0.07095149242730567\n"
     ]
    },
    {
     "name": "stderr",
     "output_type": "stream",
     "text": [
      "\r",
      "[=>..................]\r",
      "[=>..................]\r",
      "[=>..................]"
     ]
    },
    {
     "name": "stdout",
     "output_type": "stream",
     "text": [
      "r: [8 9 6 1 3 5 4 2 7] rating_r: [9 8 7 6 5 4 3 2 1]\n",
      "tau: 0.2777777777777778 p_value: 0.2971465303484705\n",
      "r: [2 1] rating_r: [2 1]\n",
      "tau: 1.0 p_value: nan\n",
      "r: [1 2] rating_r: [2 1]\n",
      "tau: -1.0 p_value: nan\n",
      "r: [1 2] rating_r: [2 1]\n",
      "tau: -1.0 p_value: nan\n",
      "r: [1 2] rating_r: [2 1]\n",
      "tau: -1.0 p_value: nan\n",
      "r: [2 1] rating_r: [2 1]\n",
      "tau: 1.0 p_value: nan\n",
      "r:"
     ]
    },
    {
     "name": "stderr",
     "output_type": "stream",
     "text": [
      "\r",
      "[==>.................]\r",
      "[==>.................]\r",
      "[==>.................]\r",
      "[==>.................]\r",
      "[==>.................]\r",
      "[==>.................]"
     ]
    },
    {
     "name": "stdout",
     "output_type": "stream",
     "text": [
      " [1 2] rating_r: [2 1]\n",
      "tau: -1.0 p_value: nan\n",
      "r: [1 2] rating_r: [2 1]\n",
      "tau: -1.0 p_value: nan\n",
      "r: [2 1 3] rating_r: [3 2 1]\n",
      "tau: -0.33333333333333337 p_value: 0.6015081344405899\n",
      "r: [1 2] rating_r: [2 1]\n",
      "tau: -1.0 p_value: nan\n",
      "r: [1 2] rating_r: [2 1]\n",
      "tau: -1.0 p_value: nan\n",
      "r: [2 1] rating_r: [2 1]\n",
      "tau: 1.0 p_value: nan\n"
     ]
    },
    {
     "name": "stderr",
     "output_type": "stream",
     "text": [
      "\r",
      "[==>.................]\r",
      "[==>.................]\r",
      "[==>.................]\r",
      "[==>.................]\r",
      "[==>.................]\r",
      "[==>.................]\r",
      "[==>.................]"
     ]
    },
    {
     "name": "stdout",
     "output_type": "stream",
     "text": [
      "r: [1 2] rating_r: [2 1]\n",
      "tau: -1.0 p_value: nan\n",
      "r: [3 2 1] rating_r: [3 2 1]\n",
      "tau: 1.0 p_value: 0.1171850871981381\n",
      "r: [2 1] rating_r: [2 1]\n",
      "tau: 1.0 p_value: nan\n",
      "r: [2 1] rating_r: [2 1]\n",
      "tau: 1.0 p_value: nan\n",
      "r: [1 2] rating_r: [2 1]\n",
      "tau: -1.0 p_value: nan\n",
      "r: [2 1] rating_r: [2 1]\n",
      "tau: 1.0 p_value: nan\n"
     ]
    },
    {
     "name": "stderr",
     "output_type": "stream",
     "text": [
      "\r",
      "[==>.................]\r",
      "[==>.................]\r",
      "[==>.................]\r",
      "[==>.................]\r",
      "[==>.................]\r",
      "[==>.................]"
     ]
    },
    {
     "name": "stdout",
     "output_type": "stream",
     "text": [
      "r: [2 1] rating_r: [2 1]\n",
      "tau: 1.0 p_value: nan\n",
      "r: [3 2 1] rating_r: [3 2 1]\n",
      "tau: 1.0 p_value: 0.1171850871981381\n",
      "r: [1 2 3] rating_r: [3 2 1]\n",
      "tau: -1.0 p_value: 0.1171850871981381\n",
      "r: [2 1] rating_r: [2 1]\n",
      "tau: 1.0 p_value: nan\n",
      "r: [2 1] rating_r: [2 1]\n",
      "tau: 1.0 p_value: nan\n"
     ]
    },
    {
     "name": "stderr",
     "output_type": "stream",
     "text": [
      "\r",
      "[==>.................]\r",
      "[==>.................]\r",
      "[==>.................]\r",
      "[==>.................]\r",
      "[==>.................]\r",
      "[==>.................]"
     ]
    },
    {
     "name": "stdout",
     "output_type": "stream",
     "text": [
      "r: [1 2] rating_r: [2 1]\n",
      "tau: -1.0 p_value: nan\n",
      "r: [2 1] rating_r: [2 1]\n",
      "tau: 1.0 p_value: nan\n",
      "r: [2 1] rating_r: [2 1]\n",
      "tau: 1.0 p_value: nan\n",
      "r: [1 2] rating_r: [2 1]\n",
      "tau: -1.0 p_value: nan\n",
      "r: [2 1] rating_r: [2 1]\n",
      "tau: 1.0 p_value: nan\n"
     ]
    },
    {
     "name": "stderr",
     "output_type": "stream",
     "text": [
      "\r",
      "[==>.................]\r",
      "[==>.................]\r",
      "[==>.................]\r",
      "[==>.................]"
     ]
    },
    {
     "name": "stdout",
     "output_type": "stream",
     "text": [
      "r: [4 5 3 6 7 2 1] rating_r: [7 6 5 4 4 2 1]\n",
      "tau: 0.29277002188455997 p_value: 0.3620501922003584\n",
      "r: [2 1] rating_r: [2 1]\n",
      "tau: 1.0 p_value: nan\n",
      "r: [1 3 2] rating_r: [3 2 1]\n",
      "tau: -0.33333333333333337 p_value: 0.6015081344405899\n",
      "r: [1 2] rating_r: [2 1]\n",
      "tau: -1.0 p_value: nan\n",
      "r: [1 2] rating_r: [2 1]\n",
      "tau: -1.0 p_value: nan\n",
      "r: [2 1] rating_r: [2 1]"
     ]
    },
    {
     "name": "stderr",
     "output_type": "stream",
     "text": [
      "\r",
      "[==>.................]\r",
      "[==>.................]\r",
      "[==>.................]\r",
      "[==>.................]\r",
      "[==>.................]\r",
      "[==>.................]"
     ]
    },
    {
     "name": "stdout",
     "output_type": "stream",
     "text": [
      "\n",
      "tau: 1.0 p_value: nan\n",
      "r: [2 1] rating_r: [2 1]\n",
      "tau: 1.0 p_value: nan\n",
      "r: [4 2 3 1] rating_r: [4 3 2 1]\n",
      "tau: 0.6666666666666669 p_value: 0.1742313882480252\n",
      "r: [2 1] rating_r: [2 1]\n",
      "tau: 1.0 p_value: nan\n",
      "r: [2 1 3 4] rating_r: [4 3 2 1]\n",
      "tau: -0.6666666666666669 p_value: 0.1742313882480252\n"
     ]
    },
    {
     "name": "stderr",
     "output_type": "stream",
     "text": [
      "\r",
      "[==>.................]\r",
      "[==>.................]\r",
      "[==>.................]"
     ]
    },
    {
     "name": "stdout",
     "output_type": "stream",
     "text": [
      "r: [2 6 4 1 3 5] rating_r: [6 5 4 3 2 1]\n",
      "tau: -0.06666666666666665 p_value: 0.8509806870320558\n",
      "r: [2 3 1] rating_r: [3 2 1]\n",
      "tau: 0.33333333333333337 p_value: 0.6015081344405899\n",
      "r: [1 2] rating_r: [2 1]\n",
      "tau: -1.0 p_value: nan\n",
      "r: [5 3 4 2 6 1] rating_r: [6 5 4 3 2 1]\n",
      "tau: 0.3333333333333333 p_value: 0.34755803674116925\n"
     ]
    },
    {
     "name": "stderr",
     "output_type": "stream",
     "text": [
      "\r",
      "[==>.................]\r",
      "[==>.................]\r",
      "[==>.................]\r",
      "[==>.................]"
     ]
    },
    {
     "name": "stdout",
     "output_type": "stream",
     "text": [
      "r: [1 3 6 2 4 5] rating_r: [6 5 4 3 2 1]\n",
      "tau: -0.4666666666666666 p_value: 0.18848603806737485\n",
      "r: [2 2] rating_r: [2 1]\n",
      "tau: nan p_value: nan\n",
      "r: [1 2 3] rating_r: [3 2 1]\n",
      "tau: -1.0 p_value: 0.1171850871981381\n",
      "r: [2 1] rating_r: [2 1]\n",
      "tau: 1.0 p_value: nan\n",
      "r: [1 2] rating_r: [2 1]\n",
      "tau: -1.0 p_value: nan\n",
      "r:"
     ]
    },
    {
     "name": "stderr",
     "output_type": "stream",
     "text": [
      "\r",
      "[==>.................]\r",
      "[==>.................]\r",
      "[==>.................]\r",
      "[==>.................]\r",
      "[==>.................]"
     ]
    },
    {
     "name": "stdout",
     "output_type": "stream",
     "text": [
      " [3 2 2] rating_r: [3 2 1]\n",
      "tau: 0.816496580927726 p_value: 0.22067136191984682\n",
      "r: [1 2] rating_r: [2 1]\n",
      "tau: -1.0 p_value: nan\n",
      "r: [2 1 3] rating_r: [3 2 1]\n",
      "tau: -0.33333333333333337 p_value: 0.6015081344405899\n",
      "r: [1 2] rating_r: [2 1]\n",
      "tau: -1.0 p_value: nan\n",
      "r: [1 2] rating_r: [2 1]\n",
      "tau: -1.0 p_value: nan\n",
      "r: [1 2] rating_r: [2 1]\n",
      "tau: -1.0 p_value: nan\n"
     ]
    },
    {
     "name": "stderr",
     "output_type": "stream",
     "text": [
      "\r",
      "[==>.................]\r",
      "[==>.................]\r",
      "[==>.................]\r",
      "[===>................]\r",
      "[===>................]\r",
      "[===>................]"
     ]
    },
    {
     "name": "stdout",
     "output_type": "stream",
     "text": [
      "r: [3 1 2] rating_r: [3 2 1]\n",
      "tau: 0.33333333333333337 p_value: 0.6015081344405899\n",
      "r: [2 1] rating_r: [2 1]\n",
      "tau: 1.0 p_value: nan\n",
      "r: [2 1] rating_r: [2 1]\n",
      "tau: 1.0 p_value: nan\n",
      "r: [2 3 1] rating_r: [3 2 1]\n",
      "tau: 0.33333333333333337 p_value: 0.6015081344405899\n",
      "r: [2 1] rating_r: [2 1]\n",
      "tau: 1.0 p_value: nan\n"
     ]
    },
    {
     "name": "stderr",
     "output_type": "stream",
     "text": [
      "\r",
      "[===>................]\r",
      "[===>................]\r",
      "[===>................]\r",
      "[===>................]\r",
      "[===>................]\r",
      "[===>................]"
     ]
    },
    {
     "name": "stdout",
     "output_type": "stream",
     "text": [
      "r: [2 1] rating_r: [2 2]\n",
      "tau: nan p_value: nan\n",
      "r: [2 3 1] rating_r: [3 2 1]\n",
      "tau: 0.33333333333333337 p_value: 0.6015081344405899\n",
      "r: [1 2 3] rating_r: [3 2 1]\n",
      "tau: -1.0 p_value: 0.1171850871981381\n",
      "r: [3 5 4 1 2 6] rating_r: [6 5 4 3 2 1]\n",
      "tau: -0.06666666666666665 p_value: 0.8509806870320558\n"
     ]
    },
    {
     "name": "stderr",
     "output_type": "stream",
     "text": [
      "\r",
      "[===>................]\r",
      "[===>................]\r",
      "[===>................]\r",
      "[===>................]"
     ]
    },
    {
     "name": "stdout",
     "output_type": "stream",
     "text": [
      "r: [3 1 2] rating_r: [3 2 2]\n",
      "tau: 0.816496580927726 p_value: 0.22067136191984682\n",
      "r: [1 2 3] rating_r: [3 2 1]\n",
      "tau: -1.0 p_value: 0.1171850871981381\n",
      "r: [2 1] rating_r: [2 1]\n",
      "tau: 1.0 p_value: nan\n",
      "r: [4 1 3 2] rating_r: [4 3 2 1]\n",
      "tau: 0.3333333333333334 p_value: 0.49690584756476797\n"
     ]
    },
    {
     "name": "stderr",
     "output_type": "stream",
     "text": [
      "\r",
      "[===>................]\r",
      "[===>................]\r",
      "[===>................]\r",
      "[===>................]"
     ]
    },
    {
     "name": "stdout",
     "output_type": "stream",
     "text": [
      "r: [3 1 2 4] rating_r: [4 3 2 2]\n",
      "tau: -0.18257418583505539 p_value: 0.7179816667337768\n",
      "r: [1 2] rating_r: [2 1]\n",
      "tau: -1.0 p_value: nan\n",
      "r: [4 2 1 3] rating_r: [4 3 2 1]\n",
      "tau: 0.3333333333333334 p_value: 0.49690584756476797\n",
      "r: [2 1 3] rating_r: [3 2 1]\n",
      "tau: -0.33333333333333337 p_value: 0.6015081344405899\n",
      "r: [2 1] rating_r: [2 1]\n",
      "tau: 1.0 p_value: nan\n"
     ]
    },
    {
     "name": "stderr",
     "output_type": "stream",
     "text": [
      "\r",
      "[===>................]\r",
      "[===>................]\r",
      "[===>................]\r",
      "[===>................]\r",
      "[===>................]\r",
      "[===>................]\r",
      "[===>................]"
     ]
    },
    {
     "name": "stdout",
     "output_type": "stream",
     "text": [
      "r: [1 2] rating_r: [2 1]\n",
      "tau: -1.0 p_value: nan\n",
      "r: [2 1] rating_r: [2 1]\n",
      "tau: 1.0 p_value: nan\n",
      "r: [2 1] rating_r: [2 1]\n",
      "tau: 1.0 p_value: nan\n",
      "r: [2 1 3] rating_r: [3 2 1]\n",
      "tau: -0.33333333333333337 p_value: 0.6015081344405899\n",
      "r: [1 2] rating_r: [2 1]\n",
      "tau: -1.0 p_value: nan\n",
      "r: "
     ]
    },
    {
     "name": "stderr",
     "output_type": "stream",
     "text": [
      "\r",
      "[===>................]\r",
      "[===>................]\r",
      "[===>................]\r",
      "[===>................]\r",
      "[===>................]"
     ]
    },
    {
     "name": "stdout",
     "output_type": "stream",
     "text": [
      "[2 1] rating_r: [2 2]\n",
      "tau: nan p_value: nan\n",
      "r: [2 1] rating_r: [2 1]\n",
      "tau: 1.0 p_value: nan\n",
      "r: [1 2] rating_r: [2 1]\n",
      "tau: -1.0 p_value: nan\n",
      "r: [1 3 2 4] rating_r: [4 3 2 1]\n",
      "tau: -0.6666666666666669 p_value: 0.1742313882480252\n",
      "r:"
     ]
    },
    {
     "name": "stderr",
     "output_type": "stream",
     "text": [
      "\r",
      "[===>................]\r",
      "[===>................]\r",
      "[===>................]\r",
      "[===>................]"
     ]
    },
    {
     "name": "stdout",
     "output_type": "stream",
     "text": [
      " [4 2 1 3] rating_r: [4 3 2 1]\n",
      "tau: 0.3333333333333334 p_value: 0.49690584756476797\n",
      "r: [3 2 1] rating_r: [3 2 1]\n",
      "tau: 1.0 p_value: 0.1171850871981381\n",
      "r: [1 2] rating_r: [2 1]\n",
      "tau: -1.0 p_value: nan\n",
      "r: [2 1] rating_r: [2 1]\n",
      "tau: 1.0 p_value: nan\n",
      "r: [5 3 4 7 2 1 6] rating_r: [7 6 5 4 3 2 1]\n",
      "tau: 0.14285714285714288 p_value: 0.6523041372117631\n"
     ]
    },
    {
     "name": "stderr",
     "output_type": "stream",
     "text": [
      "\r",
      "[===>................]\r",
      "[===>................]\r",
      "[===>................]\r",
      "[===>................]\r",
      "[===>................]"
     ]
    },
    {
     "name": "stdout",
     "output_type": "stream",
     "text": [
      "r: [2 1 3] rating_r: [3 2 1]\n",
      "tau: -0.33333333333333337 p_value: 0.6015081344405899\n",
      "r: [2 1 4 5 3] rating_r: [5 4 3 2 1]\n",
      "tau: -0.39999999999999997 p_value: 0.32718687779030586\n",
      "r: [1 2 3] rating_r: [3 2 2]\n",
      "tau: -0.816496580927726 p_value: 0.22067136191984682\n",
      "r: [5 1 3 4 2] rating_r: [5 4 3 2 2]\n",
      "tau: 0.10540925533894598 p_value: 0.8005421074231263\n",
      "r: [1 2 3] rating_r: [3 2 1]\n",
      "tau: -1.0 p_value: 0.1171850871981381\n",
      "r: [5 4 3 1 2] rating_r: [5 4 3 2 1]\n",
      "tau: 0.7999999999999999 p_value: 0.05004352124870513\n",
      "r: [2 1] rating_r: [2 1]\n",
      "tau: 1.0 p_value: nan\n"
     ]
    },
    {
     "name": "stderr",
     "output_type": "stream",
     "text": [
      "\r",
      "[===>................]\r",
      "[===>................]\r",
      "[===>................]\r",
      "[===>................]"
     ]
    },
    {
     "name": "stdout",
     "output_type": "stream",
     "text": [
      "r: [2 1] rating_r: [2 1]\n",
      "tau: 1.0 p_value: nan\n",
      "r: [2 3 1] rating_r: [3 2 1]\n",
      "tau: 0.33333333333333337 p_value: 0.6015081344405899\n",
      "r: [3 2 1] rating_r: [3 2 1]\n",
      "tau: 1.0 p_value: 0.1171850871981381\n",
      "r: [2 1] rating_r: [2 1]\n",
      "tau: 1.0 p_value: nan\n",
      "r: [2 1] rating_r: [2 1]\n",
      "tau: 1.0 p_value: nan\n",
      "r:"
     ]
    },
    {
     "name": "stderr",
     "output_type": "stream",
     "text": [
      "\r",
      "[===>................]\r",
      "[===>................]\r",
      "[===>................]\r",
      "[===>................]\r",
      "[===>................]\r",
      "[===>................]"
     ]
    },
    {
     "name": "stdout",
     "output_type": "stream",
     "text": [
      " [1 2] rating_r: [2 1]\n",
      "tau: -1.0 p_value: nan\n",
      "r: [3 2 1] rating_r: [3 2 1]\n",
      "tau: 1.0 p_value: 0.1171850871981381\n",
      "r: [1 2] rating_r: [2 1]\n",
      "tau: -1.0 p_value: nan\n",
      "r: [2 2] rating_r: [2 1]\n",
      "tau: nan p_value: nan\n",
      "r: [2 3 1] rating_r: [3 2 1]\n",
      "tau: 0.33333333333333337 p_value: 0.6015081344405899\n"
     ]
    },
    {
     "name": "stderr",
     "output_type": "stream",
     "text": [
      "\r",
      "[===>................]\r",
      "[===>................]\r",
      "[====>...............]\r",
      "[====>...............]\r",
      "[====>...............]"
     ]
    },
    {
     "name": "stdout",
     "output_type": "stream",
     "text": [
      "r: [1 2] rating_r: [2 1]\n",
      "tau: -1.0 p_value: nan\n",
      "r: [2 1 3] rating_r: [3 2 1]\n",
      "tau: -0.33333333333333337 p_value: 0.6015081344405899\n",
      "r: [2 1] rating_r: [2 1]\n",
      "tau: 1.0 p_value: nan\n"
     ]
    },
    {
     "name": "stderr",
     "output_type": "stream",
     "text": [
      "\r",
      "[====>...............]\r",
      "[====>...............]\r",
      "[====>...............]"
     ]
    },
    {
     "name": "stdout",
     "output_type": "stream",
     "text": [
      "r: [5 2 8 3 4 7 1 6] rating_r: [8 7 6 5 4 3 2 1]\n",
      "tau: 0.0 p_value: 1.0\n",
      "r: [3 2 1] rating_r: [3 2 1]\n",
      "tau: 1.0 p_value: 0.1171850871981381\n",
      "r: [2 3 1] rating_r: [3 2 1]\n",
      "tau: 0.33333333333333337 p_value: 0.6015081344405899\n",
      "r: [2 1] rating_r: [2 1]\n",
      "tau: 1.0 p_value: nan\n"
     ]
    },
    {
     "name": "stderr",
     "output_type": "stream",
     "text": [
      "\r",
      "[====>...............]\r",
      "[====>...............]\r",
      "[====>...............]\r",
      "[====>...............]\r",
      "[====>...............]"
     ]
    },
    {
     "name": "stdout",
     "output_type": "stream",
     "text": [
      "r: [3 4 1 2] rating_r: [4 3 2 1]\n",
      "tau: 0.3333333333333334 p_value: 0.49690584756476797\n",
      "r: [1 2] rating_r: [2 1]\n",
      "tau: -1.0 p_value: nan\n",
      "r: [1 2] rating_r: [2 1]\n",
      "tau: -1.0 p_value: nan\n",
      "r: [2 1 3] rating_r: [3 2 1]\n",
      "tau: -0.33333333333333337 p_value: 0.6015081344405899\n",
      "r: [2 1] rating_r: [2 1]\n",
      "tau: 1.0 p_value: nan\n"
     ]
    },
    {
     "name": "stderr",
     "output_type": "stream",
     "text": [
      "\r",
      "[====>...............]\r",
      "[====>...............]\r",
      "[====>...............]\r",
      "[====>...............]\r",
      "[====>...............]"
     ]
    },
    {
     "name": "stdout",
     "output_type": "stream",
     "text": [
      "r: [3 1 2] rating_r: [3 2 1]\n",
      "tau: 0.33333333333333337 p_value: 0.6015081344405899\n",
      "r: [2 1] rating_r: [2 1]\n",
      "tau: 1.0 p_value: nan\n",
      "r: [1 2] rating_r: [2 1]\n",
      "tau: -1.0 p_value: nan\n",
      "r: [1 2] rating_r: [2 1]\n",
      "tau: -1.0 p_value: nan\n"
     ]
    },
    {
     "name": "stderr",
     "output_type": "stream",
     "text": [
      "\r",
      "[====>...............]\r",
      "[====>...............]\r",
      "[====>...............]\r",
      "[====>...............]"
     ]
    },
    {
     "name": "stdout",
     "output_type": "stream",
     "text": [
      "r: [4 5 6 3 1 2] rating_r: [6 5 4 3 2 1]\n",
      "tau: 0.4666666666666666 p_value: 0.18848603806737485\n",
      "r: [1 2] rating_r: [2 1]\n",
      "tau: -1.0 p_value: nan\n",
      "r: [1 3 4 2] rating_r: [4 3 2 1]\n",
      "tau: -0.3333333333333334 p_value: 0.49690584756476797\n",
      "r: [5 7 4 3 6 2 1] rating_r: [7 6 5 4 3 2 1]\n",
      "tau:"
     ]
    },
    {
     "name": "stderr",
     "output_type": "stream",
     "text": [
      "\r",
      "[====>...............]\r",
      "[====>...............]\r",
      "[====>...............]\r",
      "[====>...............]"
     ]
    },
    {
     "name": "stdout",
     "output_type": "stream",
     "text": [
      " 0.6190476190476191 p_value: 0.05088574121639129\n",
      "r: [2 1] rating_r: [2 1]\n",
      "tau: 1.0 p_value: nan\n",
      "r: [1 2] rating_r: [2 1]\n",
      "tau: -1.0 p_value: nan\n",
      "r: [2 1] rating_r: [2 2]\n",
      "tau: nan p_value: nan\n",
      "r: [4 5 3 1 6 2] rating_r: [6 5 4 3 2 2]\n",
      "tau: 0.13801311186847082 p_value: 0.7020563949269414\n"
     ]
    },
    {
     "name": "stderr",
     "output_type": "stream",
     "text": [
      "\r",
      "[====>...............]\r",
      "[====>...............]\r",
      "[====>...............]"
     ]
    },
    {
     "name": "stdout",
     "output_type": "stream",
     "text": [
      "r: [3 4 1 2] rating_r: [4 3 2 2]\n",
      "tau: 0.5477225575051662 p_value: 0.2785986718379626\n",
      "r: [2 1 3] rating_r: [3 2 1]\n",
      "tau: -0.33333333333333337 p_value: 0.6015081344405899\n",
      "r: [3 2 1] rating_r: [3 2 1]\n",
      "tau: 1.0 p_value: 0.1171850871981381\n",
      "r: [5 2 4 1 3] rating_r: [5 4 3 2 1]\n",
      "tau: 0.39999999999999997 p_value: 0.32718687779030586\n"
     ]
    },
    {
     "name": "stderr",
     "output_type": "stream",
     "text": [
      "\r",
      "[====>...............]\r",
      "[====>...............]\r",
      "[====>...............]\r",
      "[====>...............]"
     ]
    },
    {
     "name": "stdout",
     "output_type": "stream",
     "text": [
      "r: [1 2] rating_r: [2 1]\n",
      "tau: -1.0 p_value: nan\n",
      "r: [2 1] rating_r: [2 1]\n",
      "tau: 1.0 p_value: nan\n",
      "r: [1 2] rating_r: [2 2]\n",
      "tau: nan p_value: nan\n",
      "r: [2 1 3] rating_r: [3 2 1]\n",
      "tau: -0.33333333333333337 p_value: 0.6015081344405899\n",
      "r: [4 2 1 3] rating_r: [4 3 2 1]\n",
      "tau: 0.3333333333333334 p_value: 0.49690584756476797\n"
     ]
    },
    {
     "name": "stderr",
     "output_type": "stream",
     "text": [
      "\r",
      "[====>...............]\r",
      "[====>...............]\r",
      "[====>...............]\r",
      "[====>...............]"
     ]
    },
    {
     "name": "stdout",
     "output_type": "stream",
     "text": [
      "r: [2 3 4 1] rating_r: [4 3 2 1]\n",
      "tau: 0.0 p_value: 1.0\n",
      "r: [7 5 2 6 3 4 1] rating_r: [7 6 5 4 3 2 1]\n",
      "tau: 0.5238095238095238 p_value: 0.09852102062039901\n",
      "r: [2 1] rating_r: [2 1]\n",
      "tau: 1.0 p_value: nan\n",
      "r: [1 2] rating_r: [2 1]\n",
      "tau: -1.0 p_value: nan\n",
      "r:"
     ]
    },
    {
     "name": "stderr",
     "output_type": "stream",
     "text": [
      "\r",
      "[====>...............]\r",
      "[====>...............]\r",
      "[====>...............]\r",
      "[====>...............]"
     ]
    },
    {
     "name": "stdout",
     "output_type": "stream",
     "text": [
      " [2 1] rating_r: [2 1]\n",
      "tau: 1.0 p_value: nan\n",
      "r: [4 5 1 3 2] rating_r: [5 4 3 2 1]\n",
      "tau: 0.39999999999999997 p_value: 0.32718687779030586\n",
      "r: [2 1] rating_r: [2 1]\n",
      "tau: 1.0 p_value: nan\n",
      "r: [2 1] rating_r: [2 1]\n",
      "tau: 1.0 p_value: nan\n",
      "r: [2 3 1 4]"
     ]
    },
    {
     "name": "stderr",
     "output_type": "stream",
     "text": [
      "\r",
      "[====>...............]\r",
      "[====>...............]\r",
      "[====>...............]\r",
      "[====>...............]\r",
      "[====>...............]\r",
      "[====>...............]"
     ]
    },
    {
     "name": "stdout",
     "output_type": "stream",
     "text": [
      " rating_r: [4 3 3 1]\n",
      "tau: -0.5477225575051662 p_value: 0.2785986718379626\n",
      "r: [2 1] rating_r: [2 1]\n",
      "tau: 1.0 p_value: nan\n",
      "r: [3 1 4 2] rating_r: [4 3 2 1]\n",
      "tau: 0.0 p_value: 1.0\n",
      "r: [2 1] rating_r: [2 1]\n",
      "tau: 1.0 p_value: nan\n",
      "r: [4 1 2 3] rating_r: [4 3 2 1]\n",
      "tau: 0.0 p_value: 1.0\n",
      "r: [1 2] rating_r: [2 1]\n",
      "tau: -1.0 p_value: nan\n"
     ]
    },
    {
     "name": "stderr",
     "output_type": "stream",
     "text": [
      "\r",
      "[====>...............]\r",
      "[====>...............]\r",
      "[====>...............]\r",
      "[====>...............]"
     ]
    },
    {
     "name": "stdout",
     "output_type": "stream",
     "text": [
      "r: [3 1 2 4] rating_r: [4 3 2 1]\n",
      "tau: -0.3333333333333334 p_value: 0.49690584756476797\n",
      "r: [2 1] rating_r: [2 1]\n",
      "tau: 1.0 p_value: nan\n",
      "r: [1 3 2] rating_r: [3 2 1]\n",
      "tau: -0.33333333333333337 p_value: 0.6015081344405899\n",
      "r: [2 1] rating_r: [2 1]\n",
      "tau: 1.0 p_value: nan\n",
      "r: [2 1] rating_r: [2 1]\n",
      "tau: 1.0 p_value: nan\n"
     ]
    },
    {
     "name": "stderr",
     "output_type": "stream",
     "text": [
      "\r",
      "[====>...............]\r",
      "[=====>..............]\r",
      "[=====>..............]\r",
      "[=====>..............]\r",
      "[=====>..............]\r",
      "[=====>..............]"
     ]
    },
    {
     "name": "stdout",
     "output_type": "stream",
     "text": [
      "r: [1 2 3] rating_r: [3 2 1]\n",
      "tau: -1.0 p_value: 0.1171850871981381\n",
      "r: [1 2] rating_r: [2 1]\n",
      "tau: -1.0 p_value: nan\n",
      "r: [3 2 1] rating_r: [3 2 1]\n",
      "tau: 1.0 p_value: 0.1171850871981381\n",
      "r: [2 1 3] rating_r: [3 2 1]\n",
      "tau: -0.33333333333333337 p_value: 0.6015081344405899\n",
      "r: [2 1] rating_r: [2 1]\n",
      "tau: 1.0 p_value: nan\n"
     ]
    },
    {
     "name": "stderr",
     "output_type": "stream",
     "text": [
      "\r",
      "[=====>..............]\r",
      "[=====>..............]\r",
      "[=====>..............]\r",
      "[=====>..............]\r",
      "[=====>..............]"
     ]
    },
    {
     "name": "stdout",
     "output_type": "stream",
     "text": [
      "r: [2 1] rating_r: [2 1]\n",
      "tau: 1.0 p_value: nan\n",
      "r: [2 1] rating_r: [2 1]\n",
      "tau: 1.0 p_value: nan\n",
      "r: [2 1] rating_r: [2 1]\n",
      "tau: 1.0 p_value: nan\n",
      "r: [2 1] rating_r: [2 1]\n",
      "tau: 1.0 p_value: nan\n",
      "r: [2 1] rating_r: [2 1]\n",
      "tau: 1.0 p_value: nan\n",
      "r: [3 1 2] rating_r: [3 2 1]\n",
      "tau: 0.33333333333333337 p_value: 0.6015081344405899\n"
     ]
    },
    {
     "name": "stderr",
     "output_type": "stream",
     "text": [
      "\r",
      "[=====>..............]\r",
      "[=====>..............]\r",
      "[=====>..............]\r",
      "[=====>..............]\r",
      "[=====>..............]\r",
      "[=====>..............]"
     ]
    },
    {
     "name": "stdout",
     "output_type": "stream",
     "text": [
      "r: [2 1] rating_r: [2 1]\n",
      "tau: 1.0 p_value: nan\n",
      "r: [3 2 1] rating_r: [3 2 1]\n",
      "tau: 1.0 p_value: 0.1171850871981381\n",
      "r: [2 1] rating_r: [2 1]\n",
      "tau: 1.0 p_value: nan\n",
      "r: [2 1] rating_r: [2 1]\n",
      "tau: 1.0 p_value: nan\n",
      "r: [4 2 3 1] rating_r: [4 3 2 1]\n",
      "tau: 0.6666666666666669 p_value: 0.1742313882480252\n"
     ]
    },
    {
     "name": "stderr",
     "output_type": "stream",
     "text": [
      "\r",
      "[=====>..............]\r",
      "[=====>..............]\r",
      "[=====>..............]\r",
      "[=====>..............]\r",
      "[=====>..............]"
     ]
    },
    {
     "name": "stdout",
     "output_type": "stream",
     "text": [
      "r: [3 1 2] rating_r: [3 2 1]\n",
      "tau: 0.33333333333333337 p_value: 0.6015081344405899\n",
      "r: [1 2] rating_r: [2 1]\n",
      "tau: -1.0 p_value: nan\n",
      "r: [3 1 2] rating_r: [3 2 1]\n",
      "tau: 0.33333333333333337 p_value: 0.6015081344405899\n",
      "r: [2 1 3] rating_r: [3 2 1]\n",
      "tau: -0.33333333333333337 p_value: 0.6015081344405899\n",
      "r: [1 3 2] rating_r: [3 2 1]\n",
      "tau: -0.33333333333333337 p_value:"
     ]
    },
    {
     "name": "stderr",
     "output_type": "stream",
     "text": [
      "\r",
      "[=====>..............]\r",
      "[=====>..............]\r",
      "[=====>..............]\r",
      "[=====>..............]"
     ]
    },
    {
     "name": "stdout",
     "output_type": "stream",
     "text": [
      " 0.6015081344405899\n",
      "r: [2 1 5 4 3] rating_r: [5 4 3 2 1]\n",
      "tau: -0.19999999999999998 p_value: 0.624206114766406\n",
      "r: [1 3 4 2] rating_r: [4 3 2 2]\n",
      "tau: -0.5477225575051662 p_value: 0.2785986718379626\n",
      "r: [2 4 1 3] rating_r: [4 3 2 1]\n",
      "tau: 0.0 p_value: 1.0\n"
     ]
    },
    {
     "name": "stderr",
     "output_type": "stream",
     "text": [
      "\r",
      "[=====>..............]\r",
      "[=====>..............]\r",
      "[=====>..............]"
     ]
    },
    {
     "name": "stdout",
     "output_type": "stream",
     "text": [
      "r: [7 4 3 2 5 6 1 8] rating_r: [8 7 6 5 4 3 2 1]\n",
      "tau: 0.0 p_value: 1.0\n",
      "r: [2 1] rating_r: [2 1]\n",
      "tau: 1.0 p_value: nan\n",
      "r: [2 1] rating_r: [2 1]\n",
      "tau: 1.0 p_value: nan\n",
      "r: [2 1] rating_r: [2 1]\n",
      "tau: 1.0 p_value: nan\n",
      "r: [1 3 2] rating_r: [3 2 1]\n",
      "tau: -0.33333333333333337 p_value: 0.6015081344405899\n",
      "r: [2 1] rating_r:"
     ]
    },
    {
     "name": "stderr",
     "output_type": "stream",
     "text": [
      "\r",
      "[=====>..............]\r",
      "[=====>..............]\r",
      "[=====>..............]\r",
      "[=====>..............]\r",
      "[=====>..............]"
     ]
    },
    {
     "name": "stdout",
     "output_type": "stream",
     "text": [
      " [2 1]\n",
      "tau: 1.0 p_value: nan\n",
      "r: [1 2] rating_r: [2 1]\n",
      "tau: -1.0 p_value: nan\n",
      "r: [6 1 5 2 4 3] rating_r: [6 5 4 3 2 1]\n",
      "tau: 0.2 p_value: 0.5730251193553904\n",
      "r: [5 4 3 2 1] rating_r: [5 4 3 2 1]\n",
      "tau: 0.9999999999999999 p_value: 0.014305878435429657\n"
     ]
    },
    {
     "name": "stderr",
     "output_type": "stream",
     "text": [
      "\r",
      "[=====>..............]\r",
      "[=====>..............]\r",
      "[=====>..............]\r",
      "[=====>..............]"
     ]
    },
    {
     "name": "stdout",
     "output_type": "stream",
     "text": [
      "r: [4 2 1 3] rating_r: [4 3 2 2]\n",
      "tau: 0.5477225575051662 p_value: 0.2785986718379626\n",
      "r: [2 1] rating_r: [2 1]\n",
      "tau: 1.0 p_value: nan\n",
      "r: [2 1] rating_r: [2 1]\n",
      "tau: 1.0 p_value: nan\n",
      "r: [2 1] rating_r: [2 1]\n",
      "tau: 1.0 p_value: nan\n",
      "r: [2 1] rating_r: [2 1]\n",
      "tau: 1.0 p_value: nan\n"
     ]
    },
    {
     "name": "stderr",
     "output_type": "stream",
     "text": [
      "\r",
      "[=====>..............]\r",
      "[=====>..............]\r",
      "[=====>..............]\r",
      "[=====>..............]\r",
      "[=====>..............]"
     ]
    },
    {
     "name": "stdout",
     "output_type": "stream",
     "text": [
      "r: [2 1 3] rating_r: [3 2 1]\n",
      "tau: -0.33333333333333337 p_value: 0.6015081344405899\n",
      "r: [2 1] rating_r: [2 2]\n",
      "tau: nan p_value: nan\n",
      "r: [2 1] rating_r: [2 1]\n",
      "tau: 1.0 p_value: nan\n",
      "r: [2 1] rating_r: [2 1]\n",
      "tau: 1.0 p_value: nan\n",
      "r: [2 1] rating_r: [2 1]\n",
      "tau: 1.0 p_value: nan\n"
     ]
    },
    {
     "name": "stderr",
     "output_type": "stream",
     "text": [
      "\r",
      "[=====>..............]\r",
      "[=====>..............]\r",
      "[=====>..............]\r",
      "[=====>..............]\r",
      "[=====>..............]"
     ]
    },
    {
     "name": "stdout",
     "output_type": "stream",
     "text": [
      "r: [1 2] rating_r: [2 1]\n",
      "tau: -1.0 p_value: nan\n",
      "r: [3 2 1] rating_r: [3 2 1]\n",
      "tau: 1.0 p_value: 0.1171850871981381\n",
      "r: [3 3 1] rating_r: [3 2 1]\n",
      "tau: 0.816496580927726 p_value: 0.22067136191984682\n",
      "r: [2 3 1] rating_r: [3 2 1]\n",
      "tau: 0.33333333333333337 p_value: 0.6015081344405899\n"
     ]
    },
    {
     "name": "stderr",
     "output_type": "stream",
     "text": [
      "\r",
      "[=====>..............]\r",
      "[=====>..............]\r",
      "[=====>..............]\r",
      "[======>.............]\r",
      "[======>.............]"
     ]
    },
    {
     "name": "stdout",
     "output_type": "stream",
     "text": [
      "r: [2 1] rating_r: [2 1]\n",
      "tau: 1.0 p_value: nan\n",
      "r: [2 1] rating_r: [2 1]\n",
      "tau: 1.0 p_value: nan\n",
      "r: [3 1 2] rating_r: [3 2 1]\n",
      "tau: 0.33333333333333337 p_value: 0.6015081344405899\n",
      "r: [2 1] rating_r: [2 1]\n",
      "tau: 1.0 p_value: nan\n",
      "r: [2 1] rating_r: [2 1]\n",
      "tau: 1.0 p_value: nan\n"
     ]
    },
    {
     "name": "stderr",
     "output_type": "stream",
     "text": [
      "\r",
      "[======>.............]\r",
      "[======>.............]\r",
      "[======>.............]\r",
      "[======>.............]\r",
      "[======>.............]"
     ]
    },
    {
     "name": "stdout",
     "output_type": "stream",
     "text": [
      "r: [5 2 3 1 5] rating_r: [5 4 3 2 1]\n",
      "tau: 0.10540925533894596 p_value: 0.8005421074231263\n",
      "r: [3 2 1] rating_r: [3 2 1]\n",
      "tau: 1.0 p_value: 0.1171850871981381\n",
      "r: [2 1] rating_r: [2 1]\n",
      "tau: 1.0 p_value: nan\n",
      "r: [3 2 1] rating_r: [3 2 1]\n",
      "tau: 1.0 p_value: 0.1171850871981381\n"
     ]
    },
    {
     "name": "stderr",
     "output_type": "stream",
     "text": [
      "\r",
      "[======>.............]\r",
      "[======>.............]\r",
      "[======>.............]\r",
      "[======>.............]"
     ]
    },
    {
     "name": "stdout",
     "output_type": "stream",
     "text": [
      "r: [3 1 2] rating_r: [3 2 1]\n",
      "tau: 0.33333333333333337 p_value: 0.6015081344405899\n",
      "r: [1 2] rating_r: [2 1]\n",
      "tau: -1.0 p_value: nan\n",
      "r: [1 2] rating_r: [2 1]\n",
      "tau: -1.0 p_value: nan\n",
      "r: [2 1] rating_r: [2 1]\n",
      "tau: 1.0 p_value: nan\n",
      "r: [2 1 3] rating_r: [3 2 1]\n",
      "tau: -0.33333333333333337 p_value: 0.6015081344405899\n"
     ]
    },
    {
     "name": "stderr",
     "output_type": "stream",
     "text": [
      "\r",
      "[======>.............]\r",
      "[======>.............]\r",
      "[======>.............]\r",
      "[======>.............]\r",
      "[======>.............]"
     ]
    },
    {
     "name": "stdout",
     "output_type": "stream",
     "text": [
      "r: [2 1] rating_r: [2 1]\n",
      "tau: 1.0 p_value: nan\n",
      "r: [3 4 1 2] rating_r: [4 3 2 1]\n",
      "tau: 0.3333333333333334 p_value: 0.49690584756476797\n",
      "r: [3 1 2] rating_r: [3 2 2]\n",
      "tau: 0.816496580927726 p_value: 0.22067136191984682\n",
      "r: [2 2] rating_r: [2 1]\n",
      "tau: nan p_value: nan\n"
     ]
    },
    {
     "name": "stderr",
     "output_type": "stream",
     "text": [
      "\r",
      "[======>.............]\r",
      "[======>.............]\r",
      "[======>.............]\r",
      "[======>.............]"
     ]
    },
    {
     "name": "stdout",
     "output_type": "stream",
     "text": [
      "r: [2 1] rating_r: [2 1]\n",
      "tau: 1.0 p_value: nan\n",
      "r: [6 3 4 7 2 1 5] rating_r: [7 6 5 4 3 2 1]\n",
      "tau: 0.23809523809523814 p_value: 0.4526892104584057\n",
      "r: [2 1] rating_r: [2 1]\n",
      "tau: 1.0 p_value: nan\n"
     ]
    },
    {
     "name": "stderr",
     "output_type": "stream",
     "text": [
      "\r",
      "[======>.............]\r",
      "[======>.............]\r",
      "[======>.............]\r",
      "[======>.............]\r",
      "[======>.............]"
     ]
    },
    {
     "name": "stdout",
     "output_type": "stream",
     "text": [
      "r: [3 2 1] rating_r: [3 2 1]\n",
      "tau: 1.0 p_value: 0.1171850871981381\n",
      "r: [1 2] rating_r: [2 1]\n",
      "tau: -1.0 p_value: nan\n",
      "r: [2 3 1] rating_r: [3 2 1]\n",
      "tau: 0.33333333333333337 p_value: 0.6015081344405899\n",
      "r: [2 2 3] rating_r: [3 2 1]\n",
      "tau: -0.816496580927726 p_value: 0.22067136191984682\n"
     ]
    },
    {
     "name": "stderr",
     "output_type": "stream",
     "text": [
      "\r",
      "[======>.............]\r",
      "[======>.............]\r",
      "[======>.............]\r",
      "[======>.............]"
     ]
    },
    {
     "name": "stdout",
     "output_type": "stream",
     "text": [
      "r: [2 3 4 1] rating_r: [4 3 2 1]\n",
      "tau: 0.0 p_value: 1.0\n",
      "r: [2 1] rating_r: [2 1]\n",
      "tau: 1.0 p_value: nan\n",
      "r: [1 2] rating_r: [2 1]\n",
      "tau: -1.0 p_value: nan\n",
      "r: [3 2 1 4] rating_r: [4 3 2 1]\n",
      "tau: 0.0 p_value: 1.0\n",
      "r: [2 1] rating_r: [2 1]\n",
      "tau: 1.0 p_value: nan\n"
     ]
    },
    {
     "name": "stderr",
     "output_type": "stream",
     "text": [
      "\r",
      "[======>.............]\r",
      "[======>.............]\r",
      "[======>.............]\r",
      "[======>.............]\r",
      "[======>.............]"
     ]
    },
    {
     "name": "stdout",
     "output_type": "stream",
     "text": [
      "r: [2 1] rating_r: [2 1]\n",
      "tau: 1.0 p_value: nan\n",
      "r: [2 1] rating_r: [2 1]\n",
      "tau: 1.0 p_value: nan\n",
      "r: [2 1 3] rating_r: [3 2 1]\n",
      "tau: -0.33333333333333337 p_value: 0.6015081344405899\n",
      "r: [4 6 5 2 3 7 1] rating_r: [7 6 5 4 4 2 1]\n",
      "tau: 0.29277002188455997 p_value: 0.3620501922003584\n",
      "r: [2 1] rating_r: [2 1]\n",
      "tau: 1.0 p_value: nan\n",
      "r: [1 2] rating_r: [2 1]\n",
      "tau: -1.0 p_value: nan\n",
      "r: [4 2 5 1 3] rating_r: [5 4 3 2 1]\n",
      "tau: 0.19999999999999998 p_value: 0.624206114766406\n"
     ]
    },
    {
     "name": "stderr",
     "output_type": "stream",
     "text": [
      "\r",
      "[======>.............]\r",
      "[======>.............]\r",
      "[======>.............]\r",
      "[======>.............]"
     ]
    },
    {
     "name": "stdout",
     "output_type": "stream",
     "text": [
      "r: [2 1 3] rating_r: [3 2 1]\n",
      "tau: -0.33333333333333337 p_value: 0.6015081344405899\n",
      "r: [1 2 3] rating_r: [3 2 1]\n",
      "tau: -1.0 p_value: 0.1171850871981381\n",
      "r: [1 3 2] rating_r: [3 2 1]\n",
      "tau: -0.33333333333333337 p_value: 0.6015081344405899\n",
      "r: [1 2] rating_r: [2 1]\n",
      "tau: -1.0 p_value: nan\n"
     ]
    },
    {
     "name": "stderr",
     "output_type": "stream",
     "text": [
      "\r",
      "[======>.............]\r",
      "[======>.............]\r",
      "[======>.............]\r",
      "[======>.............]"
     ]
    },
    {
     "name": "stdout",
     "output_type": "stream",
     "text": [
      "r: [6 3 5 2 1 8 4 7] rating_r: [8 7 7 5 4 3 2 2]\n",
      "tau: 0.0 p_value: 1.0\n",
      "r: [1 3 2] rating_r: [3 2 1]\n",
      "tau: -0.33333333333333337 p_value: 0.6015081344405899\n",
      "r: [3 2 1] rating_r: [3 2 1]\n",
      "tau: 1.0 p_value: 0.1171850871981381\n",
      "r: [2 1] rating_r: [2 1]\n",
      "tau: 1.0 p_value: nan\n"
     ]
    },
    {
     "name": "stderr",
     "output_type": "stream",
     "text": [
      "\r",
      "[======>.............]\r",
      "[======>.............]\r",
      "[======>.............]\r",
      "[======>.............]"
     ]
    },
    {
     "name": "stdout",
     "output_type": "stream",
     "text": [
      "r: [3 1 2] rating_r: [3 2 1]\n",
      "tau: 0.33333333333333337 p_value: 0.6015081344405899\n",
      "r: [1 2 4 5 3] rating_r: [5 4 3 2 1]\n",
      "tau: -0.6 p_value: 0.1416446902951368\n",
      "r: [2 1] rating_r: [2 1]\n",
      "tau: 1.0 p_value: nan\n",
      "r:"
     ]
    },
    {
     "name": "stderr",
     "output_type": "stream",
     "text": [
      "\r",
      "[======>.............]\r",
      "[======>.............]\r",
      "[======>.............]"
     ]
    },
    {
     "name": "stdout",
     "output_type": "stream",
     "text": [
      " [2 3 1] rating_r: [3 2 1]\n",
      "tau: 0.33333333333333337 p_value: 0.6015081344405899\n",
      "r: [6 4 2 1 5 3] rating_r: [6 5 4 3 2 1]\n",
      "tau: 0.3333333333333333 p_value: 0.34755803674116925\n",
      "r: [2 1 3] rating_r: [3 2 2]\n",
      "tau: 0.0 p_value: 1.0\n",
      "r: [2 1] rating_r: [2 1]\n",
      "tau: 1.0 p_value: nan\n"
     ]
    },
    {
     "name": "stderr",
     "output_type": "stream",
     "text": [
      "\r",
      "[======>.............]\r",
      "[=======>............]\r",
      "[=======>............]\r",
      "[=======>............]"
     ]
    },
    {
     "name": "stdout",
     "output_type": "stream",
     "text": [
      "r: [2 3 1 4] rating_r: [4 3 2 1]\n",
      "tau: -0.3333333333333334 p_value: 0.49690584756476797\n",
      "r: [2 1] rating_r: [2 1]\n",
      "tau: 1.0 p_value: nan\n",
      "r: [1 2] rating_r: [2 1]\n",
      "tau: -1.0 p_value: nan\n",
      "r: [1 2] rating_r: [2 1]\n",
      "tau: -1.0 p_value: nan\n",
      "r: [2 1] rating_r: [2 1]\n",
      "tau: 1.0 p_value: nan\n"
     ]
    },
    {
     "name": "stderr",
     "output_type": "stream",
     "text": [
      "\r",
      "[=======>............]\r",
      "[=======>............]\r",
      "[=======>............]\r",
      "[=======>............]\r",
      "[=======>............]"
     ]
    },
    {
     "name": "stdout",
     "output_type": "stream",
     "text": [
      "r: [4 6 1 5 3 2] rating_r: [6 5 4 3 2 1]\n",
      "tau: 0.3333333333333333 p_value: 0.34755803674116925\n",
      "r: [5 4 6 2 3 1 7] rating_r: [7 6 5 4 3 2 1]\n",
      "tau: 0.14285714285714288 p_value: 0.6523041372117631\n",
      "r: [1 2 3] rating_r: [3 2 1]\n",
      "tau: -1.0 p_value: 0.1171850871981381\n"
     ]
    },
    {
     "name": "stderr",
     "output_type": "stream",
     "text": [
      "\r",
      "[=======>............]\r",
      "[=======>............]\r",
      "[=======>............]"
     ]
    },
    {
     "name": "stdout",
     "output_type": "stream",
     "text": [
      "r: [1 2] rating_r: [2 1]\n",
      "tau: -1.0 p_value: nan\n",
      "r: [2 3 1] rating_r: [3 2 1]\n",
      "tau: 0.33333333333333337 p_value: 0.6015081344405899\n",
      "r: [2 1] rating_r: [2 1]\n",
      "tau: 1.0 p_value: nan\n",
      "r: [3 2 1] rating_r: [3 2 1]\n",
      "tau: 1.0 p_value: 0.1171850871981381\n"
     ]
    },
    {
     "name": "stderr",
     "output_type": "stream",
     "text": [
      "\r",
      "[=======>............]\r",
      "[=======>............]\r",
      "[=======>............]\r",
      "[=======>............]"
     ]
    },
    {
     "name": "stdout",
     "output_type": "stream",
     "text": [
      "r: [2 1 3] rating_r: [3 2 1]\n",
      "tau: -0.33333333333333337 p_value: 0.6015081344405899\n",
      "r: [3 2 1] rating_r: [3 2 1]\n",
      "tau: 1.0 p_value: 0.1171850871981381\n",
      "r: [2 5 1 3 4] rating_r: [5 4 3 2 1]\n",
      "tau: -0.19999999999999998 p_value: 0.624206114766406\n",
      "r:"
     ]
    },
    {
     "name": "stderr",
     "output_type": "stream",
     "text": [
      "\r",
      "[=======>............]\r",
      "[=======>............]\r",
      "[=======>............]"
     ]
    },
    {
     "name": "stdout",
     "output_type": "stream",
     "text": [
      " [2 1 3] rating_r: [3 2 1]\n",
      "tau: -0.33333333333333337 p_value: 0.6015081344405899\n",
      "r: [6 7 3 9 1 4 8 5 2] rating_r: [9 8 7 6 5 4 3 2 1]\n",
      "tau: 0.16666666666666666 p_value: 0.5316145768816123\n",
      "r: [3 2 5 1 7 6 4] rating_r: [7 6 5 4 3 3 3]\n",
      "tau: -0.4114755998989118 p_value: 0.2096602907307128\n"
     ]
    },
    {
     "name": "stderr",
     "output_type": "stream",
     "text": [
      "\r",
      "[=======>............]\r",
      "[=======>............]\r",
      "[=======>............]"
     ]
    },
    {
     "name": "stdout",
     "output_type": "stream",
     "text": [
      "r: [4 5 3 2 6 1 7] rating_r: [7 6 5 4 3 2 2]\n",
      "tau: 0.0 p_value: 1.0\n",
      "r: [3 1 2] rating_r: [3 2 1]\n",
      "tau: 0.33333333333333337 p_value: 0.6015081344405899\n",
      "r: [2 5 4 1 3] rating_r: [5 4 3 2 1]\n",
      "tau: 0.19999999999999998 p_value: 0.624206114766406\n"
     ]
    },
    {
     "name": "stderr",
     "output_type": "stream",
     "text": [
      "\r",
      "[=======>............]\r",
      "[=======>............]\r",
      "[=======>............]"
     ]
    },
    {
     "name": "stdout",
     "output_type": "stream",
     "text": [
      "r: [4 7 6 2 1 3 5] rating_r: [7 6 5 4 3 2 1]\n",
      "tau: 0.23809523809523814 p_value: 0.4526892104584057\n",
      "r: [2 1] rating_r: [2 1]\n",
      "tau: 1.0 p_value: nan\n",
      "r: [4 2 5 3 1] rating_r: [5 4 3 2 1]\n",
      "tau: 0.39999999999999997 p_value: 0.32718687779030586\n",
      "r: [1 2 3] rating_r: [3 2 1]\n",
      "tau: -1.0"
     ]
    },
    {
     "name": "stderr",
     "output_type": "stream",
     "text": [
      "\r",
      "[=======>............]\r",
      "[=======>............]\r",
      "[=======>............]\r",
      "[=======>............]"
     ]
    },
    {
     "name": "stdout",
     "output_type": "stream",
     "text": [
      " p_value: 0.1171850871981381\n",
      "r: [2 1] rating_r: [2 1]\n",
      "tau: 1.0 p_value: nan\n",
      "r: [3 1 5 2 4] rating_r: [5 4 3 2 1]\n",
      "tau: -0.19999999999999998 p_value: 0.624206114766406\n",
      "r: [1 5 2 3 5] rating_r: [5 4 3 2 1]\n",
      "tau: -0.5270462766947299 p_value: 0.20650729548542512\n",
      "r: [1 2] rating_r: [2 1]\n",
      "tau: -1.0 p_value: nan\n"
     ]
    },
    {
     "name": "stderr",
     "output_type": "stream",
     "text": [
      "\r",
      "[=======>............]\r",
      "[=======>............]\r",
      "[=======>............]\r",
      "[=======>............]"
     ]
    },
    {
     "name": "stdout",
     "output_type": "stream",
     "text": [
      "r: [1 2] rating_r: [2 1]\n",
      "tau: -1.0 p_value: nan\n",
      "r: [3 2 4 1] rating_r: [4 3 2 1]\n",
      "tau: 0.3333333333333334 p_value: 0.49690584756476797\n",
      "r: [2 1] rating_r: [2 1]\n",
      "tau: 1.0 p_value: nan\n",
      "r: [2 1] rating_r: [2 1]\n",
      "tau: 1.0 p_value: nan\n"
     ]
    },
    {
     "name": "stderr",
     "output_type": "stream",
     "text": [
      "\r",
      "[=======>............]\r",
      "[=======>............]\r",
      "[=======>............]\r",
      "[=======>............]"
     ]
    },
    {
     "name": "stdout",
     "output_type": "stream",
     "text": [
      "r: [3 1 2] rating_r: [3 2 1]\n",
      "tau: 0.33333333333333337 p_value: 0.6015081344405899\n",
      "r: [3 1 2] rating_r: [3 2 1]\n",
      "tau: 0.33333333333333337 p_value: 0.6015081344405899\n",
      "r: [3 1 2 4] rating_r: [4 3 2 1]\n",
      "tau: -0.3333333333333334 p_value: 0.49690584756476797\n",
      "r: [1 3 2] rating_r: [3 2 1]\n",
      "tau: -0.33333333333333337 p_value: 0.6015081344405899\n"
     ]
    },
    {
     "name": "stderr",
     "output_type": "stream",
     "text": [
      "\r",
      "[=======>............]\r",
      "[=======>............]\r",
      "[=======>............]\r",
      "[=======>............]"
     ]
    },
    {
     "name": "stdout",
     "output_type": "stream",
     "text": [
      "r: [3 2 1] rating_r: [3 2 1]\n",
      "tau: 1.0 p_value: 0.1171850871981381\n",
      "r: [1 3 2 6 4 5] rating_r: [6 5 4 3 2 1]\n",
      "tau: -0.6 p_value: 0.09087393998624908\n",
      "r: [1 2 3] rating_r: [3 2 1]\n",
      "tau: -1.0 p_value: 0.1171850871981381\n"
     ]
    },
    {
     "name": "stderr",
     "output_type": "stream",
     "text": [
      "\r",
      "[=======>............]\r",
      "[=======>............]\r",
      "[=======>............]"
     ]
    },
    {
     "name": "stdout",
     "output_type": "stream",
     "text": [
      "r: [4 1 2 3] rating_r: [4 3 2 1]\n",
      "tau: 0.0 p_value: 1.0\n",
      "r: [4 6 3 2 1 5 7] rating_r: [7 6 5 4 3 3 1]\n",
      "tau: 0.0 p_value: 1.0\n"
     ]
    },
    {
     "name": "stderr",
     "output_type": "stream",
     "text": [
      "\r",
      "[=======>............]\r",
      "[=======>............]"
     ]
    },
    {
     "name": "stdout",
     "output_type": "stream",
     "text": [
      "r: [4 6 7 9 1 5 2 8 3] rating_r: [9 8 7 6 5 4 3 2 1]\n",
      "tau: 0.05555555555555555 p_value: 0.8348273291852392\n",
      "r: [1 2 3] rating_r: [3 2 1]\n",
      "tau: -1.0 p_value: 0.1171850871981381\n",
      "r: [2 1] rating_r: [2 1]\n",
      "tau: 1.0 p_value: nan\n",
      "r: [2 1] rating_r: [2 1]\n",
      "tau: 1.0 p_value: nan\n",
      "r: [2 1] rating_r: [2 1]\n",
      "tau: 1.0 p_value: nan\n"
     ]
    },
    {
     "name": "stderr",
     "output_type": "stream",
     "text": [
      "\r",
      "[=======>............]\r",
      "[=======>............]\r",
      "[=======>............]\r",
      "[=======>............]\r",
      "[=======>............]"
     ]
    },
    {
     "name": "stdout",
     "output_type": "stream",
     "text": [
      "r: [3 1 2 5 6 4] rating_r: [6 5 4 3 2 1]\n",
      "tau: -0.4666666666666666 p_value: 0.18848603806737485\n",
      "r: [2 1] rating_r: [2 1]\n",
      "tau: 1.0 p_value: nan\n",
      "r: [1 2] rating_r: [2 1]\n",
      "tau: -1.0 p_value: nan\n",
      "r: [1 2] rating_r: [2 1]\n",
      "tau: -1.0 p_value: nan\n"
     ]
    },
    {
     "name": "stderr",
     "output_type": "stream",
     "text": [
      "\r",
      "[========>...........]\r",
      "[========>...........]\r",
      "[========>...........]\r",
      "[========>...........]"
     ]
    },
    {
     "name": "stdout",
     "output_type": "stream",
     "text": [
      "r: [4 3 5 2 6 1] rating_r: [6 5 4 3 2 1]\n",
      "tau: 0.2 p_value: 0.5730251193553904\n",
      "r: [1 2] rating_r: [2 1]\n",
      "tau: -1.0 p_value: nan\n",
      "r: [2 1] rating_r: [2 1]\n",
      "tau: 1.0 p_value: nan\n",
      "r: [2 2] rating_r: [2 1]\n",
      "tau: nan p_value: nan\n"
     ]
    },
    {
     "name": "stderr",
     "output_type": "stream",
     "text": [
      "\r",
      "[========>...........]\r",
      "[========>...........]\r",
      "[========>...........]\r",
      "[========>...........]\r",
      "[========>...........]"
     ]
    },
    {
     "name": "stdout",
     "output_type": "stream",
     "text": [
      "r: [1 2 4 6 5 3] rating_r: [6 5 4 3 2 1]\n",
      "tau: -0.4666666666666666 p_value: 0.18848603806737485\n",
      "r: [2 3 1] rating_r: [3 2 1]\n",
      "tau: 0.33333333333333337 p_value: 0.6015081344405899\n",
      "r: [2 1] rating_r: [2 1]\n",
      "tau: 1.0 p_value: nan\n",
      "r: [2 3 1] rating_r: [3 2 2]\n",
      "tau: 0.0 p_value: 1.0\n"
     ]
    },
    {
     "name": "stderr",
     "output_type": "stream",
     "text": [
      "\r",
      "[========>...........]\r",
      "[========>...........]\r",
      "[========>...........]\r",
      "[========>...........]"
     ]
    },
    {
     "name": "stdout",
     "output_type": "stream",
     "text": [
      "r: [3 2 1 4 5] rating_r: [5 4 3 2 1]\n",
      "tau: -0.39999999999999997 p_value: 0.32718687779030586\n",
      "r: [2 1] rating_r: [2 1]\n",
      "tau: 1.0 p_value: nan\n",
      "r: [7 4 6 8 3 5 2 1] rating_r: [8 7 6 5 4 3 2 1]\n",
      "tau: 0.5714285714285714 p_value: 0.04776124267510371\n",
      "r:"
     ]
    },
    {
     "name": "stderr",
     "output_type": "stream",
     "text": [
      "\r",
      "[========>...........]\r",
      "[========>...........]\r",
      "[========>...........]"
     ]
    },
    {
     "name": "stdout",
     "output_type": "stream",
     "text": [
      " [2 2] rating_r: [2 1]\n",
      "tau: nan p_value: nan\n",
      "r: [2 2 3] rating_r: [3 2 1]\n",
      "tau: -0.816496580927726 p_value: 0.22067136191984682\n",
      "r: [2 1] rating_r: [2 1]\n",
      "tau: 1.0 p_value: nan\n",
      "r: [4 2 7 6 1 3 5] rating_r: [7 6 5 4 3 2 2]\n",
      "tau: 0.09759000729485331 p_value: 0.7612636496364197\n"
     ]
    },
    {
     "name": "stderr",
     "output_type": "stream",
     "text": [
      "\r",
      "[========>...........]\r",
      "[========>...........]\r",
      "[========>...........]"
     ]
    },
    {
     "name": "stdout",
     "output_type": "stream",
     "text": [
      "r: [3 2 1] rating_r: [3 2 1]\n",
      "tau: 1.0 p_value: 0.1171850871981381\n",
      "r: [2 1] rating_r: [2 1]\n",
      "tau: 1.0 p_value: nan\n",
      "r: [2 1] rating_r: [2 1]\n",
      "tau: 1.0 p_value: nan\n",
      "r: [2 1] rating_r: [2 1]\n",
      "tau: 1.0 p_value: nan\n",
      "r: [4 1 3 2 5] rating_r: [5 4 3 2 1]\n",
      "tau: -0.19999999999999998 p_value: 0.624206114766406\n"
     ]
    },
    {
     "name": "stderr",
     "output_type": "stream",
     "text": [
      "\r",
      "[========>...........]\r",
      "[========>...........]\r",
      "[========>...........]\r",
      "[========>...........]\r",
      "[========>...........]\r",
      "[========>...........]"
     ]
    },
    {
     "name": "stdout",
     "output_type": "stream",
     "text": [
      "r: [2 1] rating_r: [2 1]\n",
      "tau: 1.0 p_value: nan\n",
      "r: [3 2 7 4 8 1 7 5] rating_r: [8 7 6 5 4 3 2 2]\n",
      "tau: -0.2222222222222222 p_value: 0.4510146381304556\n",
      "r: [2 1 3] rating_r: [3 2 1]\n",
      "tau: -0.33333333333333337 p_value: 0.6015081344405899\n"
     ]
    },
    {
     "name": "stderr",
     "output_type": "stream",
     "text": [
      "\r",
      "[========>...........]\r",
      "[========>...........]\r",
      "[========>...........]\r",
      "[========>...........]\r",
      "[========>...........]\r",
      "[========>...........]"
     ]
    },
    {
     "name": "stdout",
     "output_type": "stream",
     "text": [
      "r: [2 1] rating_r: [2 1]\n",
      "tau: 1.0 p_value: nan\n",
      "r: [2 1] rating_r: [2 1]\n",
      "tau: 1.0 p_value: nan\n",
      "r: [1 2] rating_r: [2 1]\n",
      "tau: -1.0 p_value: nan\n",
      "r: [1 2] rating_r: [2 1]\n",
      "tau: -1.0 p_value: nan\n",
      "r: [1 2] rating_r: [2 1]\n",
      "tau: -1.0 p_value: nan\n",
      "r: [2 1] rating_r: [2 1]\n",
      "tau: 1.0 p_value: nan\n"
     ]
    },
    {
     "name": "stderr",
     "output_type": "stream",
     "text": [
      "\r",
      "[========>...........]\r",
      "[========>...........]\r",
      "[========>...........]\r",
      "[========>...........]\r",
      "[========>...........]\r",
      "[========>...........]"
     ]
    },
    {
     "name": "stdout",
     "output_type": "stream",
     "text": [
      "r: [2 1] rating_r: [2 1]\n",
      "tau: 1.0 p_value: nan\n",
      "r: [1 2] rating_r: [2 1]\n",
      "tau: -1.0 p_value: nan\n",
      "r: [2 1 3] rating_r: [3 2 1]\n",
      "tau: -0.33333333333333337 p_value: 0.6015081344405899\n",
      "r: [2 1] rating_r: [2 1]\n",
      "tau: 1.0 p_value: nan\n",
      "r: [3 2 1] rating_r: [3 2 1]\n",
      "tau: 1.0 p_value: 0.1171850871981381\n"
     ]
    },
    {
     "name": "stderr",
     "output_type": "stream",
     "text": [
      "\r",
      "[========>...........]\r",
      "[========>...........]\r",
      "[========>...........]\r",
      "[========>...........]"
     ]
    },
    {
     "name": "stdout",
     "output_type": "stream",
     "text": [
      "r: [5 1 4 6 2 3] rating_r: [6 5 4 3 2 1]\n",
      "tau: 0.06666666666666665 p_value: 0.8509806870320558\n",
      "r: [3 2 4 1] rating_r: [4 3 2 1]\n",
      "tau: 0.3333333333333334 p_value: 0.49690584756476797\n",
      "r: [1 2] rating_r: [2 1]\n",
      "tau: -1.0 p_value: nan\n",
      "r: [1 2] rating_r: [2 1]\n",
      "tau: -1.0 p_value: nan\n"
     ]
    },
    {
     "name": "stderr",
     "output_type": "stream",
     "text": [
      "\r",
      "[========>...........]\r",
      "[========>...........]\r",
      "[========>...........]"
     ]
    },
    {
     "name": "stdout",
     "output_type": "stream",
     "text": [
      "r: [2 4 3 1] rating_r: [4 3 2 1]\n",
      "tau: 0.3333333333333334 p_value: 0.49690584756476797\n",
      "r: [2 1] rating_r: [2 1]\n",
      "tau: 1.0 p_value: nan\n",
      "r: [2 8 1 4 7 3 5 6] rating_r: [8 7 6 5 4 3 3 1]\n",
      "tau: -0.181848241863327 p_value: 0.5330356744917513\n",
      "r:"
     ]
    },
    {
     "name": "stderr",
     "output_type": "stream",
     "text": [
      "\r",
      "[========>...........]\r",
      "[========>...........]\r",
      "[========>...........]\r",
      "[========>...........]\r",
      "[========>...........]\r",
      "[========>...........]"
     ]
    },
    {
     "name": "stdout",
     "output_type": "stream",
     "text": [
      " [1 2] rating_r: [2 1]\n",
      "tau: -1.0 p_value: nan\n",
      "r: [1 2] rating_r: [2 1]\n",
      "tau: -1.0 p_value: nan\n",
      "r: [3 1 2] rating_r: [3 2 1]\n",
      "tau: 0.33333333333333337 p_value: 0.6015081344405899\n",
      "r: [2 1] rating_r: [2 1]\n",
      "tau: 1.0 p_value: nan\n",
      "r: [2 1] rating_r: [2 1]\n",
      "tau: 1.0 p_value: nan\n",
      "r: [2 3 1] rating_r: [3 2 1]\n",
      "tau: 0.33333333333333337 p_value: 0.6015081344405899\n",
      "r: [2 1] rating_r: [2 1]\n",
      "tau: 1.0 p_value: nan\n",
      "r: [1 2] rating_r: [2 1]\n",
      "tau: -1.0 p_value: nan\n",
      "r: [2 1] rating_r: [2 1]\n",
      "tau: 1.0 p_value: nan\n",
      "r: [3 4 3 1 5] rating_r: [5 4 3 2 1]\n",
      "tau: -0.10540925533894596 p_value: 0.8005421074231263\n"
     ]
    },
    {
     "name": "stderr",
     "output_type": "stream",
     "text": [
      "\r",
      "[=========>..........]\r",
      "[=========>..........]\r",
      "[=========>..........]\r",
      "[=========>..........]\r",
      "[=========>..........]"
     ]
    },
    {
     "name": "stdout",
     "output_type": "stream",
     "text": [
      "r: [1 3 2] rating_r: [3 2 1]\n",
      "tau: -0.33333333333333337 p_value: 0.6015081344405899\n",
      "r: [2 1] rating_r: [2 1]\n",
      "tau: 1.0 p_value: nan\n",
      "r: [2 1] rating_r: [2 1]\n",
      "tau: 1.0 p_value: nan\n",
      "r: [2 1] rating_r: [2 1]\n",
      "tau: 1.0 p_value: nan\n",
      "r: [1 2] rating_r: [2 1]\n",
      "tau: -1.0 p_value: nan\n",
      "r: [1 2] rating_r: [2 1]\n",
      "tau: -1.0 p_value: nan\n"
     ]
    },
    {
     "name": "stderr",
     "output_type": "stream",
     "text": [
      "\r",
      "[=========>..........]\r",
      "[=========>..........]\r",
      "[=========>..........]\r",
      "[=========>..........]\r",
      "[=========>..........]\r",
      "[=========>..........]"
     ]
    },
    {
     "name": "stdout",
     "output_type": "stream",
     "text": [
      "r: [2 1] rating_r: [2 1]\n",
      "tau: 1.0 p_value: nan\n",
      "r: [2 4 3 1] rating_r: [4 3 2 1]\n",
      "tau: 0.3333333333333334 p_value: 0.49690584756476797\n",
      "r: [2 1] rating_r: [2 1]\n",
      "tau: 1.0 p_value: nan\n"
     ]
    },
    {
     "name": "stderr",
     "output_type": "stream",
     "text": [
      "\r",
      "[=========>..........]\r",
      "[=========>..........]\r",
      "[=========>..........]"
     ]
    },
    {
     "name": "stdout",
     "output_type": "stream",
     "text": [
      "r: [1 5 4 7 3 2 6] rating_r: [7 6 5 5 3 2 1]\n",
      "tau: -0.09759000729485331 p_value: 0.7612636496364197\n",
      "r: [2 1] rating_r: [2 1]\n",
      "tau: 1.0 p_value: nan\n",
      "r: [2 3 1] rating_r: [3 2 1]\n",
      "tau: 0.33333333333333337 p_value: 0.6015081344405899\n",
      "r: [3 2 1] rating_r: [3 2 1]\n",
      "tau: 1.0 p_value: 0.1171850871981381\n",
      "r:"
     ]
    },
    {
     "name": "stderr",
     "output_type": "stream",
     "text": [
      "\r",
      "[=========>..........]\r",
      "[=========>..........]\r",
      "[=========>..........]\r",
      "[=========>..........]"
     ]
    },
    {
     "name": "stdout",
     "output_type": "stream",
     "text": [
      " [3 1 2] rating_r: [3 2 1]\n",
      "tau: 0.33333333333333337 p_value: 0.6015081344405899\n",
      "r: [2 1] rating_r: [2 1]\n",
      "tau: 1.0 p_value: nan\n",
      "r: [3 1 2] rating_r: [3 2 1]\n",
      "tau: 0.33333333333333337 p_value: 0.6015081344405899\n",
      "r: [1 2] rating_r: [2 1]\n",
      "tau: -1.0 p_value: nan\n",
      "r: [2 1] rating_r: [2 1]\n",
      "tau: 1.0 p_value: nan\n"
     ]
    },
    {
     "name": "stderr",
     "output_type": "stream",
     "text": [
      "\r",
      "[=========>..........]\r",
      "[=========>..........]\r",
      "[=========>..........]\r",
      "[=========>..........]\r",
      "[=========>..........]"
     ]
    },
    {
     "name": "stdout",
     "output_type": "stream",
     "text": [
      "r: [4 3 2 1] rating_r: [4 3 2 2]\n",
      "tau: 0.9128709291752769 p_value: 0.07095149242730567\n",
      "r: [2 1] rating_r: [2 1]\n",
      "tau: 1.0 p_value: nan\n",
      "r: [1 3 2] rating_r: [3 2 1]\n",
      "tau: -0.33333333333333337 p_value: 0.6015081344405899\n",
      "r: [1 2] rating_r: [2 1]\n",
      "tau: -1.0 p_value: nan\n",
      "r: [2 1] rating_r: [2 1]\n",
      "tau: 1.0 p_value: nan\n",
      "r: [2 1] rating_r: [2 1]"
     ]
    },
    {
     "name": "stderr",
     "output_type": "stream",
     "text": [
      "\r",
      "[=========>..........]\r",
      "[=========>..........]\r",
      "[=========>..........]\r",
      "[=========>..........]\r",
      "[=========>..........]\r",
      "[=========>..........]"
     ]
    },
    {
     "name": "stdout",
     "output_type": "stream",
     "text": [
      "\n",
      "tau: 1.0 p_value: nan\n",
      "r: [2 1] rating_r: [2 1]\n",
      "tau: 1.0 p_value: nan\n",
      "r: [2 1] rating_r: [2 1]\n",
      "tau: 1.0 p_value: nan\n",
      "r: [2 4 3 1] rating_r: [4 3 2 1]\n",
      "tau: 0.3333333333333334 p_value: 0.49690584756476797\n",
      "r: [4 1 3 2] rating_r: [4 3 2 1]\n",
      "tau: 0.3333333333333334 p_value: 0.49690584756476797\n"
     ]
    },
    {
     "name": "stderr",
     "output_type": "stream",
     "text": [
      "\r",
      "[=========>..........]\r",
      "[=========>..........]\r",
      "[=========>..........]\r",
      "[=========>..........]"
     ]
    },
    {
     "name": "stdout",
     "output_type": "stream",
     "text": [
      "r: [2 1 3] rating_r: [3 2 2]\n",
      "tau: 0.0 p_value: 1.0\n",
      "r: [8 8 9 4 6 1 5 4 2] rating_r: [9 8 7 6 5 4 3 2 1]\n",
      "tau: 0.5716619504750294 p_value: 0.035014981019662494\n",
      "r: [2 1] rating_r: [2 1]\n",
      "tau: 1.0 p_value: nan\n"
     ]
    },
    {
     "name": "stderr",
     "output_type": "stream",
     "text": [
      "\r",
      "[=========>..........]\r",
      "[=========>..........]\r",
      "[=========>..........]"
     ]
    },
    {
     "name": "stdout",
     "output_type": "stream",
     "text": [
      "r: [1 2] rating_r: [2 1]\n",
      "tau: -1.0 p_value: nan\n",
      "r: [4 1 3 2] rating_r: [4 3 2 1]\n",
      "tau: 0.3333333333333334 p_value: 0.49690584756476797\n",
      "r: [1 3 2] rating_r: [3 2 1]\n",
      "tau: -0.33333333333333337 p_value: 0.6015081344405899\n",
      "r: [4 2 1 3] rating_r: [4 3 2 1]\n",
      "tau: 0.3333333333333334 p_value: 0.49690584756476797\n"
     ]
    },
    {
     "name": "stderr",
     "output_type": "stream",
     "text": [
      "\r",
      "[=========>..........]\r",
      "[=========>..........]\r",
      "[=========>..........]\r",
      "[=========>..........]"
     ]
    },
    {
     "name": "stdout",
     "output_type": "stream",
     "text": [
      "r: [3 2 1] rating_r: [3 2 1]\n",
      "tau: 1.0 p_value: 0.1171850871981381\n",
      "r: [2 1] rating_r: [2 1]\n",
      "tau: 1.0 p_value: nan\n",
      "r: [1 7 5 3 4 2 6] rating_r: [7 6 5 4 3 2 1]\n",
      "tau: -0.04761904761904762 p_value: 0.8806164096519663\n",
      "r: [2 1] rating_r: [2 1]\n",
      "tau: 1.0 p_value: nan\n"
     ]
    },
    {
     "name": "stderr",
     "output_type": "stream",
     "text": [
      "\r",
      "[=========>..........]\r",
      "[=========>..........]\r",
      "[=========>..........]\r",
      "[=========>..........]"
     ]
    },
    {
     "name": "stdout",
     "output_type": "stream",
     "text": [
      "r: [3 2 4 1] rating_r: [4 3 2 1]\n",
      "tau: 0.3333333333333334 p_value: 0.49690584756476797\n",
      "r: [2 1] rating_r: [2 2]\n",
      "tau: nan p_value: nan\n",
      "r: [1 2] rating_r: [2 1]\n",
      "tau: -1.0 p_value: nan\n",
      "r: [2 1] rating_r: [2 1]\n",
      "tau: 1.0 p_value: nan\n",
      "r: [1 2] rating_r: [2 1]\n",
      "tau: -1.0 p_value: nan\n",
      "r: [1 2 3] rating_r: [3 2 1]\n",
      "tau: -1.0 p_value: 0.1171850871981381\n"
     ]
    },
    {
     "name": "stderr",
     "output_type": "stream",
     "text": [
      "\r",
      "[=========>..........]\r",
      "[=========>..........]\r",
      "[=========>..........]\r",
      "[=========>..........]\r",
      "[=========>..........]\r",
      "[=========>..........]"
     ]
    },
    {
     "name": "stdout",
     "output_type": "stream",
     "text": [
      "r: [2 1] rating_r: [2 1]\n",
      "tau: 1.0 p_value: nan\n",
      "r: [2 3 1] rating_r: [3 2 1]\n",
      "tau: 0.33333333333333337 p_value: 0.6015081344405899\n",
      "r: [2 1] rating_r: [2 1]\n",
      "tau: 1.0 p_value: nan\n",
      "r: [1 2] rating_r: [2 1]\n",
      "tau: -1.0 p_value: nan\n",
      "r: [3 1 2] rating_r: [3 2 1]\n",
      "tau: 0.33333333333333337 p_value: 0.6015081344405899\n"
     ]
    },
    {
     "name": "stderr",
     "output_type": "stream",
     "text": [
      "\r",
      "[==========>.........]\r",
      "[==========>.........]\r",
      "[==========>.........]\r",
      "[==========>.........]\r",
      "[==========>.........]"
     ]
    },
    {
     "name": "stdout",
     "output_type": "stream",
     "text": [
      "r: [3 1 2] rating_r: [3 2 1]\n",
      "tau: 0.33333333333333337 p_value: 0.6015081344405899\n",
      "r: [2 3 4 1] rating_r: [4 3 2 1]\n",
      "tau: 0.0 p_value: 1.0\n",
      "r: [1 3 2] rating_r: [3 2 1]\n",
      "tau: -0.33333333333333337 p_value: 0.6015081344405899\n",
      "r: [2 1] rating_r: [2 1]\n",
      "tau: 1.0 p_value: nan\n"
     ]
    },
    {
     "name": "stderr",
     "output_type": "stream",
     "text": [
      "\r",
      "[==========>.........]\r",
      "[==========>.........]\r",
      "[==========>.........]\r",
      "[==========>.........]"
     ]
    },
    {
     "name": "stdout",
     "output_type": "stream",
     "text": [
      "r: [1 3 2] rating_r: [3 2 2]\n",
      "tau: -0.816496580927726 p_value: 0.22067136191984682\n",
      "r: [3 1 2] rating_r: [3 2 1]\n",
      "tau: 0.33333333333333337 p_value: 0.6015081344405899\n",
      "r: [1 3 2 4] rating_r: [4 3 2 1]\n",
      "tau: -0.6666666666666669 p_value: 0.1742313882480252\n",
      "r: [2 1] rating_r: [2 1]\n",
      "tau: 1.0 p_value: nan\n",
      "r:"
     ]
    },
    {
     "name": "stderr",
     "output_type": "stream",
     "text": [
      "\r",
      "[==========>.........]\r",
      "[==========>.........]\r",
      "[==========>.........]\r",
      "[==========>.........]"
     ]
    },
    {
     "name": "stdout",
     "output_type": "stream",
     "text": [
      " [1 2] rating_r: [2 1]\n",
      "tau: -1.0 p_value: nan\n",
      "r: [1 2 4 5 3] rating_r: [5 4 3 2 1]\n",
      "tau: -0.6 p_value: 0.1416446902951368\n",
      "r: [2 1] rating_r: [2 1]\n",
      "tau: 1.0 p_value: nan\n",
      "r: [2 1] rating_r: [2 1]\n",
      "tau: 1.0 p_value: nan\n",
      "r: [2 1] rating_r: [2 1]\n",
      "tau: 1.0 p_value: nan\n",
      "r: [3 1 2] rating_r: [3 2 1]\n",
      "tau: 0.33333333333333337 p_value: 0.6015081344405899\n"
     ]
    },
    {
     "name": "stderr",
     "output_type": "stream",
     "text": [
      "\r",
      "[==========>.........]\r",
      "[==========>.........]\r",
      "[==========>.........]\r",
      "[==========>.........]\r",
      "[==========>.........]\r",
      "[==========>.........]"
     ]
    },
    {
     "name": "stdout",
     "output_type": "stream",
     "text": [
      "r: [5 3 2 4 1] rating_r: [5 4 3 2 2]\n",
      "tau: 0.5270462766947298 p_value: 0.20650729548542512\n",
      "r: [3 1 2] rating_r: [3 2 1]\n",
      "tau: 0.33333333333333337 p_value: 0.6015081344405899\n",
      "r: [2 1] rating_r: [2 1]\n",
      "tau: 1.0 p_value: nan\n",
      "r: [2 1] rating_r: [2 1]\n",
      "tau: 1.0 p_value: nan\n",
      "r: [1 2] rating_r: [2 1]\n",
      "tau: -1.0 p_value: nan\n"
     ]
    },
    {
     "name": "stderr",
     "output_type": "stream",
     "text": [
      "\r",
      "[==========>.........]\r",
      "[==========>.........]\r",
      "[==========>.........]\r",
      "[==========>.........]\r",
      "[==========>.........]"
     ]
    },
    {
     "name": "stdout",
     "output_type": "stream",
     "text": [
      "r: [2 1] rating_r: [2 1]\n",
      "tau: 1.0 p_value: nan\n",
      "r: [1 2] rating_r: [2 1]\n",
      "tau: -1.0 p_value: nan\n",
      "r: [3 1 2 4] rating_r: [4 3 2 1]\n",
      "tau: -0.3333333333333334 p_value: 0.49690584756476797\n",
      "r: [3 1 2] rating_r: [3 2 1]\n",
      "tau: 0.33333333333333337 p_value: 0.6015081344405899\n",
      "r: [1 2] rating_r:"
     ]
    },
    {
     "name": "stderr",
     "output_type": "stream",
     "text": [
      "\r",
      "[==========>.........]\r",
      "[==========>.........]\r",
      "[==========>.........]\r",
      "[==========>.........]\r",
      "[==========>.........]"
     ]
    },
    {
     "name": "stdout",
     "output_type": "stream",
     "text": [
      " [2 1]\n",
      "tau: -1.0 p_value: nan\n",
      "r: [3 2 1] rating_r: [3 2 1]\n",
      "tau: 1.0 p_value: 0.1171850871981381\n",
      "r: [3 1 2 4] rating_r: [4 3 2 1]\n",
      "tau: -0.3333333333333334 p_value: 0.49690584756476797\n",
      "r: [2 1] rating_r: [2 1]\n",
      "tau: 1.0 p_value: nan\n",
      "r: [3 4 2 1] rating_r: [4 3 2 1]\n",
      "tau: 0.6666666666666669 p_value: 0.1742313882480252\n"
     ]
    },
    {
     "name": "stderr",
     "output_type": "stream",
     "text": [
      "\r",
      "[==========>.........]\r",
      "[==========>.........]\r",
      "[==========>.........]\r",
      "[==========>.........]"
     ]
    },
    {
     "name": "stdout",
     "output_type": "stream",
     "text": [
      "r: [3 1 2] rating_r: [3 2 2]\n",
      "tau: 0.816496580927726 p_value: 0.22067136191984682\n",
      "r: [4 1 5 2 3] rating_r: [5 4 3 2 1]\n",
      "tau: 0.0 p_value: 1.0\n",
      "r: [4 2 3 1] rating_r: [4 3 2 1]\n",
      "tau: 0.6666666666666669 p_value: 0.1742313882480252\n",
      "r:"
     ]
    },
    {
     "name": "stderr",
     "output_type": "stream",
     "text": [
      "\r",
      "[==========>.........]\r",
      "[==========>.........]\r",
      "[==========>.........]\r",
      "[==========>.........]"
     ]
    },
    {
     "name": "stdout",
     "output_type": "stream",
     "text": [
      " [1 2 3] rating_r: [3 2 2]\n",
      "tau: -0.816496580927726 p_value: 0.22067136191984682\n",
      "r: [2 1] rating_r: [2 1]\n",
      "tau: 1.0 p_value: nan\n",
      "r: [4 3 2 5 1] rating_r: [5 4 3 2 1]\n",
      "tau: 0.39999999999999997 p_value: 0.32718687779030586\n",
      "r: [2 1] rating_r: [2 1]\n",
      "tau: 1.0 p_value: nan\n",
      "r:"
     ]
    },
    {
     "name": "stderr",
     "output_type": "stream",
     "text": [
      "\r",
      "[==========>.........]\r",
      "[==========>.........]\r",
      "[==========>.........]\r",
      "[==========>.........]\r",
      "[==========>.........]"
     ]
    },
    {
     "name": "stdout",
     "output_type": "stream",
     "text": [
      " [3 1 2] rating_r: [3 2 1]\n",
      "tau: 0.33333333333333337 p_value: 0.6015081344405899\n",
      "r: [2 1] rating_r: [2 1]\n",
      "tau: 1.0 p_value: nan\n",
      "r: [1 2] rating_r: [2 1]\n",
      "tau: -1.0 p_value: nan\n",
      "r: [2 1] rating_r: [2 1]\n",
      "tau: 1.0 p_value: nan\n",
      "r: [1 2] rating_r: [2 1]\n",
      "tau: -1.0 p_value: nan\n",
      "r: [2 4 1 3] rating_r: [4 3 2 1]\n",
      "tau:"
     ]
    },
    {
     "name": "stderr",
     "output_type": "stream",
     "text": [
      "\r",
      "[==========>.........]\r",
      "[==========>.........]\r",
      "[==========>.........]\r",
      "[==========>.........]\r",
      "[==========>.........]"
     ]
    },
    {
     "name": "stdout",
     "output_type": "stream",
     "text": [
      " 0.0 p_value: 1.0\n",
      "r: [3 3 1] rating_r: [3 2 1]\n",
      "tau: 0.816496580927726 p_value: 0.22067136191984682\n",
      "r: [1 2] rating_r: [2 1]\n",
      "tau: -1.0 p_value: nan\n",
      "r: [3 1 4 2] rating_r: [4 3 2 1]\n",
      "tau: 0.0 p_value: 1.0\n",
      "r: [3 2 1] rating_r: [3 2 1]\n",
      "tau: 1.0 p_value: 0.1171850871981381\n"
     ]
    },
    {
     "name": "stderr",
     "output_type": "stream",
     "text": [
      "\r",
      "[==========>.........]\r",
      "[==========>.........]\r",
      "[==========>.........]\r",
      "[===========>........]"
     ]
    },
    {
     "name": "stdout",
     "output_type": "stream",
     "text": [
      "r: [4 2 3 1] rating_r: [4 3 2 1]\n",
      "tau: 0.6666666666666669 p_value: 0.1742313882480252\n",
      "r: [1 2] rating_r: [2 1]\n",
      "tau: -1.0 p_value: nan\n",
      "r: [2 1] rating_r: [2 1]\n",
      "tau: 1.0 p_value: nan\n",
      "r: [2 3 1] rating_r: [3 2 1]\n",
      "tau: 0.33333333333333337 p_value: 0.6015081344405899\n",
      "r: [1 2] rating_r: [2 1]\n",
      "tau: -1.0 p_value: nan\n",
      "r: [1 2] rating_r: [2 1]\n",
      "tau: -1.0 p_value: nan\n"
     ]
    },
    {
     "name": "stderr",
     "output_type": "stream",
     "text": [
      "\r",
      "[===========>........]\r",
      "[===========>........]\r",
      "[===========>........]\r",
      "[===========>........]\r",
      "[===========>........]\r",
      "[===========>........]"
     ]
    },
    {
     "name": "stdout",
     "output_type": "stream",
     "text": [
      "r: [1 2] rating_r: [2 1]\n",
      "tau: -1.0 p_value: nan\n",
      "r: [3 2 1] rating_r: [3 2 1]\n",
      "tau: 1.0 p_value: 0.1171850871981381\n",
      "r: [3 2 1] rating_r: [3 2 1]\n",
      "tau: 1.0 p_value: 0.1171850871981381\n",
      "r: [3 2 4 1] rating_r: [4 3 3 1]\n",
      "tau: 0.5477225575051662 p_value: 0.2785986718379626\n"
     ]
    },
    {
     "name": "stderr",
     "output_type": "stream",
     "text": [
      "\r",
      "[===========>........]\r",
      "[===========>........]\r",
      "[===========>........]\r",
      "[===========>........]"
     ]
    },
    {
     "name": "stdout",
     "output_type": "stream",
     "text": [
      "r: [1 2 3] rating_r: [3 2 1]\n",
      "tau: -1.0 p_value: 0.1171850871981381\n",
      "r: [3 2 1] rating_r: [3 2 1]\n",
      "tau: 1.0 p_value: 0.1171850871981381\n",
      "r: [2 1] rating_r: [2 1]\n",
      "tau: 1.0 p_value: nan\n",
      "r: [1 2] rating_r: [2 1]\n",
      "tau: -1.0 p_value: nan\n",
      "r: [2 1] rating_r: [2 1]\n",
      "tau: 1.0 p_value: nan\n"
     ]
    },
    {
     "name": "stderr",
     "output_type": "stream",
     "text": [
      "\r",
      "[===========>........]\r",
      "[===========>........]\r",
      "[===========>........]\r",
      "[===========>........]"
     ]
    },
    {
     "name": "stdout",
     "output_type": "stream",
     "text": [
      "r: [4 6 2 3 1 5] rating_r: [6 5 4 3 2 1]\n",
      "tau: 0.2 p_value: 0.5730251193553904\n",
      "r: [2 3 4 1 5] rating_r: [5 4 3 2 1]\n",
      "tau: -0.39999999999999997 p_value: 0.32718687779030586\n",
      "r: [1 2] rating_r: [2 1]\n",
      "tau: -1.0 p_value: nan\n",
      "r: [2 1] rating_r: [2 1]\n",
      "tau: 1.0 p_value: nan\n",
      "r: [1 2] rating_r: [2 1]"
     ]
    },
    {
     "name": "stderr",
     "output_type": "stream",
     "text": [
      "\r",
      "[===========>........]\r",
      "[===========>........]\r",
      "[===========>........]\r",
      "[===========>........]\r",
      "[===========>........]\r",
      "[===========>........]"
     ]
    },
    {
     "name": "stdout",
     "output_type": "stream",
     "text": [
      "\n",
      "tau: -1.0 p_value: nan\n",
      "r: [1 2] rating_r: [2 1]\n",
      "tau: -1.0 p_value: nan\n",
      "r: [1 2] rating_r: [2 1]\n",
      "tau: -1.0 p_value: nan\n",
      "r: [1 2 3] rating_r: [3 2 1]\n",
      "tau: -1.0 p_value: 0.1171850871981381\n",
      "r: [2 4 3 1 5] rating_r: [5 4 3 2 2]\n",
      "tau: -0.10540925533894598 p_value: 0.8005421074231263\n"
     ]
    },
    {
     "name": "stderr",
     "output_type": "stream",
     "text": [
      "\r",
      "[===========>........]\r",
      "[===========>........]\r",
      "[===========>........]"
     ]
    },
    {
     "name": "stdout",
     "output_type": "stream",
     "text": [
      "r: [2 1 3] rating_r: [3 2 1]\n",
      "tau: -0.33333333333333337 p_value: 0.6015081344405899\n",
      "r: [2 1] rating_r: [2 1]\n",
      "tau: 1.0 p_value: nan\n",
      "r: [5 1 2 3 4] rating_r: [5 4 3 2 1]\n",
      "tau: -0.19999999999999998 p_value: 0.624206114766406\n",
      "r: [2 2] rating_r: [2 1]\n",
      "tau: nan p_value: nan\n",
      "r: "
     ]
    },
    {
     "name": "stderr",
     "output_type": "stream",
     "text": [
      "\r",
      "[===========>........]\r",
      "[===========>........]\r",
      "[===========>........]\r",
      "[===========>........]"
     ]
    },
    {
     "name": "stdout",
     "output_type": "stream",
     "text": [
      "[3 2 1] rating_r: [3 2 1]\n",
      "tau: 1.0 p_value: 0.1171850871981381\n",
      "r: [2 3 1] rating_r: [3 2 1]\n",
      "tau: 0.33333333333333337 p_value: 0.6015081344405899\n",
      "r: [2 1] rating_r: [2 1]\n",
      "tau: 1.0 p_value: nan\n",
      "r: [1 2 3] rating_r: [3 2 1]\n",
      "tau: -1.0 p_value: 0.1171850871981381\n",
      "r: [1 2] rating_r: [2 1]\n",
      "tau: -1.0 p_value: nan\n"
     ]
    },
    {
     "name": "stderr",
     "output_type": "stream",
     "text": [
      "\r",
      "[===========>........]\r",
      "[===========>........]\r",
      "[===========>........]\r",
      "[===========>........]\r",
      "[===========>........]\r",
      "[===========>........]"
     ]
    },
    {
     "name": "stdout",
     "output_type": "stream",
     "text": [
      "r: [2 1] rating_r: [2 1]\n",
      "tau: 1.0 p_value: nan\n",
      "r: [2 3 1] rating_r: [3 2 1]\n",
      "tau: 0.33333333333333337 p_value: 0.6015081344405899\n",
      "r: [2 1] rating_r: [2 1]\n",
      "tau: 1.0 p_value: nan\n",
      "r: [2 1] rating_r: [2 1]\n",
      "tau: 1.0 p_value: nan\n",
      "r: [2 1 3] rating_r: [3 2 1]\n",
      "tau: -0.33333333333333337 p_value: 0.6015081344405899\n"
     ]
    },
    {
     "name": "stderr",
     "output_type": "stream",
     "text": [
      "\r",
      "[===========>........]\r",
      "[===========>........]\r",
      "[===========>........]\r",
      "[===========>........]"
     ]
    },
    {
     "name": "stdout",
     "output_type": "stream",
     "text": [
      "r: [1 3 4 5 2] rating_r: [5 4 3 2 2]\n",
      "tau: -0.5270462766947298 p_value: 0.20650729548542512\n",
      "r: [2 1] rating_r: [2 1]\n",
      "tau: 1.0 p_value: nan\n",
      "r: [4 1 5 2 3] rating_r: [5 4 3 2 2]\n",
      "tau: 0.10540925533894598 p_value: 0.8005421074231263\n",
      "r: [2 1] rating_r: [2 1]\n",
      "tau: 1.0 p_value: nan\n",
      "r: [2 1] rating_r: [2 1]\n",
      "tau: 1.0 p_value: nan\n"
     ]
    },
    {
     "name": "stderr",
     "output_type": "stream",
     "text": [
      "\r",
      "[===========>........]\r",
      "[===========>........]\r",
      "[===========>........]\r",
      "[===========>........]\r",
      "[===========>........]"
     ]
    },
    {
     "name": "stdout",
     "output_type": "stream",
     "text": [
      "r: [4 3 1 2] rating_r: [4 3 2 1]\n",
      "tau: 0.6666666666666669 p_value: 0.1742313882480252\n",
      "r: [2 1] rating_r: [2 1]\n",
      "tau: 1.0 p_value: nan\n",
      "r: [1 2] rating_r: [2 1]\n",
      "tau: -1.0 p_value: nan\n",
      "r: [2 1 3] rating_r: [3 2 1]\n",
      "tau: -0.33333333333333337 p_value: 0.6015081344405899\n",
      "r: [2 1] rating_r: [2 1]\n",
      "tau: 1.0 p_value: nan\n"
     ]
    },
    {
     "name": "stderr",
     "output_type": "stream",
     "text": [
      "\r",
      "[===========>........]\r",
      "[===========>........]\r",
      "[===========>........]\r",
      "[===========>........]\r",
      "[===========>........]"
     ]
    },
    {
     "name": "stdout",
     "output_type": "stream",
     "text": [
      "r: [1 2] rating_r: [2 1]\n",
      "tau: -1.0 p_value: nan\n",
      "r: [1 2 3] rating_r: [3 2 1]\n",
      "tau: -1.0 p_value: 0.1171850871981381\n",
      "r: [3 2 1] rating_r: [3 2 1]\n",
      "tau: 1.0 p_value: 0.1171850871981381\n",
      "r: [1 2] rating_r: [2 1]\n",
      "tau: -1.0 p_value: nan\n",
      "r: [1 2] rating_r: [2 1]\n",
      "tau: -1.0 p_value: nan\n"
     ]
    },
    {
     "name": "stderr",
     "output_type": "stream",
     "text": [
      "\r",
      "[===========>........]\r",
      "[===========>........]\r",
      "[============>.......]\r",
      "[============>.......]\r",
      "[============>.......]"
     ]
    },
    {
     "name": "stdout",
     "output_type": "stream",
     "text": [
      "r: [2 1] rating_r: [2 1]\n",
      "tau: 1.0 p_value: nan\n",
      "r: [2 1] rating_r: [2 1]\n",
      "tau: 1.0 p_value: nan\n",
      "r: [3 7 5 2 4 6 1] rating_r: [7 6 5 4 3 2 1]\n",
      "tau: 0.23809523809523814 p_value: 0.4526892104584057\n",
      "r: [1 2 3] rating_r: [3 2 1]\n",
      "tau: -1.0 p_value: 0.1171850871981381\n"
     ]
    },
    {
     "name": "stderr",
     "output_type": "stream",
     "text": [
      "\r",
      "[============>.......]\r",
      "[============>.......]\r",
      "[============>.......]\r",
      "[============>.......]"
     ]
    },
    {
     "name": "stdout",
     "output_type": "stream",
     "text": [
      "r: [1 2] rating_r: [2 1]\n",
      "tau: -1.0 p_value: nan\n",
      "r: [2 1] rating_r: [2 1]\n",
      "tau: 1.0 p_value: nan\n",
      "r: [2 4 5 3 1 6] rating_r: [6 5 4 3 2 1]\n",
      "tau: -0.2 p_value: 0.5730251193553904\n",
      "r: [2 3 1] rating_r: [3 2 1]\n",
      "tau: 0.33333333333333337 p_value: 0.6015081344405899\n"
     ]
    },
    {
     "name": "stderr",
     "output_type": "stream",
     "text": [
      "\r",
      "[============>.......]\r",
      "[============>.......]\r",
      "[============>.......]\r",
      "[============>.......]"
     ]
    },
    {
     "name": "stdout",
     "output_type": "stream",
     "text": [
      "r: [2 1] rating_r: [2 1]\n",
      "tau: 1.0 p_value: nan\n",
      "r: [5 6 3 1 2 4] rating_r: [6 5 4 3 2 1]\n",
      "tau: 0.3333333333333333 p_value: 0.34755803674116925\n",
      "r: [1 2] rating_r: [2 1]\n",
      "tau: -1.0 p_value: nan\n",
      "r: [2 1] rating_r: [2 1]\n",
      "tau: 1.0 p_value: nan\n"
     ]
    },
    {
     "name": "stderr",
     "output_type": "stream",
     "text": [
      "\r",
      "[============>.......]\r",
      "[============>.......]\r",
      "[============>.......]\r",
      "[============>.......]"
     ]
    },
    {
     "name": "stdout",
     "output_type": "stream",
     "text": [
      "r: [1 3 2] rating_r: [3 2 1]\n",
      "tau: -0.33333333333333337 p_value: 0.6015081344405899\n",
      "r: [1 2] rating_r: [2 1]\n",
      "tau: -1.0 p_value: nan\n",
      "r: [7 4 2 1 3 6 5] rating_r: [7 6 5 4 3 2 1]\n",
      "tau: 0.04761904761904762 p_value: 0.8806164096519663\n",
      "r: [1 2] rating_r: [2 1]\n",
      "tau: -1.0 p_value: nan\n"
     ]
    },
    {
     "name": "stderr",
     "output_type": "stream",
     "text": [
      "\r",
      "[============>.......]\r",
      "[============>.......]\r",
      "[============>.......]\r",
      "[============>.......]"
     ]
    },
    {
     "name": "stdout",
     "output_type": "stream",
     "text": [
      "r: [1 2] rating_r: [2 1]\n",
      "tau: -1.0 p_value: nan\n",
      "r: [1 2 3] rating_r: [3 2 1]\n",
      "tau: -1.0 p_value: 0.1171850871981381\n",
      "r: [4 2 3 1] rating_r: [4 3 2 1]\n",
      "tau: 0.6666666666666669 p_value: 0.1742313882480252\n",
      "r: [2 1] rating_r: [2 1]\n",
      "tau: 1.0 p_value: nan\n",
      "r:"
     ]
    },
    {
     "name": "stderr",
     "output_type": "stream",
     "text": [
      "\r",
      "[============>.......]\r",
      "[============>.......]\r",
      "[============>.......]\r",
      "[============>.......]"
     ]
    },
    {
     "name": "stdout",
     "output_type": "stream",
     "text": [
      " [3 1 2] rating_r: [3 2 2]\n",
      "tau: 0.816496580927726 p_value: 0.22067136191984682\n",
      "r: [2 3 1] rating_r: [3 2 1]\n",
      "tau: 0.33333333333333337 p_value: 0.6015081344405899\n",
      "r: [1 2 3] rating_r: [3 2 1]\n",
      "tau: -1.0 p_value: 0.1171850871981381\n",
      "r: [5 2 6 1 3 4] rating_r: [6 5 4 3 2 1]\n",
      "tau: 0.06666666666666665 p_value: 0.8509806870320558\n"
     ]
    },
    {
     "name": "stderr",
     "output_type": "stream",
     "text": [
      "\r",
      "[============>.......]\r",
      "[============>.......]\r",
      "[============>.......]\r",
      "[============>.......]\r",
      "[============>.......]"
     ]
    },
    {
     "name": "stdout",
     "output_type": "stream",
     "text": [
      "r: [3 1 2] rating_r: [3 2 1]\n",
      "tau: 0.33333333333333337 p_value: 0.6015081344405899\n",
      "r: [2 1] rating_r: [2 1]\n",
      "tau: 1.0 p_value: nan\n",
      "r: [2 1] rating_r: [2 1]\n",
      "tau: 1.0 p_value: nan\n",
      "r: [4 2 1 3] rating_r: [4 3 2 1]\n",
      "tau: 0.3333333333333334 p_value: 0.49690584756476797\n"
     ]
    },
    {
     "name": "stderr",
     "output_type": "stream",
     "text": [
      "\r",
      "[============>.......]\r",
      "[============>.......]\r",
      "[============>.......]"
     ]
    },
    {
     "name": "stdout",
     "output_type": "stream",
     "text": [
      "r: [4 2 5 3 6 2] rating_r: [6 5 4 3 2 1]\n",
      "tau: 0.0 p_value: 1.0\n",
      "r: [1 3 2] rating_r: [3 2 1]\n",
      "tau: -0.33333333333333337 p_value: 0.6015081344405899\n",
      "r: [2 1 3] rating_r: [3 2 1]\n",
      "tau: -0.33333333333333337 p_value: 0.6015081344405899\n"
     ]
    },
    {
     "name": "stderr",
     "output_type": "stream",
     "text": [
      "\r",
      "[============>.......]\r",
      "[============>.......]\r",
      "[============>.......]"
     ]
    },
    {
     "name": "stdout",
     "output_type": "stream",
     "text": [
      "r: [5 8 3 2 6 4 1 7] rating_r: [8 7 6 5 4 3 2 1]\n",
      "tau: 0.14285714285714285 p_value: 0.6206907170753547\n",
      "r: [2 1 3 4] rating_r: [4 3 2 1]\n",
      "tau: -0.6666666666666669 p_value: 0.1742313882480252\n",
      "r: [2 1] rating_r: [2 1]\n",
      "tau: 1.0 p_value: nan\n",
      "r: [1 2] rating_r: [2 1]\n",
      "tau: -1.0 p_value: nan\n",
      "r: [2 1] rating_r: [2 1]\n",
      "tau: 1.0 p_value: nan\n"
     ]
    },
    {
     "name": "stderr",
     "output_type": "stream",
     "text": [
      "\r",
      "[============>.......]\r",
      "[============>.......]\r",
      "[============>.......]\r",
      "[============>.......]\r",
      "[============>.......]"
     ]
    },
    {
     "name": "stdout",
     "output_type": "stream",
     "text": [
      "r: [3 2 1] rating_r: [3 2 2]\n",
      "tau: 0.816496580927726 p_value: 0.22067136191984682\n",
      "r: [1 2] rating_r: [2 1]\n",
      "tau: -1.0 p_value: nan\n",
      "r: [2 1] rating_r: [2 1]\n",
      "tau: 1.0 p_value: nan\n",
      "r: [2 1] rating_r: [2 1]\n",
      "tau: 1.0 p_value: nan\n",
      "r: [2 1] rating_r: [2 1]\n",
      "tau: 1.0 p_value: nan\n"
     ]
    },
    {
     "name": "stderr",
     "output_type": "stream",
     "text": [
      "\r",
      "[============>.......]\r",
      "[============>.......]\r",
      "[============>.......]\r",
      "[============>.......]\r",
      "[============>.......]"
     ]
    },
    {
     "name": "stdout",
     "output_type": "stream",
     "text": [
      "r: [1 2] rating_r: [2 1]\n",
      "tau: -1.0 p_value: nan\n",
      "r: [2 1] rating_r: [2 1]\n",
      "tau: 1.0 p_value: nan\n",
      "r: [1 3 2] rating_r: [3 2 1]\n",
      "tau: -0.33333333333333337 p_value: 0.6015081344405899\n",
      "r: [3 4 1 2] rating_r: [4 3 2 1]\n",
      "tau: 0.3333333333333334 p_value: 0.49690584756476797\n"
     ]
    },
    {
     "name": "stderr",
     "output_type": "stream",
     "text": [
      "\r",
      "[============>.......]\r",
      "[============>.......]\r",
      "[============>.......]\r",
      "[============>.......]"
     ]
    },
    {
     "name": "stdout",
     "output_type": "stream",
     "text": [
      "r: [1 2] rating_r: [2 1]\n",
      "tau: -1.0 p_value: nan\n",
      "r: [1 2] rating_r: [2 1]\n",
      "tau: -1.0 p_value: nan\n",
      "r: [3 2 1] rating_r: [3 2 1]\n",
      "tau: 1.0 p_value: 0.1171850871981381\n",
      "r: [2 3 1] rating_r: [3 2 1]\n",
      "tau: 0.33333333333333337 p_value: 0.6015081344405899\n",
      "r: [3 2 1] rating_r: [3 2 1]\n",
      "tau: 1.0 p_value: 0.1171850871981381\n"
     ]
    },
    {
     "name": "stderr",
     "output_type": "stream",
     "text": [
      "\r",
      "[============>.......]\r",
      "[============>.......]\r",
      "[=============>......]\r",
      "[=============>......]\r",
      "[=============>......]"
     ]
    },
    {
     "name": "stdout",
     "output_type": "stream",
     "text": [
      "r: [2 1] rating_r: [2 1]\n",
      "tau: 1.0 p_value: nan\n",
      "r: [2 1] rating_r: [2 1]\n",
      "tau: 1.0 p_value: nan\n",
      "r: [2 1] rating_r: [2 1]\n",
      "tau: 1.0 p_value: nan\n",
      "r: [1 2] rating_r: [2 1]\n",
      "tau: -1.0 p_value: nan\n",
      "r: [1 2 3] rating_r: [3 2 1]\n",
      "tau: -1.0 p_value: 0.1171850871981381\n"
     ]
    },
    {
     "name": "stderr",
     "output_type": "stream",
     "text": [
      "\r",
      "[=============>......]\r",
      "[=============>......]\r",
      "[=============>......]\r",
      "[=============>......]\r",
      "[=============>......]\r",
      "[=============>......]"
     ]
    },
    {
     "name": "stdout",
     "output_type": "stream",
     "text": [
      "r: [2 1] rating_r: [2 1]\n",
      "tau: 1.0 p_value: nan\n",
      "r: [2 1] rating_r: [2 1]\n",
      "tau: 1.0 p_value: nan\n",
      "r: [6 4 1 3 2 5] rating_r: [6 5 4 3 2 1]\n",
      "tau: 0.2 p_value: 0.5730251193553904\n",
      "r: [1 3 2] rating_r: [3 2 1]\n",
      "tau: -0.33333333333333337 p_value: 0.6015081344405899\n"
     ]
    },
    {
     "name": "stderr",
     "output_type": "stream",
     "text": [
      "\r",
      "[=============>......]\r",
      "[=============>......]\r",
      "[=============>......]\r",
      "[=============>......]"
     ]
    },
    {
     "name": "stdout",
     "output_type": "stream",
     "text": [
      "r: [2 1] rating_r: [2 1]\n",
      "tau: 1.0 p_value: nan\n",
      "r: [2 1] rating_r: [2 1]\n",
      "tau: 1.0 p_value: nan\n",
      "r: [1 3 2] rating_r: [3 2 1]\n",
      "tau: -0.33333333333333337 p_value: 0.6015081344405899\n",
      "r: [4 5 2 1 3] rating_r: [5 4 3 2 1]\n",
      "tau: 0.39999999999999997 p_value: 0.32718687779030586\n"
     ]
    },
    {
     "name": "stderr",
     "output_type": "stream",
     "text": [
      "\r",
      "[=============>......]\r",
      "[=============>......]\r",
      "[=============>......]\r",
      "[=============>......]"
     ]
    },
    {
     "name": "stdout",
     "output_type": "stream",
     "text": [
      "r: [2 1] rating_r: [2 1]\n",
      "tau: 1.0 p_value: nan\n",
      "r: [2 2] rating_r: [2 1]\n",
      "tau: nan p_value: nan\n",
      "r: [1 2] rating_r: [2 1]\n",
      "tau: -1.0 p_value: nan\n",
      "r: [4 2 3 1 5 6] rating_r: [6 5 4 3 2 1]\n",
      "tau: -0.3333333333333333 p_value: 0.34755803674116925\n"
     ]
    },
    {
     "name": "stderr",
     "output_type": "stream",
     "text": [
      "\r",
      "[=============>......]\r",
      "[=============>......]\r",
      "[=============>......]\r",
      "[=============>......]"
     ]
    },
    {
     "name": "stdout",
     "output_type": "stream",
     "text": [
      "r: [2 1 3] rating_r: [3 2 1]\n",
      "tau: -0.33333333333333337 p_value: 0.6015081344405899\n",
      "r: [2 1] rating_r: [2 1]\n",
      "tau: 1.0 p_value: nan\n",
      "r: [1 2] rating_r: [2 1]\n",
      "tau: -1.0 p_value: nan\n",
      "r: [1 2] rating_r: [2 1]\n",
      "tau: -1.0 p_value: nan\n",
      "r: [2 1] rating_r: [2 1]\n",
      "tau: 1.0 p_value: nan\n",
      "r: [1 2] rating_r: [2 1]\n",
      "tau: -1.0 p_value: nan\n"
     ]
    },
    {
     "name": "stderr",
     "output_type": "stream",
     "text": [
      "\r",
      "[=============>......]\r",
      "[=============>......]\r",
      "[=============>......]\r",
      "[=============>......]\r",
      "[=============>......]"
     ]
    },
    {
     "name": "stdout",
     "output_type": "stream",
     "text": [
      "r: [3 1 2] rating_r: [3 2 1]\n",
      "tau: 0.33333333333333337 p_value: 0.6015081344405899\n",
      "r: [2 1 3] rating_r: [3 2 1]\n",
      "tau: -0.33333333333333337 p_value: 0.6015081344405899\n",
      "r: [2 1] rating_r: [2 1]\n",
      "tau: 1.0 p_value: nan\n",
      "r: [2 1] rating_r: [2 1]\n",
      "tau: 1.0 p_value: nan\n",
      "r: [2 1] rating_r: [2 1]\n",
      "tau: 1.0 p_value: nan\n"
     ]
    },
    {
     "name": "stderr",
     "output_type": "stream",
     "text": [
      "\r",
      "[=============>......]\r",
      "[=============>......]\r",
      "[=============>......]\r",
      "[=============>......]\r",
      "[=============>......]\r",
      "[=============>......]"
     ]
    },
    {
     "name": "stdout",
     "output_type": "stream",
     "text": [
      "r: [2 1] rating_r: [2 1]\n",
      "tau: 1.0 p_value: nan\n",
      "r: [2 1] rating_r: [2 1]\n",
      "tau: 1.0 p_value: nan\n",
      "r: [1 2] rating_r: [2 1]\n",
      "tau: -1.0 p_value: nan\n",
      "r: [1 3 4 2] rating_r: [4 3 2 2]\n",
      "tau: -0.5477225575051662 p_value: 0.2785986718379626\n",
      "r: [1 2] rating_r: [2 1]\n",
      "tau: -1.0 p_value: nan\n"
     ]
    },
    {
     "name": "stderr",
     "output_type": "stream",
     "text": [
      "\r",
      "[=============>......]\r",
      "[=============>......]\r",
      "[=============>......]\r",
      "[=============>......]\r",
      "[=============>......]"
     ]
    },
    {
     "name": "stdout",
     "output_type": "stream",
     "text": [
      "r: [2 1] rating_r: [2 1]\n",
      "tau: 1.0 p_value: nan\n",
      "r: [2 6 1 4 5 3 9 7 8] rating_r: [9 8 7 6 5 4 3 2 1]\n",
      "tau: -0.5 p_value: 0.0605688602026574\n"
     ]
    },
    {
     "name": "stderr",
     "output_type": "stream",
     "text": [
      "\r",
      "[=============>......]\r",
      "[=============>......]\r",
      "[=============>......]\r",
      "[=============>......]\r",
      "[=============>......]"
     ]
    },
    {
     "name": "stdout",
     "output_type": "stream",
     "text": [
      "r: [3 2 4 1] rating_r: [4 3 2 1]\n",
      "tau: 0.3333333333333334 p_value: 0.49690584756476797\n",
      "r: [2 1] rating_r: [2 1]\n",
      "tau: 1.0 p_value: nan\n",
      "r: [1 2] rating_r: [2 1]\n",
      "tau: -1.0 p_value: nan\n",
      "r: [3 1 2] rating_r: [3 2 1]\n",
      "tau: 0.33333333333333337 p_value: 0.6015081344405899\n",
      "r: [2 1] rating_r: [2 1]\n",
      "tau: 1.0 p_value: nan\n"
     ]
    },
    {
     "name": "stderr",
     "output_type": "stream",
     "text": [
      "\r",
      "[=============>......]\r",
      "[=============>......]\r",
      "[=============>......]\r",
      "[=============>......]"
     ]
    },
    {
     "name": "stdout",
     "output_type": "stream",
     "text": [
      "r: [1 2] rating_r: [2 1]\n",
      "tau: -1.0 p_value: nan\n",
      "r: [3 4 1 2] rating_r: [4 3 2 1]\n",
      "tau: 0.3333333333333334 p_value: 0.49690584756476797\n",
      "r: [4 3 1 2] rating_r: [4 3 2 1]\n",
      "tau: 0.6666666666666669 p_value: 0.1742313882480252\n",
      "r: [1 2] rating_r: [2 1]\n",
      "tau: -1.0 p_value: nan\n"
     ]
    },
    {
     "name": "stderr",
     "output_type": "stream",
     "text": [
      "\r",
      "[=============>......]\r",
      "[=============>......]"
     ]
    },
    {
     "name": "stdout",
     "output_type": "stream",
     "text": [
      "r: [3 5 4 6 2 1] rating_r: [6 5 4 3 2 2]\n",
      "tau: 0.27602622373694163 p_value: 0.44421673013860674\n",
      "r: [6 5 2 7 3 1 4] rating_r: [7 6 5 4 3 2 1]\n",
      "tau: 0.33333333333333337 p_value: 0.29311395567331044\n",
      "r: [2 1] rating_r: [2 1]\n",
      "tau: 1.0 p_value: nan\n",
      "r: [2 1] rating_r: [2 1]\n",
      "tau: 1.0 p_value: nan\n",
      "r:"
     ]
    },
    {
     "name": "stderr",
     "output_type": "stream",
     "text": [
      "\r",
      "[=============>......]\r",
      "[=============>......]\r",
      "[==============>.....]\r",
      "[==============>.....]\r",
      "[==============>.....]"
     ]
    },
    {
     "name": "stdout",
     "output_type": "stream",
     "text": [
      " [2 1] rating_r: [2 1]\n",
      "tau: 1.0 p_value: nan\n",
      "r: [2 3 1] rating_r: [3 2 1]\n",
      "tau: 0.33333333333333337 p_value: 0.6015081344405899\n",
      "r: [3 1 4 2] rating_r: [4 3 2 1]\n",
      "tau: 0.0 p_value: 1.0\n",
      "r: [3 2 1] rating_r: [3 2 1]\n",
      "tau: 1.0 p_value: 0.1171850871981381\n",
      "r: [2 1] rating_r: [2 1]\n",
      "tau: 1.0 "
     ]
    },
    {
     "name": "stderr",
     "output_type": "stream",
     "text": [
      "\r",
      "[==============>.....]\r",
      "[==============>.....]\r",
      "[==============>.....]\r",
      "[==============>.....]\r",
      "[==============>.....]\r",
      "[==============>.....]"
     ]
    },
    {
     "name": "stdout",
     "output_type": "stream",
     "text": [
      "p_value: nan\n",
      "r: [2 1] rating_r: [2 1]\n",
      "tau: 1.0 p_value: nan\n",
      "r: [2 2] rating_r: [2 1]\n",
      "tau: nan p_value: nan\n",
      "r: [1 2] rating_r: [2 1]\n",
      "tau: -1.0 p_value: nan\n",
      "r: [2 1] rating_r: [2 1]\n",
      "tau: 1.0 p_value: nan\n",
      "r: [2 1] rating_r: [2 1]\n",
      "tau: 1.0 p_value: nan\n",
      "r: [2 1] rating_r: [2 1]\n",
      "tau: 1.0 p_value: nan\n"
     ]
    },
    {
     "name": "stderr",
     "output_type": "stream",
     "text": [
      "\r",
      "[==============>.....]\r",
      "[==============>.....]\r",
      "[==============>.....]\r",
      "[==============>.....]\r",
      "[==============>.....]\r",
      "[==============>.....]"
     ]
    },
    {
     "name": "stdout",
     "output_type": "stream",
     "text": [
      "r: [2 1] rating_r: [2 1]\n",
      "tau: 1.0 p_value: nan\n",
      "r: [2 1] rating_r: [2 1]\n",
      "tau: 1.0 p_value: nan\n",
      "r: [3 2 1 4] rating_r: [4 3 2 1]\n",
      "tau: 0.0 p_value: 1.0\n",
      "r: [2 1] rating_r: [2 1]\n",
      "tau: 1.0 p_value: nan\n",
      "r: [4 1 2 3] rating_r: [4 3 2 1]\n",
      "tau: 0.0 p_value: 1.0\n"
     ]
    },
    {
     "name": "stderr",
     "output_type": "stream",
     "text": [
      "\r",
      "[==============>.....]\r",
      "[==============>.....]\r",
      "[==============>.....]\r",
      "[==============>.....]"
     ]
    },
    {
     "name": "stdout",
     "output_type": "stream",
     "text": [
      "r: [3 1 2] rating_r: [3 2 1]\n",
      "tau: 0.33333333333333337 p_value: 0.6015081344405899\n",
      "r: [1 2 3] rating_r: [3 2 1]\n",
      "tau: -1.0 p_value: 0.1171850871981381\n",
      "r: [3 2 1] rating_r: [3 2 1]\n",
      "tau: 1.0 p_value: 0.1171850871981381\n",
      "r: [1 2] rating_r: [2 1]\n",
      "tau: -1.0 p_value: nan\n",
      "r: [2 1] rating_r: [2 1]\n",
      "tau: 1.0 p_value: nan\n"
     ]
    },
    {
     "name": "stderr",
     "output_type": "stream",
     "text": [
      "\r",
      "[==============>.....]\r",
      "[==============>.....]\r",
      "[==============>.....]\r",
      "[==============>.....]"
     ]
    },
    {
     "name": "stdout",
     "output_type": "stream",
     "text": [
      "r: [3 4 5 1 3] rating_r: [5 4 3 2 2]\n",
      "tau: 0.2222222222222222 p_value: 0.6027418291290805\n",
      "r: [2 1 3] rating_r: [3 2 1]\n",
      "tau: -0.33333333333333337 p_value: 0.6015081344405899\n",
      "r: [2 3 1] rating_r: [3 2 1]\n",
      "tau: 0.33333333333333337 p_value: 0.6015081344405899\n",
      "r: [2 1 3] rating_r: [3 2 2]\n",
      "tau: 0.0 p_value: 1.0\n"
     ]
    },
    {
     "name": "stderr",
     "output_type": "stream",
     "text": [
      "\r",
      "[==============>.....]\r",
      "[==============>.....]\r",
      "[==============>.....]\r",
      "[==============>.....]"
     ]
    },
    {
     "name": "stdout",
     "output_type": "stream",
     "text": [
      "r: [3 2 1 4] rating_r: [4 3 2 1]\n",
      "tau: 0.0 p_value: 1.0\n",
      "r: [6 5 4 2 3 1] rating_r: [6 5 4 3 2 2]\n",
      "tau: 0.8280786712108251 p_value: 0.021717302554090843\n",
      "r: [2 1] rating_r: [2 1]\n",
      "tau: 1.0 p_value: nan\n",
      "r: [2 1 3] rating_r: [3 2 1]\n",
      "tau: -0.33333333333333337 p_value: 0.6015081344405899\n"
     ]
    },
    {
     "name": "stderr",
     "output_type": "stream",
     "text": [
      "\r",
      "[==============>.....]\r",
      "[==============>.....]\r",
      "[==============>.....]\r",
      "[==============>.....]\r",
      "[==============>.....]"
     ]
    },
    {
     "name": "stdout",
     "output_type": "stream",
     "text": [
      "r: [1 2 3] rating_r: [3 2 2]\n",
      "tau: -0.816496580927726 p_value: 0.22067136191984682\n",
      "r: [2 1] rating_r: [2 1]\n",
      "tau: 1.0 p_value: nan\n",
      "r: [7 4 2 1 6 3 5] rating_r: [7 6 5 4 3 2 1]\n",
      "tau: 0.14285714285714288 p_value: 0.6523041372117631\n"
     ]
    },
    {
     "name": "stderr",
     "output_type": "stream",
     "text": [
      "\r",
      "[==============>.....]\r",
      "[==============>.....]\r",
      "[==============>.....]\r",
      "[==============>.....]"
     ]
    },
    {
     "name": "stdout",
     "output_type": "stream",
     "text": [
      "r: [1 6 4 5 3 2] rating_r: [6 5 4 4 2 2]\n",
      "tau: 0.2148344622118299 p_value: 0.5588080840709165\n",
      "r: [1 2 3] rating_r: [3 3 1]\n",
      "tau: -0.816496580927726 p_value: 0.22067136191984682\n",
      "r: [2 1 3] rating_r: [3 2 1]\n",
      "tau: -0.33333333333333337 p_value: 0.6015081344405899\n",
      "r: [1 2 3] rating_r: [3 2 1]\n",
      "tau: -1.0 p_value: 0.1171850871981381\n",
      "r: [1 2] rating_r: [2 1]\n",
      "tau: -1.0 p_value: nan\n"
     ]
    },
    {
     "name": "stderr",
     "output_type": "stream",
     "text": [
      "\r",
      "[==============>.....]\r",
      "[==============>.....]\r",
      "[==============>.....]\r",
      "[==============>.....]\r",
      "[==============>.....]"
     ]
    },
    {
     "name": "stdout",
     "output_type": "stream",
     "text": [
      "r: [1 2] rating_r: [2 1]\n",
      "tau: -1.0 p_value: nan\n",
      "r: [3 2 1] rating_r: [3 2 1]\n",
      "tau: 1.0 p_value: 0.1171850871981381\n",
      "r: [1 2] rating_r: [2 1]\n",
      "tau: -1.0 p_value: nan\n",
      "r: [3 2 1] rating_r: [3 2 1]\n",
      "tau: 1.0 p_value: 0.1171850871981381\n"
     ]
    },
    {
     "name": "stderr",
     "output_type": "stream",
     "text": [
      "\r",
      "[==============>.....]\r",
      "[==============>.....]\r",
      "[==============>.....]\r",
      "[==============>.....]\r",
      "[==============>.....]"
     ]
    },
    {
     "name": "stdout",
     "output_type": "stream",
     "text": [
      "r: [2 1 3 4] rating_r: [4 3 2 2]\n",
      "tau: -0.5477225575051662 p_value: 0.2785986718379626\n",
      "r: [1 2] rating_r: [2 1]\n",
      "tau: -1.0 p_value: nan\n",
      "r: [1 2] rating_r: [2 1]\n",
      "tau: -1.0 p_value: nan\n",
      "r: [2 1] rating_r: [2 1]\n",
      "tau: 1.0 p_value: nan\n",
      "r: [1 2 3 4] rating_r: [4 3 2 1]\n",
      "tau: -1.0 p_value: 0.041540067009885176\n",
      "r: [2 1] rating_r: [2 1]\n",
      "tau: 1.0 p_value: nan\n"
     ]
    },
    {
     "name": "stderr",
     "output_type": "stream",
     "text": [
      "\r",
      "[==============>.....]\r",
      "[==============>.....]\r",
      "[==============>.....]\r",
      "[==============>.....]"
     ]
    },
    {
     "name": "stdout",
     "output_type": "stream",
     "text": [
      "r: [4 5 1 6 2 3] rating_r: [6 5 4 3 2 1]\n",
      "tau: 0.06666666666666665 p_value: 0.8509806870320558\n",
      "r: [2 1] rating_r: [2 1]\n",
      "tau: 1.0 p_value: nan\n",
      "r: [2 1] rating_r: [2 1]\n",
      "tau: 1.0 p_value: nan\n",
      "r: [2 3 1] rating_r: [3 2 1]\n",
      "tau: 0.33333333333333337 p_value: 0.6015081344405899\n",
      "r: [2 4 3 5 1]"
     ]
    },
    {
     "name": "stderr",
     "output_type": "stream",
     "text": [
      "\r",
      "[===============>....]\r",
      "[===============>....]\r",
      "[===============>....]\r",
      "[===============>....]\r",
      "[===============>....]"
     ]
    },
    {
     "name": "stdout",
     "output_type": "stream",
     "text": [
      " rating_r: [5 4 3 2 1]\n",
      "tau: 0.0 p_value: 1.0\n",
      "r: [1 2] rating_r: [2 1]\n",
      "tau: -1.0 p_value: nan\n",
      "r: [2 1] rating_r: [2 1]\n",
      "tau: 1.0 p_value: nan\n",
      "r: [4 2 6 1 3 7 8 5] rating_r: [8 7 6 5 4 3 2 1]\n",
      "tau: -0.3571428571428571 p_value: 0.21602058095545895\n"
     ]
    },
    {
     "name": "stderr",
     "output_type": "stream",
     "text": [
      "\r",
      "[===============>....]\r",
      "[===============>....]\r",
      "[===============>....]\r",
      "[===============>....]\r",
      "[===============>....]\r",
      "[===============>....]"
     ]
    },
    {
     "name": "stdout",
     "output_type": "stream",
     "text": [
      "r: [3 1 2] rating_r: [3 2 1]\n",
      "tau: 0.33333333333333337 p_value: 0.6015081344405899\n",
      "r: [1 2] rating_r: [2 1]\n",
      "tau: -1.0 p_value: nan\n",
      "r: [1 2] rating_r: [2 1]\n",
      "tau: -1.0 p_value: nan\n",
      "r: [2 1] rating_r: [2 1]\n",
      "tau: 1.0 p_value: nan\n",
      "r: [1 2] rating_r: [2 1]\n",
      "tau: -1.0 p_value: nan\n",
      "r: [1 2] rating_r: [2 2]\n",
      "tau: nan p_value: nan\n"
     ]
    },
    {
     "name": "stderr",
     "output_type": "stream",
     "text": [
      "\r",
      "[===============>....]\r",
      "[===============>....]\r",
      "[===============>....]\r",
      "[===============>....]\r",
      "[===============>....]"
     ]
    },
    {
     "name": "stdout",
     "output_type": "stream",
     "text": [
      "r: [1 2 3] rating_r: [3 2 1]\n",
      "tau: -1.0 p_value: 0.1171850871981381\n",
      "r: [2 3 1] rating_r: [3 2 1]\n",
      "tau: 0.33333333333333337 p_value: 0.6015081344405899\n",
      "r: [3 1 2] rating_r: [3 2 1]\n",
      "tau: 0.33333333333333337 p_value: 0.6015081344405899\n",
      "r: [1 2] rating_r: [2 1]\n",
      "tau: -1.0 p_value: nan\n",
      "r: [4 3 2 1 5] rating_r: [5 4 3 2 1]\n",
      "tau: 0.19999999999999998 p_value: 0.624206114766406\n",
      "r: [2 1] rating_r: [2 1]\n",
      "tau: 1.0 p_value: nan\n",
      "r: [6 5 8 7 4 3 3 1] rating_r: [8 7 6 5 4 3 2 2]\n",
      "tau: 0.6666666666666666 p_value: 0.02374850638584511\n"
     ]
    },
    {
     "name": "stderr",
     "output_type": "stream",
     "text": [
      "\r",
      "[===============>....]\r",
      "[===============>....]\r",
      "[===============>....]"
     ]
    },
    {
     "name": "stdout",
     "output_type": "stream",
     "text": [
      "r: [1 2] rating_r: [2 1]\n",
      "tau: -1.0 p_value: nan\n",
      "r: [1 2] rating_r: [2 1]\n",
      "tau: -1.0 p_value: nan\n",
      "r: [4 2 1 3] rating_r: [4 3 2 1]\n",
      "tau: 0.3333333333333334 p_value: 0.49690584756476797\n",
      "r: [4 3 1 2] rating_r: [4 3 2 1]\n",
      "tau: 0.6666666666666669 p_value: 0.1742313882480252\n"
     ]
    },
    {
     "name": "stderr",
     "output_type": "stream",
     "text": [
      "\r",
      "[===============>....]\r",
      "[===============>....]\r",
      "[===============>....]\r",
      "[===============>....]"
     ]
    },
    {
     "name": "stdout",
     "output_type": "stream",
     "text": [
      "r: [1 3 2] rating_r: [3 2 1]\n",
      "tau: -0.33333333333333337 p_value: 0.6015081344405899\n",
      "r: [2 1 3] rating_r: [3 2 1]\n",
      "tau: -0.33333333333333337 p_value: 0.6015081344405899\n",
      "r: [1 4 3 2 5] rating_r: [5 4 3 2 1]\n",
      "tau: -0.39999999999999997 p_value: 0.32718687779030586\n",
      "r: [3 5 2 4 1] rating_r: [5 4 3 2 1]\n",
      "tau: 0.39999999999999997 p_value: 0.32718687779030586\n"
     ]
    },
    {
     "name": "stderr",
     "output_type": "stream",
     "text": [
      "\r",
      "[===============>....]\r",
      "[===============>....]\r",
      "[===============>....]\r",
      "[===============>....]"
     ]
    },
    {
     "name": "stdout",
     "output_type": "stream",
     "text": [
      "r: [3 5 6 2 4 7 1] rating_r: [7 6 5 4 3 2 1]\n",
      "tau: 0.04761904761904762 p_value: 0.8806164096519663\n",
      "r: [2 1] rating_r: [2 1]\n",
      "tau: 1.0 p_value: nan\n",
      "r: [1 2] rating_r: [2 1]\n",
      "tau: -1.0 p_value: nan\n",
      "r: [1 2] rating_r: [2 1]\n",
      "tau: -1.0 p_value: nan\n",
      "r: [2 1 3] rating_r: [3 2 1]\n",
      "tau: -0.33333333333333337 p_value: 0.6015081344405899\n",
      "r: [2 1] rating_r: [2 1]\n",
      "tau: 1.0 p_value: nan\n"
     ]
    },
    {
     "name": "stderr",
     "output_type": "stream",
     "text": [
      "\r",
      "[===============>....]\r",
      "[===============>....]\r",
      "[===============>....]\r",
      "[===============>....]\r",
      "[===============>....]\r",
      "[===============>....]"
     ]
    },
    {
     "name": "stdout",
     "output_type": "stream",
     "text": [
      "r: [2 4 1 3 5] rating_r: [5 4 3 2 2]\n",
      "tau: -0.31622776601683794 p_value: 0.44848886103153185\n",
      "r: [2 1] rating_r: [2 1]\n",
      "tau: 1.0 p_value: nan\n",
      "r: [2 1] rating_r: [2 1]\n",
      "tau: 1.0 p_value: nan\n",
      "r: [1 2] rating_r: [2 1]\n",
      "tau: -1.0 p_value: nan\n",
      "r: [1 2] rating_r: [2 1]\n",
      "tau: -1.0 p_value: nan\n",
      "r:"
     ]
    },
    {
     "name": "stderr",
     "output_type": "stream",
     "text": [
      "\r",
      "[===============>....]\r",
      "[===============>....]\r",
      "[===============>....]\r",
      "[===============>....]\r",
      "[===============>....]"
     ]
    },
    {
     "name": "stdout",
     "output_type": "stream",
     "text": [
      " [1 3 4 2] rating_r: [4 3 2 1]\n",
      "tau: -0.3333333333333334 p_value: 0.49690584756476797\n",
      "r: [2 1] rating_r: [2 1]\n",
      "tau: 1.0 p_value: nan\n",
      "r: [1 2] rating_r: [2 1]\n",
      "tau: -1.0 p_value: nan\n",
      "r: [1 4 3 2] rating_r: [4 3 2 1]\n",
      "tau: 0.0 p_value: 1.0\n",
      "r: [2 1] rating_r: [2 1]\n",
      "tau: 1.0 p_value: nan\n"
     ]
    },
    {
     "name": "stderr",
     "output_type": "stream",
     "text": [
      "\r",
      "[===============>....]\r",
      "[===============>....]\r",
      "[===============>....]\r",
      "[===============>....]\r",
      "[===============>....]"
     ]
    },
    {
     "name": "stdout",
     "output_type": "stream",
     "text": [
      "r: [1 2 3] rating_r: [3 2 1]\n",
      "tau: -1.0 p_value: 0.1171850871981381\n",
      "r: [6 4 3 8 5 7 2 1] rating_r: [8 7 6 5 4 3 2 1]\n",
      "tau: 0.3571428571428571 p_value: 0.21602058095545895\n",
      "r: [1 2 3] rating_r: [3 2 1]\n",
      "tau: -1.0 p_value: 0.1171850871981381\n",
      "r:"
     ]
    },
    {
     "name": "stderr",
     "output_type": "stream",
     "text": [
      "\r",
      "[===============>....]\r",
      "[===============>....]\r",
      "[===============>....]"
     ]
    },
    {
     "name": "stdout",
     "output_type": "stream",
     "text": [
      " [1 2] rating_r: [2 1]\n",
      "tau: -1.0 p_value: nan\n",
      "r: [3 2 1] rating_r: [3 2 1]\n",
      "tau: 1.0 p_value: 0.1171850871981381\n",
      "r: [2 2] rating_r: [2 1]\n",
      "tau: nan p_value: nan\n",
      "r: [1 2] rating_r: [2 1]\n",
      "tau: -1.0 p_value: nan\n"
     ]
    },
    {
     "name": "stderr",
     "output_type": "stream",
     "text": [
      "\r",
      "[===============>....]\r",
      "[===============>....]\r",
      "[===============>....]\r",
      "[===============>....]\r",
      "[================>...]"
     ]
    },
    {
     "name": "stdout",
     "output_type": "stream",
     "text": [
      "r: [1 2 4 5 3] rating_r: [5 4 3 2 1]\n",
      "tau: -0.6 p_value: 0.1416446902951368\n",
      "r: [1 2] rating_r: [2 1]\n",
      "tau: -1.0 p_value: nan\n",
      "r: [6 2 4 7 5 3 8 1] rating_r: [8 7 6 5 4 3 2 2]\n",
      "tau: 0.036369648372665396 p_value: 0.9007802600472399\n"
     ]
    },
    {
     "name": "stderr",
     "output_type": "stream",
     "text": [
      "\r",
      "[================>...]\r",
      "[================>...]\r",
      "[================>...]\r",
      "[================>...]\r",
      "[================>...]\r",
      "[================>...]"
     ]
    },
    {
     "name": "stdout",
     "output_type": "stream",
     "text": [
      "r: [2 1] rating_r: [2 1]\n",
      "tau: 1.0 p_value: nan\n",
      "r: [2 1 3] rating_r: [3 2 1]\n",
      "tau: -0.33333333333333337 p_value: 0.6015081344405899\n",
      "r: [1 2] rating_r: [2 1]\n",
      "tau: -1.0 p_value: nan\n",
      "r: [4 3 2 1 5] rating_r: [5 4 3 2 1]\n",
      "tau: 0.19999999999999998 p_value: 0.624206114766406\n",
      "r: [2 3 1] rating_r: [3 2 1]\n",
      "tau: 0.33333333333333337 p_value: 0.6015081344405899\n",
      "r: [2 1] rating_r: [2 1]\n",
      "tau: 1.0 p_value: nan\n",
      "r: [1 4 2 3] rating_r: [4 3 2 2]\n",
      "tau: -0.18257418583505539 p_value: 0.7179816667337768\n",
      "r: [2 1] rating_r: [2 1]\n",
      "tau: 1.0 p_value: nan\n",
      "r: [2 1] rating_r: [2 1]\n",
      "tau: 1.0 p_value: nan\n"
     ]
    },
    {
     "name": "stderr",
     "output_type": "stream",
     "text": [
      "\r",
      "[================>...]\r",
      "[================>...]\r",
      "[================>...]\r",
      "[================>...]\r",
      "[================>...]"
     ]
    },
    {
     "name": "stdout",
     "output_type": "stream",
     "text": [
      "r: [2 1] rating_r: [2 1]\n",
      "tau: 1.0 p_value: nan\n",
      "r: [3 6 7 4 2 8 5 9 1] rating_r: [9 8 7 6 5 4 3 3 1]\n",
      "tau: -0.02817180849095055 p_value: 0.916511907863894\n",
      "r:"
     ]
    },
    {
     "name": "stderr",
     "output_type": "stream",
     "text": [
      "\r",
      "[================>...]\r",
      "[================>...]\r",
      "[================>...]"
     ]
    },
    {
     "name": "stdout",
     "output_type": "stream",
     "text": [
      " [4 2 3 1] rating_r: [4 3 2 1]\n",
      "tau: 0.6666666666666669 p_value: 0.1742313882480252\n",
      "r: [2 1] rating_r: [2 1]\n",
      "tau: 1.0 p_value: nan\n",
      "r: [3 4 2 1 5] rating_r: [5 4 3 2 2]\n",
      "tau: 0.10540925533894598 p_value: 0.8005421074231263\n",
      "r: [1 2] rating_r: [2 1]\n",
      "tau: -1.0 p_value: nan\n",
      "r: [2 1] rating_r: [2 1]\n",
      "tau: 1.0 p_value: nan\n"
     ]
    },
    {
     "name": "stderr",
     "output_type": "stream",
     "text": [
      "\r",
      "[================>...]\r",
      "[================>...]\r",
      "[================>...]\r",
      "[================>...]"
     ]
    },
    {
     "name": "stdout",
     "output_type": "stream",
     "text": [
      "r: [3 4 2 1] rating_r: [4 3 2 1]\n",
      "tau: 0.6666666666666669 p_value: 0.1742313882480252\n",
      "r: [2 1] rating_r: [2 1]\n",
      "tau: 1.0 p_value: nan\n",
      "r: [1 3 2] rating_r: [3 2 1]\n",
      "tau: -0.33333333333333337 p_value: 0.6015081344405899\n",
      "r: [2 1 3] rating_r: [3 2 1]\n",
      "tau: -0.33333333333333337 p_value: 0.6015081344405899\n",
      "r: [2 3 1] rating_r: [3 2 2]\n",
      "tau: 0.0 p_value: 1.0\n"
     ]
    },
    {
     "name": "stderr",
     "output_type": "stream",
     "text": [
      "\r",
      "[================>...]\r",
      "[================>...]\r",
      "[================>...]\r",
      "[================>...]\r",
      "[================>...]"
     ]
    },
    {
     "name": "stdout",
     "output_type": "stream",
     "text": [
      "r: [2 1] rating_r: [2 1]\n",
      "tau: 1.0 p_value: nan\n",
      "r: [1 4 3 2] rating_r: [4 3 2 1]\n",
      "tau: 0.0 p_value: 1.0\n",
      "r: [1 2] rating_r: [2 1]\n",
      "tau: -1.0 p_value: nan\n",
      "r: [1 2] rating_r: [2 1]\n",
      "tau: -1.0 p_value: nan\n",
      "r: [2 1] rating_r: [2 1]\n",
      "tau: 1.0 p_value: nan\n"
     ]
    },
    {
     "name": "stderr",
     "output_type": "stream",
     "text": [
      "\r",
      "[================>...]\r",
      "[================>...]\r",
      "[================>...]\r",
      "[================>...]\r",
      "[================>...]"
     ]
    },
    {
     "name": "stdout",
     "output_type": "stream",
     "text": [
      "r: [2 1 4 3] rating_r: [4 3 2 1]\n",
      "tau: -0.3333333333333334 p_value: 0.49690584756476797\n",
      "r: [2 4 5 2 3] rating_r: [5 4 3 2 1]\n",
      "tau: -0.10540925533894596 p_value: 0.8005421074231263\n",
      "r: [3 2 1 4] rating_r: [4 3 2 1]\n",
      "tau: 0.0 p_value: 1.0\n",
      "r: [2 1] rating_r: [2 1]\n",
      "tau: 1.0 p_value: nan\n"
     ]
    },
    {
     "name": "stderr",
     "output_type": "stream",
     "text": [
      "\r",
      "[================>...]\r",
      "[================>...]\r",
      "[================>...]\r",
      "[================>...]"
     ]
    },
    {
     "name": "stdout",
     "output_type": "stream",
     "text": [
      "r: [1 2 3] rating_r: [3 2 1]\n",
      "tau: -1.0 p_value: 0.1171850871981381\n",
      "r: [1 2] rating_r: [2 1]\n",
      "tau: -1.0 p_value: nan\n",
      "r: [1 2] rating_r: [2 1]\n",
      "tau: -1.0 p_value: nan\n",
      "r: [2 4 1 3] rating_r: [4 3 2 1]\n",
      "tau: 0.0 p_value: 1.0\n",
      "r: [3 1 2]"
     ]
    },
    {
     "name": "stderr",
     "output_type": "stream",
     "text": [
      "\r",
      "[================>...]\r",
      "[================>...]\r",
      "[================>...]\r",
      "[================>...]\r",
      "[================>...]"
     ]
    },
    {
     "name": "stdout",
     "output_type": "stream",
     "text": [
      " rating_r: [3 2 1]\n",
      "tau: 0.33333333333333337 p_value: 0.6015081344405899\n",
      "r: [3 2 1 4] rating_r: [4 3 2 1]\n",
      "tau: 0.0 p_value: 1.0\n",
      "r: [1 2] rating_r: [2 1]\n",
      "tau: -1.0 p_value: nan\n",
      "r: [1 3 4 2] rating_r: [4 3 2 1]\n",
      "tau: -0.3333333333333334 p_value: 0.49690584756476797\n",
      "r: [3 1 2] rating_r: [3 2 2]\n",
      "tau: 0.816496580927726 p_value: 0.22067136191984682\n"
     ]
    },
    {
     "name": "stderr",
     "output_type": "stream",
     "text": [
      "\r",
      "[================>...]\r",
      "[================>...]\r",
      "[================>...]\r",
      "[================>...]"
     ]
    },
    {
     "name": "stdout",
     "output_type": "stream",
     "text": [
      "r: [3 2 1] rating_r: [3 2 1]\n",
      "tau: 1.0 p_value: 0.1171850871981381\n",
      "r: [1 2] rating_r: [2 2]\n",
      "tau: nan p_value: nan\n",
      "r: [1 2] rating_r: [2 1]\n",
      "tau: -1.0 p_value: nan\n",
      "r: [1 2] rating_r: [2 1]\n",
      "tau: -1.0 p_value: nan\n",
      "r: [1 2] rating_r: [2 1]\n",
      "tau: -1.0 p_value: nan\n"
     ]
    },
    {
     "name": "stderr",
     "output_type": "stream",
     "text": [
      "\r",
      "[================>...]\r",
      "[================>...]\r",
      "[================>...]\r",
      "[================>...]\r",
      "[================>...]"
     ]
    },
    {
     "name": "stdout",
     "output_type": "stream",
     "text": [
      "r: [3 4 2 1] rating_r: [4 3 2 1]\n",
      "tau: 0.6666666666666669 p_value: 0.1742313882480252\n",
      "r: [2 1] rating_r: [2 1]\n",
      "tau: 1.0 p_value: nan\n",
      "r: [1 3 2] rating_r: [3 2 1]\n",
      "tau: -0.33333333333333337 p_value: 0.6015081344405899\n",
      "r: [1 3 4 2] rating_r: [4 3 2 1]\n",
      "tau: -0.3333333333333334 p_value: 0.49690584756476797\n",
      "r: [2 1] rating_r: [2 1]\n",
      "tau: 1.0 p_value: nan\n"
     ]
    },
    {
     "name": "stderr",
     "output_type": "stream",
     "text": [
      "\r",
      "[================>...]\r",
      "[================>...]\r",
      "[================>...]\r",
      "[=================>..]\r",
      "[=================>..]"
     ]
    },
    {
     "name": "stdout",
     "output_type": "stream",
     "text": [
      "r: [2 3 1] rating_r: [3 2 1]\n",
      "tau: 0.33333333333333337 p_value: 0.6015081344405899\n",
      "r: [2 3 4 1] rating_r: [4 3 2 1]\n",
      "tau: 0.0 p_value: 1.0\n",
      "r: [1 2] rating_r: [2 1]\n",
      "tau: -1.0 p_value: nan\n",
      "r: [2 2] rating_r: [2 2]\n",
      "tau: nan p_value: nan\n",
      "r: [2 3 2] rating_r: [3 2 1]\n",
      "tau: 0.0 p_value: 1.0\n"
     ]
    },
    {
     "name": "stderr",
     "output_type": "stream",
     "text": [
      "\r",
      "[=================>..]\r",
      "[=================>..]\r",
      "[=================>..]\r",
      "[=================>..]\r",
      "[=================>..]"
     ]
    },
    {
     "name": "stdout",
     "output_type": "stream",
     "text": [
      "r: [2 3 1] rating_r: [3 2 1]\n",
      "tau: 0.33333333333333337 p_value: 0.6015081344405899\n",
      "r: [2 1] rating_r: [2 1]\n",
      "tau: 1.0 p_value: nan\n",
      "r: [4 1 3 2] rating_r: [4 3 2 1]\n",
      "tau: 0.3333333333333334 p_value: 0.49690584756476797\n",
      "r: [3 2 1] rating_r: [3 2 2]\n",
      "tau: 0.816496580927726 p_value: 0.22067136191984682\n"
     ]
    },
    {
     "name": "stderr",
     "output_type": "stream",
     "text": [
      "\r",
      "[=================>..]\r",
      "[=================>..]\r",
      "[=================>..]\r",
      "[=================>..]"
     ]
    },
    {
     "name": "stdout",
     "output_type": "stream",
     "text": [
      "r: [3 4 2 1] rating_r: [4 3 2 1]\n",
      "tau: 0.6666666666666669 p_value: 0.1742313882480252\n",
      "r: [4 1 2 3] rating_r: [4 3 2 1]\n",
      "tau: 0.0 p_value: 1.0\n",
      "r: [1 3 4 2] rating_r: [4 3 2 1]\n",
      "tau: -0.3333333333333334 p_value: 0.49690584756476797\n",
      "r: [1 3 2] rating_r: [3 2 1]\n",
      "tau: -0.33333333333333337 p_value: 0.6015081344405899\n"
     ]
    },
    {
     "name": "stderr",
     "output_type": "stream",
     "text": [
      "\r",
      "[=================>..]\r",
      "[=================>..]\r",
      "[=================>..]\r",
      "[=================>..]"
     ]
    },
    {
     "name": "stdout",
     "output_type": "stream",
     "text": [
      "r: [4 3 3 1] rating_r: [4 3 2 1]\n",
      "tau: 0.912870929175277 p_value: 0.07095149242730567\n",
      "r: [2 1] rating_r: [2 1]\n",
      "tau: 1.0 p_value: nan\n",
      "r: [2 1] rating_r: [2 1]\n",
      "tau: 1.0 p_value: nan\n",
      "r: [7 1 2 3 6 5 4] rating_r: [7 6 5 4 3 2 1]\n",
      "tau: -0.14285714285714288 p_value: 0.6523041372117631\n"
     ]
    },
    {
     "name": "stderr",
     "output_type": "stream",
     "text": [
      "\r",
      "[=================>..]\r",
      "[=================>..]\r",
      "[=================>..]\r",
      "[=================>..]"
     ]
    },
    {
     "name": "stdout",
     "output_type": "stream",
     "text": [
      "r: [1 2] rating_r: [2 1]\n",
      "tau: -1.0 p_value: nan\n",
      "r: [6 8 3 2 4 7 1 6] rating_r: [8 7 6 5 4 3 2 2]\n",
      "tau: 0.2222222222222222 p_value: 0.4510146381304556\n",
      "r: [3 1 2] rating_r: [3 2 1]\n",
      "tau: 0.33333333333333337 p_value: 0.6015081344405899\n"
     ]
    },
    {
     "name": "stderr",
     "output_type": "stream",
     "text": [
      "\r",
      "[=================>..]\r",
      "[=================>..]\r",
      "[=================>..]"
     ]
    },
    {
     "name": "stdout",
     "output_type": "stream",
     "text": [
      "r: [1 2] rating_r: [2 1]\n",
      "tau: -1.0 p_value: nan\n",
      "r: [4 5 3 1 2] rating_r: [5 4 3 2 1]\n",
      "tau: 0.6 p_value: 0.1416446902951368\n",
      "r: [3 2 4 5 1] rating_r: [5 4 3 2 1]\n",
      "tau: 0.0 p_value: 1.0\n"
     ]
    },
    {
     "name": "stderr",
     "output_type": "stream",
     "text": [
      "\r",
      "[=================>..]\r",
      "[=================>..]\r",
      "[=================>..]"
     ]
    },
    {
     "name": "stdout",
     "output_type": "stream",
     "text": [
      "r: [3 1 2] rating_r: [3 2 1]\n",
      "tau: 0.33333333333333337 p_value: 0.6015081344405899\n",
      "r: [1 2] rating_r: [2 1]\n",
      "tau: -1.0 p_value: nan\n",
      "r: [2 1] rating_r: [2 1]\n",
      "tau: 1.0 p_value: nan\n",
      "r: [1 2] rating_r: [2 1]\n",
      "tau: -1.0 p_value: nan\n",
      "r: [1 2] rating_r: [2 1]\n",
      "tau: -1.0 p_value: nan\n",
      "r: [2 1] rating_r: [2 1]\n",
      "tau: 1.0 p_value: nan\n"
     ]
    },
    {
     "name": "stderr",
     "output_type": "stream",
     "text": [
      "\r",
      "[=================>..]\r",
      "[=================>..]\r",
      "[=================>..]\r",
      "[=================>..]\r",
      "[=================>..]\r",
      "[=================>..]\r",
      "[=================>..]"
     ]
    },
    {
     "name": "stdout",
     "output_type": "stream",
     "text": [
      "r: [1 2] rating_r: [2 1]\n",
      "tau: -1.0 p_value: nan\n",
      "r: [2 1] rating_r: [2 1]\n",
      "tau: 1.0 p_value: nan\n",
      "r: [5 1 4 2 3 6] rating_r: [6 5 4 3 2 2]\n",
      "tau: -0.13801311186847082 p_value: 0.7020563949269414\n",
      "r: [2 3 1 4] rating_r: [4 3 2 1]\n",
      "tau: -0.3333333333333334 p_value: 0.49690584756476797\n"
     ]
    },
    {
     "name": "stderr",
     "output_type": "stream",
     "text": [
      "\r",
      "[=================>..]\r",
      "[=================>..]\r",
      "[=================>..]"
     ]
    },
    {
     "name": "stdout",
     "output_type": "stream",
     "text": [
      "r: [4 2 5 1 3] rating_r: [5 4 3 2 1]\n",
      "tau: 0.19999999999999998 p_value: 0.624206114766406\n",
      "r: [2 1] rating_r: [2 1]\n",
      "tau: 1.0 p_value: nan\n",
      "r: [2 1] rating_r: [2 1]\n",
      "tau: 1.0 p_value: nan\n",
      "r: [2 1] rating_r: [2 1]\n",
      "tau: 1.0 p_value: nan\n",
      "r: [3 2 1] rating_r: [3 2 1]\n",
      "tau: 1.0 p_value: 0.1171850871981381\n"
     ]
    },
    {
     "name": "stderr",
     "output_type": "stream",
     "text": [
      "\r",
      "[=================>..]\r",
      "[=================>..]\r",
      "[=================>..]\r",
      "[=================>..]\r",
      "[=================>..]"
     ]
    },
    {
     "name": "stdout",
     "output_type": "stream",
     "text": [
      "r: [2 1] rating_r: [2 1]\n",
      "tau: 1.0 p_value: nan\n",
      "r: [1 2] rating_r: [2 1]\n",
      "tau: -1.0 p_value: nan\n",
      "r: [1 2] rating_r: [2 1]\n",
      "tau: -1.0 p_value: nan\n",
      "r: [1 2] rating_r: [2 1]\n",
      "tau: -1.0 p_value: nan\n",
      "r: [2 1] rating_r: [2 1]\n",
      "tau: 1.0 p_value: nan\n",
      "r:"
     ]
    },
    {
     "name": "stderr",
     "output_type": "stream",
     "text": [
      "\r",
      "[=================>..]\r",
      "[=================>..]\r",
      "[=================>..]\r",
      "[=================>..]\r",
      "[=================>..]"
     ]
    },
    {
     "name": "stdout",
     "output_type": "stream",
     "text": [
      " [2 1] rating_r: [2 1]\n",
      "tau: 1.0 p_value: nan\n",
      "r: [3 1 2 4] rating_r: [4 3 2 1]\n",
      "tau: -0.3333333333333334 p_value: 0.49690584756476797\n",
      "r: [2 3 1] rating_r: [3 2 1]\n",
      "tau: 0.33333333333333337 p_value: 0.6015081344405899\n",
      "r: [2 1] rating_r: [2 1]\n",
      "tau: 1.0 p_value: nan\n",
      "r:"
     ]
    },
    {
     "name": "stderr",
     "output_type": "stream",
     "text": [
      "\r",
      "[=================>..]\r",
      "[=================>..]\r",
      "[=================>..]\r",
      "[=================>..]\r",
      "[=================>..]\r",
      "[====================]"
     ]
    },
    {
     "name": "stdout",
     "output_type": "stream",
     "text": [
      " [1 2] rating_r: [2 1]\n",
      "tau: -1.0 p_value: nan\n",
      "r: [1 2] rating_r: [2 1]\n",
      "tau: -1.0 p_value: nan\n",
      "r: [1 4 3 2] rating_r: [4 3 2 2]\n",
      "tau: -0.18257418583505539 p_value: 0.7179816667337768\n",
      "r: [2 2] rating_r: [2 1]\n",
      "tau: nan p_value: nan\n",
      "r: [2 1] rating_r: [2 1]\n",
      "tau: 1.0 p_value: nan\n"
     ]
    },
    {
     "name": "stderr",
     "output_type": "stream",
     "text": [
      "\r",
      "[====================]\r",
      "[====================]\r",
      "[====================]\r",
      "[====================]\r",
      "[====================]"
     ]
    },
    {
     "name": "stdout",
     "output_type": "stream",
     "text": [
      "r: [1 2] rating_r: [2 1]\n",
      "tau: -1.0 p_value: nan\n",
      "r: [1 2] rating_r: [2 2]\n",
      "tau: nan p_value: nan\n",
      "r: [3 4 1 2] rating_r: [4 3 2 1]\n",
      "tau: 0.3333333333333334 p_value: 0.49690584756476797\n"
     ]
    },
    {
     "name": "stderr",
     "output_type": "stream",
     "text": [
      "\r",
      "[====================]\r",
      "[====================]\r",
      "[====================]"
     ]
    },
    {
     "name": "stdout",
     "output_type": "stream",
     "text": [
      "r: [5 3 6 2 1 8 4 7 9] rating_r: [9 8 7 6 5 4 3 3 1]\n",
      "tau: -0.3098898934004561 p_value: 0.24886387493792206\n",
      "r: [1 2] rating_r: [2 1]\n",
      "tau: -1.0 p_value: nan\n",
      "r: [1 2] rating_r: [2 1]\n",
      "tau: -1.0 p_value: nan\n",
      "r: [5 4 3 2 1] rating_r: [5 4 3 2 1]\n",
      "tau: 0.9999999999999999 p_value: 0.014305878435429657\n"
     ]
    },
    {
     "name": "stderr",
     "output_type": "stream",
     "text": [
      "\r",
      "[====================]\r",
      "[====================]\r",
      "[====================]\r",
      "[====================]"
     ]
    },
    {
     "name": "stdout",
     "output_type": "stream",
     "text": [
      "r: [1 2] rating_r: [2 2]\n",
      "tau: nan p_value: nan\n",
      "r: [1 2] rating_r: [2 2]\n",
      "tau: nan p_value: nan\n",
      "r: [2 1] rating_r: [2 1]\n",
      "tau: 1.0 p_value: nan\n",
      "r: [4 2 1 3] rating_r: [4 3 2 1]\n",
      "tau: 0.3333333333333334 p_value: 0.49690584756476797\n",
      "r: [2 1] rating_r: [2 1]\n",
      "tau: 1.0 p_value: nan\n"
     ]
    },
    {
     "name": "stderr",
     "output_type": "stream",
     "text": [
      "\r",
      "[====================]\r",
      "[====================]\r",
      "[====================]\r",
      "[====================]"
     ]
    },
    {
     "name": "stdout",
     "output_type": "stream",
     "text": [
      "r: [3 2 1] rating_r: [3 2 1]\n",
      "tau: 1.0 p_value: 0.1171850871981381\n",
      "r: [1 4 3 3] rating_r: [4 3 2 1]\n",
      "tau: -0.18257418583505539 p_value: 0.7179816667337768\n",
      "r: [4 3 2 1] rating_r: [4 3 2 1]\n",
      "tau: 1.0 p_value: 0.041540067009885176\n",
      "r: [1 2] rating_r: [2 1]\n",
      "tau: -1.0 p_value: nan\n"
     ]
    },
    {
     "name": "stderr",
     "output_type": "stream",
     "text": [
      "\r",
      "[====================]\r",
      "[====================]\r",
      "[====================]"
     ]
    },
    {
     "name": "stdout",
     "output_type": "stream",
     "text": [
      "r: [3 1 6 5 4 2] rating_r: [6 5 5 5 2 1]\n",
      "tau: 0.14907119849998599 p_value: 0.6871736183096481\n",
      "r: [5 1 4 3 2] rating_r: [5 4 3 2 1]\n",
      "tau: 0.39999999999999997 p_value: 0.32718687779030586\n",
      "r: [1 2] rating_r: [2 1]\n",
      "tau: -1.0 p_value: nan\n",
      "r: [2 1 3] rating_r: [3 2 1]\n",
      "tau: -0.33333333333333337 p_value: 0.6015081344405899\n"
     ]
    },
    {
     "name": "stderr",
     "output_type": "stream",
     "text": [
      "\r",
      "[====================]\r",
      "[====================]\r",
      "[====================]\r",
      "[====================]\r",
      "[====================]\r",
      "[====================]"
     ]
    },
    {
     "name": "stdout",
     "output_type": "stream",
     "text": [
      "r: [2 1 3] rating_r: [3 2 2]\n",
      "tau: 0.0 p_value: 1.0\n",
      "r: [2 1] rating_r: [2 1]\n",
      "tau: 1.0 p_value: nan\n",
      "r: [3 7 8 6 2 1 4 5] rating_r: [8 7 6 5 4 3 2 1]\n",
      "tau: 0.21428571428571427 p_value: 0.45790105544025494\n"
     ]
    },
    {
     "name": "stderr",
     "output_type": "stream",
     "text": [
      "\r",
      "[====================]\r",
      "[====================]\r",
      "[====================]"
     ]
    },
    {
     "name": "stdout",
     "output_type": "stream",
     "text": [
      "r: [1 2] rating_r: [2 1]\n",
      "tau: -1.0 p_value: nan\n",
      "r: [8 2 4 3 1 7 6 5] rating_r: [8 7 6 5 5 3 2 1]\n",
      "tau: -0.036369648372665396 p_value: 0.9007802600472399\n",
      "r: [2 1] rating_r: "
     ]
    },
    {
     "name": "stderr",
     "output_type": "stream",
     "text": [
      "\r",
      "[====================]\r",
      "[====================]\r",
      "[====================]\r",
      "[====================]"
     ]
    },
    {
     "name": "stdout",
     "output_type": "stream",
     "text": [
      "[2 1]\n",
      "tau: 1.0 p_value: nan\n",
      "r: [2 1] rating_r: [2 1]\n",
      "tau: 1.0 p_value: nan\n",
      "r: [4 2 3 1] rating_r: [4 3 2 1]\n",
      "tau: 0.6666666666666669 p_value: 0.1742313882480252\n",
      "r: [2 1] rating_r: [2 1]\n",
      "tau: 1.0 p_value: nan\n",
      "r: [1 2] rating_r: [2 1]\n",
      "tau: -1.0 p_value: nan\n",
      "r:"
     ]
    },
    {
     "name": "stderr",
     "output_type": "stream",
     "text": [
      "\r",
      "[====================]\r",
      "[====================]\r",
      "[====================]\r",
      "[====================]\r",
      "[====================]"
     ]
    },
    {
     "name": "stdout",
     "output_type": "stream",
     "text": [
      " [2 1] rating_r: [2 1]\n",
      "tau: 1.0 p_value: nan\n",
      "r: [2 1 3] rating_r: [3 2 1]\n",
      "tau: -0.33333333333333337 p_value: 0.6015081344405899\n",
      "r: [1 2] rating_r: [2 1]\n",
      "tau: -1.0 p_value: nan\n",
      "r: [4 2 3 1] rating_r: [4 3 2 1]\n",
      "tau: 0.6666666666666669 p_value: 0.1742313882480252\n",
      "r: [4 3 8 5 6 2 1 7] rating_r: [8 7 6 5 4 3 2 1]\n",
      "tau: 0.07142857142857142 p_value: 0.8045709480174357\n",
      "r: [5 3 4 1 2 6 7] rating_r: [7 6 5 4 3 2 1]\n",
      "tau: -0.23809523809523814 p_value: 0.4526892104584057\n",
      "r: [1 2] rating_r: [2 1]\n",
      "tau: -1.0 p_value: nan\n"
     ]
    },
    {
     "name": "stderr",
     "output_type": "stream",
     "text": [
      "\r",
      "[====================]\r",
      "[====================]\r",
      "[====================]\r",
      "[====================]"
     ]
    },
    {
     "name": "stdout",
     "output_type": "stream",
     "text": [
      "r: [2 3 1] rating_r: [3 2 1]\n",
      "tau: 0.33333333333333337 p_value: 0.6015081344405899\n",
      "r: [1 2] rating_r: [2 1]\n",
      "tau: -1.0 p_value: nan\n",
      "r: [2 1] rating_r: [2 1]\n",
      "tau: 1.0 p_value: nan\n",
      "r: [1 2 3] rating_r: [3 2 1]\n",
      "tau: -1.0 p_value: 0.1171850871981381\n",
      "r:"
     ]
    },
    {
     "name": "stderr",
     "output_type": "stream",
     "text": [
      "\r",
      "[====================]\r",
      "[====================]\r",
      "[====================]\r",
      "[====================]"
     ]
    },
    {
     "name": "stdout",
     "output_type": "stream",
     "text": [
      " [5 2 1 3 5] rating_r: [5 4 3 3 1]\n",
      "tau: 0.0 p_value: 1.0\n",
      "r: [4 1 3 2] rating_r: [4 3 2 1]\n",
      "tau: 0.3333333333333334 p_value: 0.49690584756476797\n",
      "r: [1 2] rating_r: [2 1]\n",
      "tau: -1.0 p_value: nan\n",
      "r: [3 1 2] rating_r: [3 2 1]\n",
      "tau: 0.33333333333333337 p_value: 0.6015081344405899\n",
      "r: [2 1] rating_r: [2 1]\n",
      "tau: 1.0 p_value: nan\n",
      "r: [2 4 1 3] rating_r: [4 3 2 1]\n",
      "tau: 0.0 p_value: 1.0\n",
      "Top-1 Precision: 0.456000\n",
      "MRR: 0.688325\n",
      "tau: 0.12513250565014106\n"
     ]
    },
    {
     "name": "stderr",
     "output_type": "stream",
     "text": [
      "\r",
      "[====================]\r",
      "[====================]\r",
      "[====================]\r",
      "[====================]"
     ]
    }
   ],
   "source": [
    "top1, mrr = evaluator.get_score(verbose=False)"
   ]
  }
 ],
 "metadata": {
  "kernelspec": {
   "display_name": "Python 3",
   "language": "python",
   "name": "python3"
  },
  "language_info": {
   "codemirror_mode": {
    "name": "ipython",
    "version": 3
   },
   "file_extension": ".py",
   "mimetype": "text/x-python",
   "name": "python",
   "nbconvert_exporter": "python",
   "pygments_lexer": "ipython3",
   "version": "3.6.3"
  },
  "varInspector": {
   "cols": {
    "lenName": 16,
    "lenType": 16,
    "lenVar": 40
   },
   "kernels_config": {
    "python": {
     "delete_cmd_postfix": "",
     "delete_cmd_prefix": "del ",
     "library": "var_list.py",
     "varRefreshCmd": "print(var_dic_list())"
    },
    "r": {
     "delete_cmd_postfix": ") ",
     "delete_cmd_prefix": "rm(",
     "library": "var_list.r",
     "varRefreshCmd": "cat(var_dic_list()) "
    }
   },
   "position": {
    "height": "239px",
    "left": "566px",
    "right": "20px",
    "top": "-2.00001px",
    "width": "350px"
   },
   "types_to_exclude": [
    "module",
    "function",
    "builtin_function_or_method",
    "instance",
    "_Feature"
   ],
   "window_display": false
  }
 },
 "nbformat": 4,
 "nbformat_minor": 2
}
